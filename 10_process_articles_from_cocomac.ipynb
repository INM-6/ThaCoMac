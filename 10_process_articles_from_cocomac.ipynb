{
 "cells": [
  {
   "cell_type": "markdown",
   "metadata": {},
   "source": [
    "# Process the articels from CoCoMac"
   ]
  },
  {
   "cell_type": "code",
   "execution_count": 1,
   "metadata": {},
   "outputs": [],
   "source": [
    "# import packages\n",
    "import pandas as pd\n",
    "import numpy as np\n",
    "from nltk import ngrams"
   ]
  },
  {
   "cell_type": "code",
   "execution_count": 2,
   "metadata": {},
   "outputs": [
    {
     "name": "stderr",
     "output_type": "stream",
     "text": [
      "2023-11-18 00:31:47 GM01X680 metapub.config[188129] WARNING NCBI_API_KEY was not set.\n"
     ]
    }
   ],
   "source": [
    "# import internal modules\n",
    "import file_path_management as fpath\n",
    "import public_library as plib\n",
    "import parameters as params\n",
    "import dataframe_columns as df_col"
   ]
  },
  {
   "cell_type": "code",
   "execution_count": 24,
   "metadata": {},
   "outputs": [
    {
     "name": "stdout",
     "output_type": "stream",
     "text": [
      "'129' '134' '242' nan '535-560'\n",
      "'369' '392' '14' '11860458' '1633-1650'\n",
      "'406' '436' '' '0' '325-343'\n",
      "'419' '449' '378' '9733085' '562-585'\n"
     ]
    }
   ],
   "source": [
    "df_cocomac = pd.read_csv(fpath.cocomac_literature_list, skiprows=0, sep=',')\n",
    "df_db = pd.read_csv(fpath.poten_litera_db, header=0, sep='\\t')\n",
    "\n",
    "# print(df_cocomac.columns)\n",
    "# print(df_db.columns)\n",
    "\n",
    "# get the list of PMIDs\n",
    "pmid_list_db = df_db['PMID'].dropna().tolist()\n",
    "pmid_list_db = [int(i) for i in pmid_list_db]\n",
    "# print(pmid_list_db)\n",
    "\n",
    "# Convert 'PMID' to integers, while keeping NaN as is\n",
    "for ind in df_cocomac.index:\n",
    "    if df_cocomac.loc[ind, \"'PMID'\"] == df_cocomac.loc[ind, \"'PMID'\"]:\n",
    "        pmid = int(df_cocomac.loc[ind, \"'PMID'\"].split(\"'\")[1].split(\"'\")[0].strip())\n",
    "    else:\n",
    "        pmid = 0\n",
    "    \n",
    "    if pmid not in pmid_list_db:\n",
    "        print(df_cocomac.loc[ind, \"'ID'\"], df_cocomac.loc[ind, \"'ID_Literature'\"], df_cocomac.loc[ind, \"'Volume'\"], df_cocomac.loc[ind, \"'PMID'\"], df_cocomac.loc[ind, \"'Pages'\"])"
   ]
  },
  {
   "cell_type": "markdown",
   "metadata": {},
   "source": [
    "DOI: 10.1002/cne.902420406 <br>\n",
    "PMID: 2418080 <br>\n",
    "The Primate Mediodorsal (MD) Nucleus and Its Projection to the Frontal Lobe <br>\n",
    "https://pubmed.ncbi.nlm.nih.gov/2418080/ <br>"
   ]
  },
  {
   "cell_type": "markdown",
   "metadata": {},
   "source": [
    "DOI: 10.1046/j.0953-816x.2001.01789.x <br>\n",
    "PMID: 11860458 <br>\n",
    "Organization of inputs from cingulate motor areas to basal ganglia in macaque monkey <br>\n",
    "https://pubmed.ncbi.nlm.nih.gov/11860458/"
   ]
  },
  {
   "cell_type": "markdown",
   "metadata": {},
   "source": [
    "DOI: 10.1016/j.tharel.2004.03.001 <br>\n",
    "PMID: <br>\n",
    "Circuits through prefrontal cortex, basal ganglia, and ventral anterior nucleus map pathways beyond motor control <br>\n",
    "https://www.sciencedirect.com/science/article/abs/pii/S1472928804000068"
   ]
  },
  {
   "cell_type": "markdown",
   "metadata": {},
   "source": [
    "DOI: 10.1002/(SICI)1096-9861(19980928)399:3<384::AID-CNE7>3.0.CO;2-X <br>\n",
    "PMID: 9733085 <br>\n",
    "TITLE in CoCoMac: Corticothalamic connections of extrastriate visual areas in rhesus monkeys <br>\n",
    "TITLE in PubMed: Corticothalamic connections of extrastriate visual areas in rhesus monkeys <br>\n",
    "https://pubmed.ncbi.nlm.nih.gov/9733085/"
   ]
  }
 ],
 "metadata": {
  "kernelspec": {
   "display_name": "myenv",
   "language": "python",
   "name": "python3"
  },
  "language_info": {
   "codemirror_mode": {
    "name": "ipython",
    "version": 3
   },
   "file_extension": ".py",
   "mimetype": "text/x-python",
   "name": "python",
   "nbconvert_exporter": "python",
   "pygments_lexer": "ipython3",
   "version": "3.10.12"
  }
 },
 "nbformat": 4,
 "nbformat_minor": 2
}

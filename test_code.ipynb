{
 "cells": [
  {
   "cell_type": "code",
   "execution_count": null,
   "metadata": {},
   "outputs": [],
   "source": [
    "# import internal .py modules\n",
    "import file_path_management as fpath\n",
    "import public_library as plib"
   ]
  },
  {
   "cell_type": "code",
   "execution_count": null,
   "metadata": {},
   "outputs": [],
   "source": [
    "# import packages\n",
    "import csv\n",
    "import pandas as pd\n",
    "import PyPDF2\n",
    "import requests\n",
    "import time\n",
    "import os\n",
    "import random\n",
    "from requests.auth import HTTPProxyAuth\n",
    "from bs4 import BeautifulSoup\n",
    "import numpy as np\n",
    "from selenium import webdriver\n",
    "from webdriver_manager.chrome import ChromeDriverManager\n",
    "from selenium.webdriver.common.by import By\n",
    "from selenium.webdriver.chrome.options import Options\n",
    "from selenium.webdriver.support.ui import WebDriverWait\n",
    "from selenium.webdriver.support import expected_conditions as EC\n",
    "from webdriver_manager.chrome import ChromeDriverManager\n",
    "from selenium.webdriver.chrome.service import Service\n",
    "from selenium.common.exceptions import TimeoutException, WebDriverException, NoSuchElementException\n",
    "import os\n",
    "import re\n",
    "from lxml import etree"
   ]
  },
  {
   "cell_type": "code",
   "execution_count": null,
   "metadata": {},
   "outputs": [],
   "source": [
    "# get pmid from doi\n",
    "def doi2pmid(doi):\n",
    "    doi = str(doi).strip()\n",
    "\n",
    "    os.environ['WDM_LOG'] = '0'\n",
    "    options = Options()\n",
    "    options.add_argument('--headless')\n",
    "    \n",
    "    error_label = 0\n",
    "    while(error_label == 0):\n",
    "        try:\n",
    "            driver = webdriver.Chrome(service=Service(ChromeDriverManager().install()))\n",
    "            driver.get(\"https://www.pmid2cite.com/doi-to-pmid-converter\")\n",
    "\n",
    "            WebDriverWait(driver, 20).until(EC.element_to_be_clickable((By.XPATH, \"//p[text()='Consent']\"))).click()\n",
    "\n",
    "            try:\n",
    "                WebDriverWait(driver, 20).until(EC.element_to_be_clickable((By.CSS_SELECTOR, \"#formInput\"))).send_keys(str(doi).strip())\n",
    "            except TimeoutException:\n",
    "                print(\"Waiting for clicking consent timeout\")\n",
    "            try:\n",
    "                WebDriverWait(driver, 20).until(EC.element_to_be_clickable((By.XPATH, '//button[text()=\"Get PMID\"]'))).click()\n",
    "            except TimeoutException:\n",
    "                print(\"Waiting for clicking button timeout\")\n",
    "            error_label = 1\n",
    "        except:\n",
    "            print(\"DOI to PMID transformation failed, retrying... This might take longer than 5 minutes...\")\n",
    "            time.sleep(5*60)\n",
    "            error_label = 0\n",
    "    time.sleep(3)\n",
    "    try:\n",
    "        pmid = driver.find_element(By.XPATH, '/html/body/div[7]/div[9]/p/span[2]/a').text\n",
    "        # pmid = driver.find_element(By.XPATH, \"//div[contains(@class, 'out')]\").find_element(By.XPATH, \"//p[contains(@class, 'output')]\").find_element(By.TAG_NAME, \"a\").text.strip()\n",
    "    except:\n",
    "        pmid = np.nan\n",
    "    driver.quit()\n",
    "    return pmid\n",
    "# --------------------start of test code--------------------\n",
    "# pmid = \"35851953\"\n",
    "doi = \"10.3389/fnins.2023.1163600\"\n",
    "pmid = doi2pmid(doi)\n",
    "print(pmid)\n",
    "# ---------------------end of test code---------------------"
   ]
  },
  {
   "cell_type": "code",
   "execution_count": null,
   "metadata": {},
   "outputs": [],
   "source": [
    "pmid = plib.doi2pmid(\"10.1093/cercor/bhn229\")\n",
    "print(pmid)"
   ]
  }
 ],
 "metadata": {
  "kernelspec": {
   "display_name": "myenv",
   "language": "python",
   "name": "python3"
  },
  "language_info": {
   "codemirror_mode": {
    "name": "ipython",
    "version": 3
   },
   "file_extension": ".py",
   "mimetype": "text/x-python",
   "name": "python",
   "nbconvert_exporter": "python",
   "pygments_lexer": "ipython3",
   "version": "3.10.12"
  },
  "orig_nbformat": 4
 },
 "nbformat": 4,
 "nbformat_minor": 2
}

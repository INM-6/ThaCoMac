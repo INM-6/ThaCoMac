{
 "cells": [
  {
   "cell_type": "code",
   "execution_count": 26,
   "metadata": {},
   "outputs": [],
   "source": [
    "# import internal modules\n",
    "import file_path_management as fpath\n",
    "import public_library as plib\n",
    "import extract_info\n",
    "import parameters as params\n",
    "import download_and_process_pdf as dpp"
   ]
  },
  {
   "cell_type": "code",
   "execution_count": 27,
   "metadata": {},
   "outputs": [],
   "source": [
    "# import packages\n",
    "import csv\n",
    "import pandas as pd\n",
    "import PyPDF2\n",
    "import requests\n",
    "import time\n",
    "import os\n",
    "import random\n",
    "from requests.auth import HTTPProxyAuth\n",
    "from bs4 import BeautifulSoup\n",
    "import numpy as np\n",
    "from selenium import webdriver\n",
    "from webdriver_manager.firefox import GeckoDriverManager\n",
    "from selenium.webdriver.common.by import By\n",
    "from selenium.webdriver.firefox.options import Options\n",
    "from selenium.webdriver.support.wait import WebDriverWait\n",
    "from selenium.webdriver.support import expected_conditions as EC\n",
    "from webdriver_manager.firefox import GeckoDriverManager\n",
    "from selenium.webdriver.firefox.service import Service\n",
    "from selenium.common.exceptions import TimeoutException, WebDriverException, NoSuchElementException\n",
    "import os\n",
    "import re\n",
    "from lxml import etree"
   ]
  },
  {
   "cell_type": "code",
   "execution_count": 28,
   "metadata": {},
   "outputs": [],
   "source": [
    "# rename downloaded pdf\n",
    "def rename_pdf(ind, pdf_folder, time_to_wait=60):\n",
    "    newname = str(ind) + \".pdf\"\n",
    "    time_counter = 0\n",
    "    filename = max([f for f in os.listdir(pdf_folder)], key=lambda xa: os.path.getctime(os.path.join(pdf_folder,xa)))\n",
    "    while '.part' in filename:\n",
    "        # print(filename)\n",
    "        # print(time_counter)\n",
    "        time.sleep(1)\n",
    "        time_counter += 1\n",
    "        if time_counter > time_to_wait:\n",
    "            raise Exception('Waited too long for file to download')\n",
    "        filename = max([f for f in os.listdir(pdf_folder)], key=lambda xa: os.path.getctime(os.path.join(pdf_folder,xa)))\n",
    "    filename = max([f for f in os.listdir(pdf_folder)], key=lambda xa: os.path.getctime(os.path.join(pdf_folder,xa)))\n",
    "    # filename is not a number\n",
    "    if re.match(filename, \"[0-9]+\"):\n",
    "        print('yes')\n",
    "        raise Exception('File name is not a number')\n",
    "    else:\n",
    "        os.rename(os.path.join(pdf_folder, filename), os.path.join(pdf_folder, newname))"
   ]
  }
 ],
 "metadata": {
  "kernelspec": {
   "display_name": "myenv",
   "language": "python",
   "name": "python3"
  },
  "language_info": {
   "codemirror_mode": {
    "name": "ipython",
    "version": 3
   },
   "file_extension": ".py",
   "mimetype": "text/x-python",
   "name": "python",
   "nbconvert_exporter": "python",
   "pygments_lexer": "ipython3",
   "version": "3.10.12"
  },
  "orig_nbformat": 4
 },
 "nbformat": 4,
 "nbformat_minor": 2
}

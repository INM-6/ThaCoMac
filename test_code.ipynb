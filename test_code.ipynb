{
 "cells": [
  {
   "cell_type": "code",
   "execution_count": 38,
   "metadata": {},
   "outputs": [],
   "source": [
    "# import internal .py modules\n",
    "import file_path_management as fpath\n",
    "import public_library as plib"
   ]
  },
  {
   "cell_type": "code",
   "execution_count": 39,
   "metadata": {},
   "outputs": [],
   "source": [
    "# import packages\n",
    "import csv\n",
    "import pandas as pd\n",
    "import PyPDF2\n",
    "import requests\n",
    "import time\n",
    "import os\n",
    "import random\n",
    "from requests.auth import HTTPProxyAuth\n",
    "from bs4 import BeautifulSoup"
   ]
  },
  {
   "cell_type": "code",
   "execution_count": 40,
   "metadata": {},
   "outputs": [],
   "source": [
    "# # test request\n",
    "# # webpage that require subscription\n",
    "# # url = \"https://www.sciencedirect.com/science/article/abs/pii/S0079612305490019?via%3Dihub\"\n",
    "# url = \"https://www.sciencedirect.com/science/article/pii/S095943880900049X?via%3Dihub\"\n",
    "# # webpage that does not require subscription\n",
    "# # url = \"https://pubmed.ncbi.nlm.nih.gov/34524542/\"\n",
    "# # url = \"https://link.springer.com/article/10.1007/s00429-021-02377-7\"\n",
    "# response = requests.get(url, headers = plib.headers)\n",
    "# soup = BeautifulSoup(response.content,\"html.parser\")\n",
    "# # print(soup.find_all(\"a\"))\n",
    "# print(soup)"
   ]
  },
  {
   "cell_type": "code",
   "execution_count": 41,
   "metadata": {},
   "outputs": [],
   "source": [
    "# from selenium import webdriver\n",
    "# from selenium.webdriver.common.by import By\n",
    "# from selenium.webdriver.common.keys import Keys\n",
    "# # from selenium.webdriver.chrome.options import Options\n",
    "\n",
    "# # options = Options()\n",
    "# # options.add_argument('--headless')\n",
    "# browser = webdriver.Firefox()\n",
    "\n",
    "# browser.get(url)\n",
    "# time.sleep(10)\n",
    "# # assert 'Yahoo' in browser.title\n",
    "\n",
    "# # ele = browse?r.find_element(\"a\")\n",
    "# # elems = browser.find_element(By.CLASS_NAME, \"title-text\")\n",
    "# # pdf_links = browser.find_elements(By.XPATH, \"//a[contains(@href, '.pdf')]\")\n",
    "# pdf_links = browser.find_elements(By.XPATH, \"//h1\")[0].get_attribute('innerHTML')\n",
    "# print(pdf_links)\n",
    "# # for elem in elems:\n",
    "# #     print(elem)\n",
    "# # print(elems)\n",
    "# # elem = browser.find_element(By.NAME, 'p')  # Find the search box\n",
    "# # elem.send_keys('seleniumhq' + Keys.RETURN)\n",
    "# browser.quit()"
   ]
  },
  {
   "cell_type": "code",
   "execution_count": 42,
   "metadata": {},
   "outputs": [
    {
     "ename": "AttributeError",
     "evalue": "module 'file_path_management' has no attribute 'proxy_list'",
     "output_type": "error",
     "traceback": [
      "\u001b[0;31m---------------------------------------------------------------------------\u001b[0m",
      "\u001b[0;31mAttributeError\u001b[0m                            Traceback (most recent call last)",
      "Cell \u001b[0;32mIn[42], line 11\u001b[0m\n\u001b[1;32m      9\u001b[0m \u001b[39m# --------------------start of test code--------------------\u001b[39;00m\n\u001b[1;32m     10\u001b[0m page_url \u001b[39m=\u001b[39m \u001b[39m\"\u001b[39m\u001b[39mhttps://scholar.google.com/scholar?start=0&q=(macaque+OR+macaca+OR+\u001b[39m\u001b[39m%22r\u001b[39;00m\u001b[39mhesus+monkey\u001b[39m\u001b[39m%\u001b[39m\u001b[39m22)+(thalamus+OR+thalamic+OR+thalamocortical+OR+\u001b[39m\u001b[39m%\u001b[39m\u001b[39m22thalamo-cortical\u001b[39m\u001b[39m%\u001b[39m\u001b[39m22)&hl=en&as_sdt=0,5\u001b[39m\u001b[39m\"\u001b[39m\n\u001b[0;32m---> 11\u001b[0m proxies \u001b[39m=\u001b[39m get_proxies()\n\u001b[1;32m     12\u001b[0m page \u001b[39m=\u001b[39m \u001b[39m2\u001b[39m\n\u001b[1;32m     13\u001b[0m \u001b[39mif\u001b[39;00m(page\u001b[39m%\u001b[39m\u001b[39m10\u001b[39m \u001b[39m==\u001b[39m \u001b[39m0\u001b[39m):\n",
      "Cell \u001b[0;32mIn[42], line 2\u001b[0m, in \u001b[0;36mget_proxies\u001b[0;34m()\u001b[0m\n\u001b[1;32m      1\u001b[0m \u001b[39mdef\u001b[39;00m \u001b[39mget_proxies\u001b[39m():\n\u001b[0;32m----> 2\u001b[0m     \u001b[39mwith\u001b[39;00m \u001b[39mopen\u001b[39m(fpath\u001b[39m.\u001b[39;49mproxy_list) \u001b[39mas\u001b[39;00m f:\n\u001b[1;32m      3\u001b[0m         proxy_list \u001b[39m=\u001b[39m f\u001b[39m.\u001b[39mreadlines\n\u001b[1;32m      4\u001b[0m         i \u001b[39m=\u001b[39m random\u001b[39m.\u001b[39mrandint(\u001b[39m0\u001b[39m, \u001b[39mlen\u001b[39m(proxy_list)\u001b[39m-\u001b[39m\u001b[39m1\u001b[39m)\n",
      "\u001b[0;31mAttributeError\u001b[0m: module 'file_path_management' has no attribute 'proxy_list'"
     ]
    }
   ],
   "source": [
    "def get_proxies():\n",
    "    with open(fpath.proxy_list) as f:\n",
    "        proxy_list = f.readlines\n",
    "        i = random.randint(0, len(proxy_list)-1)\n",
    "    proxies = { \n",
    "        \"http\": \"http://\" + proxy_list[i]\n",
    "    }\n",
    "    return proxies\n",
    "# --------------------start of test code--------------------\n",
    "page_url = \"https://scholar.google.com/scholar?start=0&q=(macaque+OR+macaca+OR+%22rhesus+monkey%22)+(thalamus+OR+thalamic+OR+thalamocortical+OR+%22thalamo-cortical%22)&hl=en&as_sdt=0,5\"\n",
    "proxies = get_proxies()\n",
    "page = 2\n",
    "if(page%10 == 0):\n",
    "    time.sleep(5*60)\n",
    "    proxies, auth = get_proxies()\n",
    "print(proxies)\n",
    "print(auth)\n",
    "response = requests.get(page_url, headers = plib.headers, proxies = proxies, auth = auth)\n",
    "page = 5\n",
    "if(page%5 == 0):\n",
    "    time.sleep(5)\n",
    "    proxies, auth = get_proxies()\n",
    "print(proxies)\n",
    "response = requests.get(page_url, headers = plib.headers, proxies = proxies)\n",
    "# ---------------------end of test code---------------------"
   ]
  }
 ],
 "metadata": {
  "kernelspec": {
   "display_name": "myenv",
   "language": "python",
   "name": "python3"
  },
  "language_info": {
   "codemirror_mode": {
    "name": "ipython",
    "version": 3
   },
   "file_extension": ".py",
   "mimetype": "text/x-python",
   "name": "python",
   "nbconvert_exporter": "python",
   "pygments_lexer": "ipython3",
   "version": "3.10.12"
  },
  "orig_nbformat": 4
 },
 "nbformat": 4,
 "nbformat_minor": 2
}

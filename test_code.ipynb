{
 "cells": [
  {
   "cell_type": "code",
   "execution_count": 18,
   "metadata": {},
   "outputs": [],
   "source": [
    "# import internal .py modules\n",
    "import file_path_management as fpath\n",
    "import public_library as plib"
   ]
  },
  {
   "cell_type": "code",
   "execution_count": 19,
   "metadata": {},
   "outputs": [],
   "source": [
    "# import packages\n",
    "import csv\n",
    "import pandas as pd\n",
    "import PyPDF2\n",
    "import requests\n",
    "import time\n",
    "import os\n",
    "import random\n",
    "from requests.auth import HTTPProxyAuth\n",
    "from bs4 import BeautifulSoup\n",
    "import numpy as np\n",
    "from selenium import webdriver\n",
    "from selenium.webdriver.common.by import By\n",
    "from selenium.webdriver.firefox.options import Options\n",
    "from selenium.webdriver.support.ui import WebDriverWait\n",
    "from selenium.webdriver.support import expected_conditions as EC\n",
    "from webdriver_manager.firefox import GeckoDriverManager\n",
    "from selenium.webdriver.firefox.service import Service\n",
    "from selenium.common.exceptions import TimeoutException, WebDriverException, NoSuchElementException\n",
    "import os\n",
    "import re"
   ]
  },
  {
   "cell_type": "code",
   "execution_count": 23,
   "metadata": {},
   "outputs": [
    {
     "name": "stdout",
     "output_type": "stream",
     "text": [
      "\n"
     ]
    }
   ],
   "source": [
    "# get doi from url\n",
    "def url2doi(url):\n",
    "    url = str(url).strip()\n",
    "\n",
    "    os.environ['WDM_LOG'] = '0'\n",
    "    options = Options()\n",
    "    options.add_argument('--headless')\n",
    "    \n",
    "    error_label = 0\n",
    "    while(error_label == 0):\n",
    "        try:\n",
    "            driver = webdriver.Firefox(options, service=Service(GeckoDriverManager().install()))\n",
    "            driver.get(url)\n",
    "\n",
    "            # WebDriverWait(driver, 20).until(EC.element_to_be_clickable((By.XPATH, \"//p[text()='Consent']\"))).click()\n",
    "\n",
    "            # try:\n",
    "            #     WebDriverWait(driver, 20).until(EC.element_to_be_clickable((By.CSS_SELECTOR, \"#formInput\"))).send_keys(str(doi).strip())\n",
    "            # except TimeoutException:\n",
    "            #     print(\"Waiting for clicking consent timeout\")\n",
    "            # try:\n",
    "            #     # WebDriverWait(driver, 20).until(EC.element_to_be_clickable((By.XPATH, \"/html/body/div[1]/div[2]/form/button\"))).click()\n",
    "            #     WebDriverWait(driver, 20).until(EC.element_to_be_clickable((By.XPATH, '//button[text()=\"Get PMID\"]'))).click()\n",
    "            # except TimeoutException:\n",
    "            #     print(\"Waiting for clicking button timeout\")\n",
    "            \n",
    "            error_label = 1\n",
    "        except:\n",
    "            print(\"URL to DOI transformation failed, retrying... This might take longer than 5 minutes...\")\n",
    "            time.sleep(5*60)\n",
    "            error_label = 0\n",
    "\n",
    "    try:\n",
    "        my_elem = driver.find_elements(By.XPATH, \"//*[contains(text(), 'doi.org') or contains(text(), 'DOI')]\")\n",
    "        doi = \n",
    "        doi = str(my_elem.find_element(By.XPATH, \"i\").get_attribute(\"innerHTML\"))\n",
    "    except:\n",
    "        doi = np.nan\n",
    "    driver.quit()\n",
    "    return doi\n",
    "# --------------------start of test code--------------------\n",
    "url = \"https://www.tandfonline.com/doi/abs/10.1080/01616412.1985.11739692\"\n",
    "doi = url2doi(url)\n",
    "print(doi)\n",
    "# ---------------------end of test code---------------------"
   ]
  }
 ],
 "metadata": {
  "kernelspec": {
   "display_name": "myenv",
   "language": "python",
   "name": "python3"
  },
  "language_info": {
   "codemirror_mode": {
    "name": "ipython",
    "version": 3
   },
   "file_extension": ".py",
   "mimetype": "text/x-python",
   "name": "python",
   "nbconvert_exporter": "python",
   "pygments_lexer": "ipython3",
   "version": "3.10.12"
  },
  "orig_nbformat": 4
 },
 "nbformat": 4,
 "nbformat_minor": 2
}

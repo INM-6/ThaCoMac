{
 "cells": [
  {
   "cell_type": "code",
   "execution_count": 86,
   "metadata": {},
   "outputs": [],
   "source": [
    "# import internal .py modules\n",
    "import file_path_management as fpath\n",
    "import public_library as plib"
   ]
  },
  {
   "cell_type": "code",
   "execution_count": 87,
   "metadata": {},
   "outputs": [],
   "source": [
    "# import packages\n",
    "import csv\n",
    "import pandas as pd\n",
    "import PyPDF2\n",
    "import requests\n",
    "import time\n",
    "import os\n",
    "import random\n",
    "from requests.auth import HTTPProxyAuth\n",
    "from bs4 import BeautifulSoup\n",
    "import numpy as np\n",
    "from selenium import webdriver\n",
    "from webdriver_manager.chrome import ChromeDriverManager\n",
    "from selenium.webdriver.common.by import By\n",
    "from selenium.webdriver.chrome.options import Options\n",
    "from selenium.webdriver.support.wait import WebDriverWait\n",
    "from selenium.webdriver.support import expected_conditions as EC\n",
    "from webdriver_manager.chrome import ChromeDriverManager\n",
    "from selenium.webdriver.chrome.service import Service\n",
    "from selenium.common.exceptions import TimeoutException, WebDriverException, NoSuchElementException\n",
    "import os\n",
    "import re\n",
    "from lxml import etree"
   ]
  },
  {
   "cell_type": "code",
   "execution_count": 88,
   "metadata": {},
   "outputs": [],
   "source": [
    "# extract text from given .pdf file\n",
    "def pdf2text(pdf_path, text_path, page_start, page_end):\n",
    "    try:\n",
    "        # creating a pdf reader object\n",
    "        reader = PyPDF2.PdfReader(pdf_path)\n",
    "        \n",
    "        # printing number of pages in pdf file\n",
    "        page_max = len(reader.pages)\n",
    "        \n",
    "        # getting a specific page from the pdf file\n",
    "        text = \"\"\n",
    "        \n",
    "        for i in range(page_start, page_end + 1):\n",
    "            # print(i)\n",
    "            page = reader.pages[i]\n",
    "            text = text + \"\".join(page.extract_text().splitlines())\n",
    "\n",
    "        with open(text_path, \"w\") as f:\n",
    "            f.write(text)\n",
    "        f.close()\n",
    "\n",
    "        return True\n",
    "    except:\n",
    "        return False\n",
    "# --------------------start of test code--------------------\n",
    "# ind = 1\n",
    "# pdf_file_name = str(index) + \".pdf\"\n",
    "# pdf_folder_path = fpath.litera_pdf_folder\n",
    "# pdf_path = os.path.join(pdf_folder_path, pdf_file_name)\n",
    "\n",
    "# text_folder_path = fpath.litera_text_folder\n",
    "# text_file_name = pdf_file_name.split(\".pdf\")[0] + \".txt\"\n",
    "# text_path = os.path.join(text_folder_path, text_file_name)\n",
    "\n",
    "# start_page = 0\n",
    "# end_page = 1\n",
    "# if not pdf2text(pdf_path, text_path, start_page, end_page):\n",
    "#     print(\"Error: pdf2text() failed\")\n",
    "# ---------------------end of test code---------------------"
   ]
  },
  {
   "cell_type": "code",
   "execution_count": 89,
   "metadata": {},
   "outputs": [],
   "source": [
    "def rename_pdf(newname, folder_of_download, time_to_wait=60):\n",
    "    time_counter = 0\n",
    "    filename = max([f for f in os.listdir(folder_of_download)], key=lambda xa :   os.path.getctime(os.path.join(folder_of_download,xa)))\n",
    "    while '.part' in filename:\n",
    "        time.sleep(1)\n",
    "        time_counter += 1\n",
    "        if time_counter > time_to_wait:\n",
    "            raise Exception('Waited too long for file to download')\n",
    "    filename = max([f for f in os.listdir(folder_of_download)], key=lambda xa :   os.path.getctime(os.path.join(folder_of_download,xa)))\n",
    "    os.rename(os.path.join(folder_of_download, filename), os.path.join(folder_of_download, newname))"
   ]
  },
  {
   "cell_type": "code",
   "execution_count": 90,
   "metadata": {},
   "outputs": [
    {
     "name": "stdout",
     "output_type": "stream",
     "text": [
      "https://journals.physiology.org/doi/pdf/10.1152/jn.2001.85.1.219\n",
      "Failed downloading PDF:pdf_url\n",
      "HTTP response status code: 403\n"
     ]
    }
   ],
   "source": [
    "# download pdf to specified folder given pdf_url and ind\n",
    "def download_pdf(pdf_url, pdf_folder_path):  \n",
    "    url = pdf_url\n",
    "    if url != url:\n",
    "        raise Exception(\"pdf_url is np.nan\")\n",
    "    else:\n",
    "        source = url.split(\"://\")[1].split(\"/\")[0]\n",
    "    \n",
    "    # pdf_path = os.path.join(pdf_folder_path, file_name)\n",
    "      \n",
    "    # get the pdf content\n",
    "    # options = webdriver.ChromeOptions()\n",
    "    # options.add_experimental_option('prefs', {\n",
    "    # \"download.default_directory\": pdf_folder_path, #Change default directory for downloads\n",
    "    # \"download.prompt_for_download\": False, #To auto download the file\n",
    "    # \"download.directory_upgrade\": True,\n",
    "    # \"download.open_pdf_in_system_reader\": False,\n",
    "    # \"plugins.always_open_pdf_externally\": True #It will not show PDF directly in chrome\n",
    "    # })\n",
    "    # driver = webdriver.Chrome(options=options)\n",
    "    # # response = driver.get(pdf_url)\n",
    "    # driver.navigate().to(url)\n",
    "    # time.sleep(5)\n",
    "\n",
    "    # try:\n",
    "    #     with open(pdf_path, 'wb') as pdf_object:\n",
    "    #         pdf_object.write(response.content)\n",
    "    #         driver.close()\n",
    "    #         return True\n",
    "    # except:\n",
    "    #     print(f'Failed downloading PDF:', url)\n",
    "    #     driver.close()\n",
    "    #     # print(f'HTTP response status code: {response.status_code}')\n",
    "    #     return False\n",
    "\n",
    "    # response = requests.get(pdf_url, headers=plib.headers)\n",
    "    response = requests.get(url, stream=True, allow_redirects=True, headers=plib.headers)\n",
    "    \n",
    "    # download the .pdf file to the pdf_file_path folder\n",
    "    # write content in pdf file\n",
    "    pdf_path = os.path.join(pdf_folder_path, file_name)\n",
    "    \n",
    "    if response.status_code == 200:\n",
    "        with open(pdf_path, 'wb') as pdf_object:\n",
    "            pdf_object.write(response.content)\n",
    "            return True\n",
    "    else:\n",
    "        print(f'Failed downloading PDF:' + 'pdf_url')\n",
    "        print(f'HTTP response status code: {response.status_code}')\n",
    "        return False\n",
    "# --------------------start of test code--------------------\n",
    "# pdf_url = 'https://www.sciencedirect.com/science/article/pii/S0896627320300052/pdfft?md5=3f0648c6385e6fae3a5a73b053903014&pid=1-s2.0-S0896627320300052-main.pdf'\n",
    "pdf_url = \"https://journals.physiology.org/doi/pdf/10.1152/jn.2001.85.1.219\"\n",
    "pdf_url, code = plib.get_final_redirected_url(pdf_url)\n",
    "print(pdf_url)\n",
    "ind = 4\n",
    "file_name = str(ind) + \".pdf\"\n",
    "pdf_folder_path = fpath.litera_pdf_folder\n",
    "download_pdf(pdf_url, pdf_folder_path)\n",
    "rename_pdf(file_name, pdf_folder_path, time_to_wait=60)\n",
    "# ---------------------end of test code---------------------"
   ]
  },
  {
   "cell_type": "code",
   "execution_count": 92,
   "metadata": {},
   "outputs": [
    {
     "data": {
      "text/plain": [
       "403"
      ]
     },
     "execution_count": 92,
     "metadata": {},
     "output_type": "execute_result"
    }
   ],
   "source": [
    "url = \"https://journals.physiology.org/doi/pdf/10.1152/jn.2001.85.1.219\"\n",
    "response = requests.get(url, stream=True, allow_redirects=True, headers=plib.headers)\n",
    "response.status_code"
   ]
  }
 ],
 "metadata": {
  "kernelspec": {
   "display_name": "myenv",
   "language": "python",
   "name": "python3"
  },
  "language_info": {
   "codemirror_mode": {
    "name": "ipython",
    "version": 3
   },
   "file_extension": ".py",
   "mimetype": "text/x-python",
   "name": "python",
   "nbconvert_exporter": "python",
   "pygments_lexer": "ipython3",
   "version": "3.10.12"
  },
  "orig_nbformat": 4
 },
 "nbformat": 4,
 "nbformat_minor": 2
}

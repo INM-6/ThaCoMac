{
 "cells": [
  {
   "cell_type": "code",
   "execution_count": null,
   "metadata": {},
   "outputs": [],
   "source": [
    "# import internal .py modules\n",
    "import file_path_management as fpath\n",
    "import public_library as plib"
   ]
  },
  {
   "cell_type": "code",
   "execution_count": null,
   "metadata": {},
   "outputs": [],
   "source": [
    "# import packages\n",
    "import csv\n",
    "import pandas as pd\n",
    "import PyPDF2\n",
    "import requests\n",
    "import time\n",
    "import os\n",
    "import random\n",
    "from requests.auth import HTTPProxyAuth\n",
    "from bs4 import BeautifulSoup\n",
    "import numpy as np\n",
    "from selenium import webdriver\n",
    "from webdriver_manager.chrome import ChromeDriverManager\n",
    "from selenium.webdriver.common.by import By\n",
    "from selenium.webdriver.chrome.options import Options\n",
    "from selenium.webdriver.support.ui import WebDriverWait\n",
    "from selenium.webdriver.support import expected_conditions as EC\n",
    "from webdriver_manager.chrome import ChromeDriverManager\n",
    "from selenium.webdriver.chrome.service import Service\n",
    "from selenium.common.exceptions import TimeoutException, WebDriverException, NoSuchElementException\n",
    "import os\n",
    "import re\n",
    "from lxml import etree"
   ]
  },
  {
   "cell_type": "code",
   "execution_count": null,
   "metadata": {},
   "outputs": [],
   "source": [
    "input_path = fpath.poten_litera_filled\n",
    "output_path = fpath.poten_litera_ids_filled\n",
    "plib.clear_file(output_path)\n",
    "\n",
    "df = pd.read_csv(input_path, header=None, sep = \",\")\n",
    "df.columns = [\"DOI\", \"PMID\", \"PMCID\", \"Title\", \"full_text_link\", \"pdf_link\"]\n",
    "\n",
    "for ind in range(len(df)):\n",
    "    doi = str(df[\"DOI\"][ind]).strip().lower()\n",
    "    pmid = str(df[\"PMID\"][ind]).strip()\n",
    "    pmcid = str(df[\"PMCID\"][ind]).strip()\n",
    "    title = str(df[\"Title\"][ind]).strip()\n",
    "    full_text_link = str(df[\"full_text_link\"][ind]).strip()\n",
    "    pdf_link = str(df[\"pdf_link\"][ind]).strip()\n",
    "\n",
    "    columns = [\"DOI\", \"PMID\", \"PMCID\", \"Title\", \"full_text_link\", \"pdf_link\"]\n",
    "    row = {\n",
    "        \"DOI\": [doi],\n",
    "        \"PMID\": [pmid],\n",
    "        \"PMCID\": [pmcid],\n",
    "        \"Title\": [title],\n",
    "        \"full_text_link\": [full_text_link],\n",
    "        \"pdf_link\": [pdf_link],\n",
    "    }\n",
    "\n",
    "    if not plib.add_row_to_csv(output_path, row, columns):\n",
    "        print(\"Error detected when adding a row to csv!\")\n",
    "\n",
    "    print(ind)"
   ]
  },
  {
   "cell_type": "code",
   "execution_count": null,
   "metadata": {},
   "outputs": [],
   "source": [
    "def merge_remove_dupli(input_path, output_path, identifiers): \n",
    "    df = pd.read_csv(input_path, header=None, sep = \",\")\n",
    "    df.columns = [\"DOI\", \"PMID\", \"PMCID\", \"Title\", \"full_text_link\", \"pdf_link\"]\n",
    "\n",
    "    # remove all duplicates\n",
    "    for identifier in identifiers:\n",
    "        remove_dup_by = identifier\n",
    "        df = df[df[remove_dup_by].isnull() | ~df[df[remove_dup_by].notnull()].duplicated(subset=remove_dup_by, keep='first')]\n",
    "        # df = df.drop_duplicates(subset=['DOI'])\n",
    "        # df = df.drop_duplicates(subset=['PMID'])\n",
    "        # df = df.drop_duplicates(subset=['PMCID'])\n",
    "\n",
    "    print(\"Duplication in the potential related literature removed.\")\n",
    "    print(\"Found \" + len(df) + \" potential related literature in total.\")\n",
    "\n",
    "    # write the results into our output file\n",
    "    df.columns = [\"DOI\", \"PMID\", \"PMCID\", \"Title\", \"full_text_link\", \"pdf_link\"]\n",
    "    df.to_csv(output_path, header=True, index=False)\n",
    "# # --------------------start of test code--------------------\n",
    "# source_path = fpath.poten_litera_filled\n",
    "# output_path = fpath.poten_litra_filtered\n",
    "# plib.clear_file(output_path)\n",
    "# # ---------------------end of test code---------------------\n",
    "\n",
    "# # --------------------start of test code--------------------\n",
    "# # merge all search results\n",
    "# identifiers = [\"DOI\", \"PMID\", \"PMCID\"]\n",
    "# merge_remove_dupli(source_path, output_path, identifiers)\n",
    "# # ---------------------end of test code---------------------\n",
    "\n",
    "# # --------------------start of test code--------------------\n",
    "# df = pd.read_csv(output_path, header=None, sep=',')\n",
    "# print(df.head(3))\n",
    "# print(df.shape)\n",
    "# # ---------------------end of test code---------------------"
   ]
  }
 ],
 "metadata": {
  "kernelspec": {
   "display_name": "myenv",
   "language": "python",
   "name": "python3"
  },
  "language_info": {
   "codemirror_mode": {
    "name": "ipython",
    "version": 3
   },
   "file_extension": ".py",
   "mimetype": "text/x-python",
   "name": "python",
   "nbconvert_exporter": "python",
   "pygments_lexer": "ipython3",
   "version": "3.10.12"
  },
  "orig_nbformat": 4
 },
 "nbformat": 4,
 "nbformat_minor": 2
}

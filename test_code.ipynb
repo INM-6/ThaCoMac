{
 "cells": [
  {
   "cell_type": "code",
   "execution_count": 1,
   "metadata": {},
   "outputs": [
    {
     "name": "stderr",
     "output_type": "stream",
     "text": [
      "2023-08-10 15:29:06 GM01X680 metapub.config[320085] WARNING NCBI_API_KEY was not set.\n"
     ]
    }
   ],
   "source": [
    "# import internal .py modules\n",
    "import file_path_management as fpath\n",
    "import public_library as plib"
   ]
  },
  {
   "cell_type": "code",
   "execution_count": 2,
   "metadata": {},
   "outputs": [],
   "source": [
    "# import packages\n",
    "import csv\n",
    "import pandas as pd\n",
    "import PyPDF2\n",
    "import requests\n",
    "import time\n",
    "import os\n",
    "import random\n",
    "from requests.auth import HTTPProxyAuth\n",
    "from bs4 import BeautifulSoup\n",
    "import numpy as np\n",
    "from selenium import webdriver\n",
    "from webdriver_manager.chrome import ChromeDriverManager\n",
    "from selenium.webdriver.common.by import By\n",
    "from selenium.webdriver.chrome.options import Options\n",
    "from selenium.webdriver.support.ui import WebDriverWait\n",
    "from selenium.webdriver.support import expected_conditions as EC\n",
    "from webdriver_manager.chrome import ChromeDriverManager\n",
    "from selenium.webdriver.chrome.service import Service\n",
    "from selenium.common.exceptions import TimeoutException, WebDriverException, NoSuchElementException\n",
    "import os\n",
    "import re\n",
    "from lxml import etree"
   ]
  },
  {
   "cell_type": "code",
   "execution_count": 3,
   "metadata": {},
   "outputs": [],
   "source": [
    "# input_path = fpath.poten_litera_filled\n",
    "# output_path = fpath.poten_litera_ids_filled\n",
    "# plib.clear_file(output_path)\n",
    "\n",
    "# df = pd.read_csv(input_path, header=None, sep = \",\")\n",
    "# df.columns = [\"DOI\", \"PMID\", \"PMCID\", \"Title\", \"full_text_link\", \"pdf_link\"]\n",
    "\n",
    "# for ind in range(len(df)):\n",
    "#     if df[\"DOI\"][ind] == df[\"DOI\"][ind]:\n",
    "#         doi = str(df[\"DOI\"][ind]).lower()\n",
    "#         # df.set_value('DOI', ind, doi)\n",
    "#         df.loc[ind, \"DOI\"] = doi\n",
    "#     print(ind)\n",
    "\n",
    "# df.to_csv(output_path, header=False, index=False)"
   ]
  },
  {
   "cell_type": "code",
   "execution_count": 4,
   "metadata": {},
   "outputs": [
    {
     "name": "stdout",
     "output_type": "stream",
     "text": [
      "4196833\n"
     ]
    }
   ],
   "source": [
    "# get pmid from title\n",
    "def title2pmid(title):\n",
    "    title = str(title).strip()\n",
    "    words = title.split(\" \")\n",
    "    # print(words)\n",
    "    term = \"\"\n",
    "    for i in range(len(words)-1):\n",
    "        term = term + words[i] + \"+\"\n",
    "    term = term + words[-1]\n",
    "    # print(term)\n",
    "    url = \"https://pubmed.ncbi.nlm.nih.gov/?term=\" + term\n",
    "    # print(url)\n",
    "    soup = plib.request_webpage(url)\n",
    "    try:\n",
    "        pmid = soup.find_all(\"section\", {\"class\": \"matching-citations search-results-list\"})[0].find_all(\"span\", {\"class\": \"docsum-pmid\"})[0].get_text()\n",
    "    except:\n",
    "        pmid = np.nan\n",
    "    if pmid != pmid:\n",
    "        try:\n",
    "            pmid = soup.find_all(\"ul\", {\"id\": \"full-view-identifiers\"})[0].find_all(\"span\", {\"class\": \"identifier pubmed\"})[0].find_all(\"strong\", {\"class\": \"current-id\"})[0].get_text()\n",
    "        except:\n",
    "            pmid = np.nan\n",
    "    if pmid == pmid:\n",
    "        pmid = str(pmid).strip()\n",
    "    return pmid\n",
    "# --------------------start of test code--------------------\n",
    "# pmid = \"21434138\"\n",
    "title = \"On the Organisation of the Visual Cortical Projection to the Pulvinar in Macaca mulatta (Part 2 of 2)\"\n",
    "# https://pubmed.ncbi.nlm.nih.gov/?term=Thalamocortical+connections+of+the+parabelt+auditory+cortex+in+macaque+monkeys\n",
    "# title = \"Independence and merger of thalamocortical channels within macaque monkey primary visual cortex: anatomy of interlaminar projections\"\n",
    "# title = \"… of GABAB antagonist [3H] CGP 62349 binding in the rhesus monkey thalamus and basal ganglia and the influence of lesions in the reticular thalamic nucleus\"\n",
    "pmid = title2pmid(title)\n",
    "print(pmid)\n",
    "# ---------------------end of test code---------------------"
   ]
  }
 ],
 "metadata": {
  "kernelspec": {
   "display_name": "myenv",
   "language": "python",
   "name": "python3"
  },
  "language_info": {
   "codemirror_mode": {
    "name": "ipython",
    "version": 3
   },
   "file_extension": ".py",
   "mimetype": "text/x-python",
   "name": "python",
   "nbconvert_exporter": "python",
   "pygments_lexer": "ipython3",
   "version": "3.10.12"
  },
  "orig_nbformat": 4
 },
 "nbformat": 4,
 "nbformat_minor": 2
}

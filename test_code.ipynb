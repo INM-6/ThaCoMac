{
 "cells": [
  {
   "cell_type": "code",
   "execution_count": 1,
   "metadata": {},
   "outputs": [
    {
     "name": "stderr",
     "output_type": "stream",
     "text": [
      "2023-08-07 14:26:19 GM01X680 metapub.config[99175] WARNING NCBI_API_KEY was not set.\n"
     ]
    }
   ],
   "source": [
    "# import internal .py modules\n",
    "import file_path_management as fpath\n",
    "import public_library as plib"
   ]
  },
  {
   "cell_type": "code",
   "execution_count": 2,
   "metadata": {},
   "outputs": [],
   "source": [
    "# import packages\n",
    "import csv\n",
    "import pandas as pd\n",
    "import PyPDF2\n",
    "import requests\n",
    "import time\n",
    "import os\n",
    "import random\n",
    "from requests.auth import HTTPProxyAuth\n",
    "from bs4 import BeautifulSoup\n",
    "import numpy as np\n",
    "from selenium import webdriver\n",
    "from webdriver_manager.chrome import ChromeDriverManager\n",
    "from selenium.webdriver.common.by import By\n",
    "from selenium.webdriver.chrome.options import Options\n",
    "from selenium.webdriver.support.ui import WebDriverWait\n",
    "from selenium.webdriver.support import expected_conditions as EC\n",
    "from webdriver_manager.chrome import ChromeDriverManager\n",
    "from selenium.webdriver.chrome.service import Service\n",
    "from selenium.common.exceptions import TimeoutException, WebDriverException, NoSuchElementException\n",
    "import os\n",
    "import re\n",
    "from lxml import etree"
   ]
  },
  {
   "cell_type": "code",
   "execution_count": 3,
   "metadata": {},
   "outputs": [
    {
     "name": "stdout",
     "output_type": "stream",
     "text": [
      "nan\n",
      "nan\n",
      "nan\n",
      "Search life-sciences literature (42,759,807 articles, preprints and more)\n",
      "nan\n",
      "nan\n",
      "nan\n",
      "nan\n"
     ]
    }
   ],
   "source": [
    "# europepmc.org\n",
    "def europepmc_org(url):\n",
    "    os.environ['WDM_LOG'] = '0'\n",
    "    options = Options()\n",
    "    options.add_argument('--headless')\n",
    "    \n",
    "    # load the webpage\n",
    "    error_label = 0\n",
    "    while(error_label == 0):\n",
    "        try:\n",
    "            driver = webdriver.Chrome()\n",
    "            driver.get(url)\n",
    "            time.sleep(3)\n",
    "            # WebDriverWait(driver, 20).until(EC.element_to_be_clickable(By.XPATH, \"//button[text()='Accept Cookies']\")).click()\n",
    "            error_label = 1\n",
    "        except:\n",
    "            print(\"Extracting content from:\" + url + \" failed, retrying... This might take longer than 5 minutes...\")\n",
    "            time.sleep(5*60)\n",
    "            error_label = 0\n",
    "    \n",
    "    try:\n",
    "        doi = driver.find_element(By.CLASS_NAME, \"//span[contains(@class, 'metadata--doi')]\").find_element(By.XPATH, 'a').text\n",
    "    except:\n",
    "        doi = np.nan\n",
    "    try:\n",
    "        pmid = driver.find_element(By.CLASS_NAME, \"//span[contains(@class, 'metadata--pmid')]\").text.split(\"PMID: \")[1]\n",
    "    except:\n",
    "        pmid = np.nan\n",
    "    try:\n",
    "        pmcid = driver.find_element(By.CLASS_NAME, \"//span[contains(@class, 'metadata--pmcid')]\").text.split(\"PMCID: \")[1]\n",
    "    except:\n",
    "        pmcid = np.nan\n",
    "    try:\n",
    "        title = driver.find_element(By.TAG_NAME, 'h1').text\n",
    "    except:\n",
    "        title = np.nan\n",
    "    try:\n",
    "        abstract = \"\"\n",
    "        elems = driver.find_element(By.CLASS_NAME, \"//div[contains(@class, 'abstract')]\").text\n",
    "        for elem in elems:\n",
    "            abstract = abstract + elem.text\n",
    "    except:\n",
    "        abstract = np.nan\n",
    "    keywords = np.nan\n",
    "    intro = np.nan\n",
    "    try:\n",
    "        pdf_link = driver.find_element(By.XPATH, \"/html/body/div[2]/div[3]/div/aside/div[1]/div/div/a\").get_attribute('href')\n",
    "    except:\n",
    "        pdf_link = np.nan\n",
    "\n",
    "    driver.quit()\n",
    "\n",
    "    info = {\n",
    "        \"doi\": doi,\n",
    "        \"pmid\": pmid,\n",
    "        \"pmcid\": pmcid,\n",
    "        \"title\": title,\n",
    "        \"abstract\": abstract,\n",
    "        \"keywords\": keywords,\n",
    "        \"introduction\": intro,\n",
    "        \"pdf_link\": pdf_link\n",
    "    }\n",
    "    driver.quit\n",
    "\n",
    "    return info\n",
    "# --------------------start of test code--------------------\n",
    "url = \"https://europepmc.org/article/MED/37298594\"\n",
    "info = europepmc_org(url)\n",
    "print(info[\"doi\"])\n",
    "print(info[\"pmid\"])\n",
    "print(info[\"pmcid\"])\n",
    "print(info[\"title\"])\n",
    "print(info[\"abstract\"])\n",
    "print(info[\"keywords\"])\n",
    "print(info[\"introduction\"])\n",
    "print(info[\"pdf_link\"])\n",
    "# ---------------------end of test code---------------------"
   ]
  }
 ],
 "metadata": {
  "kernelspec": {
   "display_name": "myenv",
   "language": "python",
   "name": "python3"
  },
  "language_info": {
   "codemirror_mode": {
    "name": "ipython",
    "version": 3
   },
   "file_extension": ".py",
   "mimetype": "text/x-python",
   "name": "python",
   "nbconvert_exporter": "python",
   "pygments_lexer": "ipython3",
   "version": "3.10.12"
  },
  "orig_nbformat": 4
 },
 "nbformat": 4,
 "nbformat_minor": 2
}

{
 "cells": [
  {
   "cell_type": "code",
   "execution_count": 23,
   "metadata": {},
   "outputs": [],
   "source": [
    "# import internal .py modules\n",
    "import file_path_management as fpath\n",
    "import public_library as plib"
   ]
  },
  {
   "cell_type": "code",
   "execution_count": 24,
   "metadata": {},
   "outputs": [],
   "source": [
    "# import packages\n",
    "import csv\n",
    "import pandas as pd\n",
    "import PyPDF2\n",
    "import requests\n",
    "import time\n",
    "import os\n",
    "import random\n",
    "from requests.auth import HTTPProxyAuth\n",
    "from bs4 import BeautifulSoup"
   ]
  },
  {
   "cell_type": "code",
   "execution_count": 25,
   "metadata": {},
   "outputs": [],
   "source": [
    "# # test request\n",
    "# # webpage that require subscription\n",
    "# # url = \"https://www.sciencedirect.com/science/article/abs/pii/S0079612305490019?via%3Dihub\"\n",
    "# url = \"https://www.sciencedirect.com/science/article/pii/S095943880900049X?via%3Dihub\"\n",
    "# # webpage that does not require subscription\n",
    "# # url = \"https://pubmed.ncbi.nlm.nih.gov/34524542/\"\n",
    "# # url = \"https://link.springer.com/article/10.1007/s00429-021-02377-7\"\n",
    "# response = requests.get(url, headers = plib.headers)\n",
    "# soup = BeautifulSoup(response.content,\"html.parser\")\n",
    "# # print(soup.find_all(\"a\"))\n",
    "# print(soup)"
   ]
  },
  {
   "cell_type": "code",
   "execution_count": 26,
   "metadata": {},
   "outputs": [],
   "source": [
    "# from selenium import webdriver\n",
    "# from selenium.webdriver.common.by import By\n",
    "# from selenium.webdriver.common.keys import Keys\n",
    "# # from selenium.webdriver.chrome.options import Options\n",
    "\n",
    "# # options = Options()\n",
    "# # options.add_argument('--headless')\n",
    "# browser = webdriver.Firefox()\n",
    "\n",
    "# browser.get(url)\n",
    "# time.sleep(10)\n",
    "# # assert 'Yahoo' in browser.title\n",
    "\n",
    "# # ele = browse?r.find_element(\"a\")\n",
    "# # elems = browser.find_element(By.CLASS_NAME, \"title-text\")\n",
    "# # pdf_links = browser.find_elements(By.XPATH, \"//a[contains(@href, '.pdf')]\")\n",
    "# pdf_links = browser.find_elements(By.XPATH, \"//h1\")[0].get_attribute('innerHTML')\n",
    "# print(pdf_links)\n",
    "# # for elem in elems:\n",
    "# #     print(elem)\n",
    "# # print(elems)\n",
    "# # elem = browser.find_element(By.NAME, 'p')  # Find the search box\n",
    "# # elem.send_keys('seleniumhq' + Keys.RETURN)\n",
    "# browser.quit()"
   ]
  },
  {
   "cell_type": "code",
   "execution_count": 27,
   "metadata": {},
   "outputs": [],
   "source": [
    "first_page =  \"https://scholar.google.com/scholar?start=0&q=(macaque+OR+macaca+OR+%22rhesus+monkey%22)+(thalamus+OR+thalamic+OR+thalamocortical+OR+%22thalamo-cortical%22)&hl=en&as_sdt=0,5\"\n",
    "page = 17\n",
    "start = page * 10\n",
    "page_url = first_page.split(\"?start=\")[0] + \"?start=\" + str(start) + \"&q=\" + first_page.split(\"&q=\")[1]\n",
    "# print(page_url)\n",
    "\n",
    "# search a page\n",
    "proxies, auth = plib.get_proxies()\n",
    "response = requests.get(page_url, headers = plib.headers, proxies = proxies, auth = auth)\n",
    "if response.status_code != 200:\n",
    "    print(\"Error when searching page:\", page)\n",
    "    print(response.status_code)\n",
    "    raise Exception(\"Your request was declined, again!\")\n",
    "soup = BeautifulSoup(response.content, \"lxml\")\n",
    "# print(soup)\n",
    "items = soup.select('[data-lid]')\n",
    "# print(items)\n",
    "for item in items:\n",
    "    # print(item[i])\n",
    "    try:\n",
    "        add_title = item.select(\"h3\")[0].select(\"a\", href = True)[0].get_text().strip()\n",
    "    except:\n",
    "        add_title = \"not found\"\n",
    "    # print(add_title)\n",
    "    try:\n",
    "        add_url = item.select(\"h3\")[0].select(\"a\", href = True)[0][\"href\"]\n",
    "    except:\n",
    "        add_url = \"not found\"\n",
    "    # print(add_url)\n",
    "    try:\n",
    "        add_full_text_link = item.find_all(\"div\", {'class': \"gs_or_ggsm\"})[0].find_all(\"a\", href = True)[0][\"href\"]\n",
    "    except:\n",
    "        add_full_text_link = \"not found\"\n",
    "    # print(add_full_text_link)\n",
    "    try:\n",
    "        full_text_type = item.find_all(\"div\", {'class': \"gs_or_ggsm\"})[0].find_all(\"a\", href = True)[0].get_text().strip().split()[0]\n",
    "        full_text_source = item.find_all(\"div\", {'class': \"gs_or_ggsm\"})[0].find_all(\"a\", href = True)[0].get_text().strip().split()[1]\n",
    "    except:\n",
    "        full_text_type = \"not found\"\n",
    "        full_text_source = \"not found\"\n",
    "    # print(full_text_type)\n",
    "    # print(full_text_source)\n",
    "    row = {\n",
    "        \"title\": [add_title],\n",
    "        \"url\": [add_url],\n",
    "        \"full_text_url\": [add_full_text_link],\n",
    "        \"full_text_type\": [full_text_type],\n",
    "        \"full_text_source\": [full_text_source]\n",
    "    }\n",
    "    print(row)"
   ]
  },
  {
   "cell_type": "code",
   "execution_count": 28,
   "metadata": {},
   "outputs": [
    {
     "name": "stdout",
     "output_type": "stream",
     "text": [
      "{'DOI': 'doi', 'PMID': 'pmid', 'PMCID': 'pmcid', 'Title': 'str(df[Title][ind])', 'First_Author': 'first_author', 'full_text_url': 'full_text_url', 'full_text_source': 'full_text_source'}\n"
     ]
    },
    {
     "ename": "ValueError",
     "evalue": "If using all scalar values, you must pass an index",
     "output_type": "error",
     "traceback": [
      "\u001b[0;31m---------------------------------------------------------------------------\u001b[0m",
      "\u001b[0;31mValueError\u001b[0m                                Traceback (most recent call last)",
      "Cell \u001b[0;32mIn[28], line 11\u001b[0m\n\u001b[1;32m      9\u001b[0m \u001b[39mprint\u001b[39m(row)\n\u001b[1;32m     10\u001b[0m columns \u001b[39m=\u001b[39m [\u001b[39m\"\u001b[39m\u001b[39mDOI\u001b[39m\u001b[39m\"\u001b[39m, \u001b[39m\"\u001b[39m\u001b[39mPMID\u001b[39m\u001b[39m\"\u001b[39m, \u001b[39m\"\u001b[39m\u001b[39mPMCID\u001b[39m\u001b[39m\"\u001b[39m, \u001b[39m\"\u001b[39m\u001b[39mTitle\u001b[39m\u001b[39m\"\u001b[39m, \u001b[39m\"\u001b[39m\u001b[39mFirst_Author\u001b[39m\u001b[39m\"\u001b[39m, \u001b[39m\"\u001b[39m\u001b[39mfull_text_url\u001b[39m\u001b[39m\"\u001b[39m, \u001b[39m\"\u001b[39m\u001b[39mfull_text_source\u001b[39m\u001b[39m\"\u001b[39m]\n\u001b[0;32m---> 11\u001b[0m df_new_row \u001b[39m=\u001b[39m pd\u001b[39m.\u001b[39;49mDataFrame(data \u001b[39m=\u001b[39;49m row, columns \u001b[39m=\u001b[39;49m columns)\n\u001b[1;32m     12\u001b[0m df_new_row\u001b[39m.\u001b[39mto_csv(fpath\u001b[39m.\u001b[39mpoten_litera, mode \u001b[39m=\u001b[39m \u001b[39m'\u001b[39m\u001b[39ma\u001b[39m\u001b[39m'\u001b[39m, index \u001b[39m=\u001b[39m \u001b[39mFalse\u001b[39;00m, header \u001b[39m=\u001b[39m \u001b[39mFalse\u001b[39;00m, encoding\u001b[39m=\u001b[39m\u001b[39m'\u001b[39m\u001b[39mutf-8-sig\u001b[39m\u001b[39m'\u001b[39m)\n",
      "File \u001b[0;32m~/anaconda3/envs/myenv/lib/python3.10/site-packages/pandas/core/frame.py:709\u001b[0m, in \u001b[0;36mDataFrame.__init__\u001b[0;34m(self, data, index, columns, dtype, copy)\u001b[0m\n\u001b[1;32m    703\u001b[0m     mgr \u001b[39m=\u001b[39m \u001b[39mself\u001b[39m\u001b[39m.\u001b[39m_init_mgr(\n\u001b[1;32m    704\u001b[0m         data, axes\u001b[39m=\u001b[39m{\u001b[39m\"\u001b[39m\u001b[39mindex\u001b[39m\u001b[39m\"\u001b[39m: index, \u001b[39m\"\u001b[39m\u001b[39mcolumns\u001b[39m\u001b[39m\"\u001b[39m: columns}, dtype\u001b[39m=\u001b[39mdtype, copy\u001b[39m=\u001b[39mcopy\n\u001b[1;32m    705\u001b[0m     )\n\u001b[1;32m    707\u001b[0m \u001b[39melif\u001b[39;00m \u001b[39misinstance\u001b[39m(data, \u001b[39mdict\u001b[39m):\n\u001b[1;32m    708\u001b[0m     \u001b[39m# GH#38939 de facto copy defaults to False only in non-dict cases\u001b[39;00m\n\u001b[0;32m--> 709\u001b[0m     mgr \u001b[39m=\u001b[39m dict_to_mgr(data, index, columns, dtype\u001b[39m=\u001b[39;49mdtype, copy\u001b[39m=\u001b[39;49mcopy, typ\u001b[39m=\u001b[39;49mmanager)\n\u001b[1;32m    710\u001b[0m \u001b[39melif\u001b[39;00m \u001b[39misinstance\u001b[39m(data, ma\u001b[39m.\u001b[39mMaskedArray):\n\u001b[1;32m    711\u001b[0m     \u001b[39mfrom\u001b[39;00m \u001b[39mnumpy\u001b[39;00m\u001b[39m.\u001b[39;00m\u001b[39mma\u001b[39;00m \u001b[39mimport\u001b[39;00m mrecords\n",
      "File \u001b[0;32m~/anaconda3/envs/myenv/lib/python3.10/site-packages/pandas/core/internals/construction.py:436\u001b[0m, in \u001b[0;36mdict_to_mgr\u001b[0;34m(data, index, columns, dtype, typ, copy)\u001b[0m\n\u001b[1;32m    432\u001b[0m missing \u001b[39m=\u001b[39m arrays\u001b[39m.\u001b[39misna()\n\u001b[1;32m    433\u001b[0m \u001b[39mif\u001b[39;00m index \u001b[39mis\u001b[39;00m \u001b[39mNone\u001b[39;00m:\n\u001b[1;32m    434\u001b[0m     \u001b[39m# GH10856\u001b[39;00m\n\u001b[1;32m    435\u001b[0m     \u001b[39m# raise ValueError if only scalars in dict\u001b[39;00m\n\u001b[0;32m--> 436\u001b[0m     index \u001b[39m=\u001b[39m _extract_index(arrays[\u001b[39m~\u001b[39;49mmissing])\n\u001b[1;32m    437\u001b[0m \u001b[39melse\u001b[39;00m:\n\u001b[1;32m    438\u001b[0m     index \u001b[39m=\u001b[39m ensure_index(index)\n",
      "File \u001b[0;32m~/anaconda3/envs/myenv/lib/python3.10/site-packages/pandas/core/internals/construction.py:645\u001b[0m, in \u001b[0;36m_extract_index\u001b[0;34m(data)\u001b[0m\n\u001b[1;32m    642\u001b[0m         \u001b[39mraise\u001b[39;00m \u001b[39mValueError\u001b[39;00m(\u001b[39m\"\u001b[39m\u001b[39mPer-column arrays must each be 1-dimensional\u001b[39m\u001b[39m\"\u001b[39m)\n\u001b[1;32m    644\u001b[0m \u001b[39mif\u001b[39;00m \u001b[39mnot\u001b[39;00m indexes \u001b[39mand\u001b[39;00m \u001b[39mnot\u001b[39;00m raw_lengths:\n\u001b[0;32m--> 645\u001b[0m     \u001b[39mraise\u001b[39;00m \u001b[39mValueError\u001b[39;00m(\u001b[39m\"\u001b[39m\u001b[39mIf using all scalar values, you must pass an index\u001b[39m\u001b[39m\"\u001b[39m)\n\u001b[1;32m    647\u001b[0m \u001b[39mif\u001b[39;00m have_series:\n\u001b[1;32m    648\u001b[0m     index \u001b[39m=\u001b[39m union_indexes(indexes)\n",
      "\u001b[0;31mValueError\u001b[0m: If using all scalar values, you must pass an index"
     ]
    }
   ],
   "source": [
    "row = {\"DOI\": \"doi\",\n",
    "            \"PMID\": \"pmid\",\n",
    "            \"PMCID\": \"pmcid\",\n",
    "            \"Title\": \"str(df[Title][ind])\",\n",
    "            \"First_Author\": \"first_author\",\n",
    "            \"full_text_url\": \"full_text_url\",\n",
    "            \"full_text_source\": \"full_text_source\"\n",
    "        }\n",
    "print(row)\n",
    "columns = [\"DOI\", \"PMID\", \"PMCID\", \"Title\", \"First_Author\", \"full_text_url\", \"full_text_source\"]\n",
    "df_new_row = pd.DataFrame(data = row, columns = columns)\n",
    "df_new_row.to_csv(fpath.poten_litera, mode = 'a', index = False, header = False, encoding='utf-8-sig')"
   ]
  }
 ],
 "metadata": {
  "kernelspec": {
   "display_name": "myenv",
   "language": "python",
   "name": "python3"
  },
  "language_info": {
   "codemirror_mode": {
    "name": "ipython",
    "version": 3
   },
   "file_extension": ".py",
   "mimetype": "text/x-python",
   "name": "python",
   "nbconvert_exporter": "python",
   "pygments_lexer": "ipython3",
   "version": "3.10.12"
  },
  "orig_nbformat": 4
 },
 "nbformat": 4,
 "nbformat_minor": 2
}

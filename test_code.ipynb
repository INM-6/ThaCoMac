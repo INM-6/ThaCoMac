{
 "cells": [
  {
   "cell_type": "code",
   "execution_count": 1,
   "metadata": {},
   "outputs": [],
   "source": [
    "# import internal .py modules\n",
    "import file_path_management as fpath\n",
    "import public_library as plib"
   ]
  },
  {
   "cell_type": "code",
   "execution_count": 2,
   "metadata": {},
   "outputs": [],
   "source": [
    "# import packages\n",
    "import csv\n",
    "import pandas as pd\n",
    "import PyPDF2\n",
    "import requests\n",
    "import time\n",
    "import os\n",
    "import random\n",
    "from requests.auth import HTTPProxyAuth\n",
    "from bs4 import BeautifulSoup"
   ]
  },
  {
   "cell_type": "code",
   "execution_count": 3,
   "metadata": {},
   "outputs": [],
   "source": [
    "# # test request\n",
    "# # webpage that require subscription\n",
    "# # url = \"https://www.sciencedirect.com/science/article/abs/pii/S0079612305490019?via%3Dihub\"\n",
    "# url = \"https://www.sciencedirect.com/science/article/pii/S095943880900049X?via%3Dihub\"\n",
    "# # webpage that does not require subscription\n",
    "# # url = \"https://pubmed.ncbi.nlm.nih.gov/34524542/\"\n",
    "# # url = \"https://link.springer.com/article/10.1007/s00429-021-02377-7\"\n",
    "# response = requests.get(url, headers = plib.headers)\n",
    "# soup = BeautifulSoup(response.content,\"html.parser\")\n",
    "# # print(soup.find_all(\"a\"))\n",
    "# print(soup)"
   ]
  },
  {
   "cell_type": "code",
   "execution_count": 4,
   "metadata": {},
   "outputs": [],
   "source": [
    "# from selenium import webdriver\n",
    "# from selenium.webdriver.common.by import By\n",
    "# from selenium.webdriver.common.keys import Keys\n",
    "# # from selenium.webdriver.chrome.options import Options\n",
    "\n",
    "# # options = Options()\n",
    "# # options.add_argument('--headless')\n",
    "# browser = webdriver.Firefox()\n",
    "\n",
    "# browser.get(url)\n",
    "# time.sleep(10)\n",
    "# # assert 'Yahoo' in browser.title\n",
    "\n",
    "# # ele = browse?r.find_element(\"a\")\n",
    "# # elems = browser.find_element(By.CLASS_NAME, \"title-text\")\n",
    "# # pdf_links = browser.find_elements(By.XPATH, \"//a[contains(@href, '.pdf')]\")\n",
    "# pdf_links = browser.find_elements(By.XPATH, \"//h1\")[0].get_attribute('innerHTML')\n",
    "# print(pdf_links)\n",
    "# # for elem in elems:\n",
    "# #     print(elem)\n",
    "# # print(elems)\n",
    "# # elem = browser.find_element(By.NAME, 'p')  # Find the search box\n",
    "# # elem.send_keys('seleniumhq' + Keys.RETURN)\n",
    "# browser.quit()"
   ]
  }
 ],
 "metadata": {
  "kernelspec": {
   "display_name": "myenv",
   "language": "python",
   "name": "python3"
  },
  "language_info": {
   "codemirror_mode": {
    "name": "ipython",
    "version": 3
   },
   "file_extension": ".py",
   "mimetype": "text/x-python",
   "name": "python",
   "nbconvert_exporter": "python",
   "pygments_lexer": "ipython3",
   "version": "3.10.12"
  },
  "orig_nbformat": 4
 },
 "nbformat": 4,
 "nbformat_minor": 2
}

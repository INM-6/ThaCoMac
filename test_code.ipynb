{
 "cells": [
  {
   "cell_type": "code",
   "execution_count": 21,
   "metadata": {},
   "outputs": [],
   "source": [
    "# import internal modules\n",
    "import file_path_management as fpath\n",
    "import public_library as plib\n",
    "import extract_info\n",
    "import parameters as params\n",
    "import download_and_process_pdf as dpp"
   ]
  },
  {
   "cell_type": "code",
   "execution_count": 22,
   "metadata": {},
   "outputs": [],
   "source": [
    "# import packages\n",
    "import csv\n",
    "import pandas as pd\n",
    "import PyPDF2\n",
    "import requests\n",
    "import time\n",
    "import os\n",
    "import random\n",
    "from requests.auth import HTTPProxyAuth\n",
    "from bs4 import BeautifulSoup\n",
    "import numpy as np\n",
    "from selenium import webdriver\n",
    "from webdriver_manager.firefox import GeckoDriverManager\n",
    "from selenium.webdriver.common.by import By\n",
    "from selenium.webdriver.firefox.options import Options\n",
    "from selenium.webdriver.support.wait import WebDriverWait\n",
    "from selenium.webdriver.support import expected_conditions as EC\n",
    "from webdriver_manager.firefox import GeckoDriverManager\n",
    "from selenium.webdriver.firefox.service import Service\n",
    "from selenium.common.exceptions import TimeoutException, WebDriverException, NoSuchElementException\n",
    "import os\n",
    "import re\n",
    "from lxml import etree"
   ]
  },
  {
   "cell_type": "code",
   "execution_count": 24,
   "metadata": {},
   "outputs": [
    {
     "name": "stdout",
     "output_type": "stream",
     "text": [
      "Download from https://royalsocietypublishing.org/doi/10.1098/rspb.1953.0054 is not possible, please download manually! ind is  5\n"
     ]
    }
   ],
   "source": [
    "doi = ''\n",
    "# pdf_url = \"https://www.ncbi.nlm.nih.gov/pmc/articles/PMC6577493/pdf/jneuro_14_5_2485.pdf\"\n",
    "# \"https://pharmrev.aspetjournals.org/content/pharmrev/24/1/31.full.pdf\"\n",
    "# \"https://direct.mit.edu/jocn/article-pdf/19/1/13/1936104/jocn.2007.19.1.13.pdf\"\n",
    "\n",
    "# pdf_url = \"https://jnm.snmjournals.org/content/jnumed/39/2/281.full.pdf\"\n",
    "# pdf_url = \"://linkinghub.elsevier.com/\"\n",
    "# doi = \"10.1016/0006-8993(95)01338-5\"\n",
    "# pdf_url = \"https://physoc.onlinelibrary.wiley.com/doi/epdf/10.1113/JP280844\"\n",
    "# pdf_url = \"https://www.microbiologyresearch.org/content/journal/jgv/10.1099/vir.0.79883-0\"\n",
    "# pdf_url = \"https://europepmc.org/article/med/8784824\"\n",
    "# pdf_url = \"https://papers.ssrn.com/sol3/papers.cfm?abstract_id=3689615\"\n",
    "# pdf_url = \"https://www.ingentaconnect.com/content/aalas/cm/2000/00000050/00000002/art00006\"\n",
    "# pdf_url = \"https://journals.lww.com/neuroreport/abstract/1994/10000/further_evidence_for_two_types_of_corticopulvinar.6.aspx\"\n",
    "# pdf_url = \"https://www.ahajournals.org/doi/reader/10.1161/01.STR.0000087786.38997.9E\"\n",
    "# pdf_url = \"https://iovs.arvojournals.org//arvo/content_public/journal/iovs/934840/i1552-5783-57-1-1.pdf\"\n",
    "# pdf_url = \"https://royalsocietypublishing.org/doi/10.1098/rspb.1953.0054\"\n",
    "pdf_url = \"https://jamanetwork.com/journals/jamaneurology/article-abstract/565945\"\n",
    "ind = 5\n",
    "pdf_folder = fpath.pdf_folder\n",
    "dpp.download_and_rename_pdf(pdf_url, doi, ind, pdf_folder)"
   ]
  }
 ],
 "metadata": {
  "kernelspec": {
   "display_name": "myenv",
   "language": "python",
   "name": "python3"
  },
  "language_info": {
   "codemirror_mode": {
    "name": "ipython",
    "version": 3
   },
   "file_extension": ".py",
   "mimetype": "text/x-python",
   "name": "python",
   "nbconvert_exporter": "python",
   "pygments_lexer": "ipython3",
   "version": "3.10.12"
  },
  "orig_nbformat": 4
 },
 "nbformat": 4,
 "nbformat_minor": 2
}

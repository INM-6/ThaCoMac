{
 "cells": [
  {
   "cell_type": "code",
   "execution_count": 1,
   "metadata": {},
   "outputs": [
    {
     "name": "stderr",
     "output_type": "stream",
     "text": [
      "2023-08-06 23:42:54 GM01X680 metapub.config[71004] WARNING NCBI_API_KEY was not set.\n"
     ]
    }
   ],
   "source": [
    "# import internal .py modules\n",
    "import file_path_management as fpath\n",
    "import public_library as plib"
   ]
  },
  {
   "cell_type": "code",
   "execution_count": 2,
   "metadata": {},
   "outputs": [],
   "source": [
    "# import packages\n",
    "import csv\n",
    "import pandas as pd\n",
    "import PyPDF2\n",
    "import requests\n",
    "import time\n",
    "import os\n",
    "import random\n",
    "from requests.auth import HTTPProxyAuth\n",
    "from bs4 import BeautifulSoup\n",
    "import numpy as np\n",
    "from selenium import webdriver\n",
    "from webdriver_manager.chrome import ChromeDriverManager\n",
    "from selenium.webdriver.common.by import By\n",
    "from selenium.webdriver.chrome.options import Options\n",
    "from selenium.webdriver.support.ui import WebDriverWait\n",
    "from selenium.webdriver.support import expected_conditions as EC\n",
    "from webdriver_manager.chrome import ChromeDriverManager\n",
    "from selenium.webdriver.chrome.service import Service\n",
    "from selenium.common.exceptions import TimeoutException, WebDriverException, NoSuchElementException\n",
    "import os\n",
    "import re\n",
    "from lxml import etree"
   ]
  },
  {
   "cell_type": "code",
   "execution_count": 3,
   "metadata": {},
   "outputs": [
    {
     "ename": "NoSuchElementException",
     "evalue": "Message: no such element: Unable to locate element: {\"method\":\"xpath\",\"selector\":\"/html/body/div[2]/div/div/div/div/div/div[2]/article/div[3]/a[1]\"}\n  (Session info: headless chrome=115.0.5790.170); For documentation on this error, please visit: https://www.selenium.dev/documentation/webdriver/troubleshooting/errors#no-such-element-exception\nStacktrace:\n#0 0x55e622d2a613 <unknown>\n#1 0x55e622a56537 <unknown>\n#2 0x55e622a94f53 <unknown>\n#3 0x55e622a95041 <unknown>\n#4 0x55e622ad02a4 <unknown>\n#5 0x55e622ab5a5d <unknown>\n#6 0x55e622acdd09 <unknown>\n#7 0x55e622ab5803 <unknown>\n#8 0x55e622a8968b <unknown>\n#9 0x55e622a8a42e <unknown>\n#10 0x55e622cebc28 <unknown>\n#11 0x55e622cefaf7 <unknown>\n#12 0x55e622cfa01c <unknown>\n#13 0x55e622cf0723 <unknown>\n#14 0x55e622cbf457 <unknown>\n#15 0x55e622d14628 <unknown>\n#16 0x55e622d147b7 <unknown>\n#17 0x55e622d23483 <unknown>\n#18 0x7fe92d694b43 <unknown>\n",
     "output_type": "error",
     "traceback": [
      "\u001b[0;31m---------------------------------------------------------------------------\u001b[0m",
      "\u001b[0;31mNoSuchElementException\u001b[0m                    Traceback (most recent call last)",
      "Cell \u001b[0;32mIn[3], line 68\u001b[0m\n\u001b[1;32m     66\u001b[0m \u001b[39m# --------------------start of test code--------------------\u001b[39;00m\n\u001b[1;32m     67\u001b[0m url \u001b[39m=\u001b[39m \u001b[39m\"\u001b[39m\u001b[39mhttps://www.sciencedirect.com/science/article/pii/030439409512056A\u001b[39m\u001b[39m\"\u001b[39m\n\u001b[0;32m---> 68\u001b[0m info \u001b[39m=\u001b[39m www_sciencedirect_com(url)\n\u001b[1;32m     69\u001b[0m \u001b[39mprint\u001b[39m(info[\u001b[39m\"\u001b[39m\u001b[39mdoi\u001b[39m\u001b[39m\"\u001b[39m])\n\u001b[1;32m     70\u001b[0m \u001b[39mprint\u001b[39m(info[\u001b[39m\"\u001b[39m\u001b[39mpmid\u001b[39m\u001b[39m\"\u001b[39m])\n",
      "Cell \u001b[0;32mIn[3], line 22\u001b[0m, in \u001b[0;36mwww_sciencedirect_com\u001b[0;34m(url)\u001b[0m\n\u001b[1;32m     19\u001b[0m         error_label \u001b[39m=\u001b[39m \u001b[39m0\u001b[39m\n\u001b[1;32m     21\u001b[0m \u001b[39m# extract information from loaded webpage\u001b[39;00m\n\u001b[0;32m---> 22\u001b[0m doi \u001b[39m=\u001b[39m driver\u001b[39m.\u001b[39;49mfind_element(By\u001b[39m.\u001b[39;49mXPATH, \u001b[39m\"\u001b[39;49m\u001b[39m/html/body/div[2]/div/div/div/div/div/div[2]/article/div[3]/a[1]\u001b[39;49m\u001b[39m\"\u001b[39;49m)\u001b[39m.\u001b[39mtext\u001b[39m.\u001b[39msplit(\u001b[39m\"\u001b[39m\u001b[39mdoi.org/\u001b[39m\u001b[39m\"\u001b[39m)[\u001b[39m1\u001b[39m]\n\u001b[1;32m     23\u001b[0m \u001b[39mtry\u001b[39;00m:\n\u001b[1;32m     24\u001b[0m     doi \u001b[39m=\u001b[39m driver\u001b[39m.\u001b[39mfind_element(By\u001b[39m.\u001b[39mCLASS_NAME, \u001b[39m\"\u001b[39m\u001b[39manchor-text\u001b[39m\u001b[39m\"\u001b[39m)\u001b[39m.\u001b[39mtext\u001b[39m.\u001b[39msplit(\u001b[39m\"\u001b[39m\u001b[39mdoi.org/\u001b[39m\u001b[39m\"\u001b[39m)[\u001b[39m1\u001b[39m]\n",
      "File \u001b[0;32m~/anaconda3/envs/myenv/lib/python3.10/site-packages/selenium/webdriver/remote/webdriver.py:739\u001b[0m, in \u001b[0;36mWebDriver.find_element\u001b[0;34m(self, by, value)\u001b[0m\n\u001b[1;32m    736\u001b[0m     by \u001b[39m=\u001b[39m By\u001b[39m.\u001b[39mCSS_SELECTOR\n\u001b[1;32m    737\u001b[0m     value \u001b[39m=\u001b[39m \u001b[39mf\u001b[39m\u001b[39m'\u001b[39m\u001b[39m[name=\u001b[39m\u001b[39m\"\u001b[39m\u001b[39m{\u001b[39;00mvalue\u001b[39m}\u001b[39;00m\u001b[39m\"\u001b[39m\u001b[39m]\u001b[39m\u001b[39m'\u001b[39m\n\u001b[0;32m--> 739\u001b[0m \u001b[39mreturn\u001b[39;00m \u001b[39mself\u001b[39;49m\u001b[39m.\u001b[39;49mexecute(Command\u001b[39m.\u001b[39;49mFIND_ELEMENT, {\u001b[39m\"\u001b[39;49m\u001b[39musing\u001b[39;49m\u001b[39m\"\u001b[39;49m: by, \u001b[39m\"\u001b[39;49m\u001b[39mvalue\u001b[39;49m\u001b[39m\"\u001b[39;49m: value})[\u001b[39m\"\u001b[39m\u001b[39mvalue\u001b[39m\u001b[39m\"\u001b[39m]\n",
      "File \u001b[0;32m~/anaconda3/envs/myenv/lib/python3.10/site-packages/selenium/webdriver/remote/webdriver.py:345\u001b[0m, in \u001b[0;36mWebDriver.execute\u001b[0;34m(self, driver_command, params)\u001b[0m\n\u001b[1;32m    343\u001b[0m response \u001b[39m=\u001b[39m \u001b[39mself\u001b[39m\u001b[39m.\u001b[39mcommand_executor\u001b[39m.\u001b[39mexecute(driver_command, params)\n\u001b[1;32m    344\u001b[0m \u001b[39mif\u001b[39;00m response:\n\u001b[0;32m--> 345\u001b[0m     \u001b[39mself\u001b[39;49m\u001b[39m.\u001b[39;49merror_handler\u001b[39m.\u001b[39;49mcheck_response(response)\n\u001b[1;32m    346\u001b[0m     response[\u001b[39m\"\u001b[39m\u001b[39mvalue\u001b[39m\u001b[39m\"\u001b[39m] \u001b[39m=\u001b[39m \u001b[39mself\u001b[39m\u001b[39m.\u001b[39m_unwrap_value(response\u001b[39m.\u001b[39mget(\u001b[39m\"\u001b[39m\u001b[39mvalue\u001b[39m\u001b[39m\"\u001b[39m, \u001b[39mNone\u001b[39;00m))\n\u001b[1;32m    347\u001b[0m     \u001b[39mreturn\u001b[39;00m response\n",
      "File \u001b[0;32m~/anaconda3/envs/myenv/lib/python3.10/site-packages/selenium/webdriver/remote/errorhandler.py:229\u001b[0m, in \u001b[0;36mErrorHandler.check_response\u001b[0;34m(self, response)\u001b[0m\n\u001b[1;32m    227\u001b[0m         alert_text \u001b[39m=\u001b[39m value[\u001b[39m\"\u001b[39m\u001b[39malert\u001b[39m\u001b[39m\"\u001b[39m]\u001b[39m.\u001b[39mget(\u001b[39m\"\u001b[39m\u001b[39mtext\u001b[39m\u001b[39m\"\u001b[39m)\n\u001b[1;32m    228\u001b[0m     \u001b[39mraise\u001b[39;00m exception_class(message, screen, stacktrace, alert_text)  \u001b[39m# type: ignore[call-arg]  # mypy is not smart enough here\u001b[39;00m\n\u001b[0;32m--> 229\u001b[0m \u001b[39mraise\u001b[39;00m exception_class(message, screen, stacktrace)\n",
      "\u001b[0;31mNoSuchElementException\u001b[0m: Message: no such element: Unable to locate element: {\"method\":\"xpath\",\"selector\":\"/html/body/div[2]/div/div/div/div/div/div[2]/article/div[3]/a[1]\"}\n  (Session info: headless chrome=115.0.5790.170); For documentation on this error, please visit: https://www.selenium.dev/documentation/webdriver/troubleshooting/errors#no-such-element-exception\nStacktrace:\n#0 0x55e622d2a613 <unknown>\n#1 0x55e622a56537 <unknown>\n#2 0x55e622a94f53 <unknown>\n#3 0x55e622a95041 <unknown>\n#4 0x55e622ad02a4 <unknown>\n#5 0x55e622ab5a5d <unknown>\n#6 0x55e622acdd09 <unknown>\n#7 0x55e622ab5803 <unknown>\n#8 0x55e622a8968b <unknown>\n#9 0x55e622a8a42e <unknown>\n#10 0x55e622cebc28 <unknown>\n#11 0x55e622cefaf7 <unknown>\n#12 0x55e622cfa01c <unknown>\n#13 0x55e622cf0723 <unknown>\n#14 0x55e622cbf457 <unknown>\n#15 0x55e622d14628 <unknown>\n#16 0x55e622d147b7 <unknown>\n#17 0x55e622d23483 <unknown>\n#18 0x7fe92d694b43 <unknown>\n"
     ]
    }
   ],
   "source": [
    "# www.sciencedirect.com\n",
    "def www_sciencedirect_com(url):\n",
    "    os.environ['WDM_LOG'] = '0'\n",
    "    options = Options()\n",
    "    options.add_argument('--headless')\n",
    "    \n",
    "    # load the webpage\n",
    "    error_label = 0\n",
    "    while(error_label == 0):\n",
    "        try:\n",
    "            driver = webdriver.Chrome(options=options)\n",
    "            driver.get(url)\n",
    "            time.sleep(3)\n",
    "            # WebDriverWait(driver, 20).until(EC.element_to_be_clickable(By.XPATH, \"//button[text()='Accept Cookies']\")).click()\n",
    "            error_label = 1\n",
    "        except:\n",
    "            print(\"Extracting content from:\" + url + \" failed, retrying... This might take longer than 5 minutes...\")\n",
    "            time.sleep(5*60)\n",
    "            error_label = 0\n",
    "    \n",
    "    # extract information from loaded webpage\n",
    "    doi = driver.find_element(By.XPATH, \"/html/body/div[2]/div/div/div/div/div/div[2]/article/div[3]/a[1]\").text.split(\"doi.org/\")[1]\n",
    "    try:\n",
    "        doi = driver.find_element(By.CLASS_NAME, \"anchor-text\").text.split(\"doi.org/\")[1]\n",
    "    except:\n",
    "        doi = np.nan\n",
    "    pmid = np.nan\n",
    "    pmcid = np.nan\n",
    "    try:\n",
    "        title = driver.find_element(By.TAG_NAME, 'h1').text\n",
    "    except:\n",
    "        title = np.nan\n",
    "    try:\n",
    "        abstract = driver.find_element(By.ID, \"abstracts\").find_element(By.TAG_NAME, \"p\").text\n",
    "    except:\n",
    "        abstract = np.nan\n",
    "    keywords = np.nan\n",
    "    try:\n",
    "        intro = \"\"\n",
    "        # Get the starting element\n",
    "        elements = driver.find_element(By.LINK_TEXT, 'Introduction').find_element(By.TAG_NAME, 'section').find_elements(By.XPATH, 'p')\n",
    "        for element in elements:\n",
    "            intro = intro + element.text\n",
    "    except:\n",
    "        intro = np.nan\n",
    "    # pdf_link = driver.find_element(By.XPATH, \"//*[@id='download_article​']\").get_attribute('href')\n",
    "    try:\n",
    "        pdf_link = driver.find_element(By.CLASS_NAME, \"ViewPDF\").find_element(By.XPATH, 'a').get_attribute('href')\n",
    "    except:\n",
    "        pdf_link = np.nan\n",
    "\n",
    "    driver.quit()\n",
    "\n",
    "    info = {\n",
    "        \"doi\": doi,\n",
    "        \"pmid\": pmid,\n",
    "        \"pmcid\": pmcid,\n",
    "        \"title\": title,\n",
    "        \"abstract\": abstract,\n",
    "        \"keywords\": keywords,\n",
    "        \"introduction\": intro,\n",
    "        \"pdf_link\": pdf_link\n",
    "    }\n",
    "\n",
    "    return info\n",
    "# --------------------start of test code--------------------\n",
    "url = \"https://www.sciencedirect.com/science/article/pii/030439409512056A\"\n",
    "info = www_sciencedirect_com(url)\n",
    "print(info[\"doi\"])\n",
    "print(info[\"pmid\"])\n",
    "print(info[\"pmcid\"])\n",
    "print(info[\"title\"])\n",
    "print(info[\"abstract\"])\n",
    "print(info[\"keywords\"])\n",
    "print(info[\"introduction\"])\n",
    "print(info[\"pdf_link\"])\n",
    "# ---------------------end of test code---------------------"
   ]
  }
 ],
 "metadata": {
  "kernelspec": {
   "display_name": "myenv",
   "language": "python",
   "name": "python3"
  },
  "language_info": {
   "codemirror_mode": {
    "name": "ipython",
    "version": 3
   },
   "file_extension": ".py",
   "mimetype": "text/x-python",
   "name": "python",
   "nbconvert_exporter": "python",
   "pygments_lexer": "ipython3",
   "version": "3.10.12"
  },
  "orig_nbformat": 4
 },
 "nbformat": 4,
 "nbformat_minor": 2
}

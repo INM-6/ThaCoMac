{
 "cells": [
  {
   "cell_type": "code",
   "execution_count": 35,
   "metadata": {},
   "outputs": [],
   "source": [
    "# import packages\n",
    "import csv\n",
    "import pandas as pd\n",
    "import PyPDF2\n",
    "import requests\n",
    "import time\n",
    "import os\n",
    "import random\n",
    "from requests.auth import HTTPProxyAuth\n",
    "from bs4 import BeautifulSoup\n",
    "import numpy as np\n",
    "from selenium import webdriver\n",
    "from webdriver_manager.firefox import GeckoDriverManager\n",
    "from selenium.webdriver.common.by import By\n",
    "from selenium.webdriver.firefox.options import Options\n",
    "from selenium.webdriver.support.wait import WebDriverWait\n",
    "from selenium.webdriver.support import expected_conditions as EC\n",
    "from webdriver_manager.firefox import GeckoDriverManager\n",
    "from selenium.webdriver.firefox.service import Service\n",
    "from selenium.common.exceptions import TimeoutException, WebDriverException, NoSuchElementException\n",
    "import os\n",
    "import re\n",
    "from lxml import etree\n",
    "from nltk import ngrams\n",
    "import json"
   ]
  },
  {
   "cell_type": "code",
   "execution_count": 36,
   "metadata": {},
   "outputs": [],
   "source": [
    "# import internal modules\n",
    "import file_path_management as fpath\n",
    "import public_library as plib\n",
    "import extract_info\n",
    "import parameters as params\n",
    "import download_and_process_pdf as dpp"
   ]
  },
  {
   "cell_type": "code",
   "execution_count": 37,
   "metadata": {},
   "outputs": [
    {
     "name": "stdout",
     "output_type": "stream",
     "text": [
      "23 619\n",
      "43 220\n",
      "44 3209\n",
      "62 784\n",
      "89 2756\n",
      "105 394\n",
      "107 3520\n",
      "119 820\n",
      "143 3625\n",
      "151 851\n",
      "152 5905\n",
      "153 4077\n",
      "155 223\n",
      "160 793\n",
      "164 85\n",
      "167 941\n",
      "170 4\n",
      "172 377\n",
      "176 134\n",
      "208 691\n",
      "226 1964\n",
      "229 1147\n",
      "247 479\n",
      "256 2440\n",
      "270 4005\n"
     ]
    }
   ],
   "source": [
    "import shutil\n",
    "\n",
    "test_path = fpath.poten_litera_testing_set_300_read_index_corrected\n",
    "# destination = fpath.relevant_pdf_folder\n",
    "destination = \"/media/hou/DIDIHOU/relevant_pdfs\"\n",
    "\n",
    "df_test = pd.read_csv(test_path, header=0, sep=',')\n",
    "df_test.columns = [\"INDEX\", \"DOI\", \"PMID\", \"PMCID\", \"FULL_TEXT_URL\", \"FULL_TEXT_SOURCE\", \"PDF_URL\", \"PDF_SOURCE\", \"TITLE\", \"ABSTRACT\", \"KEYWORDS\", \"RELEVANT\"]\n",
    "\n",
    "for ind in df_test.index:\n",
    "    index = df_test.at[ind, \"INDEX\"]\n",
    "    if df_test.at[ind, \"RELEVANT\"] == \"YES\":\n",
    "        print(ind, index)\n",
    "        json_path = os.path.join(fpath.pdf_folder, str(index) + \".json\")\n",
    "        pdf_path = os.path.join(fpath.pdf_folder, str(index) + \".pdf\")\n",
    "        \n",
    "        if os.path.exists(json_path):\n",
    "            shutil.copy(json_path, destination)\n",
    "        if os.path.exists(pdf_path):\n",
    "            shutil.copy(pdf_path, destination)\n",
    "    else:\n",
    "        pass"
   ]
  }
 ],
 "metadata": {
  "kernelspec": {
   "display_name": "myenv",
   "language": "python",
   "name": "python3"
  },
  "language_info": {
   "codemirror_mode": {
    "name": "ipython",
    "version": 3
   },
   "file_extension": ".py",
   "mimetype": "text/x-python",
   "name": "python",
   "nbconvert_exporter": "python",
   "pygments_lexer": "ipython3",
   "version": "3.10.12"
  },
  "orig_nbformat": 4
 },
 "nbformat": 4,
 "nbformat_minor": 2
}

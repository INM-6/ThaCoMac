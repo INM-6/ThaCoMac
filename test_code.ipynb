{
 "cells": [
  {
   "cell_type": "code",
   "execution_count": 1,
   "metadata": {},
   "outputs": [
    {
     "name": "stderr",
     "output_type": "stream",
     "text": [
      "2023-08-05 21:38:59 GM01X680 metapub.config[76031] WARNING NCBI_API_KEY was not set.\n"
     ]
    }
   ],
   "source": [
    "# import internal .py modules\n",
    "import file_path_management as fpath\n",
    "import public_library as plib"
   ]
  },
  {
   "cell_type": "code",
   "execution_count": 2,
   "metadata": {},
   "outputs": [],
   "source": [
    "# import packages\n",
    "import csv\n",
    "import pandas as pd\n",
    "import PyPDF2\n",
    "import requests\n",
    "import time\n",
    "import os\n",
    "import random\n",
    "from requests.auth import HTTPProxyAuth\n",
    "from bs4 import BeautifulSoup\n",
    "import numpy as np\n",
    "from selenium import webdriver\n",
    "from selenium.webdriver.common.by import By\n",
    "from selenium.webdriver.firefox.options import Options\n",
    "from selenium.webdriver.support.ui import WebDriverWait\n",
    "from selenium.webdriver.support import expected_conditions as EC\n",
    "from webdriver_manager.firefox import GeckoDriverManager\n",
    "from selenium.webdriver.firefox.service import Service\n",
    "from selenium.common.exceptions import TimeoutException, WebDriverException, NoSuchElementException\n",
    "import os\n",
    "import re"
   ]
  },
  {
   "cell_type": "code",
   "execution_count": 3,
   "metadata": {},
   "outputs": [],
   "source": [
    "def www_frontiersin_org(url):\n",
    "    content = {}\n",
    "    return content\n",
    "\n"
   ]
  },
  {
   "cell_type": "code",
   "execution_count": 4,
   "metadata": {},
   "outputs": [],
   "source": [
    "def extract_info_from_webpage(url, source):\n",
    "    if source == \"www.frontiersin.org\":\n",
    "        url = plib.get_final_redirected_url(url)\n",
    "        content = www_frontiersin_org(url)\n",
    "    elif source == \"\":\n",
    "        pass\n",
    "    else:\n",
    "        pass\n",
    "# --------------------start of test code--------------------\n",
    "# url = \"https://www.tandfonline.com/doi/abs/10.1080/01616412.1985.11739692\"\n",
    "# source = \"www.tandfonline.com\"\n",
    "# content = extract_info_from_webpage(url, source)\n",
    "# print(content)\n",
    "# ---------------------end of test code---------------------"
   ]
  },
  {
   "cell_type": "code",
   "execution_count": 5,
   "metadata": {},
   "outputs": [],
   "source": [
    "# get doi from url\n",
    "def url2doi(url, source):\n",
    "    url = str(url).strip()\n",
    "    # {'www.frontiersin.org', 'www.elibrary.ru', 'orca.cardiff.ac.uk', 'www.jneurosci.org', \n",
    "    # 'europepmc.org', 'www.theses.fr', 'www.biorxiv.org', 'submissions.mirasmart.com', \n",
    "    # 'royalsocietypublishing.org', 'www.science.org', 'thejns.org', \n",
    "    # 'escholarship.mcgill.ca', 'www.cambridge.org', 'movementdisorders.onlinelibrary.wiley.com', \n",
    "    # 'www.ahajournals.org', 'books.google.de', 'www.mdpi.com', 'www.sciencedirect.com', \n",
    "    # 'ieeexplore.ieee.org', 'academic.oup.com', 'www.pnas.org', 'physoc.onlinelibrary.wiley.com', \n",
    "    # 'www.jstage.jst.go.jp', 'wakespace.lib.wfu.edu', 'elibrary.ru', 'www.cabdirect.org', \n",
    "    # 'www.tandfonline.com', 'www.jpn.ca', 'jpet.aspetjournals.org', 'onlinelibrary.wiley.com', \n",
    "    # 'open.bu.edu', 'tbiomed.biomedcentral.com', 'www.liebertpub.com', 'journals.lww.com', \n",
    "    # 'agro.icm.edu.pl', 'ekja.org', 'analyticalsciencejournals.onlinelibrary.wiley.com', \n",
    "    # 'n.neurology.org', 'pubs.asahq.org', 'journals.sagepub.com', 'neuro.psychiatryonline.org', \n",
    "    # 'karger.com', 'nyaspubs.onlinelibrary.wiley.com', 'pure.mpg.de', 'elifesciences.org', \n",
    "    # 'link.springer.com', 'psycnet.apa.org', 'jnnp.bmj.com', 'www.degruyter.com', 'ajp.psychiatryonline.org', \n",
    "    # 'journals.physiology.org', 'www.nature.com', 'www.jstor.org', 'var.scholarpedia.org', 'www.eneuro.org', \n",
    "    # 'journals.plos.org', 'www.cell.com', 'www.ncbi.nlm.nih.gov', 'www.taylorfrancis.com', \n",
    "    # 'bmcneurosci.biomedcentral.com', nan, 'jamanetwork.com'}\n",
    "\n",
    "    os.environ['WDM_LOG'] = '0'\n",
    "    options = Options()\n",
    "    options.add_argument('--headless')\n",
    "    \n",
    "    error_label = 0\n",
    "    while(error_label == 0):\n",
    "        try:\n",
    "            driver = webdriver.Firefox(options, service=Service(GeckoDriverManager().install()))\n",
    "            driver.get(url)\n",
    "\n",
    "            # WebDriverWait(driver, 20).until(EC.element_to_be_clickable((By.XPATH, \"//p[text()='Consent']\"))).click()\n",
    "\n",
    "            # try:\n",
    "            #     WebDriverWait(driver, 20).until(EC.element_to_be_clickable((By.CSS_SELECTOR, \"#formInput\"))).send_keys(str(doi).strip())\n",
    "            # except TimeoutException:\n",
    "            #     print(\"Waiting for clicking consent timeout\")\n",
    "            # try:\n",
    "            #     # WebDriverWait(driver, 20).until(EC.element_to_be_clickable((By.XPATH, \"/html/body/div[1]/div[2]/form/button\"))).click()\n",
    "            #     WebDriverWait(driver, 20).until(EC.element_to_be_clickable((By.XPATH, '//button[text()=\"Get PMID\"]'))).click()\n",
    "            # except TimeoutException:\n",
    "            #     print(\"Waiting for clicking button timeout\")\n",
    "            \n",
    "            error_label = 1\n",
    "        except:\n",
    "            print(\"URL to DOI transformation failed, retrying... This might take longer than 5 minutes...\")\n",
    "            time.sleep(5*60)\n",
    "            error_label = 0\n",
    "\n",
    "    try:\n",
    "        my_elem = driver.find_elements(By.XPATH, \"//*[contains(text(), 'doi.org') or contains(text(), 'DOI')]\")\n",
    "        doi = \"\"\n",
    "        doi = str(my_elem.find_element(By.XPATH, \"i\").get_attribute(\"innerHTML\"))\n",
    "    except:\n",
    "        doi = np.nan\n",
    "    driver.quit()\n",
    "    return doi\n",
    "# --------------------start of test code--------------------\n",
    "# url = \"https://www.tandfonline.com/doi/abs/10.1080/01616412.1985.11739692\"\n",
    "# doi = url2doi(url)\n",
    "# print(doi)\n",
    "# ---------------------end of test code---------------------"
   ]
  }
 ],
 "metadata": {
  "kernelspec": {
   "display_name": "myenv",
   "language": "python",
   "name": "python3"
  },
  "language_info": {
   "codemirror_mode": {
    "name": "ipython",
    "version": 3
   },
   "file_extension": ".py",
   "mimetype": "text/x-python",
   "name": "python",
   "nbconvert_exporter": "python",
   "pygments_lexer": "ipython3",
   "version": "3.10.12"
  },
  "orig_nbformat": 4
 },
 "nbformat": 4,
 "nbformat_minor": 2
}

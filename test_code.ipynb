{
 "cells": [
  {
   "cell_type": "code",
   "execution_count": 1,
   "metadata": {},
   "outputs": [
    {
     "name": "stderr",
     "output_type": "stream",
     "text": [
      "2023-08-12 09:40:30 GM01X680 metapub.config[38418] WARNING NCBI_API_KEY was not set.\n"
     ]
    }
   ],
   "source": [
    "# import internal .py modules\n",
    "import file_path_management as fpath\n",
    "import public_library as plib"
   ]
  },
  {
   "cell_type": "code",
   "execution_count": 2,
   "metadata": {},
   "outputs": [],
   "source": [
    "# import packages\n",
    "import csv\n",
    "import pandas as pd\n",
    "import PyPDF2\n",
    "import requests\n",
    "import time\n",
    "import os\n",
    "import random\n",
    "from requests.auth import HTTPProxyAuth\n",
    "from bs4 import BeautifulSoup\n",
    "import numpy as np\n",
    "from selenium import webdriver\n",
    "from webdriver_manager.chrome import ChromeDriverManager\n",
    "from selenium.webdriver.common.by import By\n",
    "from selenium.webdriver.chrome.options import Options\n",
    "from selenium.webdriver.support.wait import WebDriverWait\n",
    "from selenium.webdriver.support import expected_conditions as EC\n",
    "from webdriver_manager.chrome import ChromeDriverManager\n",
    "from selenium.webdriver.chrome.service import Service\n",
    "from selenium.common.exceptions import TimeoutException, WebDriverException, NoSuchElementException\n",
    "import os\n",
    "import re\n",
    "from lxml import etree"
   ]
  },
  {
   "cell_type": "code",
   "execution_count": null,
   "metadata": {},
   "outputs": [],
   "source": [
    "websites = [\"ncbi.nlm.nih.gov\", \"frontiersin.org\", \"sciencedirect.com\", \"wiley.com\", \n",
    "            \"springer.com\", \"europepmc.org\", \"www.biorxiv.org\", \"www.jneurosci.org\", \"orca.cardiff.ac.uk\", \"www.science.org\", \n",
    "            \"thejns.org\", \"www.cambridge.org\", \"www.ahajournals.org\", \"www.mdpi.com\", \"www.pnas.org\", \"www.nature.com\", \n",
    "            \"www.cell.com\", \"www.eneuro.org\", \"physiology.org\", \"ieee.org\", \"plos.org\", \"jstage.jst.go.jp\", \"biomedcentral.com\", \n",
    "            \"jamanetwork.com\", \"psycnet.apa.org\", \"bmj.com\", \"degruyter.com\", \"karger.com\", \"elifesciences.org\", \n",
    "            \"neurology_org\", \"asahq.org\", \"sagepub.com\", \"ekja.org\", \"liebertpub.com\", \"lww.com\", \"tandfonline.com\", \n",
    "            \"aspetjournals.org\", \"oup.com\", \"royalsocietypublishing.org\", \"psychiatryonline.org\", \"jpn.ca\", \"bu.edu\",\n",
    "            \"agro.icm.edu.pl\", \"lib.wfu.edu\", \"mirasmart.com\", \"jstor.org\", \"mpg.de\"]"
   ]
  },
  {
   "cell_type": "code",
   "execution_count": null,
   "metadata": {},
   "outputs": [],
   "source": [
    "def extract_info_from_webpage(url):\n",
    "    if url != url:\n",
    "        raise Exception(\"The given url is np.nan\")\n",
    "    \n",
    "    info = {\n",
    "        \"doi\": np.nan,\n",
    "        \"pmid\": np.nan,\n",
    "        \"pmcid\": np.nan,\n",
    "        \"title\": np.nan,\n",
    "        \"abstract\": np.nan,\n",
    "        \"keywords\": np.nan,\n",
    "        \"introduction\": np.nan,\n",
    "        \"reference\": np.nan,\n",
    "        \"pdf_link\": np.nan\n",
    "    }\n",
    "\n",
    "    url = plib.get_final_redirected_url(url)\n",
    "    source = url.split(\"://\")[1].split(\"/\")[0]\n",
    "    \n",
    "    for website in plib.websites:\n",
    "        if website in source:\n",
    "            # Get the function name by replacing \".\" with \"_\" and use globals() to call it\n",
    "            func_name = \"func_\" + website.replace(\".\", \"_\")\n",
    "            func = globals().get(func_name)\n",
    "            info = func(url)\n",
    "            break\n",
    "        else:\n",
    "            continue\n",
    "    return info\n",
    "# --------------------start of test code--------------------\n",
    "# url = \"https://www.ncbi.nlm.nih.gov/pmc/articles/PMC10133512/\"\n",
    "# info = extract_info_from_webpage(url)\n",
    "# print(info[\"doi\"])\n",
    "# print(info[\"pmid\"])\n",
    "# print(info[\"pmcid\"])\n",
    "# print(info[\"abstract\"])\n",
    "# print(info[\"keywords\"])\n",
    "# print(info[\"introduction\"])\n",
    "# print(info[\"pdf_link\"])\n",
    "# ---------------------end of test code---------------------"
   ]
  }
 ],
 "metadata": {
  "kernelspec": {
   "display_name": "myenv",
   "language": "python",
   "name": "python3"
  },
  "language_info": {
   "codemirror_mode": {
    "name": "ipython",
    "version": 3
   },
   "file_extension": ".py",
   "mimetype": "text/x-python",
   "name": "python",
   "nbconvert_exporter": "python",
   "pygments_lexer": "ipython3",
   "version": "3.10.12"
  },
  "orig_nbformat": 4
 },
 "nbformat": 4,
 "nbformat_minor": 2
}

{
 "cells": [
  {
   "cell_type": "markdown",
   "metadata": {},
   "source": [
    "<h2> Searched literature data preprocessing </h2> "
   ]
  },
  {
   "cell_type": "code",
   "execution_count": 157,
   "metadata": {},
   "outputs": [],
   "source": [
    "# import internal .py modules\n",
    "import file_path_management as fpath\n",
    "import public_library as plib"
   ]
  },
  {
   "cell_type": "code",
   "execution_count": 158,
   "metadata": {},
   "outputs": [],
   "source": [
    "# import packages\n",
    "import requests\n",
    "from bs4 import BeautifulSoup\n",
    "import pandas as pd\n",
    "import random\n",
    "import re\n",
    "import time\n",
    "import numpy as np\n",
    "import numpy as np"
   ]
  },
  {
   "cell_type": "markdown",
   "metadata": {},
   "source": [
    "<h3> Parameters: </h3>"
   ]
  },
  {
   "cell_type": "code",
   "execution_count": 159,
   "metadata": {},
   "outputs": [],
   "source": [
    "# columns of file: potential_related_literature.csv\n",
    "columns = [\"DOI\", \"PMID\", \"PMCID\", \"Title\", \"First_Author\", \"full_text_url\", \"full_text_source\"]"
   ]
  },
  {
   "cell_type": "markdown",
   "metadata": {},
   "source": [
    "<h3> Predefined fucntions: </h3> "
   ]
  },
  {
   "cell_type": "code",
   "execution_count": 160,
   "metadata": {},
   "outputs": [],
   "source": [
    "def request_wegpage(url, proxies, auth):\n",
    "    response = requests.get(url, headers = plib.headers, proxies = proxies, auth = auth)\n",
    "    if response.status_code != 200:\n",
    "        print(\"Error when requesting:\", url)\n",
    "        print(response.status_code)\n",
    "        raise Exception(\"Your request was declined, again!\")\n",
    "    soup = BeautifulSoup(response.content, \"lxml\")\n",
    "    return soup"
   ]
  },
  {
   "cell_type": "code",
   "execution_count": 161,
   "metadata": {},
   "outputs": [],
   "source": [
    "def merge_pmc(columns):\n",
    "    print(\"Starting merging search results from PubMed Central PMC...\")\n",
    "    # process pmc search results\n",
    "    df = pd.read_csv(fpath.poten_litera_pmc, sep=',')\n",
    "    df = df[[\"DOI\", \"PMID\", \"PMCID\", \"Title\", \"First Author\"]]\n",
    "    for ind in df.index:\n",
    "        pmid = str(df[\"PMID\"][ind])\n",
    "        url = \"https://pubmed.ncbi.nlm.nih.gov/\" + pmid + \"/\"\n",
    "        if(ind%5 == 0):\n",
    "            time.sleep(random.randint(1, 10))\n",
    "            proxies, auth = plib.get_proxies()\n",
    "        soup = request_wegpage(url, proxies, auth)\n",
    "        # print(soup)\n",
    "        # get full name of first author\n",
    "        try:\n",
    "            first_author = soup.find_all(\"span\", {\"class\": \"authors-list-item\"})[0].find_all(\"a\", {\"class\": \"full-name\"})[0].get_text().strip()\n",
    "        except:\n",
    "            first_author = \"not found\"\n",
    "        # get PMCID\n",
    "        # print(df[\"PMCID\"][ind])\n",
    "        if df[\"PMCID\"][ind] is np.nan:\n",
    "            try:\n",
    "                pmcid = soup.find_all(\"span\", {\"class\": \"identifier pmc\"})[0].find_all(\"a\", {\"class\": \"id-link\"})[0].get_text().strip()\n",
    "            except:\n",
    "                pmcid  =\"not found\"\n",
    "        else:\n",
    "            pmcid = str(df[\"PMCID\"][ind])\n",
    "        # print(pmcid)\n",
    "        # get DOI\n",
    "        if df[\"DOI\"][ind] is np.nan:\n",
    "            try:\n",
    "                doi = soup.find_all(\"span\", {\"class\": \"identifier doi\"})[0].find_all(\"a\", {\"class\": \"id-link\"})[0].get_text().strip()\n",
    "            except:\n",
    "                doi  =\"not found\"\n",
    "        else:\n",
    "            doi = str(df[\"DOI\"][ind])\n",
    "        # get full_text_url\n",
    "        if pmcid != \"not found\":\n",
    "            full_text_url = \"https://www.ncbi.nlm.nih.gov/pmc/articles/\" + pmcid + \"/\"\n",
    "            full_text_source = \"PMC\"\n",
    "        else:\n",
    "            try:\n",
    "                full_text_url = soup.find_all(\"div\", {\"class\": \"full-text-links-list\"})[0].find_all(\"a\", {\"class\": \"link-item dialog-focus\"})[0][\"href\"].strip()\n",
    "                full_text_source = soup.find_all(\"div\", {\"class\": \"full-text-links-list\"})[0].find_all(\"a\", {\"class\": \"link-item dialog-focus\"})[0][\"data-ga-action\"].strip()\n",
    "            except:\n",
    "                full_text_url = \"not found\"\n",
    "                full_text_source = \"not found\"\n",
    "        # columns = [\"DOI\", \"PMID\", \"PMCID\", \"Title\", \"First_Author\", \"full_text_url\", \"full_text_source\"]\n",
    "        row = {\n",
    "            \"DOI\": [doi],\n",
    "            \"PMID\": [pmid],\n",
    "            \"PMCID\": [pmcid],\n",
    "            \"Title\": [str(df[\"Title\"][ind])],\n",
    "            \"First_Author\": [first_author],\n",
    "            \"full_text_url\": [full_text_url],\n",
    "            \"full_text_source\": [full_text_source]\n",
    "        }\n",
    "        # print(row)\n",
    "        if not plib.add_row_to_csv(fpath.poten_litera, row, columns):\n",
    "            print(\"Error detected when adding a row to csv!\")\n",
    "# --------------------start of test code--------------------\n",
    "# plib.clear_file(fpath.poten_litera)\n",
    "# df = pd.read_csv(fpath.poten_litera_pmc, sep=',')\n",
    "# df = df[[\"DOI\", \"PMID\", \"PMCID\", \"Title\", \"First Author\"]]\n",
    "# print(df.head(5))\n",
    "# print(df[\"DOI\"].isnull().values.any())\n",
    "# print(df[\"PMID\"].isnull().values.any())\n",
    "# print(df[\"PMCID\"].isnull().values.any())\n",
    "# print(df[\"Title\"].isnull().values.any())\n",
    "# print(df[\"First Author\"].isnull().values.any())\n",
    "# # the columns PMID, Title, First Author don't contain np.nan\n",
    "# # the columns DOI, PMCID contain np.nan, we need to fill in what are missing\n",
    "# # we also need to reenter the full name of the first author\n",
    "# merge_pmc(columns)\n",
    "# ---------------------end of test code---------------------"
   ]
  },
  {
   "cell_type": "code",
   "execution_count": 162,
   "metadata": {},
   "outputs": [],
   "source": [
    "def merge_webofscience(columns):\n",
    "    print(\"Starting merging search results from Web of Science...\")\n",
    "    df = pd.read_csv(fpath.poten_litera_wos_1, sep = \";\")\n",
    "    df = df[[\"DOI\", \"Pubmed Id\", \"Article Title\"]]\n",
    "    df.rename(columns={\"DOI\": \"DOI\", \"Pubmed Id\": \"PMID\", \"Article Title\": \"Title\"}, inplace = True)\n",
    "    df[\"PMID\"] = df[\"PMID\"].fillna(0)\n",
    "    df[\"PMID\"] = df[\"PMID\"].astype(int)\n",
    "    df[\"PMID\"] = df[\"PMID\"].astype(str)\n",
    "    pmcid = []\n",
    "    for ind in df_wos.index:\n",
    "        # print(df_wos[\"PMID\"][ind])\n",
    "        if df_wos[\"PMID\"][ind] != \"0\":\n",
    "            pmid = df_wos[\"PMID\"][ind]\n",
    "            # print(pmid)\n",
    "            df_wos[\"PMID\"][ind] = pmid\n",
    "            url = \"https://pubmed.ncbi.nlm.nih.gov/\" + pmid + \"/\"\n",
    "            # print(url)\n",
    "            time.sleep(random.randint(5, 20))\n",
    "            response = requests.get(url, headers = plib.headers)\n",
    "            if response.status_code != 200:\n",
    "                raise Exception(\"Error when request webpages!\")\n",
    "            soup = BeautifulSoup(response.content, \"lxml\")\n",
    "            l = soup.find_all(\"a\", {\"data-ga-action\": \"PMCID\"})\n",
    "            if(len(l) != 0):\n",
    "                # print(l[0].get_text().strip())\n",
    "                pmcid.append(l[0].get_text().strip())\n",
    "            else:\n",
    "                pmcid.append(np.nan)\n",
    "        else:\n",
    "            pmcid.append(np.nan)\n",
    "        # print(df_wos[ind])\n",
    "    df_wos[\"PMCID\"] = pmcid\n",
    "    df_wos[\"PMCID\"].replace(\"0\", np.nan)\n",
    "    # print(df_wos.head(5))\n",
    "    df_wos = df_wos[columns]\n",
    "    df_wos.to_csv(fpath.poten_litera, header = True, index = None)\n",
    "# --------------------start of test code--------------------\n",
    "# plib.clear_file(fpath.poten_litera)\n",
    "# df = pd.read_csv(fpath.poten_litera_wos_1, sep=';')\n",
    "# df = df[[\"DOI\", \"Pubmed Id\", \"Article Title\"]]\n",
    "# print(df.head(5))\n",
    "# print(df[\"DOI\"].isnull().values.any())\n",
    "# print(df[\"Pubmed Id\"].isnull().values.any())\n",
    "# print(df[\"Article Title\"].isnull().values.any())\n",
    "# # the columns Article Title don't contain np.nan\n",
    "# # the columns DOI, Pubmed Id contain np.nan, we need to fill in what are missing\n",
    "# # we also need to reenter the full name of the first author\n",
    "# merge_webofscience(columns)\n",
    "# ---------------------end of test code---------------------  "
   ]
  },
  {
   "cell_type": "code",
   "execution_count": 163,
   "metadata": {},
   "outputs": [
    {
     "name": "stdout",
     "output_type": "stream",
     "text": [
      "                          DOI EXTERNAL_ID        PMCID  \\\n",
      "0  10.3389/fnins.2023.1163600    37123374  PMC10133512   \n",
      "1        10.3390/ijms24119643    37298594  PMC10254002   \n",
      "2  10.3389/fninf.2023.1170337    37377946  PMC10291062   \n",
      "3  10.1038/s41467-023-38582-7    37291094  PMC10250345   \n",
      "4  10.3389/fnins.2023.1136500    37360183  PMC10288156   \n",
      "\n",
      "                                               TITLE  \n",
      "0       The thalamus in psychosis spectrum disorder.  \n",
      "1  Thyroid Hormone Transporters MCT8 and OATP1C1 ...  \n",
      "2  Connectomes: from a sparsity of networks to la...  \n",
      "3  Functional gene delivery to and across brain v...  \n",
      "4  Current analysis of hypoxic-ischemic encephalo...  \n",
      "True\n",
      "False\n",
      "True\n",
      "False\n",
      "Starting merging search results from Europe PMC...\n",
      "Error when requesting: https://pubmed.ncbi.nlm.nih.gov/PPR596534/\n",
      "404\n",
      "Error when requesting: https://pubmed.ncbi.nlm.nih.gov/PPR496572/\n",
      "404\n",
      "Error when requesting: https://pubmed.ncbi.nlm.nih.gov/PPR642797/\n",
      "404\n",
      "Error when requesting: https://pubmed.ncbi.nlm.nih.gov/PPR242428/\n",
      "404\n"
     ]
    },
    {
     "ename": "KeyboardInterrupt",
     "evalue": "",
     "output_type": "error",
     "traceback": [
      "\u001b[0;31m---------------------------------------------------------------------------\u001b[0m",
      "\u001b[0;31mKeyboardInterrupt\u001b[0m                         Traceback (most recent call last)",
      "Cell \u001b[0;32mIn[163], line 85\u001b[0m\n\u001b[1;32m     81\u001b[0m \u001b[39mprint\u001b[39m(df[\u001b[39m\"\u001b[39m\u001b[39mTITLE\u001b[39m\u001b[39m\"\u001b[39m]\u001b[39m.\u001b[39misnull()\u001b[39m.\u001b[39mvalues\u001b[39m.\u001b[39many())\n\u001b[1;32m     82\u001b[0m \u001b[39m# the columns PMID, Title don't contain np.nan\u001b[39;00m\n\u001b[1;32m     83\u001b[0m \u001b[39m# the columns DOI, PMCID contain np.nan, we need to fill in what are missing\u001b[39;00m\n\u001b[1;32m     84\u001b[0m \u001b[39m# we also need to reenter the full name of the first author\u001b[39;00m\n\u001b[0;32m---> 85\u001b[0m merge_eupmc(columns)\n",
      "Cell \u001b[0;32mIn[163], line 11\u001b[0m, in \u001b[0;36mmerge_eupmc\u001b[0;34m(columns)\u001b[0m\n\u001b[1;32m      9\u001b[0m url \u001b[39m=\u001b[39m \u001b[39m\"\u001b[39m\u001b[39mhttps://pubmed.ncbi.nlm.nih.gov/\u001b[39m\u001b[39m\"\u001b[39m \u001b[39m+\u001b[39m pmid \u001b[39m+\u001b[39m \u001b[39m\"\u001b[39m\u001b[39m/\u001b[39m\u001b[39m\"\u001b[39m\n\u001b[1;32m     10\u001b[0m \u001b[39mif\u001b[39;00m(ind\u001b[39m%\u001b[39m\u001b[39m5\u001b[39m \u001b[39m==\u001b[39m \u001b[39m0\u001b[39m):\n\u001b[0;32m---> 11\u001b[0m     time\u001b[39m.\u001b[39;49msleep(random\u001b[39m.\u001b[39;49mrandint(\u001b[39m1\u001b[39;49m, \u001b[39m10\u001b[39;49m))\n\u001b[1;32m     12\u001b[0m     proxies, auth \u001b[39m=\u001b[39m plib\u001b[39m.\u001b[39mget_proxies()\n\u001b[1;32m     13\u001b[0m \u001b[39mtry\u001b[39;00m:\n",
      "\u001b[0;31mKeyboardInterrupt\u001b[0m: "
     ]
    }
   ],
   "source": [
    "def merge_eupmc(columns):\n",
    "    print(\"Starting merging search results from Europe PMC...\")\n",
    "    # process eupmc search results\n",
    "    df = pd.read_csv(fpath.poten_litera_eupmc, sep = \",\")\n",
    "    df = df[[\"DOI\", \"EXTERNAL_ID\", \"PMCID\", \"TITLE\"]]\n",
    "    df = df.rename(columns={\"EXTERNAL_ID\": \"PMID\", \"TITLE\": \"Title\"}, errors = \"raise\")\n",
    "    for ind in df.index:\n",
    "        pmid = str(df[\"PMID\"][ind])\n",
    "        url = \"https://pubmed.ncbi.nlm.nih.gov/\" + pmid + \"/\"\n",
    "        if(ind%5 == 0):\n",
    "            time.sleep(random.randint(1, 10))\n",
    "            proxies, auth = plib.get_proxies()\n",
    "        try:\n",
    "            soup = request_wegpage(url, proxies, auth)\n",
    "            # print(soup)\n",
    "            # get full name of first author\n",
    "            try:\n",
    "                first_author = soup.find_all(\"span\", {\"class\": \"authors-list-item\"})[0].find_all(\"a\", {\"class\": \"full-name\"})[0].get_text().strip()\n",
    "            except:\n",
    "                first_author = \"not found\"\n",
    "            # get PMCID\n",
    "            # print(df[\"PMCID\"][ind])\n",
    "            if df[\"PMCID\"][ind] is np.nan:\n",
    "                try:\n",
    "                    pmcid = soup.find_all(\"span\", {\"class\": \"identifier pmc\"})[0].find_all(\"a\", {\"class\": \"id-link\"})[0].get_text().strip()\n",
    "                except:\n",
    "                    pmcid  =\"not found\"\n",
    "            else:\n",
    "                pmcid = str(df[\"PMCID\"][ind])\n",
    "            # print(pmcid)\n",
    "            # get DOI\n",
    "            if df[\"DOI\"][ind] is np.nan:\n",
    "                try:\n",
    "                    doi = soup.find_all(\"span\", {\"class\": \"identifier doi\"})[0].find_all(\"a\", {\"class\": \"id-link\"})[0].get_text().strip()\n",
    "                except:\n",
    "                    doi  =\"not found\"\n",
    "            else:\n",
    "                doi = str(df[\"DOI\"][ind])\n",
    "            # get full_text_url\n",
    "            if pmcid != \"not found\":\n",
    "                full_text_url = \"https://www.ncbi.nlm.nih.gov/pmc/articles/\" + pmcid + \"/\"\n",
    "                full_text_source = \"PMC\"\n",
    "            else:\n",
    "                try:\n",
    "                    full_text_url = soup.find_all(\"div\", {\"class\": \"full-text-links-list\"})[0].find_all(\"a\", {\"class\": \"link-item dialog-focus\"})[0][\"href\"].strip()\n",
    "                    full_text_source = soup.find_all(\"div\", {\"class\": \"full-text-links-list\"})[0].find_all(\"a\", {\"class\": \"link-item dialog-focus\"})[0][\"data-ga-action\"].strip()\n",
    "                except:\n",
    "                    full_text_url = \"not found\"\n",
    "                    full_text_source = \"not found\"\n",
    "            # columns = [\"DOI\", \"PMID\", \"PMCID\", \"Title\", \"First_Author\", \"full_text_url\", \"full_text_source\"]\n",
    "        except:\n",
    "            if df[\"DOI\"][ind] is np.nan:\n",
    "                doi  =\"not found\"\n",
    "            else:\n",
    "                doi = str(df[\"DOI\"][ind])\n",
    "            full_text_url = \"not found\"\n",
    "            full_text_source = \"not found\"\n",
    "            pmid = \"not found\"\n",
    "            pmcid = \"not found\"\n",
    "            first_author = \"not found\"\n",
    "        row = {\n",
    "            \"DOI\": [doi],\n",
    "            \"PMID\": [pmid],\n",
    "            \"PMCID\": [pmcid],\n",
    "            \"Title\": [str(df[\"Title\"][ind])],\n",
    "            \"First_Author\": [first_author],\n",
    "            \"full_text_url\": [full_text_url],\n",
    "            \"full_text_source\": [full_text_source]\n",
    "        }\n",
    "        # print(row)\n",
    "        if not plib.add_row_to_csv(fpath.poten_litera, row, columns):\n",
    "            print(\"Error detected when adding a row to csv!\")\n",
    "# --------------------start of test code--------------------\n",
    "plib.clear_file(fpath.poten_litera)\n",
    "df = pd.read_csv(fpath.poten_litera_eupmc, sep=',')\n",
    "df = df[[\"DOI\", \"EXTERNAL_ID\", \"PMCID\", \"TITLE\"]]\n",
    "print(df.head(5))\n",
    "print(df[\"DOI\"].isnull().values.any())\n",
    "print(df[\"EXTERNAL_ID\"].isnull().values.any())\n",
    "print(df[\"PMCID\"].isnull().values.any())\n",
    "print(df[\"TITLE\"].isnull().values.any())\n",
    "# the columns PMID, Title don't contain np.nan\n",
    "# the columns DOI, PMCID contain np.nan, we need to fill in what are missing\n",
    "# we also need to reenter the full name of the first author\n",
    "merge_eupmc(columns)\n",
    "# ---------------------end of test code---------------------"
   ]
  },
  {
   "cell_type": "code",
   "execution_count": null,
   "metadata": {},
   "outputs": [],
   "source": [
    "def merge_google_shcolar(columns):\n",
    "    print(\"Starting merging search results from Google Scholar...\")\n",
    "    return True"
   ]
  },
  {
   "cell_type": "code",
   "execution_count": null,
   "metadata": {},
   "outputs": [],
   "source": [
    "def merge_seed_paper_spanning(columns):\n",
    "    print(\"Starting merging search results from spanning citations of seed paper...\")\n",
    "    return True"
   ]
  },
  {
   "cell_type": "code",
   "execution_count": null,
   "metadata": {},
   "outputs": [],
   "source": [
    "def merge_cocomac_paper(columns):\n",
    "    print(\"Starting merging search results from CoCoMac papers...\")\n",
    "    return True"
   ]
  },
  {
   "cell_type": "code",
   "execution_count": null,
   "metadata": {},
   "outputs": [],
   "source": [
    "# make sure at least PMID and PMCID is present as two of the four identifiers, otherwise manually fill in\n",
    "def fill_in_elements(file_path):\n",
    "    # PMID -> PMCID\n",
    "    # done already\n",
    "    # PMCID -> PMID\n",
    "    # done already\n",
    "    # PMID -> DOI\n",
    "    df = pd.read_csv(file_path, sep = \",\")\n",
    "    for ind in df.index:\n",
    "        if (df[\"PMID\"][ind] is not np.nan) and (df[\"DOI\"][ind] is np.nan):\n",
    "            pmid = df[\"PMID\"][ind]\n",
    "            url = \"https://pubmed.ncbi.nlm.nih.gov/\" + pmid + \"/\"\n",
    "            print(url)\n",
    "            response = requests.get(url, headers = plib.headers)\n",
    "            if response.status_code != 200:\n",
    "                raise Exception(\"Error when request webpages!\")\n",
    "            soup = BeautifulSoup(response.content, \"lxml\")\n",
    "            l = soup.find_all(\"a\", {\"class: id-link\"}, {\"data-ga-action\": \"DOI\"})\n",
    "            if(len(l) != 0):\n",
    "                # print(l[0].get_text().strip())\n",
    "                df.at[ind, \"DOI\"] = l[0].get_text().strip()\n",
    "            else:\n",
    "                df.at[ind, \"DOI\"] = np.nan\n",
    "    df.to_csv(fpath.poten_litera_csv, header = True, index = False)\n",
    "    print(\"All 3 identifiers: DOI, PMID, and PMCID filled in when possible.\")\n",
    "# --------------------start of test code--------------------\n",
    "# test code\n",
    "# ---------------------end of test code---------------------"
   ]
  },
  {
   "cell_type": "code",
   "execution_count": null,
   "metadata": {},
   "outputs": [],
   "source": [
    "# remove duplciations based on identifiers in the potential related literature\n",
    "def remove_dupli(file_path):\n",
    "    df = pd.read_csv(file_path, sep = \",\")\n",
    "    print(len(df))\n",
    "    df = df.drop_duplicates(subset=['DOI'])\n",
    "    df = df.drop_duplicates(subset=['PMID'])\n",
    "    df = df.drop_duplicates(subset=['PMCID'])\n",
    "    print(len(df))\n",
    "    # plib.clear_file(fpath.poten_litera_csv)\n",
    "    # df.csv(fpath.poten_litera_csv, idnex = None)\n",
    "    print(\"Duplication in the potential related literature removed.\")\n",
    "    print(\"Found \" + len(df) + \" potential related literature in total.\")\n",
    "# --------------------start of test code--------------------\n",
    "# test code\n",
    "# ---------------------end of test code---------------------"
   ]
  },
  {
   "cell_type": "markdown",
   "metadata": {},
   "source": [
    "<h3> Main program: </h3> "
   ]
  },
  {
   "cell_type": "code",
   "execution_count": null,
   "metadata": {},
   "outputs": [],
   "source": [
    "# clear the file\n",
    "plib.clear_file(fpath.poten_litera)"
   ]
  },
  {
   "cell_type": "code",
   "execution_count": null,
   "metadata": {},
   "outputs": [
    {
     "name": "stdout",
     "output_type": "stream",
     "text": [
      "Starting merging search results from PubMed Central PMC...\n"
     ]
    },
    {
     "ename": "KeyboardInterrupt",
     "evalue": "",
     "output_type": "error",
     "traceback": [
      "\u001b[0;31m---------------------------------------------------------------------------\u001b[0m",
      "\u001b[0;31mKeyboardInterrupt\u001b[0m                         Traceback (most recent call last)",
      "Cell \u001b[0;32mIn[128], line 2\u001b[0m\n\u001b[1;32m      1\u001b[0m \u001b[39m# merge search results from PubMed Central PMC\u001b[39;00m\n\u001b[0;32m----> 2\u001b[0m \u001b[39mif\u001b[39;00m merge_pmc(columns):\n\u001b[1;32m      3\u001b[0m     \u001b[39mprint\u001b[39m(\u001b[39m\"\u001b[39m\u001b[39mMerging results from PubMed Central PMC succeeded!\u001b[39m\u001b[39m\"\u001b[39m)\n\u001b[1;32m      4\u001b[0m \u001b[39melse\u001b[39;00m:\n",
      "Cell \u001b[0;32mIn[119], line 10\u001b[0m, in \u001b[0;36mmerge_pmc\u001b[0;34m(columns)\u001b[0m\n\u001b[1;32m      8\u001b[0m url \u001b[39m=\u001b[39m \u001b[39m\"\u001b[39m\u001b[39mhttps://pubmed.ncbi.nlm.nih.gov/\u001b[39m\u001b[39m\"\u001b[39m \u001b[39m+\u001b[39m pmid \u001b[39m+\u001b[39m \u001b[39m\"\u001b[39m\u001b[39m/\u001b[39m\u001b[39m\"\u001b[39m\n\u001b[1;32m      9\u001b[0m \u001b[39mif\u001b[39;00m(ind\u001b[39m%\u001b[39m\u001b[39m5\u001b[39m \u001b[39m==\u001b[39m \u001b[39m0\u001b[39m):\n\u001b[0;32m---> 10\u001b[0m     time\u001b[39m.\u001b[39;49msleep(random\u001b[39m.\u001b[39;49mrandint(\u001b[39m1\u001b[39;49m, \u001b[39m10\u001b[39;49m))\n\u001b[1;32m     11\u001b[0m     proxies, auth \u001b[39m=\u001b[39m plib\u001b[39m.\u001b[39mget_proxies()\n\u001b[1;32m     12\u001b[0m soup \u001b[39m=\u001b[39m request_wegpage(url, proxies, auth)\n",
      "\u001b[0;31mKeyboardInterrupt\u001b[0m: "
     ]
    }
   ],
   "source": [
    "# merge search results from PubMed Central PMC\n",
    "if merge_pmc(columns):\n",
    "    print(\"Merging results from PubMed Central PMC succeeded!\")\n",
    "else:\n",
    "    print(\"Attention! Something went wrong when merging results from PubMed Central PMC!\")"
   ]
  },
  {
   "cell_type": "code",
   "execution_count": null,
   "metadata": {},
   "outputs": [],
   "source": [
    "# # merge search results from Web of Science\n",
    "# if merge_webofscience():\n",
    "#     print(\"Merging results from Web of Science succeeded!\")\n",
    "# else:\n",
    "#     print(\"Attention! Something went wrong when merging results from Web of Science!\")"
   ]
  },
  {
   "cell_type": "code",
   "execution_count": null,
   "metadata": {},
   "outputs": [],
   "source": [
    "# # merge search results from Europe PMC\n",
    "# if merge_eupmc():\n",
    "#     print(\"Merging results from Europe PMC succeeded!\")\n",
    "# else:\n",
    "#     print(\"Attention! Something went wrong when merging results from Europe PMC!\")"
   ]
  },
  {
   "cell_type": "code",
   "execution_count": null,
   "metadata": {},
   "outputs": [],
   "source": [
    "# # merge search results from Google Scholar\n",
    "# if merge_google_shcolar():\n",
    "#     print(\"Merging results from Google Scholar succeeded!\")\n",
    "# else:\n",
    "#     print(\"Attention! Something went wrong when merging results from Google Scholar!\")"
   ]
  },
  {
   "cell_type": "code",
   "execution_count": null,
   "metadata": {},
   "outputs": [],
   "source": [
    "# # merge search results from spanning citations of seed paper\n",
    "# if merge_seed_paper_spanning():\n",
    "#     print(\"Merging results from spanning citations of seed papers succeeded!\")\n",
    "# else:\n",
    "#     print(\"Attention! Something went wrong when merging results from spanning citations of seed papers!\")"
   ]
  },
  {
   "cell_type": "code",
   "execution_count": null,
   "metadata": {},
   "outputs": [],
   "source": [
    "# # merge search results from CoCoMac papers\n",
    "# if merge_cocomac_paper():\n",
    "#     print(\"Merging results from CoCoMac papers succeeded!\")\n",
    "# else:\n",
    "#     print(\"Attention! Something went wrong when merging results from CoCoMac papers!\")"
   ]
  },
  {
   "cell_type": "code",
   "execution_count": null,
   "metadata": {},
   "outputs": [],
   "source": [
    "# # fill in all elements in the columns when possible, if not, fill in \"not found\"\n",
    "# fill_in_elements(fpath.poten_litera_csv, columns)"
   ]
  },
  {
   "cell_type": "code",
   "execution_count": null,
   "metadata": {},
   "outputs": [],
   "source": [
    "# identifier = [\"DOI\", \"PMID\", \"PMCID\"]\n",
    "# remove_dupli(fpath.poten_litera_csv, identifier)"
   ]
  },
  {
   "cell_type": "markdown",
   "metadata": {},
   "source": [
    "<h3> Next step: automatic filtering </h3>"
   ]
  }
 ],
 "metadata": {
  "kernelspec": {
   "display_name": "myenv",
   "language": "python",
   "name": "python3"
  },
  "language_info": {
   "codemirror_mode": {
    "name": "ipython",
    "version": 3
   },
   "file_extension": ".py",
   "mimetype": "text/x-python",
   "name": "python",
   "nbconvert_exporter": "python",
   "pygments_lexer": "ipython3",
   "version": "3.10.12"
  },
  "orig_nbformat": 4
 },
 "nbformat": 4,
 "nbformat_minor": 2
}

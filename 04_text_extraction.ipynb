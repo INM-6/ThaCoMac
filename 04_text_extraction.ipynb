{
 "cells": [
  {
   "cell_type": "markdown",
   "metadata": {},
   "source": [
    "# Text extraction"
   ]
  },
  {
   "cell_type": "code",
   "execution_count": 1,
   "metadata": {},
   "outputs": [],
   "source": [
    "# import packages\n",
    "import pandas as pd\n",
    "import time\n",
    "import numpy as np\n",
    "import numpy as np\n",
    "import json\n",
    "import shutil\n",
    "import os\n",
    "import pypdfium2 as pdfium"
   ]
  },
  {
   "cell_type": "code",
   "execution_count": 2,
   "metadata": {},
   "outputs": [
    {
     "name": "stderr",
     "output_type": "stream",
     "text": [
      "2023-11-06 10:10:02 GM01X680 metapub.config[58057] WARNING NCBI_API_KEY was not set.\n"
     ]
    }
   ],
   "source": [
    "# import internal modules\n",
    "import file_path_management as fpath\n",
    "import public_library as plib\n",
    "import parameters as params\n",
    "import dataframe_columns as df_col"
   ]
  },
  {
   "cell_type": "markdown",
   "metadata": {},
   "source": [
    "## Predefined fucntions:"
   ]
  },
  {
   "cell_type": "code",
   "execution_count": 3,
   "metadata": {},
   "outputs": [],
   "source": [
    "def pdf2text(pdf_path, text_path): \n",
    "    try:   \n",
    "        text = \"\"\n",
    "        pdf_content = pdfium.PdfDocument(pdf_path)\n",
    "        n_pages = len(pdf_content)\n",
    "        # print(n_pages)\n",
    "\n",
    "        # Read the text of each page and append it to the text variable\n",
    "        for i in range(n_pages):\n",
    "            page_content = pdf_content[i]\n",
    "            page_text = page_content.get_textpage()\n",
    "            text += page_text.get_text_range() + \" \"\n",
    "            [g.close() for g in (page_text, page_content)]\n",
    "        \n",
    "        pdf_content.close()\n",
    "\n",
    "        # preprocess the text\n",
    "        text = plib.process_text(text, lower=False)\n",
    "\n",
    "        with open(text_path, \"w\", encoding='ascii') as f:\n",
    "            f.write(text)\n",
    "    except:\n",
    "        print(\"ERROR!\")\n",
    "        print(\"When converting pdf to text for: \", pdf_path)\n",
    "# --------------------start of test code--------------------\n",
    "# index = 99\n",
    "index = 0\n",
    "pdf_folder = fpath.pdf_folder\n",
    "text_folder = fpath.text_folder\n",
    "\n",
    "pdf_file_name = str(index) + \".pdf\"\n",
    "pdf_path = os.path.join(pdf_folder, pdf_file_name)\n",
    "text_path = os.path.join(text_folder, pdf_file_name.split(\".pdf\")[0] + \".txt\")\n",
    "pdf2text(pdf_path, text_path)\n",
    "\n",
    "with open(text_path, \"r\", encoding='ascii') as f:\n",
    "    text = f.read()\n",
    "    print(text)\n",
    "f.close()\n",
    "# ---------------------end of test code---------------------"
   ]
  },
  {
   "cell_type": "code",
   "execution_count": 4,
   "metadata": {},
   "outputs": [],
   "source": [
    "def json2text(json_path, text_path):    \n",
    "    with open(json_path, \"r\") as f:\n",
    "        json_file = json.load(f)\n",
    "        text = json_file[\"full-text-retrieval-response\"][\"originalText\"]\n",
    "    f.close()\n",
    "\n",
    "    # print(text)\n",
    "    title = json_file[\"full-text-retrieval-response\"][\"coredata\"][\"dc:title\"]\n",
    "\n",
    "    # preprocess the text\n",
    "    text = text.split(title, 1)[1].strip()\n",
    "    text = title + \". \" + text\n",
    "    # print(text)\n",
    "    text = plib.process_text(text, lower=False)\n",
    "    # print(text)\n",
    "\n",
    "    with open(text_path, \"w\", encoding='ascii') as f:\n",
    "        f.write(text)\n",
    "    f.close()\n",
    "# --------------------start of test code--------------------\n",
    "# index = 99\n",
    "# pdf_folder = fpath.pdf_folder\n",
    "# text_folder = fpath.text_folder\n",
    "\n",
    "# json_file_name = str(index) + \".json\"\n",
    "# json_path = os.path.join(pdf_folder, json_file_name)\n",
    "# text_path = os.path.join(text_folder, str(index) + \".txt\")\n",
    "# # print(pdf_path)\n",
    "# # print(text_path)\n",
    "# json2text(json_path, text_path)\n",
    "# ---------------------end of test code---------------------"
   ]
  },
  {
   "cell_type": "markdown",
   "metadata": {},
   "source": [
    "## Main program:"
   ]
  },
  {
   "cell_type": "code",
   "execution_count": 5,
   "metadata": {},
   "outputs": [
    {
     "name": "stdout",
     "output_type": "stream",
     "text": [
      "0 0\n",
      "1 1\n",
      "2 2\n",
      "3 4\n",
      "4 5\n"
     ]
    },
    {
     "ename": "KeyboardInterrupt",
     "evalue": "",
     "output_type": "error",
     "traceback": [
      "\u001b[0;31m---------------------------------------------------------------------------\u001b[0m",
      "\u001b[0;31mKeyboardInterrupt\u001b[0m                         Traceback (most recent call last)",
      "\u001b[1;32m/home/hou/myProjects/thalamocortical_connectivity_in_macaque/04_text_extraction.ipynb Cell 8\u001b[0m line \u001b[0;36m1\n\u001b[1;32m     <a href='vscode-notebook-cell:/home/hou/myProjects/thalamocortical_connectivity_in_macaque/04_text_extraction.ipynb#X10sZmlsZQ%3D%3D?line=9'>10</a>\u001b[0m text_folder \u001b[39m=\u001b[39m fpath\u001b[39m.\u001b[39mtext_folder\n\u001b[1;32m     <a href='vscode-notebook-cell:/home/hou/myProjects/thalamocortical_connectivity_in_macaque/04_text_extraction.ipynb#X10sZmlsZQ%3D%3D?line=11'>12</a>\u001b[0m \u001b[39mfor\u001b[39;00m ind \u001b[39min\u001b[39;00m df\u001b[39m.\u001b[39mindex:\n\u001b[0;32m---> <a href='vscode-notebook-cell:/home/hou/myProjects/thalamocortical_connectivity_in_macaque/04_text_extraction.ipynb#X10sZmlsZQ%3D%3D?line=12'>13</a>\u001b[0m     time\u001b[39m.\u001b[39;49msleep(\u001b[39m1\u001b[39;49m)\n\u001b[1;32m     <a href='vscode-notebook-cell:/home/hou/myProjects/thalamocortical_connectivity_in_macaque/04_text_extraction.ipynb#X10sZmlsZQ%3D%3D?line=13'>14</a>\u001b[0m     index \u001b[39m=\u001b[39m \u001b[39mint\u001b[39m(df\u001b[39m.\u001b[39mat[ind, \u001b[39m\"\u001b[39m\u001b[39mINDEX\u001b[39m\u001b[39m\"\u001b[39m])\n\u001b[1;32m     <a href='vscode-notebook-cell:/home/hou/myProjects/thalamocortical_connectivity_in_macaque/04_text_extraction.ipynb#X10sZmlsZQ%3D%3D?line=14'>15</a>\u001b[0m     pdf_file_name \u001b[39m=\u001b[39m \u001b[39mstr\u001b[39m(index) \u001b[39m+\u001b[39m \u001b[39m\"\u001b[39m\u001b[39m.pdf\u001b[39m\u001b[39m\"\u001b[39m\n",
      "\u001b[0;31mKeyboardInterrupt\u001b[0m: "
     ]
    }
   ],
   "source": [
    "# extract text to store to a text file, record the articles whose pdfs or jsons are not available\n",
    "input_path = fpath.poten_litera_db\n",
    "df = pd.read_csv(input_path, header=None, sep=',')\n",
    "df.columns = df_col.db_columns\n",
    "\n",
    "# poten_litera_pdf_not_available = fpath.poten_litera_pdf_not_available\n",
    "# plib.clear_file(poten_litera_pdf_not_available)\n",
    "\n",
    "pdf_folder = fpath.pdf_folder\n",
    "text_folder = fpath.text_folder\n",
    "\n",
    "for ind in df.index:\n",
    "    time.sleep(1)\n",
    "    index = int(df.at[ind, \"INDEX\"])\n",
    "    pdf_file_name = str(index) + \".pdf\"\n",
    "    json_file_name = str(index) + \".json\"\n",
    "    pdf_path = os.path.join(pdf_folder, pdf_file_name)\n",
    "    json_path = os.path.join(pdf_folder, json_file_name)\n",
    "    text_path = os.path.join(text_folder, str(index) + \".txt\")\n",
    "\n",
    "    if os.path.exists(json_path):\n",
    "        # pass\n",
    "        json2text(json_path, text_path)\n",
    "    elif os.path.exists(pdf_path):\n",
    "        # pass\n",
    "        pdf2text(pdf_path, text_path)\n",
    "    else:\n",
    "        pass\n",
    "        # selected_row = df.iloc[[ind]]\n",
    "        # selected_row.to_csv(poten_litera_pdf_not_available, mode='a', header=False, index=False)\n",
    "        # print(df.at[ind, \"INDEX\"], df.at[ind, \"DOI\"], df.at[ind, \"PMID\"], df.at[ind, \"PMCID\"])\n",
    "        # print(df.at[ind, \"TITLE\"])\n",
    "        # print(df.at[ind, \"FULL_TEXT_URL\"], df.at[ind, \"FULL_TEXT_SOURCE\"])\n",
    "        # print(df.at[ind, \"PDF_URL\"], df.at[ind, \"PDF_SOURCE\"])\n",
    "        # print(\"\\n\")\n",
    "\n",
    "    print(ind, index)"
   ]
  },
  {
   "cell_type": "code",
   "execution_count": null,
   "metadata": {},
   "outputs": [],
   "source": [
    "# extract text of length params.text_length_to_extract from the text files and store to a text file\n",
    "input_path = fpath.poten_litera_db\n",
    "df = pd.read_csv(input_path, header=None, sep=',')\n",
    "df.columns = df_col.db_columns\n",
    "\n",
    "pdf_folder = fpath.pdf_folder\n",
    "text_folder = fpath.text_folder\n",
    "processed_text_folder = fpath.processed_texts_of_length_500_folder\n",
    "not_recog_articles_folder = fpath.not_recog_articles_folder\n",
    "\n",
    "for ind in df.index:\n",
    "    # time.sleep(1)\n",
    "    index = int(df.at[ind, \"INDEX\"])\n",
    "    pdf_path = os.path.join(pdf_folder, str(index) + \".pdf\")\n",
    "    json_path = os.path.join(pdf_folder, str(index) + \".json\")\n",
    "    text_path = os.path.join(text_folder, str(index) + \".txt\")\n",
    "    text_processed_path = os.path.join(processed_text_folder, str(index) + \".txt\")\n",
    "\n",
    "    if os.path.exists(text_path):\n",
    "        # first we test if the length of the text is greater than the length to extract\n",
    "        with open(text_path, 'r', encoding=\"ascii\") as f:\n",
    "            text = f.read()\n",
    "        f.close()\n",
    "        \n",
    "        text_split = text.split()\n",
    "        \n",
    "        if len(text_split) > params.text_length_to_extract:\n",
    "            pass\n",
    "            # text_500 = ' '.join(word for word in text_split[:params.text_length_to_extract])\n",
    "        else: # if the length of the text is less than the length to extract, we extract the text from the pdf or json once again\n",
    "            if os.path.exists(pdf_path):\n",
    "                pdf2text(pdf_path, text_path)\n",
    "                # read from the text file again and check if the length is less than the length to extract\n",
    "                with open(text_path, 'r', encoding=\"ascii\") as f:\n",
    "                    text = f.read()\n",
    "                f.close()\n",
    "                text_split = text.split()\n",
    "                if len(text_split) > params.text_length_to_extract:\n",
    "                    pass\n",
    "                elif os.path.exists(json_path):\n",
    "                    json2text(json_path, text_path)\n",
    "                else:\n",
    "                    pass\n",
    "            elif os.path.exists(json_path):\n",
    "                json2text(json_path, text_path)\n",
    "            else:\n",
    "                raise Exception(\"No pdf or json file found for index: \", index)\n",
    "\n",
    "        # write the text to the processed text file\n",
    "        with open(text_path, 'r', encoding=\"ascii\") as f:\n",
    "            text = f.read()\n",
    "        f.close()\n",
    "        \n",
    "        text_split = text.split()\n",
    "        \n",
    "        if len(text_split) > params.text_length_to_extract:\n",
    "            text_500 = ' '.join(word for word in text_split[:params.text_length_to_extract])\n",
    "        else:\n",
    "            text_500 = text\n",
    "\n",
    "            # copy this file to a folder for manual check\n",
    "            if os.path.exists(pdf_path):\n",
    "                shutil.copy(pdf_path, not_recog_articles_folder)\n",
    "\n",
    "            if os.path.exists(json_path):\n",
    "                shutil.copy(json_path, not_recog_articles_folder)\n",
    "\n",
    "            print(df.at[ind, \"INDEX\"], df.at[ind, \"DOI\"], df.at[ind, \"PMID\"], df.at[ind, \"PMCID\"])\n",
    "            print(df.at[ind, \"TITLE\"])\n",
    "            print(df.at[ind, \"FULL_TEXT_URL\"], df.at[ind, \"FULL_TEXT_SOURCE\"])\n",
    "            print(df.at[ind, \"PDF_URL\"], df.at[ind, \"PDF_SOURCE\"])\n",
    "            print(\"\\n\")\n",
    "        \n",
    "        with open(text_processed_path, 'w', encoding=\"ascii\") as f:\n",
    "            f.write(text_500)\n",
    "        f.close()\n",
    "    else:\n",
    "        pass\n",
    "\n",
    "    # print(ind, index)"
   ]
  },
  {
   "cell_type": "code",
   "execution_count": null,
   "metadata": {},
   "outputs": [],
   "source": [
    "# count the number of literatures whose pdfs or jsons are not available\n",
    "input_path = fpath.poten_litera_pdf_not_available\n",
    "df = pd.read_csv(input_path, header=None, sep=',')\n",
    "# print(df.shape)\n",
    "# (406, 11)\n",
    "# print number of rows\n",
    "print(df.shape[0])"
   ]
  }
 ],
 "metadata": {
  "kernelspec": {
   "display_name": "myenv",
   "language": "python",
   "name": "python3"
  },
  "language_info": {
   "codemirror_mode": {
    "name": "ipython",
    "version": 3
   },
   "file_extension": ".py",
   "mimetype": "text/x-python",
   "name": "python",
   "nbconvert_exporter": "python",
   "pygments_lexer": "ipython3",
   "version": "3.10.12"
  }
 },
 "nbformat": 4,
 "nbformat_minor": 2
}

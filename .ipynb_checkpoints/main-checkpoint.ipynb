{
 "cells": [
  {
   "cell_type": "markdown",
   "id": "f8438301-3aa7-412b-941d-585ec18b022c",
   "metadata": {},
   "source": [
    "First we need to search all related literature that might include data or information of thalamocortical connections."
   ]
  },
  {
   "cell_type": "code",
   "execution_count": null,
   "id": "647af6b2-2907-4222-b319-960f01de8d4a",
   "metadata": {},
   "outputs": [],
   "source": [
    "# import required packages\n",
    "import pandas as pd\n",
    "from urllib.request import Request, urlopen\n",
    "import urllib.request\n",
    "import re\n",
    "from bs4 import BeautifulSoup \n",
    "import requests\n",
    "import time\n",
    "import os.path\n",
    "import urllib.request\n",
    "import csv\n",
    "# from scholarly import scholarly"
   ]
  },
  {
   "cell_type": "markdown",
   "id": "7ed2a1fb-4380-4179-bbdf-8192056b8b4c",
   "metadata": {},
   "source": [
    "In the next cell, we present all parameters that might have an effect on the search results, including:<br>\n",
    "1. searching keyword lexicon\n",
    "2. on-topic keyword lexicon\n",
    "3. academic databases\n",
    "4. seed papers\n",
    "5. connectome database and \n",
    "6. connectome database queries\n",
    "7. ChatPDF queries for relatedness of topic"
   ]
  },
  {
   "cell_type": "code",
   "execution_count": null,
   "id": "5b6b2882-23e5-4670-8359-3d7367e1107b",
   "metadata": {},
   "outputs": [],
   "source": [
    "# parameters\n",
    "\n",
    "# searching keyword lexicon\n",
    "# (macaque OR Macaque) AND (thalamocortical OR thalamocortical OR corticothalamic OR 'cortico-thalamic' OR thalamus OR cortex)\n",
    "search_kws_lexicon = 'macaque AND (thalamus OR cortex OR thalamocortical OR thalamo-cortical OR corticothalamic OR cortico-thalamic)'\n",
    "\n",
    "# on-topic keyword lexicon\n",
    "on_topic_kws = ['thalamocortical', 'thalamo-cortical', 'corticothalamic', 'cortico-thalamic',\n",
    "                'tracing', 'tracer', 'tract tracing', 'tract-tracing', 'axonal tracing', 'neural anatomical tracing', \n",
    "                'connection', 'projection', 'connectivity', 'connectome', \n",
    "                'thalamus', 'cortex']\n",
    "\n",
    "# academic databases\n",
    "Semantic_Scholar = 'https://www.semanticscholar.org/'\n",
    "Google_Scholar = 'https://scholar.google.com/'\n",
    "# arXiv = 'https://arxiv.org/'\n",
    "Web_of_Science = 'https://www.webofscience.com/wos/woscc/basic-search' # can be expoted to excel file\n",
    "PubMed_Central_PMC = 'https://www.ncbi.nlm.nih.gov/pmc/' # can be exported to .csv file and abstract.txt file\n",
    "Europe_PMC = 'https://europepmc.org/' # can be exported to .csv file or abstract and full open access file .xml\n",
    "acad_dbs = [Semantic_Scholar, Google_Scholar, Web_of_Science, PubMed_Central_PMC, Europe_PMC]\n",
    "\n",
    "# seed papers specification\n",
    "seed_papers = []\n",
    "\n",
    "# connectome database and queries specification\n",
    "# we search the CoCoMac\n",
    "connec_db = 'http://cocomac.g-node.org/sitemap/index.php?path=CoCoMac|Search'\n",
    "connec_db_quries = []\n",
    "\n",
    "# ChatPDF, queries for relatedness of topic\n",
    "ChatPDF_related_queries = []"
   ]
  },
  {
   "cell_type": "code",
   "execution_count": null,
   "id": "1834933c-53c6-4980-a0be-60b0861bbe22",
   "metadata": {},
   "outputs": [],
   "source": [
    "# all the file paths and request headers\n",
    "path_urls = '/Users/didihou/myProjects/didihou_master_project/list_of_literature_urls.txt'\n",
    "path_potential = '/Users/didihou/myProjects/didihou_master_project/list_of_potential_related_literature.csv'\n",
    "path_related_urls = '/Users/didihou/myProjects/didihou_master_project/list_of_related_literature.txt'\n",
    "pdf_folder_path = '/Users/didihou/myProjects/liter_pdfs'\n",
    "\n",
    "headers = {'User-Agent':'Mozilla/5.0 (Macintosh; Intel Mac OS X 10_11_2) AppleWebKit/601.3.9 (KHTML, like Gecko) Version/9.0.2 Safari/601.3.9'}"
   ]
  },
  {
   "cell_type": "code",
   "execution_count": null,
   "id": "0f2a3985-9786-4ecf-a5b6-c777372a1236",
   "metadata": {},
   "outputs": [],
   "source": [
    "First we need to search all related literature that might include data or information of thalamocortical connections."
   ]
  },
  {
   "cell_type": "code",
   "execution_count": null,
   "id": "e4813f66-c983-4ecd-979a-3de2c97c5a18",
   "metadata": {},
   "outputs": [],
   "source": [
    "# test the redirect of the urls\n",
    "headers = {'User-Agent':'Mozilla/5.0 (Macintosh; Intel Mac OS X 10_11_2) AppleWebKit/601.3.9 (KHTML, like Gecko) Version/9.0.2 Safari/601.3.9'} \n",
    "'''\n",
    "response_pdf = requests.get('https://doi.org/10.1016/j.neuron.2020.01.005', allow_redirects=True, headers = headers)\n",
    "print(response_pdf.history)\n",
    "print(response_pdf.url)\n",
    "response_pdf_1 = requests.get('https://linkinghub.elsevier.com/retrieve/pii/S0896627320300052', allow_redirects=True, headers = headers)\n",
    "print(response_pdf_1.history)\n",
    "print(response_pdf_1.url)\n",
    "\n",
    "\n",
    "response_pdf = requests.get('https://onlinelibrary.wiley.com/doi/10.1111/ejn.13910', headers = headers)\n",
    "soup_pdf = BeautifulSoup(response_pdf.content,'lxml')\n",
    "print(soup_pdf)\n",
    "'''"
   ]
  },
  {
   "cell_type": "code",
   "execution_count": null,
   "id": "f9df256b-106e-4d5d-847e-b068fbade613",
   "metadata": {},
   "outputs": [],
   "source": [
    "# main program\n",
    "'''\n",
    "# clear all files\n",
    "with open(path_urls, 'w') as f:\n",
    "    f.truncate()\n",
    "    f.close()\n",
    "    \n",
    "with open(path_related_urls, 'w') as f:\n",
    "    f.truncate()\n",
    "    f.close()\n",
    "'''\n",
    "# search for potentially related literature using the listed 3 methods\n",
    "# method 1\n",
    "# search_acad_db(keywords, acad_db)\n",
    "columns = ['DOI', 'url', 'title'] + on_topic_kws\n",
    "with open(path_potential, 'w') as f:\n",
    "    f.truncate()\n",
    "    f.close()\n",
    "\n",
    "scan_record_download(path_urls, on_topic_kws, pdf_folder_path, columns)\n",
    "\n",
    "'''\n",
    "# method 2\n",
    "liter_list_2 = []\n",
    "# liter_list_2 = expand_citation(seed_papers)\n",
    "for doi_or_url in liter_list_2:\n",
    "    record_liter(doi_or_url, path_urls)\n",
    "\n",
    "# method 3\n",
    "liter_list_3 = []\n",
    "# liter_list_3 = search_conne_db(connec_db, connec_db_quries)\n",
    "for doi_or_url in liter_list_3:\n",
    "    record_liter(doi_or_url, path_urls)\n",
    "'''\n",
    "\n",
    "# eleminate duplications\n",
    "# code\n",
    "\n",
    "# scan all the potential related literature and searching for the on-topic keywords and \n",
    "# record the number of times they appear\n",
    "# scan_poten_urls(path_urls, on_topic_kws)\n",
    "\n",
    "# send .PDF publication of all potential related literatures to ChatPDF.con and ask for relatedness \n",
    "# then record the answer to the list_of_potential_related_literature.csv as well\n",
    "#ChatPDF_relatedness(path_urls, chatpdf_related_queries)\n",
    "\n",
    "# now we have a list of potential related literature and the information about relatedness \n",
    "# stored in the file \"list_of_potential_related_literature.csv\"\n",
    "# now we may perform a automatic filtering and manual filtering of the literature\n",
    "\n",
    "# automatic filtering\n",
    "#auto_filter(path_potential)\n",
    "\n",
    "# manual filtering\n",
    "# manual_filter(path_potential, path_related_urls)"
   ]
  },
  {
   "cell_type": "markdown",
   "id": "9c754a0f-82ec-4c2c-b949-f06ab46d5d25",
   "metadata": {},
   "source": [
    "This is the end of semi-automated literature search."
   ]
  },
  {
   "cell_type": "markdown",
   "id": "a8bf1484-5217-4a14-9c48-ff176f46d57b",
   "metadata": {},
   "source": [
    "Now we have a list of actually related literature stored in list_of_related_literature.txt"
   ]
  },
  {
   "cell_type": "markdown",
   "id": "d1f23abd-ef1d-44b0-8658-3ce0bc705bbd",
   "metadata": {},
   "source": [
    "Next step: we perform a information search on the list of related literature"
   ]
  },
  {
   "cell_type": "code",
   "execution_count": null,
   "id": "d00a5cd2-5c93-4fa2-ada2-138b94cee0a4",
   "metadata": {},
   "outputs": [],
   "source": [
    "# semi-automated information search"
   ]
  }
 ],
 "metadata": {
  "kernelspec": {
   "display_name": "Python 3 (ipykernel)",
   "language": "python",
   "name": "python3"
  },
  "language_info": {
   "codemirror_mode": {
    "name": "ipython",
    "version": 3
   },
   "file_extension": ".py",
   "mimetype": "text/x-python",
   "name": "python",
   "nbconvert_exporter": "python",
   "pygments_lexer": "ipython3",
   "version": "3.10.12"
  }
 },
 "nbformat": 4,
 "nbformat_minor": 5
}

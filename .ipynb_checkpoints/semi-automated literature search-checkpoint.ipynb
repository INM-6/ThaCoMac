{
 "cells": [
  {
   "cell_type": "markdown",
   "metadata": {},
   "source": [
    "First we need to extract related literature that might include thalamocortical connections."
   ]
  },
  {
   "cell_type": "markdown",
   "metadata": {},
   "source": [
    "Here we specify the keyword lexicon for searching for related literature and meta category list that "
   ]
  },
  {
   "cell_type": "code",
   "execution_count": 49,
   "metadata": {
    "tags": []
   },
   "outputs": [],
   "source": [
    "# import required packages\n",
    "import pandas as pd\n",
    "import urllib3"
   ]
  },
  {
   "cell_type": "code",
   "execution_count": 50,
   "metadata": {
    "tags": []
   },
   "outputs": [],
   "source": [
    "# parameters\n",
    "\n",
    "# keyword lexicon\n",
    "kw_must =['macaque', 'Macaque']\n",
    "kw_lv2 = ['thalamocortical', 'thalamo-cortical', 'tract tracing', 'axonal tracing', 'neural anatomical tracing']\n",
    "kw_lv3 = [\"connection\", \"connectivity\", \"connectome\"]\n",
    "kw_lv4 = ['thalamus', 'cortex']\n",
    "\n",
    "# meta categories\n",
    "# information of related literature database\n",
    "meta_categ = ['DOI', 'Publication link', 'Authors', 'Year', 'Country', 'Affiliation', \n",
    "              'Title', 'Abstract', 'Keywords', 'Parcellation scheme', \n",
    "              'Steriotactic axis', 'Type of data']"
   ]
  },
  {
   "cell_type": "code",
   "execution_count": 61,
   "metadata": {
    "tags": []
   },
   "outputs": [],
   "source": [
    "# searching for related literature and write them into file 'list_of_potential_related_literature.txt'\n",
    "def record_lite(doi_or_url):\n",
    "    with open('list_of_potential_related_literature.txt','r') as url_file:\n",
    "        url_file.write(doi_or_url)\n",
    "        \n",
    "def search_acad_db(keywords, acad_db):\n",
    "    return\n",
    "\n",
    "def search_conne_db(queries, connc_db):\n",
    "    return\n",
    "\n",
    "def expand_citation(seed_papers):\n",
    "    return"
   ]
  },
  {
   "cell_type": "code",
   "execution_count": 138,
   "metadata": {
    "tags": []
   },
   "outputs": [],
   "source": [
    "# write the information of a literature as a row to .csv file 'summary_table_of_related_studies.csv'\n",
    "def add_rows_to_df(df_liter, i, doi, pub_link, authors, title):\n",
    "    new_row = {'order': i,\n",
    "               'DOI':doi,\n",
    "               'Publication_link':pub_link,\n",
    "               'Autours':authors,\n",
    "               'Title':title}\n",
    "    df_liter = pd.concat([df_liter, pd.DataFrame([new_row])], ignore_index=False)\n",
    "    # df_liter = df_liter.append(new_row, ignore_index=False)\n",
    "    # df_lite = pd.DataFrame(lite, columns = headers, index = None)\n",
    "    # print(df_liter)\n",
    "    return df_liter\n",
    "\n",
    "# file path\n",
    "path = '/Users/didihou/myProjects/didihou_master_project/summary_table_of_related_studies.csv'\n",
    "# clear the .csv file\n",
    "with open(path, 'w') as f:\n",
    "    f.truncate()\n",
    "    f.close()\n",
    "\n",
    "# i is the index of the rows in .csv file and also the index of the literature\n",
    "columns = {'order':[],\n",
    "           'DOI':[],\n",
    "           'Publication_link':[],\n",
    "           'Autours':[],\n",
    "           'Title':[]}\n",
    "df_liter = pd.DataFrame(columns)\n",
    "\n",
    "for i in range(10):\n",
    "    doi = '10.1016/j.neuroscience.2007.02.033'\n",
    "    pub_link = 'https://pubmed.ncbi.nlm.nih.gov/17395383/'\n",
    "    authors = 'Cappe et al.'\n",
    "    title = 'Thalamocortical and the dual pattern of corticothalamic projections of the posterior parietal cortex in macaque monkeys'\n",
    "    df_liter = add_rows_to_df(df_liter, i, doi, pub_link, authors, title)\n",
    "\n",
    "df_liter.to_csv(path, mode='a', sep=',', index=False)"
   ]
  },
  {
   "cell_type": "code",
   "execution_count": 145,
   "metadata": {
    "tags": []
   },
   "outputs": [
    {
     "name": "stdout",
     "output_type": "stream",
     "text": [
      "10.1016/j.neuroscience.2007.02.033\n"
     ]
    }
   ],
   "source": [
    "# read a cell value from a .csv file\n",
    "df = pd.read_csv(path)\n",
    "# print(df.columns.tolist())\n",
    "col = 'DOI'\n",
    "index = 1\n",
    "print(df[col].iloc[index])\n",
    "# when trying to read a cell from the .csv file, specify the cell using [column name][index]"
   ]
  },
  {
   "cell_type": "code",
   "execution_count": null,
   "metadata": {},
   "outputs": [],
   "source": []
  }
 ],
 "metadata": {
  "kernelspec": {
   "display_name": "Python 3 (ipykernel)",
   "language": "python",
   "name": "python3"
  },
  "language_info": {
   "codemirror_mode": {
    "name": "ipython",
    "version": 3
   },
   "file_extension": ".py",
   "mimetype": "text/x-python",
   "name": "python",
   "nbconvert_exporter": "python",
   "pygments_lexer": "ipython3",
   "version": "3.10.12"
  }
 },
 "nbformat": 4,
 "nbformat_minor": 4
}

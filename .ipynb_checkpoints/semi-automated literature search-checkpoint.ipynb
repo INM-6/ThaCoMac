{
 "cells": [
  {
   "cell_type": "markdown",
   "metadata": {},
   "source": [
    "First we need to extract related literature that might include thalamocortical connections."
   ]
  },
  {
   "cell_type": "markdown",
   "metadata": {},
   "source": [
    "Here we specify the keyword lexicon for searching for related literature and meta category list that "
   ]
  },
  {
   "cell_type": "code",
   "execution_count": 159,
   "metadata": {
    "tags": []
   },
   "outputs": [],
   "source": [
    "# import required packages\n",
    "import pandas as pd\n",
    "import urllib3\n",
    "import requests"
   ]
  },
  {
   "cell_type": "code",
   "execution_count": 50,
   "metadata": {
    "tags": []
   },
   "outputs": [],
   "source": [
    "# parameters\n",
    "\n",
    "# keyword lexicon\n",
    "kw_must =['macaque', 'Macaque']\n",
    "kw_lv2 = ['thalamocortical', 'thalamo-cortical', 'tract tracing', 'axonal tracing', 'neural anatomical tracing']\n",
    "kw_lv3 = [\"connection\", \"connectivity\", \"connectome\"]\n",
    "kw_lv4 = ['thalamus', 'cortex']\n",
    "\n",
    "# meta categories\n",
    "# information of related literature database\n",
    "meta_categ = ['DOI', 'Publication link', 'Authors', 'Year', 'Country', 'Affiliation', \n",
    "              'Title', 'Abstract', 'Keywords', 'Parcellation scheme', \n",
    "              'Steriotactic axis', 'Type of data']"
   ]
  },
  {
   "cell_type": "code",
   "execution_count": 167,
   "metadata": {
    "tags": []
   },
   "outputs": [],
   "source": [
    "# searching for related literature and write them into file 'list_of_potential_related_literature.txt'\n",
    "path = '/Users/didihou/myProjects/didihou_master_project/list_of_literature_urls.txt'\n",
    "with open(path, 'w') as f:\n",
    "    f.truncate()\n",
    "    f.close()\n",
    "\n",
    "def record_liter(doi_or_url):\n",
    "    with open(path, 'a+') as url_file:\n",
    "        url_file.seek(0)\n",
    "        # If file is not empty then append '\\n'\n",
    "        data = url_file.read(100)\n",
    "        if len(data) > 0 :\n",
    "            url_file.write('\\n')\n",
    "        # Append text at the end of file\n",
    "        url_file.write(doi_or_url)\n",
    "        \n",
    "def search_acad_db(keywords, acad_db):\n",
    "    return\n",
    "\n",
    "def search_conne_db(queries, connc_db):\n",
    "    return\n",
    "\n",
    "def expand_citation(seed_papers):\n",
    "    return\n",
    "\n",
    "doi_or_url = 'http://cocomac.g-node.org/main/index.php'\n",
    "for i in range(10):\n",
    "    record_liter(doi_or_url)"
   ]
  },
  {
   "cell_type": "code",
   "execution_count": 168,
   "metadata": {
    "tags": []
   },
   "outputs": [
    {
     "name": "stdout",
     "output_type": "stream",
     "text": [
      "Error accessing the webpage. Status code: 404\n",
      "Error accessing the webpage. Status code: 404\n",
      "Error accessing the webpage. Status code: 404\n",
      "Error accessing the webpage. Status code: 404\n",
      "Error accessing the webpage. Status code: 404\n",
      "Error accessing the webpage. Status code: 404\n",
      "Error accessing the webpage. Status code: 404\n",
      "Error accessing the webpage. Status code: 404\n",
      "Error accessing the webpage. Status code: 404\n",
      "<!DOCTYPE html>\n",
      "<html>\n",
      "<head>\n",
      "<meta http-equiv=\"Content-Type\" content=\"text/html;charset=utf-8\"/>\n",
      "<style type=\"text/css\">\n",
      "html {\n",
      "\theight: 100%;\n",
      "}\n",
      "body {\n",
      "\tbackground: #ddd;\n",
      "  margin: 0;\n",
      "\tpadding: 0;\n",
      "\theight: 100%;\n",
      "}\n",
      "table {\n",
      "  border-collapse: collapse\n",
      "}\n",
      "div { \n",
      "  position: relative\n",
      "}\n",
      "div.top {\n",
      "  border-bottom: 0px solid #000;\n",
      "  padding: 0.5em 1em;\n",
      "  padding-bottom: 0em;\n",
      "  background: linear-gradient(#fff,#eef);\n",
      "}\n",
      "#pageMenu ul {\n",
      "  list-style-type: none;\n",
      "  padding: 0px 0px;\n",
      "  margin: 0em;\n",
      "  margin-top: 0.8em;\n",
      "}\n",
      "#pageMenu ul li {\n",
      "  display: inline;\n",
      "  border: 1px solid #ddd;\n",
      "  padding: 0.2em 2em;\n",
      "  margin: 8px;\n",
      "  background: #fff\n",
      "}\n",
      "div.top h1 { \n",
      "  margin: 0.4em 0em;\n",
      "}\n",
      "div.top td { \n",
      "  padding: 0em 0.5em;\n",
      "}\n",
      "div.top div { \n",
      "  padding: 0em 0.5em; \n",
      "}\n",
      "div.A4 {\n",
      "  max-width: 80em; \n",
      "  margin: 0em auto;\n",
      "  border-left: 1px solid #aaa;\n",
      "  border-right: 1px solid #aaa;\n",
      "  background: #fff;\n",
      "  min-height: 101%; \n",
      "}\n",
      "</style>\n",
      "<title>CoCoMac - Macaque macro connectivity at your fingertips</title><script type=\"text/javascript\" src=\"../shared-js/browser.js\"></script>\n",
      "      <link rel=\"stylesheet\" href=\"../shared-css/sitemap.css\" type=\"text/css\"/>\n",
      "      <script type=\"text/javascript\" src=\"../shared-js/sitemap.js\"></script>\n",
      "      <script type=\"text/javascript\">\n",
      "        //<![CDATA[\n",
      "        globalSiteMap = new siteMap_class({\"CoCoMac\":{\"@\":{\"path\":\"CoCoMac\",\"menu\":{\"Search\":[\"Search\"]},\"title\":\"CoCoMac - Macaque macro connectivity at your fingertips\",\"description\":\"CoCoMac 2nd edition home page\",\"phpFile\":\"..\\/main\\/index.php\"},\"Search\":{\"Axonal Projections\":{\"@\":{\"path\":\"CoCoMac|Search|Axonal Projections\",\"rank\":\"A\",\"title\":\"Generate list of axonal projections\",\"description\":\"Look up axonal projections(s) using QRT, the quick version of ORT.\",\"phpFile\":\"..\\/services\\/axonal_projections.php\"}},\"Connectivity Matrix\":{\"@\":{\"path\":\"CoCoMac|Search|Connectivity Matrix\",\"title\":\"Generate a connectivity matrix from a list of axonal projections\",\"description\":\"Generate a connectivity matrix from the output of the Axonal Projections service.\",\"phpFile\":\"..\\/services\\/connectivity_matrix.php\"}},\"Custom SQL Query\":{\"@\":{\"path\":\"CoCoMac|Search|Custom SQL Query\",\"title\":\"CoCoMac Direct SQL Query\",\"position\":\"C\",\"description\":\"Send a parameterized SQL query to the CoCoMac database and retrieve the results in html, plain text or json format.\",\"phpFile\":\"..\\/services\\/custom_sql_query.php\"}},\"Search wizard\":{\"@\":{\"path\":\"CoCoMac|Search|Search wizard\",\"position\":\"B\",\"title\":\"CoCoMac Search Wizard\",\"description\":\"Multi-step search wizard with smart database parsing.\",\"phpFile\":\"..\\/services\\/search_wizard.php\"}}},\"About\":{\"@\":{\"path\":\"CoCoMac|About\",\"title\":\"About CoCoMac\",\"description\":\"A brief history of CoCoMac and an overview of current developments.\",\"phpFile\":\"..\\/main\\/about.php\"},\"Citation policy\":{\"@\":{\"path\":\"CoCoMac|About|Citation policy\",\"title\":\"CoCoMac Citation Policy\",\"description\":\"If you use CoCoMac connectivity, cite both CoCoMac and the original tracing studies.\",\"phpFile\":\"..\\/main\\/citation_policy.php\"}},\"Legacy\":{\"@\":{\"path\":\"CoCoMac|About|Legacy\",\"title\":\"Legacy CoCoMac Website\",\"description\":\"G-node is rebuilding the legacy cocomac.org website.\",\"phpFile\":\"..\\/main\\/cocomac_legacy.php\"}}},\"Data Entry\":{\"Data Entry 2010 (view only)\":{\"@\":{\"path\":\"CoCoMac|Data Entry|Data Entry 2010 (view only)\",\"title\":\"CoCoMac Data entry (2010 version, view only)\",\"description\":\"The 2010 CoCoMac data entry system stores all forms entered for a particular study in a data entry table, from which the CoCoMac database can be rebuilt to any desired point in time.\",\"phpFile\":\"..\\/services\\/dataentry2010viewonly.php\"}}},\"FAQ\":{\"@\":{\"path\":\"CoCoMac|FAQ\",\"title\":\"Frequently Asked Questions\",\"description\":\"Guidelines to using the API.\",\"phpFile\":\"..\\/main\\/faq.php\"}},\"Research\":{\"QRT\":{\"Conflicts\":{\"@\":{\"path\":\"CoCoMac|Research|QRT|Conflicts\",\"title\":\"Display conflicting mapping paths\",\"description\":\"Reads results from Floyd algorithm, and displays conflicts\",\"allow\":{\"cocomac-develop\":\"*\"},\"phpFile\":\"..\\/qrt\\/conflict_resolution.php\"}},\"Core Conflicts\":{\"@\":{\"path\":\"CoCoMac|Research|QRT|Core Conflicts\",\"title\":\"Analyses core conflicting mapping paths\",\"description\":\"Reads and analyses core conflicts as saved by the Floyd algorithm executable\",\"allow\":{\"cocomac-develop\":\"*\"},\"phpFile\":\"..\\/qrt\\/core_conflict_analysis.php\"}},\"Identity Clusters\":{\"@\":{\"path\":\"CoCoMac|Research|QRT|Identity Clusters\",\"title\":\"Compute clusters of identical regions\",\"description\":\"Compute identity clusters and display them in JSON format\",\"allow\":{\"cocomac-develop\":\"*\"},\"phpFile\":\"..\\/qrt\\/qrt_clusters.php\"}}}},\"Utilities\":{\"Brain Site Lookup\":{\"@\":{\"path\":\"CoCoMac|Utilities|Brain Site Lookup\",\"title\":\"Brain site lookup\",\"description\":\"Lookup brain site details for a given (list of) regions(s), which can be specified either by numeric ID, text ID, acronym or full name\",\"phpFile\":\"..\\/services\\/brainsite_lookup.php\"}},\"F99\":{\"F99: Region overlap\":{\"@\":{\"path\":\"CoCoMac|Utilities|F99|F99: Region overlap\",\"title\":\"Generate table with region overlap between F99-registered atlases\",\"description\":\"Given a selected pair of atlases that are registered to the F99 cortical surface, this tool counts the vertices that they have in common and returns the overlap as an absolute number or percentage. Note that the surface area represented by a vertex may vary; this is not taken into account.\",\"phpFile\":\"..\\/services\\/f99_region_overlap.php\"}},\"F99: Sulcal depth\":{\"@\":{\"path\":\"CoCoMac|Utilities|F99|F99: Sulcal depth\",\"title\":\"Compute average sulcal depths of F99-registered atlas regions\",\"description\":\"Given a selected atlas that is registered to the F99 cortical surface, this tool counts the average sulcal depth of each atlas region by taking the median\\/average sulcal depth of its vertices.\",\"phpFile\":\"..\\/services\\/f99_sulcal_depth.php\"}},\"F99: Surface plotting\":{\"@\":{\"path\":\"CoCoMac|Utilities|F99|F99: Surface plotting\",\"title\":\"Plot CoCoMac statistics on the F99 surface\",\"description\":\"Returns vertex data to plot CoCoMac statistics on the F99 surface.\",\"phpFile\":\"..\\/services\\/f99_surface_plotting.php\"}}},\"Mapping Chain Lookup\":{\"@\":{\"path\":\"CoCoMac|Utilities|Mapping Chain Lookup\",\"title\":\"QRT mapping path details\",\"description\":\"Given a numeric QRT path id (or comma separated list thereof), returns the chain of underlying relation statements\",\"phpFile\":\"..\\/services\\/qrt_mapping_chain.php\"}},\"Mapping Paths Lookup\":{\"@\":{\"path\":\"CoCoMac|Utilities|Mapping Paths Lookup\",\"title\":\"QRT mapping paths\",\"description\":\"Given a brain site numeric or text id (or comma separated list thereof), returns all associated QRT mapping paths\",\"phpFile\":\"..\\/services\\/qrt_mappings.php\"}},\"Mapping Statement Lookup\":{\"@\":{\"path\":\"CoCoMac|Utilities|Mapping Statement Lookup\",\"title\":\"Lookup a mapping statement by numeric id\",\"description\":\"Given a numeric mapping statement id (or comma separated list thereof), returns its details\",\"phpFile\":\"..\\/services\\/mapping_lookup.php\"}},\"Sitelist-From-String\":{\"@\":{\"path\":\"CoCoMac|Utilities|Sitelist-From-String\",\"title\":\"Generate list of brain sites from input string\",\"description\":\"Generates a list of brain site numeric IDs given a string consisting of a comma separated list of brain maps and\\/or brain sites\",\"phpFile\":\"..\\/services\\/sitelist_from_string.php\"}},\"Tracer history\":{\"@\":{\"path\":\"CoCoMac|Utilities|Tracer history\",\"title\":\"History of tracers used in CoCoMac\",\"description\":\"Historic account of tracer substances used in papers contained in CoCoMac\",\"phpFile\":\"..\\/services\\/tracer_history.php\"}}},\"Admin\":{\"QRT\":{\"1. prepare\":{\"@\":{\"path\":\"CoCoMac|Admin|QRT|1. prepare\",\"title\":\"Prepare (re)computation of QRT mapping paths\",\"description\":\"Creates a number of tab-separated files which contain raw data to enter the QRT mapping paths computations\",\"allow\":{\"cocomac-develop\":\"*\"},\"phpFile\":\"..\\/qrt\\/floyd_prepare.php\"}},\"2. (Re)compute\":{\"@\":{\"path\":\"CoCoMac|Admin|QRT|2. (Re)compute\",\"title\":\"(Re)compute QRT mapping paths\",\"description\":\"Calls a C++ routine which recomputes the QRT mapping paths and saves the result to a temporary json file. This may take several minutes.\",\"allow\":{\"cocomac-develop\":\"*\"},\"phpFile\":\"..\\/qrt\\/floyd_recompute.php\"}},\"3. Rinish\":{\"@\":{\"path\":\"CoCoMac|Admin|QRT|3. Rinish\",\"title\":\"Finish (re)computation of QRT mapping paths\",\"description\":\"Reads the resulting QRT mapping paths from a json file and recreates the table QRT_MappingPaths in the relational database\",\"allow\":{\"cocomac-develop\":\"*\"},\"phpFile\":\"..\\/qrt\\/floyd_finish.php\"}},\"4. Fix conflicts\":{\"@\":{\"path\":\"CoCoMac|Admin|QRT|4. Fix conflicts\",\"title\":\"Generate SQL statements that fix (part of) the QRT mapping conflicts\",\"description\":\"QRT mapping conflicts are chains of inter-map-relation statements that result in incompatible statements about the topological relation between two brain sites. This routine generates SQL statements to fix some of these.\",\"allow\":{\"cocomac-develop\":\"*\"},\"phpFile\":\"..\\/qrt\\/fix_intermaprelations.php\"}}}},\"Site map\":{\"@\":{\"path\":\"CoCoMac|Site map\",\"rank\":\"~\",\"status\":\"A\",\"title\":\"Site map\",\"description\":\"Displays site map as a hierarchical tree\",\"phpFile\":\"..\\/sitemap\\/index.php\"}}}});\n",
      "        //]]>\n",
      "      </script>\n",
      "    </head>\n",
      "<body>\n",
      "<script type=\"text/javascript\">\n",
      "(function(i,s,o,g,r,a,m){i['GoogleAnalyticsObject']=r;i[r]=i[r]||function(){\n",
      "(i[r].q=i[r].q||[]).push(arguments)},i[r].l=1*new Date();a=s.createElement(o),\n",
      "m=s.getElementsByTagName(o)[0];a.async=1;a.src=g;m.parentNode.insertBefore(a,m)\n",
      "})(window,document,'script','//www.google-analytics.com/analytics.js','ga');\n",
      "ga('create', 'UA-60841864-1', 'auto');\n",
      "ga('send', 'pageview');\n",
      "</script>\n",
      "<div class=\"A4\">\n",
      "  <div class=\"top\">\n",
      "    <table><tr>\n",
      "      <td><img src=\"../layout/logo.png\" alt=\"CoCoMac logo\"/></td>\n",
      "      <td>\n",
      "        <div id=\"navigationBar\">CoCoMac&#160;<input type=\"button\" value=\"&#9658;\" class=\"sm_navbar\" onclick=\"globalSiteMap.menu(this,'CoCoMac')\"/>&#160;</div>\n",
      "        <div id=\"pageTitle\"><h1>CoCoMac - Macaque macro connectivity at your fingertips</h1></div>\n",
      "        <div id=\"pageDescription\"><i>CoCoMac 2nd edition home page</i></div>\n",
      "      </td>\n",
      "    </tr></table>\n",
      "    <div id=\"pageMenu\"><ul><li><a href=\"../main/index.php\">Home</a></li><li><a href=\"../sitemap/index.php?path=CoCoMac|Search\">Search</a></li><li><a href=\"../main/faq.php\">FAQ</a></li><li><a href=\"../main/about.php\">About</a></li><li><a href=\"../sitemap/index.php\">Site map</a></li></ul></div>\n",
      "  </div>\n",
      "  <div style=\"padding: 1.5em 0.5em 1em 1em\" id=\"pageContent\"><p>Welcome to the new CoCoMac website (<a href=\"../main/about.php\">background of the redevelopment</a>).\n",
      "For future developments of this site, see this <a href=\"http://www.frontiersin.org/Neuroinformatics/10.3389/fninf.2012.00030/abst\n",
      "ract\">perspective article</a>.\n",
      "</p><p>This site\n",
      "<ul><li>Provides full, scriptable open access to the data in CoCoMac. If you use CoCoMac-derived data for your research you must adhere to our <a href=\"../main/citation_policy.php\">citation policy</a>.</li>\n",
      "<li>Powers the graphical interface to CoCoMac provided by the <a href=\"http://scalablebrainatlas.incf.org/cocomac\">Scalable Brain Atlas</a>.</li>\n",
      "<li>Sports an extensive <a href=\"../services/search_wizard.php\">search/browse wizard</a>, which automatically constructs complex search queries and lets you further explore the database from the results page.</li>\n",
      "<li>Allows you to get your hands dirty, by using the <a href=\"../services/custom_sql_query.php\">custom SQL query</a> service.</li>\n",
      "<li>Displays connectivity data in tabular form, through the <a href=\"../services/axonal_projections.php\">axonal projections service</a>.</li>\n",
      "</ul>\n",
      "The legacy site at <a href=\"http://www.cocomac.org\">CoCoMac.org</a> is currently offline, but we are building a Virtual Machine that will enable us to revive the legacy.\n",
      "</p><p>\n",
      "CoCoMac 2 was initiated at the Donders Institute for Brain, Cognition and Behaviour, and is currently supported by the <a href=\"http://www.g-node.org\">German neuroinformatics node</a> and the <a href=\"http://www.csn.fz-juelich.de\">Computational and Systems Neuroscience group at the Juelich research institute</a>.\n",
      "</p><img src=\"../img/juelich_logo_s.png\" alt=\"Juelich Research Institute\" style=\"margin-right: 10px\"><img src=\"../img/donders_logo_s.png\" alt=\"Donders Institute\" style=\"margin-right: 10px\"><img src=\"../img/gnode_logo_notext_s.png\" alt=\"G-Node\" style=\"margin-right: 10px\">\n",
      "</div>\n",
      "</div>\n",
      "</body></html>\n",
      "\n"
     ]
    }
   ],
   "source": [
    "# read line by line the urls of related literature in the tex file\n",
    "path = '/Users/didihou/myProjects/didihou_master_project/list_of_literature_urls.txt'\n",
    "\n",
    "with open(path, 'r') as url_file:\n",
    "    for line in url_file:\n",
    "        # Process each line here\n",
    "        response = requests.get(line)\n",
    "        if response.status_code == 200:\n",
    "            content = response.text\n",
    "            # Process the content of the webpage here\n",
    "            print(content)\n",
    "        else:\n",
    "            print(\"Error accessing the webpage. Status code:\", response.status_code)"
   ]
  },
  {
   "cell_type": "code",
   "execution_count": 138,
   "metadata": {
    "tags": []
   },
   "outputs": [],
   "source": [
    "# write the information of a literature as a row to .csv file 'summary_table_of_related_studies.csv'\n",
    "def add_rows_to_df(df_liter, i, doi, pub_link, authors, title):\n",
    "    new_row = {'order': i,\n",
    "               'DOI':doi,\n",
    "               'Publication_link':pub_link,\n",
    "               'Autours':authors,\n",
    "               'Title':title}\n",
    "    df_liter = pd.concat([df_liter, pd.DataFrame([new_row])], ignore_index=False)\n",
    "    # df_liter = df_liter.append(new_row, ignore_index=False)\n",
    "    # df_lite = pd.DataFrame(lite, columns = headers, index = None)\n",
    "    # print(df_liter)\n",
    "    return df_liter\n",
    "\n",
    "# file path\n",
    "path = '/Users/didihou/myProjects/didihou_master_project/summary_table_of_related_studies.csv'\n",
    "# clear the .csv file\n",
    "with open(path, 'w') as f:\n",
    "    f.truncate()\n",
    "    f.close()\n",
    "\n",
    "# i is the index of the rows in .csv file and also the index of the literature\n",
    "columns = {'order':[],\n",
    "           'DOI':[],\n",
    "           'Publication_link':[],\n",
    "           'Autours':[],\n",
    "           'Title':[]}\n",
    "df_liter = pd.DataFrame(columns)\n",
    "\n",
    "for i in range(10):\n",
    "    doi = '10.1016/j.neuroscience.2007.02.033'\n",
    "    pub_link = 'https://pubmed.ncbi.nlm.nih.gov/17395383/'\n",
    "    authors = 'Cappe et al.'\n",
    "    title = 'Thalamocortical and the dual pattern of corticothalamic projections of the posterior parietal cortex in macaque monkeys'\n",
    "    df_liter = add_rows_to_df(df_liter, i, doi, pub_link, authors, title)\n",
    "\n",
    "df_liter.to_csv(path, mode='a', sep=',', index=False)"
   ]
  },
  {
   "cell_type": "code",
   "execution_count": 145,
   "metadata": {
    "tags": []
   },
   "outputs": [
    {
     "name": "stdout",
     "output_type": "stream",
     "text": [
      "10.1016/j.neuroscience.2007.02.033\n"
     ]
    }
   ],
   "source": [
    "# read a cell value from a .csv file\n",
    "df = pd.read_csv(path)\n",
    "# print(df.columns.tolist())\n",
    "col = 'DOI'\n",
    "index = 1\n",
    "print(df[col].iloc[index])\n",
    "# when trying to read a cell from the .csv file, specify the cell using [column name][index]"
   ]
  },
  {
   "cell_type": "code",
   "execution_count": null,
   "metadata": {},
   "outputs": [],
   "source": []
  }
 ],
 "metadata": {
  "kernelspec": {
   "display_name": "Python 3 (ipykernel)",
   "language": "python",
   "name": "python3"
  },
  "language_info": {
   "codemirror_mode": {
    "name": "ipython",
    "version": 3
   },
   "file_extension": ".py",
   "mimetype": "text/x-python",
   "name": "python",
   "nbconvert_exporter": "python",
   "pygments_lexer": "ipython3",
   "version": "3.10.12"
  }
 },
 "nbformat": 4,
 "nbformat_minor": 4
}

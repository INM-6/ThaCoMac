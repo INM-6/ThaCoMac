{
 "cells": [
  {
   "cell_type": "markdown",
   "id": "dea1cce5-4f07-4bd7-8ca3-5f6fa51254d0",
   "metadata": {},
   "source": [
    "<h2> Automatic filtering </h2> "
   ]
  },
  {
   "cell_type": "code",
   "execution_count": null,
   "id": "28e51706-2334-49bb-8c1e-4939b52c60b8",
   "metadata": {
    "tags": []
   },
   "outputs": [],
   "source": [
    "# import internal .py files\n",
    "import file_path_management as fpath\n",
    "import public_library as plib"
   ]
  },
  {
   "cell_type": "code",
   "execution_count": null,
   "id": "ad5a61c5-f8c6-418a-b450-cdea0378ddab",
   "metadata": {
    "tags": []
   },
   "outputs": [],
   "source": [
    "# import packages\n",
    "import csv\n",
    "import pandas as pd\n",
    "import re\n",
    "from bs4 import BeautifulSoup\n",
    "import requests\n",
    "import os\n",
    "import numpy as np\n",
    "import string"
   ]
  },
  {
   "cell_type": "markdown",
   "id": "99735798",
   "metadata": {},
   "source": [
    "<h3> Parameters: </h3> "
   ]
  },
  {
   "cell_type": "code",
   "execution_count": null,
   "id": "22d9559b-7ccd-48b5-9bd0-422f6d7c7644",
   "metadata": {
    "tags": []
   },
   "outputs": [],
   "source": [
    "# on-topic keyword lexicon\n",
    "on_topic_kws = [\n",
    "    'thalamocortical', 'thalamo-cortical', 'corticothalamic', 'cortico-thalamic',\n",
    "    'tracing', 'tracer', 'tract tracing', 'tract-tracing', 'axonal tracing', 'neural tracing', 'anatomical tracing', 'neuroanatomical tracing',\n",
    "    'thalamus', 'cortex', 'thalamic', 'cortical', \"staining\", \"dye\", \n",
    "    'connection', 'projection', 'connectivity', 'connectome', \"anterograde\", \"retrograde\", \"injection\", \"injected\", \"injecting\", \"inject\"]\n",
    "\n",
    "on_topic_kws_weights = {\n",
    "    'tracing': 10, 'tracer': 10, 'tract tracing': 10, 'tract-tracing': 10, 'axonal tracing': 10, 'neural tracing': 10, 'anatomical tracing': 10, 'anatomical neural tracing': 10,\n",
    "    'thalamocortical': 5, 'thalamo-cortical': 5, 'corticothalamic': 5, 'cortico-thalamic': 5,\n",
    "    'connection': 2, 'projection': 2, 'connectivity': 2, \n",
    "    'thalamus': 1, 'cortex': 1, 'thalamic': 1, 'cortical': 1, \n",
    "    'connectome': 1}\n",
    "\n",
    "# pay attention to false negative, false positive cases\n",
    "\n",
    "# ChatGPT, queries for relatedness of topic\n",
    "ChatGPT_related_queries = ['Does the given text include information of thalamocotical connection?',\n",
    "                           'Does this paper provide data of thalamocotical connection?',\n",
    "                           'Does the given text include information of connection between thalamus and cortex?']"
   ]
  },
  {
   "cell_type": "markdown",
   "id": "489f0451",
   "metadata": {},
   "source": [
    "<h3> Predefined fucntions: </h3> "
   ]
  },
  {
   "cell_type": "code",
   "execution_count": null,
   "id": "ce32f7b8-96b7-4f5c-a2da-3ff931cdeaab",
   "metadata": {},
   "outputs": [],
   "source": [
    "# count the number of times that certain on-topic keyword appear in a given text\n",
    "def count_keyword(text, keyword):\n",
    "    # remove non-alphabetic characters but keep spaces\n",
    "    # punc_marks = list(string.punctuation) # python punctuations\n",
    "    # print(punc_marks)\n",
    "    # for punc in punc_marks:\n",
    "    #     if punc in text:\n",
    "    #         text = text.replace(punc, '')\n",
    "    text = ''.join(e for e in text if (e.isalpha() or e == \" \"))\n",
    "    print(text)\n",
    "    text = text.strip().lower()\n",
    "    print(text)\n",
    "    words = text.split()\n",
    "    print(words)\n",
    "    \n",
    "    word_count = 0\n",
    "    for word in words:\n",
    "        # print(word)\n",
    "        if word == keyword:\n",
    "            word_count += 1\n",
    "    return word_count\n",
    "# --------------------start of test code--------------------\n",
    "# text = 'This apple 6i7s very tasty？、  2but th&e banana this is not delicious at Is all.6'\n",
    "# keyword = 'is'\n",
    "# count = count_keyword(text, keyword)\n",
    "# print(count)\n",
    "# ---------------------end of test code---------------------"
   ]
  },
  {
   "cell_type": "code",
   "execution_count": null,
   "id": "b488729c-2e38-43e8-bba2-d81126f38847",
   "metadata": {},
   "outputs": [],
   "source": [
    "# count the number of times all on-topic keywords appear in the text\n",
    "# extracted from the given url\n",
    "def count_freq_from_liter(text, on_topic_kws, type):\n",
    "    print(text)\n",
    "    text_length = len(text)\n",
    "    keywords_count_fre = {}\n",
    "    # count the on-topic keywords\n",
    "    for i in range(len(on_topic_kws)):\n",
    "        word_count = count_keyword(text, on_topic_kws[i])\n",
    "        if type == \"count\":\n",
    "            keywords_count_fre[on_topic_kws[i]] = word_count\n",
    "        elif type == \"frequency\":\n",
    "            keywords_count_fre[on_topic_kws[i]] = word_count/text_length\n",
    "    return keywords_count_fre\n",
    "# --------------------start of test code--------------------\n",
    "# text = 'Vision for action: thalamic and cortical inputs to the macaque superior parietal lobule The dorsal visual stream, the cortical circuit that in the primate brain is mainly dedicated to the visual control of actions, is split into two routes, a lateral and a medial one, both involved in coding different aspects of sensorimotor control of actions. The lateral route, named \"lateral grasping network\", is mainly involved in the control of the distal part of prehension, namely grasping and manipulation. The medial route, named \"reach-to-grasp network\", is involved in the control of the full deployment of prehension act, from the direction of arm movement to the shaping of the hand according to the object to be grasped. In macaque monkeys, the reach-to-grasp network (the target of this review) includes areas of the superior parietal lobule (SPL) that hosts visual and somatosensory neurons well suited to control goal-directed limb movements toward stationary as well as moving objects. After a brief summary of the neuronal functional properties of these areas, we will analyze their cortical and thalamic inputs thanks to retrograde neuronal tracers separately injected into the SPL areas V6, V6A, PEc, and PE. These areas receive visual and somatosensory information distributed in a caudorostral, visuosomatic trend, and some of them are directly connected with the dorsal premotor cortex. This review is particularly focused on the origin and type of visual information reaching the SPL, and on the functional role this information can play in guiding limb interaction with objects in structured and dynamic environments. Area PEc; Area V6; Area V6A; Dorsal visual stream; Goal-directed arm movement; Sensorimotor integration.'\n",
    "# keywords_count_fre = count_freq_from_liter(text, on_topic_kws)\n",
    "# print(keywords_count_fre)\n",
    "# ---------------------end of test code---------------------"
   ]
  },
  {
   "cell_type": "code",
   "execution_count": null,
   "id": "e88f4adf",
   "metadata": {},
   "outputs": [],
   "source": [
    "def calcul_related(info_count, related_kws_weights):\n",
    "    weight = 0\n",
    "    for key, value in info_count.items():\n",
    "        weight += info_count[key] * related_kws_weights[key]\n",
    "    return weight\n",
    "# --------------------start of test code--------------------\n",
    "# info_count = {'thalamocortical': 2, 'thalamo-cortical': 2, 'corticothalamic': 0, 'cortico-thalamic': 1,\n",
    "#               'tracing': 0, 'tracer': 0, 'tract tracing': 0, 'tract-tracing': 0, 'axonal tracing': 1, 'neural tracing': 1, 'anatomical tracing': 1, 'anatomical neural tracing': 0,\n",
    "#               'connection': 1, 'projection': 2, 'connectivity': 0, 'connectome': 0, \n",
    "#               'thalamus': 0, 'cortex': 4, 'thalamic': 2, 'cortical': 3}\n",
    "# weight = calcul_related(info_count, related_kws_weights)\n",
    "# print(weight)\n",
    "# ---------------------end of test code---------------------\n"
   ]
  },
  {
   "cell_type": "code",
   "execution_count": null,
   "id": "93f93d7d-bbbc-4afe-94f7-f12cca267a9a",
   "metadata": {},
   "outputs": [],
   "source": [
    "# scan each url in list_of_literature_urls.txt and record information and download pdf\n",
    "def extract_text:\n",
    "    pass\n",
    "def scan_download_record(on_topic_kws, pdf_folder_path):\n",
    "    # scan each row in the potential related literature and extract information\n",
    "    df = pd.read_csv(fpath.poten_litera_csv, sep = \",\")\n",
    "    for ind in df.index:\n",
    "        if df[\"PMID\"][ind] is not NaN:\n",
    "            pmid = df[\"PMID\"][ind]\n",
    "            url = \"https://pubmed.ncbi.nlm.nih.gov/\" + pmid + \"/\"\n",
    "            print(url)\n",
    "            response = requests.get(url, headers = plib.headers)\n",
    "            if response.status_code != 200:\n",
    "                raise Exception(\"Error when request webpages!\")\n",
    "            soup = BeautifulSoup(response.content, \"lxml\")\n",
    "            l = soup.find_all(\"a\", {\"class: id-link\"}, {\"data-ga-action\": \"DOI\"})\n",
    "            if(len(l) != 0):\n",
    "                # print(l[0].get_text().strip())\n",
    "                doi = l[0].get_text().strip()\n",
    "            else:\n",
    "                doi = NaN\n",
    "            l = soup.find_all({\"class\": \"current-id\"}, {\"title\": \"PubMed ID\"})\n",
    "            if(len(l) != 0):\n",
    "                # print(l[0].get_text().strip())\n",
    "                pmcid = l[0].get_text().strip()\n",
    "            else:\n",
    "                doi = NaN\n",
    "            title = soup.find_all(\"h1\", {\"class\": \"heading-title\"})[0].get_text().strip()\n",
    "            abstract = soup.find_all(\"div\", {\"class\": \"abstract-content selected\"})[0].get_text().strip()\n",
    "            keywords = soup.find_all(\"p\", {\"class\": \"sub-title\"})[0].get_text().strip()\n",
    "\n",
    "            # extract title, abstract, keywords, introduction from the returned html file\n",
    "            # count keywords from title + abstract + keywords\n",
    "            # and make sure the process the text so that only punctuation marks and numbers are removed\n",
    "            text = title + \" \" + title + \" \" + \"abstract\" + \" \" + \"keywords\"\n",
    "            text = text.strip()\n",
    "            text = re.sub(' +', ' ', text)\n",
    "            text = re.sub(r\"[^a-zA-Z' ']\", \"\", text).lower()\n",
    "    \n",
    "            # record the information into json\n",
    "            info_json = {}\n",
    "            info_json['DOI'] = doi\n",
    "            info_json['PMID'] = pmid\n",
    "            info_json['PMCID'] = pmcid\n",
    "            info_json['title'] = title\n",
    "            info_json['abstract'] = abstract\n",
    "            info_json['keywords'] = keywords\n",
    "            info_count = count_freq_from_liter(text, on_topic_kws, type = \"count\")\n",
    "            info_json = {**info_json, **info_count}\n",
    "            weight = calcul_related(info_count, related_kws_weights)\n",
    "            info_json[\"weight\"] = weight\n",
    "            print(info_json)\n",
    "            columns = ['DOI', \"PMID\", \"PMCID\", 'title', \"abstract\", \"keywords\", \"weight\"] + on_topic_kws\n",
    "            plib.add_row_to_csv(fpath.auto_filtered, info_json, columns)\n",
    "# --------------------start of test code--------------------\n",
    "# scan_record_download(path_urls, on_topic_kws, pdf_folder_path)\n",
    "# ---------------------end of test code---------------------\n",
    "# --------------------start of test code--------------------\n",
    "# source_path = fpath.poten_litera_filled\n",
    "# output_path = fpath.filtered_poten_litra\n",
    "# plib.clear_file(output_path)\n",
    "# ---------------------end of test code---------------------\n",
    "\n",
    "# --------------------start of test code--------------------\n",
    "# # merge all search results\n",
    "# identifier = [\"DOI\", \"PMID\", \"PMCID\"]\n",
    "# merge_remove_dupli(input_path, output_path)\n",
    "# ---------------------end of test code---------------------\n",
    "\n",
    "# --------------------start of test code--------------------\n",
    "# df = pd.read_csv(output_path, header=None, sep=',')\n",
    "# print(df.head(3))\n",
    "# print(df.shape)\n",
    "# ---------------------end of test code---------------------"
   ]
  },
  {
   "cell_type": "code",
   "execution_count": null,
   "id": "84e08f1f",
   "metadata": {},
   "outputs": [],
   "source": [
    "def weight_and_rank(on_topic_kws_weights):\n",
    "    # weight formula\n",
    "\n",
    "    # rank\n",
    "\n",
    "    print(\"Weighting and ranking the potentially related literature succeded!\")\n",
    "    print(\"Enjoy reading!\")\n",
    "# --------------------start of test code--------------------\n",
    "# test code\n",
    "# ---------------------end of test code---------------------"
   ]
  },
  {
   "cell_type": "markdown",
   "id": "3e562971",
   "metadata": {},
   "source": [
    "<h3> Main program: </h3> "
   ]
  },
  {
   "cell_type": "code",
   "execution_count": null,
   "id": "e5a01765",
   "metadata": {},
   "outputs": [],
   "source": [
    "# # step 1: search for text of the literature: title, abstract, keywords\n",
    "# input_path = fpath.\n",
    "# output_path = \n",
    "\n",
    "# # clear file\n",
    "# plib.clear_file(output_path)\n",
    "\n",
    "# # extract and filling text\n",
    "# text_filling(input_path, output_path, on_topic_kws, start, end)"
   ]
  },
  {
   "cell_type": "code",
   "execution_count": null,
   "id": "9493b7cc",
   "metadata": {},
   "outputs": [],
   "source": [
    "# # step 2: assign weight to each literature and rank them\n",
    "# weight_and_rank(related_kws_weights)"
   ]
  },
  {
   "cell_type": "markdown",
   "id": "c7fc9ccf",
   "metadata": {},
   "source": [
    "<h3> Next step: manually read papers and find all actually related literature </h3>"
   ]
  }
 ],
 "metadata": {
  "kernelspec": {
   "display_name": "Python 3 (ipykernel)",
   "language": "python",
   "name": "python3"
  },
  "language_info": {
   "codemirror_mode": {
    "name": "ipython",
    "version": 3
   },
   "file_extension": ".py",
   "mimetype": "text/x-python",
   "name": "python",
   "nbconvert_exporter": "python",
   "pygments_lexer": "ipython3",
   "version": "3.10.12"
  }
 },
 "nbformat": 4,
 "nbformat_minor": 5
}

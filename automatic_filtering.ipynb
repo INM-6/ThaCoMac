{
 "cells": [
  {
   "cell_type": "markdown",
   "id": "dea1cce5-4f07-4bd7-8ca3-5f6fa51254d0",
   "metadata": {},
   "source": [
    "<h2> Automatic filtering </h2> "
   ]
  },
  {
   "cell_type": "code",
   "execution_count": null,
   "id": "28e51706-2334-49bb-8c1e-4939b52c60b8",
   "metadata": {
    "tags": []
   },
   "outputs": [],
   "source": [
    "# import internal .py files\n",
    "import file_path_management as fpath\n",
    "import public_library as plib"
   ]
  },
  {
   "cell_type": "code",
   "execution_count": null,
   "id": "ad5a61c5-f8c6-418a-b450-cdea0378ddab",
   "metadata": {
    "tags": []
   },
   "outputs": [],
   "source": [
    "# import packages\n",
    "import csv\n",
    "import pandas as pd\n",
    "import re\n",
    "from bs4 import BeautifulSoup\n",
    "import requests\n",
    "import os\n",
    "import numpy as np\n",
    "import string\n",
    "import math\n",
    "from nltk import ngrams"
   ]
  },
  {
   "cell_type": "markdown",
   "id": "99735798",
   "metadata": {},
   "source": [
    "<h3> Parameters: </h3> "
   ]
  },
  {
   "cell_type": "code",
   "execution_count": null,
   "id": "22d9559b-7ccd-48b5-9bd0-422f6d7c7644",
   "metadata": {
    "tags": []
   },
   "outputs": [],
   "source": [
    "# on-topic keyword lexicon\n",
    "on_topic_kws = [\n",
    "    'thalamocortical', 'thalamo-cortical', 'corticothalamic', 'cortico-thalamic',\n",
    "    'tracing', 'tracer', 'tract tracing', 'tract-tracing', 'axonal tracing', 'neural tracing', 'anatomical tracing', 'neuroanatomical tracing',\n",
    "    'thalamus', 'cortex', 'thalamic', 'cortical', \"staining\", \"dye\", \n",
    "    'connection', 'projection', 'connectivity', 'connectome', \"anterograde\", \"retrograde\", \"injection\", \"injected\", \"injecting\", \"inject\"]\n",
    "\n",
    "on_topic_kws_weights = {\n",
    "    'tracing': 10, 'tracer': 10, 'tract tracing': 10, 'tract-tracing': 10, 'axonal tracing': 10, 'neural tracing': 10, 'anatomical tracing': 10, 'anatomical neural tracing': 10,\n",
    "    'thalamocortical': 5, 'thalamo-cortical': 5, 'corticothalamic': 5, 'cortico-thalamic': 5,\n",
    "    'connection': 2, 'projection': 2, 'connectivity': 2, \n",
    "    'thalamus': 1, 'cortex': 1, 'thalamic': 1, 'cortical': 1, \n",
    "    'connectome': 1}\n",
    "\n",
    "# pay attention to false negative, false positive cases\n",
    "\n",
    "# ChatGPT, queries for relatedness of topic\n",
    "ChatGPT_related_queries = ['Does the given text include information of thalamocotical connection?',\n",
    "                           'Does this paper provide data of thalamocotical connection?',\n",
    "                           'Does the given text include information of connection between thalamus and cortex?']"
   ]
  },
  {
   "cell_type": "markdown",
   "id": "489f0451",
   "metadata": {},
   "source": [
    "<h3> Predefined fucntions: </h3> "
   ]
  },
  {
   "cell_type": "code",
   "execution_count": null,
   "id": "f7a0d561",
   "metadata": {},
   "outputs": [],
   "source": [
    "def extract_text(url):\n",
    "    text = \"\"\n",
    "    return text\n",
    "# --------------------start of test code--------------------\n",
    "# test code\n",
    "# ---------------------end of test code---------------------"
   ]
  },
  {
   "cell_type": "code",
   "execution_count": null,
   "id": "ce32f7b8-96b7-4f5c-a2da-3ff931cdeaab",
   "metadata": {},
   "outputs": [],
   "source": [
    "# count the number of times that certain on-topic keyword appear in a given text\n",
    "def count_keyword(text, keyword, keyword_length):\n",
    "    # remove non-alphabetic characters but keep spaces and \"-\"\n",
    "    text = ''.join(e for e in text if (e.isalpha() or e == \" \" or e == \"-\"))\n",
    "    # print(text)\n",
    "    text = text.strip().lower()\n",
    "    # print(text)\n",
    "    \n",
    "    words = []\n",
    "    # sentence = 'I have a laptop case and a laptop bag'\n",
    "    n = keyword_length\n",
    "    n_grams = ngrams(text.split(), n)\n",
    "    for gram in n_grams:\n",
    "        word = gram[0]\n",
    "        if n > 0:\n",
    "            for i in range(1, n):\n",
    "                word = word + \" \" + gram[i]\n",
    "        words.append(word)\n",
    "    \n",
    "    # print(words)\n",
    "    \n",
    "    word_count = 0\n",
    "    for word in words:\n",
    "        # print(word)\n",
    "        if word == keyword:\n",
    "            word_count += 1\n",
    "    return word_count\n",
    "# --------------------start of test code--------------------\n",
    "# text = 'This apple 6i7s very tasty？、  2but th&e banana this is not delicious at Is all.6'\n",
    "# keyword = 'this apple'\n",
    "# count = count_keyword(text, keyword, 2)\n",
    "# print(count)\n",
    "# ---------------------end of test code---------------------"
   ]
  },
  {
   "cell_type": "code",
   "execution_count": null,
   "id": "b488729c-2e38-43e8-bba2-d81126f38847",
   "metadata": {},
   "outputs": [],
   "source": [
    "# count the number of times all on-topic keywords appear in the text\n",
    "def count_freq_from_liter(text, on_topic_kws, type):\n",
    "    text = ''.join(e for e in text if (e.isalpha() or e == \" \" or e == \"-\"))\n",
    "    # print(text)\n",
    "    text = text.strip().lower()\n",
    "    # print(text)\n",
    "\n",
    "    text_length = len(text)\n",
    "    keywords_count = {}\n",
    "    keywords_fre = {}\n",
    "\n",
    "    # count the on-topic keywords\n",
    "    for i in range(len(on_topic_kws)):\n",
    "        word_count = count_keyword(text, on_topic_kws[i], len(on_topic_kws[i].split()))\n",
    "        if type == \"count\":\n",
    "            keywords_count[on_topic_kws[i]] = word_count\n",
    "        elif type == \"frequency\":\n",
    "            keywords_fre[on_topic_kws[i]] = math.ceil((word_count*100/text_length))/100\n",
    "        else:\n",
    "            raise Exception(\"Error! The only two options for type are 'count' or 'frequency'!\")\n",
    "    \n",
    "    if type == \"count\":\n",
    "        return keywords_count\n",
    "    elif type == \"frequency\":\n",
    "        return keywords_fre\n",
    "    else:\n",
    "        raise Exception(\"Error! The only two options for type are 'count' or 'frequency'!\")\n",
    "# --------------------start of test code--------------------\n",
    "# text = 'Vision for action: thalamic and cortical inputs to the macaque superior tract neural tracing, parietal lobule The dorsal visual stream, the cortical circuit that in the primate brain is mainly dedicated to the visual control of actions, is split into two routes, a lateral and a medial one, both involved in coding different aspects of sensorimotor control of actions. The lateral route, named \"lateral grasping network\", is mainly involved in the control of the distal part of prehension, namely grasping and manipulation. The medial route, named \"reach-to-grasp network\", is involved in the control of the full deployment of prehension act, from the direction of arm movement to the shaping of the hand according to the object to be grasped. In macaque monkeys, the reach-to-grasp network (the target of this review) includes areas of the superior parietal lobule (SPL) that hosts visual and somatosensory neurons well suited to control goal-directed limb movements toward stationary as well as moving objects. After a brief summary of the neuronal functional properties of these areas, we will analyze their cortical and thalamic inputs thanks to retrograde neuronal tracers separately injected into the SPL areas V6, V6A, PEc, and PE. These areas receive visual and somatosensory information distributed in a caudorostral, visuosomatic trend, and some of them are directly connected with the dorsal premotor cortex. This review is particularly focused on the origin and type of visual information reaching the SPL, and on the functional role this information can play in guiding limb interaction with objects in structured and dynamic environments. Area PEc; Area V6; Area V6A; Dorsal visual stream; Goal-directed arm movement; Sensorimotor integration.'\n",
    "# keywords_count_fre = count_freq_from_liter(text, on_topic_kws, type=\"count\")\n",
    "# print(keywords_count_fre)\n",
    "# ---------------------end of test code---------------------"
   ]
  },
  {
   "cell_type": "code",
   "execution_count": null,
   "id": "93f93d7d-bbbc-4afe-94f7-f12cca267a9a",
   "metadata": {},
   "outputs": [],
   "source": [
    "def info_filling(input_path, output_path):\n",
    "    # scan each row in the potential related literature and extract information\n",
    "    df = pd.read_csv(fpath.poten_litera_csv, sep = \",\")\n",
    "    for ind in df.index:\n",
    "        url = \"\"\n",
    "        text_dict = extract_text(url)\n",
    "        if df[\"PMID\"][ind] == df[\"PMID\"][ind]:\n",
    "            pmid = df[\"PMID\"][ind]\n",
    "            url = \"https://pubmed.ncbi.nlm.nih.gov/\" + pmid + \"/\"\n",
    "            print(url)\n",
    "            response = requests.get(url, headers = plib.headers)\n",
    "            if response.status_code != 200:\n",
    "                raise Exception(\"Error when request webpages!\")\n",
    "            soup = BeautifulSoup(response.content, \"lxml\")\n",
    "            l = soup.find_all(\"a\", {\"class: id-link\"}, {\"data-ga-action\": \"DOI\"})\n",
    "            if(len(l) != 0):\n",
    "                # print(l[0].get_text().strip())\n",
    "                doi = l[0].get_text().strip()\n",
    "            else:\n",
    "                doi = np.nan\n",
    "            l = soup.find_all({\"class\": \"current-id\"}, {\"title\": \"PubMed ID\"})\n",
    "            if(len(l) != 0):\n",
    "                # print(l[0].get_text().strip())\n",
    "                pmcid = l[0].get_text().strip()\n",
    "            else:\n",
    "                doi = np.nan\n",
    "            title = soup.find_all(\"h1\", {\"class\": \"heading-title\"})[0].get_text().strip()\n",
    "            abstract = soup.find_all(\"div\", {\"class\": \"abstract-content selected\"})[0].get_text().strip()\n",
    "            keywords = soup.find_all(\"p\", {\"class\": \"sub-title\"})[0].get_text().strip()\n",
    "\n",
    "            # extract title, abstract, keywords, introduction from the returned html file\n",
    "            # count keywords from title + abstract + keywords\n",
    "            # and make sure the process the text so that only punctuation marks and numbers are removed\n",
    "            text = title + \" \" + title + \" \" + \"abstract\" + \" \" + \"keywords\"\n",
    "            text = text.strip()\n",
    "            text = re.sub(' +', ' ', text)\n",
    "            text = re.sub(r\"[^a-zA-Z' ']\", \"\", text).lower()\n",
    "    \n",
    "            # record the information into json\n",
    "            info_json = {}\n",
    "            info_json['DOI'] = doi\n",
    "            info_json['PMID'] = pmid\n",
    "            info_json['PMCID'] = pmcid\n",
    "            info_json['title'] = title\n",
    "            info_json['abstract'] = abstract\n",
    "            info_json['keywords'] = keywords\n",
    "            info_count = count_freq_from_liter(text, on_topic_kws, type = \"count\")\n",
    "            info_json = {**info_json, **info_count}\n",
    "            print(info_json)\n",
    "            plib.add_row_to_csv(fpath.auto_filtered, info_json)\n",
    "# --------------------start of test code--------------------\n",
    "# test code\n",
    "# ---------------------end of test code---------------------"
   ]
  },
  {
   "cell_type": "code",
   "execution_count": null,
   "id": "f02fb81b",
   "metadata": {},
   "outputs": [],
   "source": [
    "def calcul_index(keywords_count_or_fre, on_topic_kws_weights):\n",
    "    index = 0\n",
    "    for key, value in keywords_count_or_fre.items():\n",
    "        index += keywords_count_or_fre[key] * keywords_count_or_fre[key]\n",
    "    return index\n",
    "# --------------------start of test code--------------------\n",
    "# keywords_count_or_fre = {}\n",
    "# on_topic_kws_weights = {}\n",
    "# index = calcul_related(keywords_count_or_fre, on_topic_kws_weights)\n",
    "# print(index)\n",
    "# ---------------------end of test code---------------------"
   ]
  },
  {
   "cell_type": "code",
   "execution_count": null,
   "id": "84e08f1f",
   "metadata": {},
   "outputs": [],
   "source": [
    "def weight_and_rank(input_path, output_path, on_topic_kws_weights):\n",
    "    df = pd.read_csv(input_path, header=None, sep=\",\")\n",
    "    df.columns = []\n",
    "    for ind in range(len(df)):\n",
    "        text = \"\"\n",
    "        keywords_count_or_fre = (text, on_topic_kws, type)\n",
    "        index = calcul_index(keywords_count_or_fre, on_topic_kws_weights)\n",
    "        df[\"index\"][ind] = index\n",
    "        print(ind)\n",
    "    \n",
    "    # rank\n",
    "    df = df.sort_values(by=['2'], ascending=False)\n",
    "    df.to_csv(output_path, header=True, index=False)\n",
    "    print(\"Weighting and ranking the potentially related literature succeded!\")\n",
    "    print(\"Enjoy reading!\")\n",
    "# --------------------start of test code--------------------\n",
    "# test code\n",
    "# ---------------------end of test code---------------------"
   ]
  },
  {
   "cell_type": "markdown",
   "id": "3e562971",
   "metadata": {},
   "source": [
    "<h3> Main program: </h3> "
   ]
  },
  {
   "cell_type": "code",
   "execution_count": null,
   "id": "e7caf830",
   "metadata": {},
   "outputs": [],
   "source": [
    "# # check all possible full_text_source\n",
    "# input_path = fpath.poten_litra_filtered\n",
    "# df = pd.read_csv(input_path, header=None, sep=\",\")\n",
    "# columns = [\"DOI\", \"PMID\", \"PMCID\", \"Title\", \"full_text_link\", \"full_text_source\", \"pdf_link\"]\n",
    "# df.columns = columns\n",
    "\n",
    "# print(df.head(5))\n",
    "# print(df.shape)\n",
    "# # (10768, 7)\n",
    "\n",
    "# full_text_source = set(df['full_text_source'].tolist())\n",
    "# print(full_text_source)\n",
    "# # {'neuro.psychiatryonline.org', 'submissions.mirasmart.com', 'www.architalbiol.org', 'www.jstage.jst.go.jp', \n",
    "# #  'pubs.asahq.org', 'jpet.aspetjournals.org', 'ajp.psychiatryonline.org', 'papers.ssrn.com', 'ieeexplore.ieee.org', \n",
    "# #  'lww.com', 'n.neurology.org', 'ekja.org', 'symposium.cshlp.org', 'open.bu.edu', 'karger.com', 'wakespace.lib.wfu.edu', \n",
    "# #  'www.ingentaconnect.com', 'www.cambridge.org', 'ujms.net', 'www.taylorfrancis.com', 'journals.biologists.com', \n",
    "# #  'nrc-prod.literatumonline.com', 'opg.optica.org', 'pure.mpg.de', 'link.springer.com', 'neurologia.com', 'www.ajtmh.org', \n",
    "# #  'www.tandfonline.com', 'www.ncbi.nlm.nih.gov', 'www.biorxiv.org', 'journals.physiology.org', 'www.nature.com', \n",
    "# #  'www.thieme-connect.de', 'europepmc.org', 'www.degruyter.com', 'pharmrev.aspetjournals.org', 'academic.oup.com', \n",
    "# #  'var.scholarpedia.org', 'direct.mit.edu', 'journals.sagepub.com', 'www.microbiologyresearch.org', 'journals.aps.org', \n",
    "# #  'www.cabdirect.org', 'www.annualreviews.org', 'journals.lww.com', 'jnm.snmjournals.org', 'www.worldscientific.com', \n",
    "# #  'content.iospress.com:443', 'iovs.arvojournals.org', 'webview.isho.jp', 'books.google.de', 'www.elibrary.ru', \n",
    "# #  'www.theses.fr', 'jamanetwork.com', 'www.rbojournal.org', 'onlinelibrary.wiley.com', 'linkinghub.elsevier.com', \n",
    "# #  'royalsocietypublishing.org', 'www.ahajournals.org', 'www.imrpress.com', 'www.liebertpub.com', 'psycnet.apa.org:443', \n",
    "# #  'pubs.aip.org', 'escholarship.mcgill.ca', 'pubs.acs.org', 'elibrary.ru', 'thejns.org', 'www.science.org'}"
   ]
  },
  {
   "cell_type": "code",
   "execution_count": 1,
   "id": "f00bd791",
   "metadata": {},
   "outputs": [
    {
     "name": "stdout",
     "output_type": "stream",
     "text": [
      "There are no duplicates in the list.\n"
     ]
    }
   ],
   "source": [
    "websites = [\"ncbi.nlm.nih.gov\", \"frontiersin.org\", \"sciencedirect.com\", \"wiley.com\", \"springer.com\", \"europepmc.org\", \n",
    "            \"www.biorxiv.org\", \"www.jneurosci.org\", \"orca.cardiff.ac.uk\", \"www.science.org\", \n",
    "            \"thejns.org\", \"www.cambridge.org\", \"www.ahajournals.org\", \"www.mdpi.com\", \"www.pnas.org\", \"www.nature.com\", \n",
    "            \"www.cell.com\", \"www.eneuro.org\", \"physiology.org\", \"ieee.org\", \"plos.org\", \"jstage.jst.go.jp\", \"biomedcentral.com\", \n",
    "            \"jamanetwork.com\", \"psycnet.apa.org\", \"bmj.com\", \"degruyter.com\", \"karger.com\", \"elifesciences.org\", \n",
    "            \"neurology_org\", \"asahq.org\", \"sagepub.com\", \"ekja.org\", \"liebertpub.com\", \"lww.com\", \"tandfonline.com\", \n",
    "            \"aspetjournals.org\", \"oup.com\", \"royalsocietypublishing.org\", \"psychiatryonline.org\", \"jpn.ca\", \"bu.edu\",\n",
    "            \"agro.icm.edu.pl\", \"lib.wfu.edu\", \"mirasmart.com\", \"jstor.org\", \"mpg.de\"\n",
    "            \"architalbiol.org\", \"jpet.aspetjournals.org\", \"pharmrev.aspetjournals.org\", \"ssrn.com\", \"neurology.org\", \n",
    "            \"symposium.cshlp.org\", \"ingentaconnect.com\", \"ujms.net\", \"taylorfrancis.com\", \"biologists.com\", \"literatumonline.com\",\n",
    "            \"opg.optica.org\", \"neurologia.com\", \"ajtmh.org\", \"www.thieme-connect.de\", \"var.scholarpedia.org\", \"direct.mit.edu\",\n",
    "            \"www.microbiologyresearch.org\", \"journals.aps.org\", \"www.cabdirect.org\", \"www.annualreviews.org\", \"jnm.snmjournals.org\",\n",
    "            \"www.worldscientific.com\", \"content.iospress.com\", \"iovs.arvojournals.org\", \"webview.isho.jp\", \"books.google.de\",\n",
    "            \"www.theses.fr\", \"www.rbojournal.org\", \"linkinghub.elsevier.com\", \"www.imrpress.com\", \"pubs.aip.org\",\n",
    "            \"escholarship.mcgill.ca\", \"pubs.acs.org\", \"elibrary.ru\"]\n",
    "# --------------------start of test code--------------------\n",
    "# if len(websites) == len(set(websites)):\n",
    "#     print(\"There are no duplicates in the list.\")\n",
    "# else:\n",
    "#     print(\"There are duplicates in the list.\")\n",
    "# ---------------------end of test code---------------------"
   ]
  },
  {
   "cell_type": "code",
   "execution_count": null,
   "id": "4b0387fd",
   "metadata": {},
   "outputs": [],
   "source": [
    "# # step 1: extract and filling text\n",
    "# input_path = fpath.poten_litra_filtered\n",
    "# output_path = fpath.poten_litera_litera_db\n",
    "\n",
    "# # clear file\n",
    "# plib.clear_file(output_path)\n",
    "\n",
    "# info_filling(input_path, output_path)(input_path, output_path, 0, 10768)"
   ]
  },
  {
   "cell_type": "code",
   "execution_count": null,
   "id": "9493b7cc",
   "metadata": {},
   "outputs": [],
   "source": [
    "# # step 2: assign index to each literature and rank them\n",
    "# input_path = fpath.poten_litera_litera_db\n",
    "# output_path = fpath.poten_litera_litera_db_ranked\n",
    "\n",
    "# # clear file\n",
    "# plib.clear_file(output_path)\n",
    "\n",
    "# weight_and_rank(input_path, output_path, on_topic_kws_weights)"
   ]
  },
  {
   "cell_type": "markdown",
   "id": "c7fc9ccf",
   "metadata": {},
   "source": [
    "<h3> Next step: manually read papers and find all actually related literature </h3>"
   ]
  }
 ],
 "metadata": {
  "kernelspec": {
   "display_name": "Python 3 (ipykernel)",
   "language": "python",
   "name": "python3"
  },
  "language_info": {
   "codemirror_mode": {
    "name": "ipython",
    "version": 3
   },
   "file_extension": ".py",
   "mimetype": "text/x-python",
   "name": "python",
   "nbconvert_exporter": "python",
   "pygments_lexer": "ipython3",
   "version": "3.10.12"
  }
 },
 "nbformat": 4,
 "nbformat_minor": 5
}

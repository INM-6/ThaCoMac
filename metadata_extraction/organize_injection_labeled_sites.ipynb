{
 "cells": [
  {
   "cell_type": "code",
   "execution_count": 26,
   "metadata": {},
   "outputs": [
    {
     "name": "stdout",
     "output_type": "stream",
     "text": [
      "['the medial part of motor cortex (hindlimb area)', '5', 'the lateral part of precentral motor area (forelimb area)', 'the lateral part of area 6', 'the border region of cortical areas 6 and 9', 'AM', 'CI', 'CM', 'Cdc', 'Csl', 'LP', 'Li', 'MD', 'MDdc', 'MDmf', 'MDpc', 'Pcn', 'Pf', 'Pulm', 'Pulo', 'VA', 'VAmc', 'VLc', 'VLo', 'VLp', 'VLps', 'VPLc', 'VPLo', 'X', 'lateral part of VLc', 'lateral part of VLm', 'lateral part of VLo', 'lateral part of VPLo', 'the intermediate segment of VLc', 'the intermediate segment of VLo', 'the intermediate segment of VPLo']\n",
      "36\n",
      "5\n",
      "31\n"
     ]
    }
   ],
   "source": [
    "# read string from txt file\n",
    "with open('injection_labeled_sites.txt', 'r') as f:\n",
    "    given_string = f.read()\n",
    "    \n",
    "# separate string using \\n\n",
    "list_of_sites = given_string.splitlines()\n",
    "\n",
    "# remove empty strings\n",
    "list_of_sites = [x for x in list_of_sites if x]\n",
    "\n",
    "# find all injection sites as a list that appear as the next element of \"InjectionSite:\"\n",
    "injection_site = []\n",
    "for i in range(len(list_of_sites)):\n",
    "    if list_of_sites[i] == 'InjectionSite:':\n",
    "        injection_site.append(list_of_sites[i+1])\n",
    "        \n",
    "# remove the duplicates in the inection_site\n",
    "injection_site = list(dict.fromkeys(injection_site))\n",
    "        \n",
    "# find all labeled sites as a list that appear as the next elements after \"LabeledSites:\" and before \"Injection:\" or end of the list\n",
    "labeled_site = []\n",
    "for i in range(len(list_of_sites)):\n",
    "    if list_of_sites[i] == 'LabeledSites:':\n",
    "        for j in range(i+1, len(list_of_sites)):\n",
    "            if list_of_sites[j] == 'Injection:':\n",
    "                break\n",
    "            else:\n",
    "                labeled_site.append(list_of_sites[j])\n",
    "\n",
    "# remove \"R:\" and \"A:\" in the labeld list\n",
    "for ele in labeled_site:\n",
    "    if ele == 'R:':\n",
    "        labeled_site.remove('R:')\n",
    "    elif ele == 'A:':\n",
    "        labeled_site.remove('A:')\n",
    "    else:\n",
    "        pass\n",
    "\n",
    "# remove the duplicates in the labeled_site\n",
    "labeled_site = list(dict.fromkeys(labeled_site))\n",
    "\n",
    "# rank the labeled_site arphabetically\n",
    "labeled_site.sort()\n",
    "\n",
    "# merge injection_site and labeled_site\n",
    "list_of_sites = injection_site + labeled_site\n",
    "\n",
    "print(list_of_sites)\n",
    "print(len(list_of_sites))\n",
    "print(len(injection_site))\n",
    "print(len(labeled_site))\n",
    "\n",
    "# merge all elements in the list and seperate by \\n into a string and write back to txt file\n",
    "with open('areas_to_map.txt', 'w') as f:\n",
    "    f.write('\\n'.join(list_of_sites))"
   ]
  }
 ],
 "metadata": {
  "kernelspec": {
   "display_name": "myenv",
   "language": "python",
   "name": "python3"
  },
  "language_info": {
   "codemirror_mode": {
    "name": "ipython",
    "version": 3
   },
   "file_extension": ".py",
   "mimetype": "text/x-python",
   "name": "python",
   "nbconvert_exporter": "python",
   "pygments_lexer": "ipython3",
   "version": "3.10.13"
  }
 },
 "nbformat": 4,
 "nbformat_minor": 2
}

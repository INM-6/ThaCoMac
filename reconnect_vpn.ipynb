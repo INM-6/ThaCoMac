{
 "cells": [
  {
   "cell_type": "code",
   "execution_count": 32,
   "metadata": {},
   "outputs": [],
   "source": [
    "import subprocess\n",
    "import time\n",
    "import requests"
   ]
  },
  {
   "cell_type": "code",
   "execution_count": 33,
   "metadata": {},
   "outputs": [],
   "source": [
    "def reconnect_vpn_switch_ip():\n",
    "    try:\n",
    "        # disconnect\n",
    "        command = \"/opt/cisco/anyconnect/bin/vpn -s < /Users/didihou/myProjects/didihou_master_project/.login_out_info\"\n",
    "        process = subprocess.Popen(\"exec \" + command, shell=True, stdout=subprocess.PIPE, stderr=subprocess.PIPE, text=True)\n",
    "        # read and print the output in real-time\n",
    "        for line in process.stdout:\n",
    "            print(line.strip())\n",
    "        for line in process.stderr:\n",
    "            print(line.strip())\n",
    "        # terminate the process after the sleep time\n",
    "        time.sleep(20)\n",
    "\n",
    "        # reconnect\n",
    "        command = \"/opt/cisco/anyconnect/bin/vpn -s < /Users/didihou/myProjects/didihou_master_project/.login_in_info\"\n",
    "        process = subprocess.Popen(\"exec \" + command, shell=True, stdout=subprocess.PIPE, stderr=subprocess.PIPE, text=True)\n",
    "        for line in process.stdout:\n",
    "            print(line.strip())\n",
    "        for line in process.stderr:\n",
    "            print(line.strip())\n",
    "        # terminate the process after the sleep time\n",
    "        time.sleep(10)\n",
    "    except:\n",
    "        print(f\"Error when reconnecting RWTH VPN!\")"
   ]
  },
  {
   "cell_type": "code",
   "execution_count": 34,
   "metadata": {},
   "outputs": [
    {
     "name": "stdout",
     "output_type": "stream",
     "text": [
      "My public IP address is: 134.61.98.198\n",
      "Cisco AnyConnect Secure Mobility Client (version 4.10.07061) .\n",
      "\n",
      "Copyright (c) 2004 - 2023 Cisco Systems, Inc.  All Rights Reserved.\n",
      "\n",
      "\n",
      "\n",
      ">> state: Connected\n",
      "\n",
      "VPN>\n",
      ">> state: Connected\n",
      "\n",
      "VPN>\n",
      ">> registered with local VPN subsystem.\n",
      "\n",
      "VPN> connect vpn.rwth-aachen.de\n",
      "\n",
      ">> contacting host (vpn.rwth-aachen.de) for login information...\n",
      "\n",
      "VPN>\n",
      ">> state: Connected\n",
      "\n",
      "VPN>\n",
      ">> state: Connected\n",
      "\n",
      "VPN>\n",
      ">> notice: Connected to vpn.rwth-aachen.de (SSLVPN).\n",
      "\n",
      "VPN>\n",
      ">> notice: Connected to vpn.rwth-aachen.de.\n",
      "\n",
      "VPN>\n",
      ">> notice: Connected to vpn.rwth-aachen.de.\n",
      "\n",
      "VPN>\n",
      ">> notice: Connected to vpn.rwth-aachen.de.\n",
      "\n",
      "VPN>\n",
      "[ VPN Connection commands ]\n",
      "connect             disconnect        hosts         stats\n",
      "state               block             cancel\n",
      "\n",
      "[ Misc commands ]\n",
      "help                version           exit\n",
      "\n",
      "For help with a specific command, try: help <command>\n",
      "\n",
      "\n"
     ]
    },
    {
     "ename": "KeyboardInterrupt",
     "evalue": "",
     "output_type": "error",
     "traceback": [
      "\u001b[0;31m---------------------------------------------------------------------------\u001b[0m",
      "\u001b[0;31mKeyboardInterrupt\u001b[0m                         Traceback (most recent call last)",
      "Cell \u001b[0;32mIn[34], line 8\u001b[0m\n\u001b[1;32m      6\u001b[0m command \u001b[39m=\u001b[39m \u001b[39m\"\u001b[39m\u001b[39m/opt/cisco/anyconnect/bin/vpn -s < /Users/didihou/myProjects/didihou_master_project/.login_in_info\u001b[39m\u001b[39m\"\u001b[39m\n\u001b[1;32m      7\u001b[0m process \u001b[39m=\u001b[39m subprocess\u001b[39m.\u001b[39mPopen(\u001b[39m\"\u001b[39m\u001b[39mexec \u001b[39m\u001b[39m\"\u001b[39m \u001b[39m+\u001b[39m command, shell\u001b[39m=\u001b[39m\u001b[39mTrue\u001b[39;00m, stdout\u001b[39m=\u001b[39msubprocess\u001b[39m.\u001b[39mPIPE, stderr\u001b[39m=\u001b[39msubprocess\u001b[39m.\u001b[39mPIPE, text\u001b[39m=\u001b[39m\u001b[39mTrue\u001b[39;00m)\n\u001b[0;32m----> 8\u001b[0m \u001b[39mfor\u001b[39;00m line \u001b[39min\u001b[39;00m process\u001b[39m.\u001b[39mstdout:\n\u001b[1;32m      9\u001b[0m     \u001b[39mprint\u001b[39m(line\u001b[39m.\u001b[39mstrip())\n\u001b[1;32m     10\u001b[0m \u001b[39mfor\u001b[39;00m line \u001b[39min\u001b[39;00m process\u001b[39m.\u001b[39mstderr:\n",
      "\u001b[0;31mKeyboardInterrupt\u001b[0m: "
     ]
    }
   ],
   "source": [
    "# print ip address before you connect to vpn\n",
    "ip = requests.get('https://api.ipify.org').content.decode('utf8')\n",
    "print('My public IP address is: {}'.format(ip))\n",
    "\n",
    "# connect to the vpn\n",
    "command = \"/opt/cisco/anyconnect/bin/vpn -s < /Users/didihou/myProjects/didihou_master_project/.login_in_info\"\n",
    "process = subprocess.Popen(\"exec \" + command, shell=True, stdout=subprocess.PIPE, stderr=subprocess.PIPE, text=True)\n",
    "for line in process.stdout:\n",
    "    print(line.strip())\n",
    "for line in process.stderr:\n",
    "    print(line.strip())\n",
    "# terminate the process after the sleep time\n",
    "time.sleep(10)\n",
    "\n",
    "# reconnect every 2 minutes\n",
    "while(True):\n",
    "    ip = requests.get('https://api.ipify.org').content.decode('utf8')\n",
    "    print('My public IP address is: {}'.format(ip))\n",
    "    time.sleep(1*60)\n",
    "    reconnect_vpn_switch_ip()"
   ]
  }
 ],
 "metadata": {
  "kernelspec": {
   "display_name": "myenv",
   "language": "python",
   "name": "python3"
  },
  "language_info": {
   "codemirror_mode": {
    "name": "ipython",
    "version": 3
   },
   "file_extension": ".py",
   "mimetype": "text/x-python",
   "name": "python",
   "nbconvert_exporter": "python",
   "pygments_lexer": "ipython3",
   "version": "3.10.12"
  },
  "orig_nbformat": 4
 },
 "nbformat": 4,
 "nbformat_minor": 2
}

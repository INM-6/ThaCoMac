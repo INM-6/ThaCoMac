{
 "cells": [
  {
   "cell_type": "code",
   "execution_count": 1,
   "metadata": {},
   "outputs": [],
   "source": [
    "import subprocess\n",
    "import time\n",
    "import requests\n",
    "import random"
   ]
  },
  {
   "cell_type": "code",
   "execution_count": 2,
   "metadata": {},
   "outputs": [],
   "source": [
    "def disconnect_vpn():\n",
    "    try:\n",
    "        # disconnect\n",
    "        command = \"/opt/cisco/anyconnect/bin/vpn -s < /Users/didihou/myProjects/didihou_master_project/.login_out_info\"\n",
    "        process = subprocess.Popen(\"exec \" + command, shell=True, stdout=subprocess.PIPE, stderr=subprocess.PIPE, text=True)\n",
    "        # read and print the output in real-time\n",
    "        # for line in process.stdout:\n",
    "        #     print(line.strip())\n",
    "        # for line in process.stderr:\n",
    "        #     print(line.strip())\n",
    "        # wait until the exit and termination of the process\n",
    "        time.sleep(20)\n",
    "    except:\n",
    "        raise Exception(\"Error when disconnecting RWTH VPN!\")"
   ]
  },
  {
   "cell_type": "code",
   "execution_count": 3,
   "metadata": {},
   "outputs": [],
   "source": [
    "def connect_vpn():\n",
    "    try:\n",
    "        # connect\n",
    "        command = \"/opt/cisco/anyconnect/bin/vpn -s < /Users/didihou/myProjects/didihou_master_project/.login_in_info\"\n",
    "        process = subprocess.Popen(\"exec \" + command, shell=True, stdout=subprocess.PIPE, stderr=subprocess.PIPE, text=True)\n",
    "        # for line in process.stdout:\n",
    "        #     print(line.strip())\n",
    "        # for line in process.stderr:\n",
    "        #     print(line.strip())\n",
    "        # wait until the exit and termination of the process\n",
    "        time.sleep(20)\n",
    "    except:\n",
    "        raise Exception(\"Error when connecting RWTH VPN!\")"
   ]
  },
  {
   "cell_type": "code",
   "execution_count": 4,
   "metadata": {},
   "outputs": [
    {
     "name": "stdout",
     "output_type": "stream",
     "text": [
      "My public IP address without VPN connection is: 137.226.143.146\n",
      "My current public IP address is: 134.61.96.3\n",
      "My current public IP address is: 134.61.96.126\n",
      "My current public IP address is: 134.61.96.132\n",
      "My current public IP address is: 134.61.96.61\n",
      "My current public IP address is: 134.61.98.70\n",
      "My current public IP address is: 134.61.96.140\n",
      "My current public IP address is: 134.61.96.140\n",
      "My current public IP address is: 134.61.96.140\n",
      "My current public IP address is: 134.61.96.150\n",
      "My current public IP address is: 134.61.96.57\n",
      "My current public IP address is: 134.61.96.23\n",
      "My current public IP address is: 134.61.98.247\n",
      "My current public IP address is: 134.61.98.247\n",
      "My current public IP address is: 134.61.98.247\n",
      "My current public IP address is: 134.61.98.247\n",
      "My current public IP address is: 134.61.96.175\n",
      "My current public IP address is: 134.61.96.175\n",
      "My current public IP address is: 134.61.96.180\n",
      "My current public IP address is: 134.61.96.110\n",
      "My current public IP address is: 134.61.96.110\n"
     ]
    }
   ],
   "source": [
    "# print ip address before you connect to vpn\n",
    "ip_orginal = requests.get('https://api.ipify.org').content.decode('utf8')\n",
    "print('My public IP address without VPN connection is: {}'.format(ip_orginal))\n",
    "\n",
    "connect_vpn()\n",
    "\n",
    "while(True):\n",
    "    current_ip = requests.get('https://api.ipify.org').content.decode('utf8')\n",
    "    print('My current public IP address is: {}'.format(current_ip))\n",
    "    time.sleep(random.randint(2*60, 3*60))\n",
    "    \n",
    "    # disconnect\n",
    "    while(current_ip != ip_orginal):\n",
    "        time.sleep(20)\n",
    "        # print(\"Disconnecting...\")\n",
    "        disconnect_vpn()\n",
    "        current_ip = requests.get('https://api.ipify.org').content.decode('utf8')\n",
    "    \n",
    "    connect_vpn()"
   ]
  }
 ],
 "metadata": {
  "kernelspec": {
   "display_name": "myenv",
   "language": "python",
   "name": "python3"
  },
  "language_info": {
   "codemirror_mode": {
    "name": "ipython",
    "version": 3
   },
   "file_extension": ".py",
   "mimetype": "text/x-python",
   "name": "python",
   "nbconvert_exporter": "python",
   "pygments_lexer": "ipython3",
   "version": "3.10.12"
  },
  "orig_nbformat": 4
 },
 "nbformat": 4,
 "nbformat_minor": 2
}

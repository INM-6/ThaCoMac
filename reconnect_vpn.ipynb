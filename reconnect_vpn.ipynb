{
 "cells": [
  {
   "cell_type": "code",
   "execution_count": 1,
   "metadata": {},
   "outputs": [
    {
     "name": "stderr",
     "output_type": "stream",
     "text": [
      "2023-08-26 20:25:49 Didis-MacBook-Pro.local metapub.config[13959] WARNING NCBI_API_KEY was not set.\n"
     ]
    }
   ],
   "source": [
    "# import internal modules\n",
    "import file_path_management as fpath\n",
    "import public_library as plib\n",
    "import extract_info\n",
    "import parameters as params"
   ]
  },
  {
   "cell_type": "code",
   "execution_count": 2,
   "metadata": {},
   "outputs": [],
   "source": [
    "# import packages\n",
    "import subprocess\n",
    "import time\n",
    "import requests\n",
    "import random"
   ]
  },
  {
   "cell_type": "code",
   "execution_count": 3,
   "metadata": {},
   "outputs": [],
   "source": [
    "def disconnect_vpn():\n",
    "    try:\n",
    "        # disconnect\n",
    "        command = \"/opt/cisco/anyconnect/bin/vpn -s < ./.login_out_info\"\n",
    "        process = subprocess.Popen(\"exec \" + command, shell=True, stdout=subprocess.PIPE, stderr=subprocess.PIPE, text=True)\n",
    "        # read and print the output in real-time\n",
    "        # for line in process.stdout:\n",
    "        #     print(line.strip())\n",
    "        # for line in process.stderr:\n",
    "        #     print(line.strip())\n",
    "        # wait until the exit and termination of the process\n",
    "        time.sleep(20)\n",
    "    except:\n",
    "        raise Exception(\"Error when disconnecting RWTH VPN!\")"
   ]
  },
  {
   "cell_type": "code",
   "execution_count": 4,
   "metadata": {},
   "outputs": [],
   "source": [
    "def connect_vpn():\n",
    "    try:\n",
    "        # connect\n",
    "        command = \"/opt/cisco/anyconnect/bin/vpn -s < ./.login_in_info\"\n",
    "        process = subprocess.Popen(\"exec \" + command, shell=True, stdout=subprocess.PIPE, stderr=subprocess.PIPE, text=True)\n",
    "        # read and print the output in real-time\n",
    "        # for line in process.stdout:\n",
    "        #     print(line.strip())\n",
    "        # for line in process.stderr:\n",
    "        #     print(line.strip())\n",
    "        # wait until the exit and termination of the process\n",
    "        time.sleep(20)\n",
    "    except:\n",
    "        raise Exception(\"Error when connecting RWTH VPN!\")"
   ]
  },
  {
   "cell_type": "code",
   "execution_count": 5,
   "metadata": {},
   "outputs": [
    {
     "name": "stdout",
     "output_type": "stream",
     "text": [
      "My public IP address without VPN connection is: 137.226.143.146\n",
      "My current public IP address is: 134.61.98.202\n",
      "Disconnecting...\n",
      "My current public IP address is: 134.61.98.58\n",
      "Disconnecting...\n",
      "Disconnecting...\n",
      "My current public IP address is: 134.61.98.210\n",
      "Disconnecting...\n",
      "My current public IP address is: 134.61.98.213\n",
      "Disconnecting...\n",
      "My current public IP address is: 134.61.98.216\n",
      "Disconnecting...\n",
      "My current public IP address is: 134.61.98.94\n",
      "Disconnecting...\n",
      "My current public IP address is: 134.61.97.189\n",
      "Disconnecting...\n",
      "My current public IP address is: 134.61.98.224\n",
      "Disconnecting...\n",
      "Disconnecting...\n",
      "My current public IP address is: 134.61.98.160\n",
      "Disconnecting...\n",
      "My current public IP address is: 134.61.97.181\n",
      "Disconnecting...\n",
      "My current public IP address is: 134.61.98.235\n",
      "Disconnecting...\n",
      "My current public IP address is: 134.61.98.236\n",
      "Disconnecting...\n",
      "My current public IP address is: 134.61.98.239\n",
      "Disconnecting...\n",
      "My current public IP address is: 134.61.98.241\n"
     ]
    }
   ],
   "source": [
    "# print ip address before you connect to vpn\n",
    "ip_orginal = requests.get('https://api.ipify.org', headers=plib.headers).content.decode('utf8')\n",
    "print('My public IP address without VPN connection is: {}'.format(ip_orginal))\n",
    "\n",
    "connect_vpn()\n",
    "\n",
    "while(True):\n",
    "    current_ip = requests.get('https://api.ipify.org').content.decode('utf8')\n",
    "    print('My current public IP address is: {}'.format(current_ip))\n",
    "    time.sleep(2*60)\n",
    "    \n",
    "    # disconnect\n",
    "    while(current_ip != ip_orginal):\n",
    "        time.sleep(10)\n",
    "        print(\"Disconnecting...\")\n",
    "        disconnect_vpn()\n",
    "        current_ip = requests.get('https://api.ipify.org').content.decode('utf8')\n",
    "    \n",
    "    connect_vpn()"
   ]
  }
 ],
 "metadata": {
  "kernelspec": {
   "display_name": "myenv",
   "language": "python",
   "name": "python3"
  },
  "language_info": {
   "codemirror_mode": {
    "name": "ipython",
    "version": 3
   },
   "file_extension": ".py",
   "mimetype": "text/x-python",
   "name": "python",
   "nbconvert_exporter": "python",
   "pygments_lexer": "ipython3",
   "version": "3.10.12"
  },
  "orig_nbformat": 4
 },
 "nbformat": 4,
 "nbformat_minor": 2
}

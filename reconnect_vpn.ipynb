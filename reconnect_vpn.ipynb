{
 "cells": [
  {
   "cell_type": "code",
   "execution_count": null,
   "metadata": {},
   "outputs": [],
   "source": [
    "import subprocess\n",
    "import time\n",
    "import requests\n",
    "import random"
   ]
  },
  {
   "cell_type": "code",
   "execution_count": null,
   "metadata": {},
   "outputs": [],
   "source": [
    "def disconnect_vpn():\n",
    "    try:\n",
    "        # disconnect\n",
    "        command = \"/opt/cisco/anyconnect/bin/vpn -s < /Users/didihou/myProjects/didihou_master_project/.login_out_info\"\n",
    "        process = subprocess.Popen(\"exec \" + command, shell=True, stdout=subprocess.PIPE, stderr=subprocess.PIPE, text=True)\n",
    "        # read and print the output in real-time\n",
    "        for line in process.stdout:\n",
    "            print(line.strip())\n",
    "        for line in process.stderr:\n",
    "            print(line.strip())\n",
    "        # terminate the process after the sleep time\n",
    "        time.sleep(20)\n",
    "    except:\n",
    "        raise Exception(\"Error when disconnecting RWTH VPN!\")"
   ]
  },
  {
   "cell_type": "code",
   "execution_count": null,
   "metadata": {},
   "outputs": [],
   "source": [
    "def connect_vpn():\n",
    "    try:\n",
    "        # reconnect\n",
    "        command = \"/opt/cisco/anyconnect/bin/vpn -s < /Users/didihou/myProjects/didihou_master_project/.login_in_info\"\n",
    "        process = subprocess.Popen(\"exec \" + command, shell=True, stdout=subprocess.PIPE, stderr=subprocess.PIPE, text=True)\n",
    "        for line in process.stdout:\n",
    "            print(line.strip())\n",
    "        for line in process.stderr:\n",
    "            print(line.strip())\n",
    "        # terminate the process after the sleep time\n",
    "        time.sleep(20)\n",
    "    except:\n",
    "        raise Exception(\"Error when connecting RWTH VPN!\")"
   ]
  },
  {
   "cell_type": "code",
   "execution_count": null,
   "metadata": {},
   "outputs": [],
   "source": [
    "# print ip address before you connect to vpn\n",
    "ip = requests.get('https://api.ipify.org').content.decode('utf8')\n",
    "print('My public IP address without VPN connection is: {}'.format(ip))\n",
    "\n",
    "connect_vpn()\n",
    "while():\n",
    "    ip = requests.get('https://api.ipify.org').content.decode('utf8')\n",
    "    print('My public IP address is: {}'.format(ip))\n",
    "    time.sleep(random.randint(5*50, 10*60))\n",
    "    disconnect_vpn()\n",
    "    time.sleep(5)\n",
    "    connect_vpn()"
   ]
  }
 ],
 "metadata": {
  "kernelspec": {
   "display_name": "myenv",
   "language": "python",
   "name": "python3"
  },
  "language_info": {
   "codemirror_mode": {
    "name": "ipython",
    "version": 3
   },
   "file_extension": ".py",
   "mimetype": "text/x-python",
   "name": "python",
   "nbconvert_exporter": "python",
   "pygments_lexer": "ipython3",
   "version": "3.10.12"
  },
  "orig_nbformat": 4
 },
 "nbformat": 4,
 "nbformat_minor": 2
}

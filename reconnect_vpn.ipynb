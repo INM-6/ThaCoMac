{
 "cells": [
  {
   "cell_type": "code",
   "execution_count": 1,
   "metadata": {},
   "outputs": [
    {
     "name": "stderr",
     "output_type": "stream",
     "text": [
      "2023-08-03 11:17:31 GM01X680 metapub.config[48896] WARNING NCBI_API_KEY was not set.\n"
     ]
    }
   ],
   "source": [
    "# import internal .py modules\n",
    "import file_path_management as fpath\n",
    "import public_library as plib"
   ]
  },
  {
   "cell_type": "code",
   "execution_count": 2,
   "metadata": {},
   "outputs": [],
   "source": [
    "# import packages\n",
    "import subprocess\n",
    "import time\n",
    "import requests\n",
    "import random"
   ]
  },
  {
   "cell_type": "code",
   "execution_count": 3,
   "metadata": {},
   "outputs": [],
   "source": [
    "def disconnect_vpn():\n",
    "    try:\n",
    "        # disconnect\n",
    "        command = \"/opt/cisco/anyconnect/bin/vpn -s < /Users/didihou/myProjects/didihou_master_project/.login_out_info\"\n",
    "        process = subprocess.Popen(\"exec \" + command, shell=True, stdout=subprocess.PIPE, stderr=subprocess.PIPE, text=True)\n",
    "        # read and print the output in real-time\n",
    "        # for line in process.stdout:\n",
    "        #     print(line.strip())\n",
    "        # for line in process.stderr:\n",
    "        #     print(line.strip())\n",
    "        # wait until the exit and termination of the process\n",
    "        time.sleep(20)\n",
    "    except:\n",
    "        raise Exception(\"Error when disconnecting RWTH VPN!\")"
   ]
  },
  {
   "cell_type": "code",
   "execution_count": 4,
   "metadata": {},
   "outputs": [],
   "source": [
    "def connect_vpn():\n",
    "    try:\n",
    "        # connect\n",
    "        command = \"/opt/cisco/anyconnect/bin/vpn -s < /Users/didihou/myProjects/didihou_master_project/.login_in_info\"\n",
    "        process = subprocess.Popen(\"exec \" + command, shell=True, stdout=subprocess.PIPE, stderr=subprocess.PIPE, text=True)\n",
    "        # for line in process.stdout:\n",
    "        #     print(line.strip())\n",
    "        # for line in process.stderr:\n",
    "        #     print(line.strip())\n",
    "        # wait until the exit and termination of the process\n",
    "        time.sleep(20)\n",
    "    except:\n",
    "        raise Exception(\"Error when connecting RWTH VPN!\")"
   ]
  },
  {
   "cell_type": "code",
   "execution_count": 5,
   "metadata": {},
   "outputs": [
    {
     "name": "stdout",
     "output_type": "stream",
     "text": [
      "My public IP address without VPN connection is: 137.226.143.146\n",
      "My current public IP address is: 137.226.143.146\n"
     ]
    },
    {
     "ename": "KeyboardInterrupt",
     "evalue": "",
     "output_type": "error",
     "traceback": [
      "\u001b[0;31m---------------------------------------------------------------------------\u001b[0m",
      "\u001b[0;31mKeyboardInterrupt\u001b[0m                         Traceback (most recent call last)",
      "Cell \u001b[0;32mIn[5], line 10\u001b[0m\n\u001b[1;32m      8\u001b[0m current_ip \u001b[39m=\u001b[39m requests\u001b[39m.\u001b[39mget(\u001b[39m'\u001b[39m\u001b[39mhttps://api.ipify.org\u001b[39m\u001b[39m'\u001b[39m)\u001b[39m.\u001b[39mcontent\u001b[39m.\u001b[39mdecode(\u001b[39m'\u001b[39m\u001b[39mutf8\u001b[39m\u001b[39m'\u001b[39m)\n\u001b[1;32m      9\u001b[0m \u001b[39mprint\u001b[39m(\u001b[39m'\u001b[39m\u001b[39mMy current public IP address is: \u001b[39m\u001b[39m{}\u001b[39;00m\u001b[39m'\u001b[39m\u001b[39m.\u001b[39mformat(current_ip))\n\u001b[0;32m---> 10\u001b[0m time\u001b[39m.\u001b[39;49msleep(\u001b[39m2\u001b[39;49m\u001b[39m*\u001b[39;49m\u001b[39m60\u001b[39;49m)\n\u001b[1;32m     12\u001b[0m \u001b[39m# disconnect\u001b[39;00m\n\u001b[1;32m     13\u001b[0m \u001b[39mwhile\u001b[39;00m(current_ip \u001b[39m!=\u001b[39m ip_orginal):\n",
      "\u001b[0;31mKeyboardInterrupt\u001b[0m: "
     ]
    }
   ],
   "source": [
    "# print ip address before you connect to vpn\n",
    "ip_orginal = requests.get('https://api.ipify.org', headers=plib.headers).content.decode('utf8')\n",
    "print('My public IP address without VPN connection is: {}'.format(ip_orginal))\n",
    "\n",
    "connect_vpn()\n",
    "\n",
    "while(True):\n",
    "    current_ip = requests.get('https://api.ipify.org').content.decode('utf8')\n",
    "    print('My current public IP address is: {}'.format(current_ip))\n",
    "    time.sleep(2*60)\n",
    "    \n",
    "    # disconnect\n",
    "    while(current_ip != ip_orginal):\n",
    "        time.sleep(20)\n",
    "        print(\"Disconnecting...\")\n",
    "        disconnect_vpn()\n",
    "        current_ip = requests.get('https://api.ipify.org').content.decode('utf8')\n",
    "    \n",
    "    connect_vpn()"
   ]
  }
 ],
 "metadata": {
  "kernelspec": {
   "display_name": "myenv",
   "language": "python",
   "name": "python3"
  },
  "language_info": {
   "codemirror_mode": {
    "name": "ipython",
    "version": 3
   },
   "file_extension": ".py",
   "mimetype": "text/x-python",
   "name": "python",
   "nbconvert_exporter": "python",
   "pygments_lexer": "ipython3",
   "version": "3.10.12"
  },
  "orig_nbformat": 4
 },
 "nbformat": 4,
 "nbformat_minor": 2
}

{
 "cells": [
  {
   "cell_type": "code",
   "execution_count": 1,
   "metadata": {},
   "outputs": [],
   "source": [
    "import subprocess\n",
    "import time"
   ]
  },
  {
   "cell_type": "code",
   "execution_count": 2,
   "metadata": {},
   "outputs": [],
   "source": [
    "def reconnect_vpn_switch_ip():\n",
    "    try:\n",
    "        # start the process and execute the commands\n",
    "        command = \"/opt/cisco/anyconnect/bin/vpn -s < /Users/didihou/myProjects/didihou_master_project/.login_in_info\"\n",
    "        process = subprocess.Popen(command, shell=True, stdout=subprocess.PIPE, stderr=subprocess.PIPE, text=True)\n",
    "\n",
    "        # read and print the output in real-time\n",
    "        # for line in process.stdout:\n",
    "        #     print(line.strip())\n",
    "        # for line in process.stderr:\n",
    "        #     print(line.strip())\n",
    "        \n",
    "        # terminate the process after the sleep time\n",
    "        time.sleep(5)\n",
    "        process.kill()\n",
    "        process.wait()  # Wait for the process to finish\n",
    "\n",
    "        sleep_time = 60\n",
    "\n",
    "        command = \"/opt/cisco/anyconnect/bin/vpn -s < /Users/didihou/myProjects/didihou_master_project/.login_out_info\"\n",
    "        process = subprocess.Popen(command, shell=True, stdout=subprocess.PIPE, stderr=subprocess.PIPE, text=True)\n",
    "\n",
    "        # read and print the output in real-time\n",
    "        # for line in process.stdout:\n",
    "        #     print(line.strip())\n",
    "        # for line in process.stderr:\n",
    "        #     print(line.strip())\n",
    "        \n",
    "        # terminate the process after the sleep time\n",
    "        time.sleep(5)\n",
    "        process.kill()\n",
    "        process.wait()  # Wait for the process to finish\n",
    "    except:\n",
    "        print(f\"Error when reconnecting RWTH VPN!\")"
   ]
  },
  {
   "cell_type": "code",
   "execution_count": 3,
   "metadata": {},
   "outputs": [
    {
     "name": "stdout",
     "output_type": "stream",
     "text": [
      "Error when reconnecting RWTH VPN!\n"
     ]
    }
   ],
   "source": [
    "while(True):\n",
    "    reconnect_vpn_switch_ip()"
   ]
  }
 ],
 "metadata": {
  "kernelspec": {
   "display_name": "myenv",
   "language": "python",
   "name": "python3"
  },
  "language_info": {
   "codemirror_mode": {
    "name": "ipython",
    "version": 3
   },
   "file_extension": ".py",
   "mimetype": "text/x-python",
   "name": "python",
   "nbconvert_exporter": "python",
   "pygments_lexer": "ipython3",
   "version": "3.10.12"
  },
  "orig_nbformat": 4
 },
 "nbformat": 4,
 "nbformat_minor": 2
}

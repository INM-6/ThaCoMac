{
 "cells": [
  {
   "cell_type": "code",
   "execution_count": 1,
   "metadata": {},
   "outputs": [
    {
     "name": "stderr",
     "output_type": "stream",
     "text": [
      "2023-07-31 12:46:49 073-133.eduroam.rwth-aachen.de metapub.config[36910] WARNING NCBI_API_KEY was not set.\n"
     ]
    }
   ],
   "source": [
    "# import internal .py modules\n",
    "import file_path_management as fpath\n",
    "import public_library as plib"
   ]
  },
  {
   "cell_type": "code",
   "execution_count": 2,
   "metadata": {},
   "outputs": [],
   "source": [
    "# import packages\n",
    "import subprocess\n",
    "import time\n",
    "import requests\n",
    "import random"
   ]
  },
  {
   "cell_type": "code",
   "execution_count": 3,
   "metadata": {},
   "outputs": [],
   "source": [
    "def disconnect_vpn():\n",
    "    try:\n",
    "        # disconnect\n",
    "        command = \"/opt/cisco/anyconnect/bin/vpn -s < /Users/didihou/myProjects/didihou_master_project/.login_out_info\"\n",
    "        process = subprocess.Popen(\"exec \" + command, shell=True, stdout=subprocess.PIPE, stderr=subprocess.PIPE, text=True)\n",
    "        # read and print the output in real-time\n",
    "        # for line in process.stdout:\n",
    "        #     print(line.strip())\n",
    "        # for line in process.stderr:\n",
    "        #     print(line.strip())\n",
    "        # wait until the exit and termination of the process\n",
    "        time.sleep(20)\n",
    "    except:\n",
    "        raise Exception(\"Error when disconnecting RWTH VPN!\")"
   ]
  },
  {
   "cell_type": "code",
   "execution_count": 4,
   "metadata": {},
   "outputs": [],
   "source": [
    "def connect_vpn():\n",
    "    try:\n",
    "        # connect\n",
    "        command = \"/opt/cisco/anyconnect/bin/vpn -s < /Users/didihou/myProjects/didihou_master_project/.login_in_info\"\n",
    "        process = subprocess.Popen(\"exec \" + command, shell=True, stdout=subprocess.PIPE, stderr=subprocess.PIPE, text=True)\n",
    "        # for line in process.stdout:\n",
    "        #     print(line.strip())\n",
    "        # for line in process.stderr:\n",
    "        #     print(line.strip())\n",
    "        # wait until the exit and termination of the process\n",
    "        time.sleep(20)\n",
    "    except:\n",
    "        raise Exception(\"Error when connecting RWTH VPN!\")"
   ]
  },
  {
   "cell_type": "code",
   "execution_count": 5,
   "metadata": {},
   "outputs": [
    {
     "name": "stdout",
     "output_type": "stream",
     "text": [
      "My public IP address without VPN connection is: 134.61.73.133\n",
      "My current public IP address is: 134.61.99.160\n",
      "My current public IP address is: 134.61.97.229\n",
      "My current public IP address is: 134.61.96.126\n",
      "My current public IP address is: 134.61.96.68\n",
      "My current public IP address is: 134.61.99.63\n",
      "My current public IP address is: 134.61.97.169\n",
      "My current public IP address is: 134.61.98.146\n",
      "My current public IP address is: 134.61.96.173\n",
      "My current public IP address is: 134.61.96.236\n",
      "My current public IP address is: 134.61.96.189\n",
      "My current public IP address is: 134.61.96.195\n",
      "My current public IP address is: 134.61.96.211\n",
      "My current public IP address is: 134.61.97.189\n",
      "My current public IP address is: 134.61.96.227\n",
      "My current public IP address is: 134.61.99.194\n",
      "My current public IP address is: 134.61.96.172\n",
      "My current public IP address is: 134.61.97.4\n",
      "My current public IP address is: 134.61.97.11\n",
      "My current public IP address is: 134.61.97.26\n",
      "My current public IP address is: 134.61.96.246\n",
      "My current public IP address is: 134.61.97.47\n",
      "My current public IP address is: 134.61.96.70\n",
      "My current public IP address is: 134.61.99.85\n",
      "My current public IP address is: 134.61.97.72\n",
      "My current public IP address is: 134.61.97.81\n",
      "My current public IP address is: 134.61.96.223\n",
      "My current public IP address is: 134.61.97.236\n",
      "My current public IP address is: 134.61.97.99\n",
      "My current public IP address is: 134.61.97.26\n",
      "My current public IP address is: 134.61.99.160\n",
      "My current public IP address is: 134.61.97.242\n",
      "My current public IP address is: 134.61.98.134\n",
      "My current public IP address is: 134.61.97.138\n",
      "My current public IP address is: 134.61.97.146\n",
      "My current public IP address is: 134.61.96.82\n"
     ]
    }
   ],
   "source": [
    "# print ip address before you connect to vpn\n",
    "ip_orginal = requests.get('https://api.ipify.org', headers=plib.headers).content.decode('utf8')\n",
    "print('My public IP address without VPN connection is: {}'.format(ip_orginal))\n",
    "\n",
    "connect_vpn()\n",
    "\n",
    "while(True):\n",
    "    current_ip = requests.get('https://api.ipify.org').content.decode('utf8')\n",
    "    print('My current public IP address is: {}'.format(current_ip))\n",
    "    time.sleep(random.randint(2*60, 3*60))\n",
    "    \n",
    "    # disconnect\n",
    "    while(current_ip != ip_orginal):\n",
    "        time.sleep(20)\n",
    "        # print(\"Disconnecting...\")\n",
    "        disconnect_vpn()\n",
    "        current_ip = requests.get('https://api.ipify.org').content.decode('utf8')\n",
    "    \n",
    "    connect_vpn()"
   ]
  }
 ],
 "metadata": {
  "kernelspec": {
   "display_name": "myenv",
   "language": "python",
   "name": "python3"
  },
  "language_info": {
   "codemirror_mode": {
    "name": "ipython",
    "version": 3
   },
   "file_extension": ".py",
   "mimetype": "text/x-python",
   "name": "python",
   "nbconvert_exporter": "python",
   "pygments_lexer": "ipython3",
   "version": "3.10.12"
  },
  "orig_nbformat": 4
 },
 "nbformat": 4,
 "nbformat_minor": 2
}

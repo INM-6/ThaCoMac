{
 "cells": [
  {
   "cell_type": "markdown",
   "id": "ab08f038-3899-4631-90a7-510054e7a8fe",
   "metadata": {},
   "source": [
    "We have a list of actually related literature at the moment, now we need to extract information we need from the literature. We intend to achieve this with a combination of automated searching and manual extraction"
   ]
  },
  {
   "cell_type": "code",
   "execution_count": 2,
   "id": "edc37ec2-bde0-4bd1-857a-2ad665546423",
   "metadata": {
    "tags": []
   },
   "outputs": [],
   "source": [
    "# import internal modules\n",
    "import file_path_management as fpath\n",
    "import public_library as plib\n",
    "import extract_info_from_webpage as extra_info\n",
    "import parameters as params"
   ]
  },
  {
   "cell_type": "code",
   "execution_count": 3,
   "id": "386cfa91-84a3-4286-b080-34253e18158d",
   "metadata": {
    "tags": []
   },
   "outputs": [],
   "source": [
    "# import packages\n",
    "import pandas as pd"
   ]
  },
  {
   "cell_type": "code",
   "execution_count": 11,
   "id": "b77d60e5-0949-4d59-b6bc-4abd552f158f",
   "metadata": {},
   "outputs": [],
   "source": [
    "# write the information of a literature as a row to .csv file 'summary_table_of_related_studies.csv'\n",
    "def add_rows_to_df(df_liter, i, doi, pub_link, authors, title):\n",
    "    new_row = {'order': i,\n",
    "               'DOI':doi,\n",
    "               'Publication_link':pub_link,\n",
    "               'Autours':authors,\n",
    "               'Title':title}\n",
    "    df_liter = pd.concat([df_liter, pd.DataFrame([new_row])], ignore_index=False)\n",
    "    # df_liter = df_liter.append(new_row, ignore_index=False)\n",
    "    # df_lite = pd.DataFrame(lite, columns = headers, index = None)\n",
    "    # print(df_liter)\n",
    "    return df_liter"
   ]
  },
  {
   "cell_type": "code",
   "execution_count": 12,
   "id": "622d11b0-35ae-44d7-bb1a-95cf5386b568",
   "metadata": {},
   "outputs": [],
   "source": [
    "# file path\n",
    "path = '/Users/didihou/myProjects/didihou_master_project/summary_table_of_related_studies.csv'\n",
    "# clear the .csv file\n",
    "with open(path, 'w') as f:\n",
    "    f.truncate()\n",
    "    f.close()\n",
    "\n",
    "# i is the index of the rows in .csv file and also the index of the literature\n",
    "columns = {'order':[],\n",
    "           'DOI':[],\n",
    "           'Publication_link':[],\n",
    "           'Autours':[],\n",
    "           'Title':[]}\n",
    "df_liter = pd.DataFrame(columns)\n",
    "\n",
    "for i in range(10):\n",
    "    doi = '10.1016/j.neuroscience.2007.02.033'\n",
    "    pub_link = 'https://pubmed.ncbi.nlm.nih.gov/17395383/'\n",
    "    authors = 'Cappe et al.'\n",
    "    title = 'Thalamocortical and the dual pattern of corticothalamic projections of the posterior parietal cortex in macaque monkeys'\n",
    "    df_liter = add_rows_to_df(df_liter, i, doi, pub_link, authors, title)\n",
    "\n",
    "df_liter.to_csv(path, mode='a', sep=',', index=False)"
   ]
  }
 ],
 "metadata": {
  "kernelspec": {
   "display_name": "Python 3 (ipykernel)",
   "language": "python",
   "name": "python3"
  },
  "language_info": {
   "codemirror_mode": {
    "name": "ipython",
    "version": 3
   },
   "file_extension": ".py",
   "mimetype": "text/x-python",
   "name": "python",
   "nbconvert_exporter": "python",
   "pygments_lexer": "ipython3",
   "version": "3.10.12"
  }
 },
 "nbformat": 4,
 "nbformat_minor": 5
}

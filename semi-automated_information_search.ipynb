{
 "cells": [
  {
   "cell_type": "markdown",
   "id": "b74c53cc",
   "metadata": {},
   "source": [
    "<h2> Semi-automatic information search </h2> "
   ]
  },
  {
   "cell_type": "markdown",
   "id": "ab08f038-3899-4631-90a7-510054e7a8fe",
   "metadata": {},
   "source": [
    "We have a list of actually related literature at the moment, now we need to extract information we need from the literature. We intend to achieve this with a combination of automated searching and manual extraction"
   ]
  },
  {
   "cell_type": "code",
   "execution_count": 3,
   "id": "386cfa91-84a3-4286-b080-34253e18158d",
   "metadata": {
    "tags": []
   },
   "outputs": [],
   "source": [
    "# import packages\n",
    "import pandas as pd"
   ]
  },
  {
   "cell_type": "code",
   "execution_count": null,
   "id": "09c4855c",
   "metadata": {},
   "outputs": [],
   "source": [
    "# import internal modules\n",
    "import file_path_management as fpath\n",
    "import public_library as plib\n",
    "import extract_info\n",
    "import parameters as params"
   ]
  }
 ],
 "metadata": {
  "kernelspec": {
   "display_name": "Python 3 (ipykernel)",
   "language": "python",
   "name": "python3"
  },
  "language_info": {
   "codemirror_mode": {
    "name": "ipython",
    "version": 3
   },
   "file_extension": ".py",
   "mimetype": "text/x-python",
   "name": "python",
   "nbconvert_exporter": "python",
   "pygments_lexer": "ipython3",
   "version": "3.10.12"
  }
 },
 "nbformat": 4,
 "nbformat_minor": 5
}

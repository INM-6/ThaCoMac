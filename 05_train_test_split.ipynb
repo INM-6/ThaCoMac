{
 "cells": [
  {
   "cell_type": "markdown",
   "metadata": {},
   "source": [
    "# Training and testing data set split"
   ]
  },
  {
   "cell_type": "code",
   "execution_count": 1,
   "metadata": {},
   "outputs": [],
   "source": [
    "# import packages\n",
    "import pandas as pd\n",
    "import re\n",
    "import numpy as np\n",
    "from nltk import ngrams\n",
    "from matplotlib import pyplot as plt"
   ]
  },
  {
   "cell_type": "code",
   "execution_count": 2,
   "metadata": {},
   "outputs": [
    {
     "name": "stderr",
     "output_type": "stream",
     "text": [
      "2023-11-06 11:38:42 GM01X680 metapub.config[61543] WARNING NCBI_API_KEY was not set.\n"
     ]
    }
   ],
   "source": [
    "# import internal modules\n",
    "import file_path_management as fpath\n",
    "import public_library as plib\n",
    "import dataframe_columns as df_col"
   ]
  },
  {
   "cell_type": "markdown",
   "metadata": {},
   "source": [
    "## Main program"
   ]
  },
  {
   "cell_type": "code",
   "execution_count": 3,
   "metadata": {},
   "outputs": [],
   "source": [
    "# # Select 300 random papers from poten_litera_ids_ftl_filled_filtered for testing\n",
    "# source_path = fpath.poten_litera_ids_ftl_filled_filtered\n",
    "# output_path = fpath.poten_litera_testing_set_300\n",
    "\n",
    "# # Clear the file\n",
    "# plib.clear_file(output_path)\n",
    "\n",
    "# df = pd.read_csv(source_path, header=None, sep=',')\n",
    "# df.columns = [\"INDEX\", \"DOI\", \"PMID\", \"PMCID\", \"FULL_TEXT_URL\", \"FULL_TEXT_SOURCE\", \"PDF_URL\", \"PDF_SOURCE\", \"TITLE\", \"ABSTRACT\", \"KEYWORDS\"]\n",
    "# df = df.sample(n=300, random_state=1, axis='index', ignore_index=False)\n",
    "# df.reset_index(drop=True, inplace=True)\n",
    "# df.to_csv(output_path, header=True, index=False)\n",
    "# # --------------------start of test code--------------------\n",
    "# source_path = fpath.poten_litera_testing_set_300\n",
    "# df = pd.read_csv(source_path, header=0, sep=',')\n",
    "# print(df.shape)\n",
    "# # (300, 12)\n",
    "# # ---------------------end of test code---------------------"
   ]
  },
  {
   "cell_type": "code",
   "execution_count": 4,
   "metadata": {},
   "outputs": [],
   "source": [
    "# # Process, correct the INDEX in potential_related_literature_testing_set_300_read.csv\n",
    "# input_path = fpath.poten_litera_testing_set_300_read\n",
    "# output_path = fpath.poten_litera_testing_set_300_read_index_corrected\n",
    "# # plib.clear_file(output_path)\n",
    "# db_path = fpath.poten_litera_db\n",
    "\n",
    "# df_input = pd.read_csv(input_path, header=0, sep=',')\n",
    "# df_input.columns = [\"INDEX\", \"DOI\", \"PMID\", \"PMCID\", \"FULL_TEXT_URL\", \"FULL_TEXT_SOURCE\", \"PDF_URL\", \"PDF_SOURCE\", \"TITLE\", \"ABSTRACT\", \"KEYWORDS\", \"RELEVANCE\"]\n",
    "# df_db = pd.read_csv(db_path, header=None, sep=',')\n",
    "# df_db.columns = [\"INDEX\", \"DOI\", \"PMID\", \"PMCID\", \"FULL_TEXT_URL\", \"FULL_TEXT_SOURCE\", \"PDF_URL\", \"PDF_SOURCE\", \"TITLE\", \"ABSTRACT\", \"KEYWORDS\"]\n",
    "# df_db = df_db.fillna(0)\n",
    "# df_db = df_db.astype({\"PMID\": int})\n",
    "# # print(df_input.shape)\n",
    "# # print(df_input.head(5))\n",
    "# # (300, 12)\n",
    "# # print(df_db.shape)\n",
    "# # print(df_db.head(10))\n",
    "# # (10776, 11)\n",
    "\n",
    "# for ind in df_input.index:\n",
    "#     index = df_input.at[ind, \"INDEX\"]\n",
    "#     doi = df_input.at[ind, \"DOI\"]\n",
    "#     pmid = df_input.at[ind, \"PMID\"]\n",
    "#     # print(pmid, df_db.at[ind, \"PMID\"])\n",
    "#     # print(pmid.type(), df_db.at[ind, \"PMID\"].type())\n",
    "#     pmcid = df_input.at[ind, \"PMCID\"]\n",
    "#     full_text_url = df_input.at[ind, \"FULL_TEXT_URL\"]\n",
    "#     full_text_source = df_input.at[ind, \"FULL_TEXT_SOURCE\"]\n",
    "#     title = df_input.at[ind, \"TITLE\"].lower()\n",
    "\n",
    "#     if doi == doi:\n",
    "#         try:\n",
    "#             index = df_db.loc[df_db[\"DOI\"] == doi, 'INDEX'].values[0]\n",
    "#             df_input.at[ind, \"INDEX\"] = index\n",
    "#         except:\n",
    "#             print(\"DOI not found in db:\", df_input.at[ind, \"INDEX\"], df_input.at[ind, \"RELEVANCE\"])\n",
    "#             df_input.drop(ind, inplace=True)\n",
    "#     elif pmid == pmid:\n",
    "#         try:\n",
    "#             index = df_db.loc[int(df_db[\"PMID\"])==int(pmid), 'INDEX'].values[0]\n",
    "#             df_input.at[ind, \"INDEX\"] = index\n",
    "#         except:\n",
    "#             print(\"PMID not found in db:\", df_input.at[ind, \"INDEX\"], df_input.at[ind, \"RELEVANCE\"])\n",
    "#             df_input.drop(ind, inplace=True)\n",
    "#     elif pmcid == pmcid:\n",
    "#         index = df_db.loc[df_db[\"PMCID\"] == pmcid, 'INDEX'].values[0]\n",
    "#         df_input.at[ind, \"INDEX\"] = index\n",
    "#     elif title.lower() == title.lower():\n",
    "#         index = df_db.loc[df_db[\"TITLE\"].str.lower() == title, 'INDEX'].values[0]\n",
    "#         df_input.at[ind, \"INDEX\"] = index\n",
    "#     else:\n",
    "#         print(\"ALL 4 identifiers and title are missing:\", df_input.at[ind, \"INDEX\"], df_input.at[ind, \"RELEVANCE\"])\n",
    "    \n",
    "# df_input.reset_index(drop=True, inplace=True)\n",
    "# df_input.to_csv(output_path, header=True, index=False)"
   ]
  },
  {
   "cell_type": "code",
   "execution_count": 5,
   "metadata": {},
   "outputs": [],
   "source": [
    "# # check the corrected file\n",
    "# corrected = fpath.poten_litera_testing_set_300_read_index_corrected\n",
    "# df_input = pd.read_csv(corrected, header=0, sep=',')\n",
    "# print(df_input.shape)\n",
    "# # (292, 12)\n",
    "# print(df_input.head(5))"
   ]
  },
  {
   "cell_type": "code",
   "execution_count": 6,
   "metadata": {},
   "outputs": [],
   "source": [
    "# # test if the result matches the db\n",
    "# result_path = fpath.poten_litera_testing_set_300_read_index_corrected\n",
    "# db_path = fpath.poten_litera_db\n",
    "\n",
    "# df_result= pd.read_csv(result_path, header=0, sep=',')\n",
    "# df_result.columns = [\"INDEX\", \"DOI\", \"PMID\", \"PMCID\", \"FULL_TEXT_URL\", \"FULL_TEXT_SOURCE\", \"PDF_URL\", \"PDF_SOURCE\", \"TITLE\", \"ABSTRACT\", \"KEYWORDS\", \"RELEVANCE\"]\n",
    "# df_db = pd.read_csv(db_path, header=None, sep=',')\n",
    "# df_db.columns = [\"INDEX\", \"DOI\", \"PMID\", \"PMCID\", \"FULL_TEXT_URL\", \"FULL_TEXT_SOURCE\", \"PDF_URL\", \"PDF_SOURCE\", \"TITLE\", \"ABSTRACT\", \"KEYWORDS\"]\n",
    "\n",
    "# # print(df_result.shape)\n",
    "# # print(df_result.head(5))\n",
    "# # (292, 12)\n",
    "# # print(df_db.shape)\n",
    "# # print(df_db.head(10))\n",
    "# # (10776, 11)\n",
    "\n",
    "# for ind in df_result.index:\n",
    "#     index = int(df_result.at[ind, \"INDEX\"])\n",
    "#     title = df_result.at[ind, \"TITLE\"].lower()\n",
    "#     # title = ''.join([char for char in df_result.at[ind, \"TITLE\"].lower() if re.match(r'[a-z\\s-]', char)])\n",
    "#     cleaned_title = re.sub(r'\\s+', ' ', title).strip().replace(\".\", \"\")\n",
    "#     title_db = df_db.loc[df_db[\"INDEX\"].astype(int) == index, 'TITLE'].values[0].lower()\n",
    "#     # title_db = ''.join([char for char in df_db.loc[df_db[\"INDEX\"].astype(int) == index, 'TITLE'].values[0].lower() if re.match(r'[a-z\\s-]', char)])\n",
    "#     cleaned_title_db = re.sub(r'\\s+', ' ', title_db).strip().replace(\".\", \"\")\n",
    "    \n",
    "#     if cleaned_title == cleaned_title_db:\n",
    "#         pass\n",
    "#     else:\n",
    "#         # pass\n",
    "#         print(index)\n",
    "#         print(cleaned_title)\n",
    "#         print(cleaned_title_db)\n",
    "#         print(\"\\n\")"
   ]
  },
  {
   "cell_type": "code",
   "execution_count": 7,
   "metadata": {},
   "outputs": [],
   "source": [
    "# # # select another 708 random papers from poten_litera_db to form 1000 papers as training and testing set\n",
    "# db_path = fpath.poten_litera_db\n",
    "# test_300_path = fpath.poten_litera_testing_set_300_read_index_corrected\n",
    "# test_708_path = fpath.poten_litera_testing_set_708\n",
    "# plib.clear_file(test_708_path)\n",
    "\n",
    "# df_db = pd.read_csv(db_path, header=None, sep=',')\n",
    "# df_db.columns = [\"INDEX\", \"DOI\", \"PMID\", \"PMCID\", \"FULL_TEXT_URL\", \"FULL_TEXT_SOURCE\", \"PDF_URL\", \"PDF_SOURCE\", \"TITLE\", \"ABSTRACT\", \"KEYWORDS\"]\n",
    "# df_300 = pd.read_csv(test_300_path, header=0, sep=',')\n",
    "# df_300.columns = [\"INDEX\", \"DOI\", \"PMID\", \"PMCID\", \"FULL_TEXT_URL\", \"FULL_TEXT_SOURCE\", \"PDF_URL\", \"PDF_SOURCE\", \"TITLE\", \"ABSTRACT\", \"KEYWORDS\", \"RELEVANCE\"]\n",
    "\n",
    "# # Get the indices of the previously selected 300 rows\n",
    "# selected_indices = df_300['INDEX'].values\n",
    "# # print(selected_indices)\n",
    "\n",
    "# # Drop the previously selected 300 rows from the original dataframe\n",
    "# df_remaining = df_db[~df_db['INDEX'].isin(selected_indices)]\n",
    "\n",
    "# # Randomly sample 708 rows from the remaining rows\n",
    "# df_708 = df_remaining.sample(n=708, random_state=42)  # Change random_state if needed\n",
    "# df_708['RELEVANCE'] = np.nan\n",
    "# df_708.reset_index(drop=True, inplace=True)\n",
    "\n",
    "# df_708.to_csv(test_708_path, header=True, index=False)"
   ]
  },
  {
   "cell_type": "code",
   "execution_count": 8,
   "metadata": {},
   "outputs": [],
   "source": [
    "# # combine and obtain 1000 papers as training-test-set\n",
    "# test_300_path = fpath.poten_litera_testing_set_300_read_index_corrected\n",
    "# test_708_path = fpath.poten_litera_testing_set_708\n",
    "# test_1000_path = fpath.poten_litera_testing_set_1000\n",
    "# plib.clear_file(test_1000_path)\n",
    "\n",
    "# df_300 = pd.read_csv(test_300_path, header=0, sep=',')\n",
    "# df_708 = pd.read_csv(test_708_path, header=0, sep=',')\n",
    "# df_1000 = pd.concat([df_300, df_708], axis=0)\n",
    "# df_1000.reset_index(drop=True, inplace=True)\n",
    "# df_1000.to_csv(test_1000_path, header=True, index=False)"
   ]
  },
  {
   "cell_type": "code",
   "execution_count": 9,
   "metadata": {},
   "outputs": [],
   "source": [
    "# # check if there're duplicates in the 1000 papers\n",
    "# test_1000_path = fpath.poten_litera_testing_set_1000\n",
    "# df_1000 = pd.read_csv(test_1000_path, header=0, sep=',')\n",
    "# df_1000.columns = [\"INDEX\", \"DOI\", \"PMID\", \"PMCID\", \"FULL_TEXT_URL\", \"FULL_TEXT_SOURCE\", \"PDF_URL\", \"PDF_SOURCE\", \"TITLE\", \"ABSTRACT\", \"KEYWORDS\", \"RELEVANCE\"]\n",
    "# print(df_1000.shape)\n",
    "# # (1000, 12)\n",
    "\n",
    "# print(len(set(df_1000['INDEX'])))\n",
    "# # 1000"
   ]
  },
  {
   "cell_type": "code",
   "execution_count": 10,
   "metadata": {},
   "outputs": [],
   "source": [
    "# # test if poten_litera_testing_set_1000 matches poten_litera_db\n",
    "# test_1000_path = fpath.poten_litera_testing_set_1000\n",
    "# db_path = fpath.poten_litera_db\n",
    "\n",
    "# df_result= pd.read_csv(test_1000_path, header=0, sep=',')\n",
    "# df_result.columns = [\"INDEX\", \"DOI\", \"PMID\", \"PMCID\", \"FULL_TEXT_URL\", \"FULL_TEXT_SOURCE\", \"PDF_URL\", \"PDF_SOURCE\", \"TITLE\", \"ABSTRACT\", \"KEYWORDS\", \"RELEVANCE\"]\n",
    "# df_db = pd.read_csv(db_path, header=None, sep=',')\n",
    "# df_db.columns = [\"INDEX\", \"DOI\", \"PMID\", \"PMCID\", \"FULL_TEXT_URL\", \"FULL_TEXT_SOURCE\", \"PDF_URL\", \"PDF_SOURCE\", \"TITLE\", \"ABSTRACT\", \"KEYWORDS\"]\n",
    "\n",
    "# # print(df_result.shape)\n",
    "# # print(df_result.head(5))\n",
    "# # # (1000, 12)\n",
    "# # print(df_db.shape)\n",
    "# # print(df_db.head(10))\n",
    "# # # (10776, 11)\n",
    "\n",
    "# for ind in df_result.index:\n",
    "#     index = int(df_result.at[ind, \"INDEX\"])\n",
    "#     title = df_result.at[ind, \"TITLE\"].lower()\n",
    "#     # title = ''.join([char for char in df_result.at[ind, \"TITLE\"].lower() if re.match(r'[a-z\\s-]', char)])\n",
    "#     cleaned_title = re.sub(r'\\s+', ' ', title).strip().replace(\".\", \"\")\n",
    "#     title_db = df_db.loc[df_db[\"INDEX\"].astype(int) == index, 'TITLE'].values[0].lower()\n",
    "#     # title_db = ''.join([char for char in df_db.loc[df_db[\"INDEX\"].astype(int) == index, 'TITLE'].values[0].lower() if re.match(r'[a-z\\s-]', char)])\n",
    "#     cleaned_title_db = re.sub(r'\\s+', ' ', title_db).strip().replace(\".\", \"\")\n",
    "    \n",
    "#     if cleaned_title == cleaned_title_db:\n",
    "#         pass\n",
    "#     else:\n",
    "#         # pass\n",
    "#         print(index)\n",
    "#         print(cleaned_title)\n",
    "#         print(cleaned_title_db)\n",
    "#         print(\"\\n\")"
   ]
  },
  {
   "cell_type": "code",
   "execution_count": 12,
   "metadata": {},
   "outputs": [
    {
     "name": "stdout",
     "output_type": "stream",
     "text": [
      "1000\n"
     ]
    },
    {
     "data": {
      "image/png": "[encoded data removed]",
      "text/plain": [
       "<Figure size 640x480 with 1 Axes>"
      ]
     },
     "metadata": {},
     "output_type": "display_data"
    }
   ],
   "source": [
    "# # draw the distribution of the sampled 1000 papers to see if it's actually randomly sampled\n",
    "# test_1000_path = fpath.poten_litera_testing_set_1000\n",
    "# df_1000 = pd.read_csv(test_1000_path, header=0, sep=',')\n",
    "# df_1000.columns = [\"INDEX\", \"DOI\", \"PMID\", \"PMCID\", \"FULL_TEXT_URL\", \"FULL_TEXT_SOURCE\", \"PDF_URL\", \"PDF_SOURCE\", \"TITLE\", \"ABSTRACT\", \"KEYWORDS\", \"RELEVANCE\"]\n",
    "\n",
    "# index_list = df_1000['INDEX'].tolist()\n",
    "# index_list.sort()\n",
    "# # print(index_list)\n",
    "# print(len(index_list))\n",
    "\n",
    "# # draw the histogram\n",
    "# plt.hist(index_list, bins=20)\n",
    "# plt.xlabel(\"Index\")\n",
    "# plt.ylabel(\"Count\")\n",
    "# plt.title(\"Distribution of the sampled 1000 papers\")\n",
    "# plt.show()"
   ]
  }
 ],
 "metadata": {
  "kernelspec": {
   "display_name": "myenv",
   "language": "python",
   "name": "python3"
  },
  "language_info": {
   "codemirror_mode": {
    "name": "ipython",
    "version": 3
   },
   "file_extension": ".py",
   "mimetype": "text/x-python",
   "name": "python",
   "nbconvert_exporter": "python",
   "pygments_lexer": "ipython3",
   "version": "3.10.12"
  }
 },
 "nbformat": 4,
 "nbformat_minor": 2
}

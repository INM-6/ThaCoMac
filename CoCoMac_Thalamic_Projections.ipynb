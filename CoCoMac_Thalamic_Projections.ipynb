{
 "cells": [
  {
   "cell_type": "markdown",
   "id": "55dee2fb",
   "metadata": {},
   "source": [
    "### CoCoMac Thalamic Projections\n",
    "\n",
    "general strategy:\n",
    "1. find all brainsites in CoCoMac that are part of Thalamus\n",
    "2. find all injections in those brainsites\n",
    "3. find all labelledsites in those brainsites\n",
    "\n",
    "The combined result of 2 and 3 indicates which publications deal with Thalamus."
   ]
  },
  {
   "cell_type": "markdown",
   "id": "d0a34beb",
   "metadata": {},
   "source": [
    "## 1. find all brainsites in CoCoMac that are part of Thalamus\n",
    "\n",
    "This isn't so trivial, since CoCoMac doesn't use a unified atlas. All brainsites in CoCoMac are losely connected through IntermapRelations. There is one coarse atlas in CoCoMac to which many brainsites are linked, it is called General Map (GM). Let's find all regions that are subareas of area GM-Tha. Spoiler: 1138 hits."
   ]
  },
  {
   "cell_type": "code",
   "execution_count": 1,
   "id": "d508fb24",
   "metadata": {},
   "outputs": [
    {
     "data": {
      "text/plain": [
       "1138"
      ]
     },
     "execution_count": 1,
     "metadata": {},
     "output_type": "execute_result"
    }
   ],
   "source": [
    "import requests\n",
    "\n",
    "# Load all brainsite-ids that have the spatial relation 'smaller than' thalamus,\n",
    "# where the General Map brainsite 'GM-Thal' represents the thalamus.\n",
    "\n",
    "'''\n",
    "Type of data to search for\t:\tbrain site\n",
    "Apply a constraint\t:\tYes\n",
    "Property to limit search by\t:\t◄ vector properties of BrainMaps_BrainSites\n",
    "Use operator\t:\tIN (subquery)\n",
    ". . Table.field that links to BrainMaps_BrainSites\t:\tQRT_MappingPaths.ID_BrainSite_B\n",
    ". . Apply a constraint\t:\tYes\n",
    ". . Property to limit search by\t:\tBrainMaps_BrainSites.BrainSite\n",
    ". . Use operator\t:\tequals\n",
    ". . Use value\t:\tGM-Tha\n",
    ". . Add another constraint\t:\tYes, combine using AND\n",
    ". . Property to limit search by\t:\tQRT_MappingPaths.RelationCode\n",
    ". . Use operator\t:\tequals\n",
    ". . Use value\t:\tL\n",
    ". . Add another constraint\t:\tNo\n",
    "Add another constraint\t:\tNo\n",
    "'''\n",
    "r = requests.get('http://cocomac.g-node.org/services/search_wizard.php?T=BrainMaps_BrainSites&x0=WHERE&L0=&op0=IN&R0T=QRT_MappingPaths.ID_BrainSite_B&R0x0=WHERE&R0L0=^ID_BrainSite_A.BrainSite&R0op0=eq&R0R0=GM-Tha&R0x1=AND&R0L1=.RelationCode&R0op1=eq&R0R1=L&R0x2=&x1=&limit=2000&page=1&format=keys')\n",
    "brainsiteIds = r.json()['resultKeys']\n",
    "len(brainsiteIds)"
   ]
  },
  {
   "cell_type": "markdown",
   "id": "91caf1b8",
   "metadata": {},
   "source": [
    "# 2. find all injections in those brainsites\n",
    "After some juggling with the 'CoCoMac Search Wizard' and 'Direct SQL Query', zero injections turn out to be in any of the 1138 thalamic regions."
   ]
  },
  {
   "cell_type": "code",
   "execution_count": 2,
   "id": "6feaad2d",
   "metadata": {},
   "outputs": [
    {
     "name": "stdout",
     "output_type": "stream",
     "text": [
      "{'result': {'keys': ['ID'], 'fields': ['ID', 'ID_Method', 'ID_BrainSite', 'SiteType'], 'data': []}}\n"
     ]
    }
   ],
   "source": [
    "# next, find injection-ids that contain an injection site in any of these regions.\n",
    "query = {\n",
    "  \"sql\":\"SELECT T0.ID,T0.ID_Method,T0.ID_BrainSite,T0.SiteType FROM Injections AS T0 LEFT JOIN BrainMaps_BrainSites AS T1 ON T0.ID_BrainSite=T1.ID WHERE T1.ID IN ($R0)\",\n",
    "  \"params\":{\n",
    "      'R0':','.join(brainsiteIds[0:100])\n",
    "  }\n",
    "}\n",
    "\n",
    "r = requests.post('http://cocomac.g-node.org/services/custom_sql_query.php?sql=SELECT%20T0.ID%2CT0.ID_Method%2CT0.ID_BrainSite%2CT0.SiteType%20FROM%20Injections%20AS%20T0%20LEFT%20JOIN%20BrainMaps_BrainSites%20AS%20T1%20ON%20T0.ID_BrainSite%3DT1.ID%20WHERE%20T1.ID%20IN%20(%24R0)&R0=3%2C138%2C140%2C146%2C147%2C148%2C149%2C151%2C153%2C155%2C156%2C160%2C161%2C163%2C164%2C167%2C171%2C172%2C173%2C174%2C175%2C176%2C177%2C178%2C179%2C180%2C181%2C182%2C187%2C188%2C189%2C190%2C191%2C192%2C193%2C304%2C330%2C336%2C337%2C338%2C339%2C340%2C341%2C343%2C345%2C380%2C559%2C648%2C649%2C652%2C654%2C662%2C663%2C664%2C665%2C666%2C667%2C668%2C669%2C670%2C671%2C814%2C815%2C816%2C818%2C819%2C820%2C821%2C822%2C824%2C825%2C826%2C828%2C830%2C831%2C833%2C836%2C837%2C838%2C903%2C904%2C905%2C906%2C907%2C913%2C914%2C915%2C916%2C922%2C923%2C965%2C966%2C967%2C968%2C969%2C970%2C971%2C972%2C973%2C974%2C975&format=json_rpc&truncate=1000',\n",
    "                 data={'R0':','.join(brainsiteIds)})\n",
    "print(r.json())\n",
    "\n",
    "# it looks that there are no injections in thalamus whatsoever"
   ]
  },
  {
   "cell_type": "markdown",
   "id": "cb20ef69",
   "metadata": {},
   "source": [
    "# 3. find all injections in those brainsites\n",
    "Repeat the exercise for LabelledSites_Data. Again zero data in any of the 1138 thalamic regions."
   ]
  },
  {
   "cell_type": "code",
   "execution_count": 3,
   "id": "2a80f4c2",
   "metadata": {},
   "outputs": [
    {
     "name": "stdout",
     "output_type": "stream",
     "text": [
      "{'result': {'keys': ['ID'], 'fields': ['ID'], 'data': []}}\n"
     ]
    }
   ],
   "source": [
    "# next, find labelledsite-ids that contain an injection site in any of these regions.\n",
    "query = {\n",
    "  \"sql\":\"SELECT T0.ID,T0.ID_Description,T0.ID_BrainSite,T0.SiteType,T0.Density FROM LabelledSites_Data AS T0 LEFT JOIN BrainMaps_BrainSites AS T1 ON T0.ID_BrainSite=T1.ID WHERE T1.ID IN ($R0)\",\n",
    "  \"params\":{\n",
    "      'R0':','.join(brainsiteIds[0:100])\n",
    "  }\n",
    "}\n",
    "\n",
    "    \n",
    "r = requests.post('http://cocomac.g-node.org/services/custom_sql_query.php?sql=SELECT%20T0.ID%20FROM%20LabelledSites_Data%20AS%20T0%20LEFT%20JOIN%20BrainMaps_BrainSites%20AS%20T1%20ON%20T0.ID_BrainSite%3DT1.ID%20WHERE%20T1.ID%3D%24R0&format=json_rpc&truncate=1000',\n",
    "                 data={'R0':','.join(brainsiteIds)})\n",
    "print(r.json())\n",
    "\n",
    "# it looks that there are no labelled sites in thalamus either"
   ]
  },
  {
   "cell_type": "markdown",
   "id": "c2ecc3e0",
   "metadata": {},
   "source": [
    "# Switch strategy: find papers with thalamus keyword\n",
    "\n",
    "Let's then look for the word thalamus in the abstract/title\n",
    "\n",
    "There are 87 journal publications in cocomac with the word 'thalam' in the abstract:\n",
    "http://cocomac.g-node.org/services/search_wizard.php?T=Literature_JournalArticles&x0=WHERE&L0=%5EID_Literature.Abstract&op0=*x*&R0=thalam&x1=&limit=100&page=1&format=dhtml\n",
    "\n",
    "There are 87 journal publications in cocomac with the word 'thalam' in the title:\n",
    "http://cocomac.g-node.org/services/search_wizard.php?T=Literature_JournalArticles&x0=WHERE&L0=%5EID_Literature.Title&op0=*x*&R0=thalam&x1=&limit=100&page=1&format=dhtml\n",
    "\n",
    "The second hit is this one:\n",
    "https://pubmed.ncbi.nlm.nih.gov/6768425/\n",
    "based on the abstract,it should have labelled sites in the Thalamus.\n",
    "\n",
    "In the text it says: \n",
    "```\n",
    "Thalamic label was found almost exclu-\n",
    "sively in non-specific nuclei with the exception of the magnocellular part of the ventral\n",
    "anterior (VAmc) nucleus which was labelled after the injections centred on the lateral,\n",
    "and possibly the lateral basal nuclei. The majority of the remaining labelled cells were\n",
    "found in the following midline and intralaminar thalamic nuclei: nucleus paraventri-\n",
    "cularis (Pa, Pac), nucleus centralis latocellutaris (Clc), nucleus centralis densocellularis\n",
    "(Cdc), nucleus centralis superior (Cs), nucleus centralis inferior (Cif), nucleus centralis\n",
    "361\n",
    "intermedialis (Cim), nucleus rotundis (Ro), nucleus reuniens (Re), nucleus paracen-\n",
    "tralis (Pcn), nucleus subfascicularis (Sf.pc and Sf.mc) and nucleus centrum medianum\n",
    "(Cn.Md). A\n",
    "```\n",
    "\n",
    "Next, looking at the CoCoMac representation of this experiment, there are many labelled sites in the Thalamus\n",
    "http://cocomac.g-node.org/services/search_wizard.php?T=Literature_JournalArticles&x0=WHERE&L0=%5EID_Literature.Title&op0=*x*&R0=thalam&x1=&limit=100&page=1&format=dhtml\n",
    "\n",
    "So what is going wrong is that these brainsites are not linked the GM-Tha brainsite and were therefore missed in the above analysis.\n",
    "        "
   ]
  },
  {
   "cell_type": "markdown",
   "id": "b155c875",
   "metadata": {},
   "source": [
    "# Next steps\n",
    "device a strategy for a uniform atlas for the CoCoMac database. We could start with the very coarse General Map, and make sure that all brain regions in CoCoMac have a relation to it."
   ]
  }
 ],
 "metadata": {
  "kernelspec": {
   "display_name": "Python 3 (ipykernel)",
   "language": "python",
   "name": "python3"
  },
  "language_info": {
   "codemirror_mode": {
    "name": "ipython",
    "version": 3
   },
   "file_extension": ".py",
   "mimetype": "text/x-python",
   "name": "python",
   "nbconvert_exporter": "python",
   "pygments_lexer": "ipython3",
   "version": "3.9.7"
  }
 },
 "nbformat": 4,
 "nbformat_minor": 5
}

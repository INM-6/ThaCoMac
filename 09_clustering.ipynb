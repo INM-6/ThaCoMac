{
 "cells": [
  {
   "cell_type": "markdown",
   "metadata": {},
   "source": [
    "# Clustering"
   ]
  },
  {
   "cell_type": "code",
   "execution_count": null,
   "metadata": {},
   "outputs": [],
   "source": [
    "# import packages\n",
    "import pandas as pd\n",
    "import numpy as np\n",
    "import math\n",
    "from nltk import ngrams\n",
    "from matplotlib import pyplot as plt"
   ]
  },
  {
   "cell_type": "code",
   "execution_count": null,
   "metadata": {},
   "outputs": [],
   "source": [
    "# import internal modules\n",
    "import file_path_management as fpath\n",
    "import public_library as plib\n",
    "import parameters as params\n",
    "import download_and_process_pdf as dpp\n",
    "import dataframe_columns as df_col"
   ]
  },
  {
   "cell_type": "markdown",
   "metadata": {},
   "source": [
    "## Predefined fucntions:"
   ]
  },
  {
   "cell_type": "code",
   "execution_count": null,
   "metadata": {},
   "outputs": [],
   "source": []
  },
  {
   "cell_type": "markdown",
   "metadata": {},
   "source": [
    "## Main program:"
   ]
  },
  {
   "cell_type": "code",
   "execution_count": null,
   "metadata": {},
   "outputs": [],
   "source": [
    "# # Clustering\n",
    "# from sklearn.cluster import KMeans\n",
    "# # Choose the number of clusters\n",
    "# n_clusters = 3  # Replace with the number of clusters you want to find\n",
    "# # Create a K-Means clustering model\n",
    "# kmeans = KMeans(n_clusters=n_clusters)\n",
    "\n",
    "# # Fit the model to the lower-dimensional data and predict cluster labels\n",
    "# cluster_labels = kmeans.fit_predict(dim_2_data)"
   ]
  },
  {
   "cell_type": "code",
   "execution_count": null,
   "metadata": {},
   "outputs": [],
   "source": [
    "# import numpy as np\n",
    "# import matplotlib.pyplot as plt\n",
    "\n",
    "# # Sample data (replace with your data)\n",
    "# data = np.random.rand(100, 2)  # Example 2D data\n",
    "\n",
    "# # Define the indices to label as \"red\" (replace with your specific indices)\n",
    "# red_indices = [5, 12, 25, 38]\n",
    "\n",
    "# # Create an array of labels\n",
    "# labels = np.array(['blue'] * len(data))  # Initialize all labels as \"blue\"\n",
    "# labels[red_indices] = 'red'  # Update labels for the specified indices to \"red\"\n",
    "\n",
    "# # Separate \"red\" and \"blue\" data points\n",
    "# red_data = data[labels == 'red']\n",
    "# blue_data = data[labels == 'blue']\n",
    "\n",
    "# # Visualize the labeled data\n",
    "# plt.scatter(blue_data[:, 0], blue_data[:, 1], c='blue', label='Blue')\n",
    "# plt.scatter(red_data[:, 0], red_data[:, 1], c='red', label='Red')\n",
    "# plt.legend()\n",
    "# plt.title('Data with Red and Blue Labels')\n",
    "# plt.xlabel('Feature 1')\n",
    "# plt.ylabel('Feature 2')\n",
    "# plt.show()"
   ]
  }
 ],
 "metadata": {
  "language_info": {
   "name": "python"
  }
 },
 "nbformat": 4,
 "nbformat_minor": 2
}

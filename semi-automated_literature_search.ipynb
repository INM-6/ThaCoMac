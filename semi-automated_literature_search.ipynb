{
 "cells": [
  {
   "cell_type": "markdown",
   "id": "864ee2e7",
   "metadata": {},
   "source": [
    "<h2> Semi-automatic literature search </h2> "
   ]
  },
  {
   "cell_type": "code",
   "execution_count": 23,
   "id": "92cba0e8",
   "metadata": {},
   "outputs": [],
   "source": [
    "# import internal .py modules\n",
    "import file_path_management as fpath\n",
    "import public_library as plib"
   ]
  },
  {
   "cell_type": "code",
   "execution_count": 24,
   "id": "37eb8cd1-594b-4af8-aff3-cc6a9c91b488",
   "metadata": {
    "tags": []
   },
   "outputs": [],
   "source": [
    "# import packages\n",
    "import requests\n",
    "from bs4 import BeautifulSoup\n",
    "import pandas as pd\n",
    "import random\n",
    "import re\n",
    "import time\n",
    "import numpy as np\n",
    "import numpy as np"
   ]
  },
  {
   "cell_type": "markdown",
   "id": "7ed2a1fb-4380-4179-bbdf-8192056b8b4c",
   "metadata": {},
   "source": [
    "<h3> Parameters: </h3>"
   ]
  },
  {
   "cell_type": "code",
   "execution_count": 25,
   "id": "5b6b2882-23e5-4670-8359-3d7367e1107b",
   "metadata": {
    "tags": []
   },
   "outputs": [],
   "source": [
    "# searching keywords lexicon\n",
    "# search in all fields\n",
    "# \"\" means exact match, otherwise the search engine will treat every word separately\n",
    "\n",
    "# search_kws_lexicon = (macaque OR macaca OR \"rhesus monkey\") AND (thalamus OR thalamic OR thalamocortical OR \"thalamo-cortical\")\n",
    "\n",
    "# academic databases\n",
    "# 27.07.2023\n",
    "# Google Scholar: \"https://scholar.google.com/\"\n",
    "# (macaque OR macaca OR \"rhesus monkey\") (thalamus OR thalamic OR thalamocortical OR \"thalamo-cortical\")\n",
    "# 132000 results\n",
    "# https://scholar.google.com/scholar?start=0&q=(macaque+OR+macaca+OR+%22rhesus+monkey%22)+(thalamus+OR+thalamic+OR+thalamocortical+OR+%22thalamo-cortical%22)&hl=en&as_sdt=0,5\n",
    "\n",
    "# Web of Science: \"https://www.webofscience.com/wos/woscc/advanced-search\" # can be exported to excel file\n",
    "# (ALL=(macaque) OR ALL=(macaca) OR All=(\"rhesus monkey\")) AND (ALL=(thalamus) OR ALL=(thalamic) OR ALL=(thalamocortical) OR ALL=(\"thalamo-cortical\"))\n",
    "# 1976 results\n",
    "# https://www.webofscience.com/wos/woscc/summary/cbcda45c-f1a5-45d2-bc24-ff8c17e0c083-9a6726cd/relevance/1\n",
    "\n",
    "# PubMed Central PMC: \"https://pubmed.ncbi.nlm.nih.gov/advanced/\" # can be exported to .csv file\n",
    "# (macaque OR macaca OR \"rhesus monkey\") AND (thalamus OR thalamic OR thalamocortical OR \"thalamo-cortical\")\n",
    "# 2606 results\n",
    "# https://pubmed.ncbi.nlm.nih.gov/?term=(macaque%20OR%20macaca%20OR%20%22rhesus%20monkey%22)%20AND%20(thalamus%20OR%20thalamic%20OR%20thalamocortical%20OR%20%22thalamo-cortical%22)&page=1\n",
    "\n",
    "# Europe PMC = \"https://europepmc.org/advancesearch\" # search resuts can be exported to .csv file\n",
    "# (macaque OR macaca OR \"rhesus monkey\") AND (thalamus OR thalamic OR thalamocortical OR \"thalamo-cortical\") AND (LANG:\"eng\" OR LANG:\"en\" OR LANG:\"us\")\n",
    "# 9140 results\n",
    "# https://europepmc.org/search?query=%28macaque%20OR%20macaca%20OR%20%22rhesus%20monkey%22%29%20AND%20%28thalamus%20OR%20thalamic%20OR%20thalamocortical%20OR%20%22thalamo-cortical%22%29%20AND%20%28LANG%3A%22eng%22%20OR%20LANG%3A%22en%22%20OR%20LANG%3A%22us%22%29&page=1\n",
    "\n",
    "acad_dbs = [\"Google Scholar\", \"Web of Science\", \"PubMed Central PMC\", \"Europe PMC\"]\n",
    "\n",
    "# initial urls for specified searching keyword lexicon and all academic databases\n",
    "init_urls = {\n",
    "    \"gs\": \"https://scholar.google.com/scholar?start=0&q=(macaque+OR+macaca+OR+%22rhesus+monkey%22)+(thalamus+OR+thalamic+OR+thalamocortical+OR+%22thalamo-cortical%22)&hl=en&as_sdt=0,5\",\n",
    "    \"wos\": \"https://www.webofscience.com/wos/woscc/summary/cbcda45c-f1a5-45d2-bc24-ff8c17e0c083-9a6726cd/relevance/1\",\n",
    "    \"pmc\": \"https://pubmed.ncbi.nlm.nih.gov/?term=(macaque%20OR%20macaca%20OR%20%22rhesus%20monkey%22)%20AND%20(thalamus%20OR%20thalamic%20OR%20thalamocortical%20OR%20%22thalamo-cortical%22)&page=1\",\n",
    "    \"eupmc\": \"https://europepmc.org/search?query=%28macaque%20OR%20macaca%20OR%20%22rhesus%20monkey%22%29%20AND%20%28thalamus%20OR%20thalamic%20OR%20thalamocortical%20OR%20%22thalamo-cortical%22%29%20AND%20%28LANG%3A%22eng%22%20OR%20LANG%3A%22en%22%20OR%20LANG%3A%22us%22%29&page=1\"\n",
    "}\n",
    "\n",
    "# seed literature list\n",
    "seed_litera_list = []\n",
    "\n",
    "# cocomac literature list\n",
    "cocomac_litera_list = []"
   ]
  },
  {
   "cell_type": "markdown",
   "id": "116f15dc",
   "metadata": {},
   "source": [
    "<h3> Predefined fucntions: </h3> "
   ]
  },
  {
   "cell_type": "code",
   "execution_count": 26,
   "id": "24f6b835",
   "metadata": {},
   "outputs": [],
   "source": [
    "def search_webofscience(init_url):\n",
    "    try:\n",
    "        print(\"Searching Web of Science...\")\n",
    "        # search on the website and export the search results\n",
    "        return True\n",
    "    except:\n",
    "        return False"
   ]
  },
  {
   "cell_type": "code",
   "execution_count": 27,
   "id": "a8b492a0",
   "metadata": {},
   "outputs": [],
   "source": [
    "def search_pmc(init_url):\n",
    "    try:\n",
    "        print(\"Searching PubMed Central PMC...\")\n",
    "        # search on the website and export the search results\n",
    "        return True\n",
    "    except:\n",
    "        return False"
   ]
  },
  {
   "cell_type": "code",
   "execution_count": 28,
   "id": "0ab5590d",
   "metadata": {},
   "outputs": [],
   "source": [
    "def search_eupmc(init_url):\n",
    "    try:\n",
    "        print(\"Searching Europe PMC...\")\n",
    "        # search on the website and export the search results\n",
    "        return True\n",
    "    except:\n",
    "        return False"
   ]
  },
  {
   "cell_type": "code",
   "execution_count": 29,
   "id": "194648a2",
   "metadata": {},
   "outputs": [],
   "source": [
    "def search_google_scholar(first_page):\n",
    "    print(\"Searching Google Scholar...\")\n",
    "\n",
    "    f = open(fpath.poten_litera_gs, \"w\")\n",
    "    f.truncate()\n",
    "    f.close()\n",
    "\n",
    "    # request the first page 1\n",
    "    proxies = plib.get_proxies()\n",
    "    response = requests.get(first_page, headers = plib.headers, proxies = proxies)\n",
    "    if response.status_code != 200:\n",
    "        print(\"Error when searching page:\", first_page)\n",
    "        print(response.status_code)\n",
    "        raise Exception(\"Your request was declined, again!\")\n",
    "    soup = BeautifulSoup(response.content, \"lxml\")\n",
    "    # print(soup)\n",
    "    num_results_str_list = soup.find_all(\"div\", {\"class\": \"gs_ab_mdw\"})\n",
    "    # print(num_results_str_list)\n",
    "    for item in num_results_str_list:\n",
    "        num_results_str = []\n",
    "        if \"results\" in item.get_text():\n",
    "            num_results_str = item.get_text().split()\n",
    "    num_results = num_results_str[1]\n",
    "    # print(num_results)\n",
    "    num_results = int(re.sub(r\"[^0-9]\", \"\", num_results))\n",
    "    pages = int(num_results/10)\n",
    "    print(\"Google Scholar searched \" + str(num_results) + \" results\" + \" displayed in \" + str(pages) + \" pages.\")\n",
    "    \n",
    "    # iterate all pages and record the results\n",
    "    # pages = 5\n",
    "    for page in range(100):\n",
    "        print(\"Searching page \", page)\n",
    "        time.sleep(random.randint(1, 10))\n",
    "\n",
    "        start = page * 10\n",
    "        page_url = first_page.split(\"?start=\")[0] + \"?start=\" + str(start) + \"&q=\" + first_page.split(\"&q=\")[1]\n",
    "        # print(page_url)\n",
    "\n",
    "        # search a page\n",
    "        if(page%5 == 0):\n",
    "            # time.sleep(random.randint(5, 10)*60)\n",
    "            proxies = plib.get_proxies()\n",
    "        print(proxies)\n",
    "        response = requests.get(page_url, headers = plib.headers, proxies = proxies)\n",
    "        if response.status_code != 200:\n",
    "            print(\"Error when searching page:\", page)\n",
    "            print(response.status_code)\n",
    "            raise Exception(\"Your request was declined, again!\")\n",
    "        soup = BeautifulSoup(response.content, \"lxml\")\n",
    "        # print(soup)\n",
    "        items = soup.select('[data-lid]')\n",
    "        # print(items)\n",
    "        for item in items:\n",
    "            # print(item[i])\n",
    "            try:\n",
    "                add_title = item.select(\"h3\")[0].select(\"a\", href = True)[0].get_text().strip()\n",
    "            except:\n",
    "                add_title = \"not found\"\n",
    "            # print(add_title)\n",
    "            try:\n",
    "                add_url = item.select(\"h3\")[0].select(\"a\", href = True)[0][\"href\"]\n",
    "            except:\n",
    "                add_url = \"not found\"\n",
    "            # print(add_url)\n",
    "            try:\n",
    "                add_full_text_link = item.find_all(\"div\", {'class': \"gs_or_ggsm\"})[0].find_all(\"a\", href = True)[0][\"href\"]\n",
    "            except:\n",
    "                add_full_text_link = \"not found\"\n",
    "            # print(add_full_text_link)\n",
    "            try:\n",
    "                full_text_type = item.find_all(\"div\", {'class': \"gs_or_ggsm\"})[0].find_all(\"a\", href = True)[0].get_text().strip().split()[0]\n",
    "                full_text_source = item.find_all(\"div\", {'class': \"gs_or_ggsm\"})[0].find_all(\"a\", href = True)[0].get_text().strip().split()[1]\n",
    "            except:\n",
    "                full_text_type = \"not found\"\n",
    "                full_text_source = \"not found\"\n",
    "            # print(full_text_type)\n",
    "            # print(full_text_source)\n",
    "            row = {\n",
    "                \"title\": [add_title],\n",
    "                \"url\": [add_url],\n",
    "                \"full_text_url\": [add_full_text_link],\n",
    "                \"full_text_type\": [full_text_type],\n",
    "                \"full_text_source\": [full_text_source]\n",
    "            }\n",
    "            # print(row)\n",
    "            columns = [\"title\", \"url\", \"full_text_url\", \"full_text_type\", \"full_text_source\"]\n",
    "            if plib.add_row_to_csv(fpath.poten_litera_gs, row, columns):\n",
    "                None\n",
    "            else:\n",
    "                print(\"Error detected when adding a row to csv!\")\n",
    "# --------------------start of test code--------------------\n",
    "# init_url = init_urls[\"gs\"]\n",
    "# search_google_scholar(init_url)\n",
    "# ---------------------end of test code---------------------"
   ]
  },
  {
   "cell_type": "code",
   "execution_count": 30,
   "id": "b7ad09b4",
   "metadata": {},
   "outputs": [],
   "source": [
    "def span_citations(seed_litera_list, num_span_time):\n",
    "    try:\n",
    "        return True\n",
    "    except:\n",
    "        return False"
   ]
  },
  {
   "cell_type": "code",
   "execution_count": 31,
   "id": "411867ea",
   "metadata": {},
   "outputs": [],
   "source": [
    "def search_conne_db():\n",
    "    try:    \n",
    "        return True\n",
    "    except:\n",
    "        return False"
   ]
  },
  {
   "cell_type": "markdown",
   "id": "6fc0eb4e",
   "metadata": {},
   "source": [
    "<h3> Main program: </h3> "
   ]
  },
  {
   "cell_type": "code",
   "execution_count": 32,
   "id": "ba0b8126",
   "metadata": {},
   "outputs": [],
   "source": [
    "# first we need to search all related literature that might include data or information of thalamocortical connections\n",
    "# search for potentially related literature using the following listed 3 methods"
   ]
  },
  {
   "cell_type": "code",
   "execution_count": 33,
   "id": "f9df256b-106e-4d5d-847e-b068fbade613",
   "metadata": {
    "tags": []
   },
   "outputs": [
    {
     "name": "stdout",
     "output_type": "stream",
     "text": [
      "Searching Web of Science...\n",
      "Searching Web of Science succeeded!\n",
      "Searching PubMed Central PMC...\n",
      "Searching PubMed Central PMC succeeded!\n",
      "Searching Europe PMC...\n",
      "Searching Europe PMC succeeded!\n",
      "Searching Google Scholar...\n",
      "Error when searching page: https://scholar.google.com/scholar?start=0&q=(macaque+OR+macaca+OR+%22rhesus+monkey%22)+(thalamus+OR+thalamic+OR+thalamocortical+OR+%22thalamo-cortical%22)&hl=en&as_sdt=0,5\n",
      "429\n"
     ]
    },
    {
     "ename": "Exception",
     "evalue": "Your request was declined, again!",
     "output_type": "error",
     "traceback": [
      "\u001b[0;31m---------------------------------------------------------------------------\u001b[0m",
      "\u001b[0;31mException\u001b[0m                                 Traceback (most recent call last)",
      "Cell \u001b[0;32mIn[33], line 17\u001b[0m\n\u001b[1;32m     14\u001b[0m \u001b[39melse\u001b[39;00m:\n\u001b[1;32m     15\u001b[0m     \u001b[39mprint\u001b[39m(\u001b[39m\"\u001b[39m\u001b[39mAttention! Something went wrong when searching Europe PMC!\u001b[39m\u001b[39m\"\u001b[39m)\n\u001b[0;32m---> 17\u001b[0m search_google_scholar(init_urls[\u001b[39m\"\u001b[39;49m\u001b[39mgs\u001b[39;49m\u001b[39m\"\u001b[39;49m])\n\u001b[1;32m     18\u001b[0m \u001b[39mprint\u001b[39m(\u001b[39m\"\u001b[39m\u001b[39mSearching Google Scholar succeeded!\u001b[39m\u001b[39m\"\u001b[39m)\n",
      "Cell \u001b[0;32mIn[29], line 14\u001b[0m, in \u001b[0;36msearch_google_scholar\u001b[0;34m(first_page)\u001b[0m\n\u001b[1;32m     12\u001b[0m     \u001b[39mprint\u001b[39m(\u001b[39m\"\u001b[39m\u001b[39mError when searching page:\u001b[39m\u001b[39m\"\u001b[39m, first_page)\n\u001b[1;32m     13\u001b[0m     \u001b[39mprint\u001b[39m(response\u001b[39m.\u001b[39mstatus_code)\n\u001b[0;32m---> 14\u001b[0m     \u001b[39mraise\u001b[39;00m \u001b[39mException\u001b[39;00m(\u001b[39m\"\u001b[39m\u001b[39mYour request was declined, again!\u001b[39m\u001b[39m\"\u001b[39m)\n\u001b[1;32m     15\u001b[0m soup \u001b[39m=\u001b[39m BeautifulSoup(response\u001b[39m.\u001b[39mcontent, \u001b[39m\"\u001b[39m\u001b[39mlxml\u001b[39m\u001b[39m\"\u001b[39m)\n\u001b[1;32m     16\u001b[0m \u001b[39m# print(soup)\u001b[39;00m\n",
      "\u001b[0;31mException\u001b[0m: Your request was declined, again!"
     ]
    }
   ],
   "source": [
    "# method 1: search acdemic databases using keywords\n",
    "if search_webofscience(init_urls[\"wos\"]):\n",
    "    print(\"Searching Web of Science succeeded!\")\n",
    "else:\n",
    "    print(\"Attention! Something went wrong when searching Web of Science!\")\n",
    "\n",
    "if search_pmc(init_urls[\"pmc\"]):\n",
    "    print(\"Searching PubMed Central PMC succeeded!\")\n",
    "else:\n",
    "    print(\"Attention! Something went wrong when searching PubMed Central PMC!\")\n",
    "\n",
    "if search_eupmc(init_urls[\"eupmc\"]):\n",
    "    print(\"Searching Europe PMC succeeded!\")\n",
    "else:\n",
    "    print(\"Attention! Something went wrong when searching Europe PMC!\")\n",
    "\n",
    "search_google_scholar(init_urls[\"gs\"])\n",
    "print(\"Searching Google Scholar succeeded!\")"
   ]
  },
  {
   "cell_type": "code",
   "execution_count": null,
   "id": "b3a4879d",
   "metadata": {},
   "outputs": [],
   "source": [
    "# # method 2: spanning citations of seed papers\n",
    "# if span_citations(seed_papers, num_span_time):\n",
    "#     print(\"Spanning citations of seed literature list succeeded!\")\n",
    "# else:\n",
    "#     print(\"Attention! Something went wrong when spanning citations of seed literature list!\")"
   ]
  },
  {
   "cell_type": "code",
   "execution_count": null,
   "id": "b1c0ff2b",
   "metadata": {},
   "outputs": [],
   "source": [
    "# # method 3: search existing connectome databases\n",
    "# if search_conne_db(connec_db, connec_db_quries):\n",
    "#     print(\"Searching connectome databases succeeded!\")\n",
    "# else:\n",
    "#     print(\"Attention! Something went wrong when searching connectome databases!\")"
   ]
  },
  {
   "cell_type": "markdown",
   "id": "a8bf1484-5217-4a14-9c48-ff176f46d57b",
   "metadata": {},
   "source": [
    "<h3> Next step: searched literature data preprocessing </h3>"
   ]
  }
 ],
 "metadata": {
  "kernelspec": {
   "display_name": "Python 3 (ipykernel)",
   "language": "python",
   "name": "python3"
  },
  "language_info": {
   "codemirror_mode": {
    "name": "ipython",
    "version": 3
   },
   "file_extension": ".py",
   "mimetype": "text/x-python",
   "name": "python",
   "nbconvert_exporter": "python",
   "pygments_lexer": "ipython3",
   "version": "3.10.12"
  }
 },
 "nbformat": 4,
 "nbformat_minor": 5
}

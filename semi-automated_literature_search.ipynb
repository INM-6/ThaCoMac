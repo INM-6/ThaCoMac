{
 "cells": [
  {
   "cell_type": "markdown",
   "id": "864ee2e7",
   "metadata": {},
   "source": [
    "<h2> Semi-automatic literature search </h2> "
   ]
  },
  {
   "cell_type": "code",
   "execution_count": null,
   "id": "92cba0e8",
   "metadata": {},
   "outputs": [],
   "source": [
    "# import internal .py modules\n",
    "import file_path_management as fpath\n",
    "import public_library as plib"
   ]
  },
  {
   "cell_type": "code",
   "execution_count": null,
   "id": "37eb8cd1-594b-4af8-aff3-cc6a9c91b488",
   "metadata": {
    "tags": []
   },
   "outputs": [],
   "source": [
    "# import packages\n",
    "import requests\n",
    "from bs4 import BeautifulSoup\n",
    "import pandas as pd\n",
    "import random\n",
    "import re\n",
    "import time\n",
    "import numpy as np\n",
    "import numpy as np"
   ]
  },
  {
   "cell_type": "markdown",
   "id": "7ed2a1fb-4380-4179-bbdf-8192056b8b4c",
   "metadata": {},
   "source": [
    "<h3> Parameters: </h3>"
   ]
  },
  {
   "cell_type": "code",
   "execution_count": null,
   "id": "5b6b2882-23e5-4670-8359-3d7367e1107b",
   "metadata": {
    "tags": []
   },
   "outputs": [],
   "source": [
    "# searching keywords lexicon\n",
    "# search in all fields\n",
    "# search_kws_lexicon = (\"macaque\" OR \"macaca\" OR \"rhesus monkey\") AND (\"thalamus\" OR \"thalamocortical\" OR \"thalamo-cortical\") \n",
    "\n",
    "# academic databases\n",
    "# Google Scholar: \"https://scholar.google.com/\"\n",
    "# macaque thalamus OR thalamocortical OR thalamo-cortical\n",
    "# 78100 results\n",
    "# Web of Science: \"https://www.webofscience.com/wos/woscc/advanced-search\" # can be exported to excel file\n",
    "# (ALL=(thalamus) OR ALL=(thalamocortical) OR ALL=(thalamo-cortical)) AND ALL=(macaque)\n",
    "# 880 results\n",
    "# PubMed Central PMC: \"https://pubmed.ncbi.nlm.nih.gov/advanced/\" # can be exported to .csv file\n",
    "# ((thalamus) OR (thalamocortical) OR (thalamo-cortical)) AND (macaque)\n",
    "# 2448 results\n",
    "# Europe PMC = \"https://europepmc.org/advancesearch\" # search resuts can be exported to .csv file\n",
    "# (\"macaque\") AND (\"thalamus\" OR \"thalamocortical\" OR \"thalamo-cortical\") AND (LANG:\"eng\" OR LANG:\"en\" OR LANG:\"us\")\n",
    "# 5130 results\n",
    "acad_dbs = [\"Google Scholar\", \"Web of Science\", \"PubMed Central PMC\", \"Europe PMC\"]\n",
    "\n",
    "# initial urls for specified searching keyword lexicon and all academic databases\n",
    "init_urls = {\n",
    "    \"gs\": \"https://scholar.google.com/scholar?start=0&q=macaque+thalamus+OR+thalamocortical+OR+thalamo-cortical&hl=en&as_sdt=1,5\",\n",
    "    \"wos\": \"https://www.webofscience.com/wos/woscc/summary/3a00a41f-3135-4142-a950-c8d6eb3b20a7-99be93b8/relevance/1\",\n",
    "    \"pmc\": \"https://pubmed.ncbi.nlm.nih.gov/?term=((thalamus)%20OR%20(thalamocortical)%20OR%20(thalamo-cortical))%20AND%20(macaque)&sort=relevance&page=1\",\n",
    "    \"eupmc\": \"https://europepmc.org/search?query=%28%22macaque%22%29%20AND%20%28%22thalamus%22%20OR%20%22thalamocortical%22%20OR%20%22thalamo-cortical%22%29%20AND%20%28LANG%3A%22eng%22%20OR%20LANG%3A%22en%22%20OR%20LANG%3A%22us%22%29&page=1\"\n",
    "}\n",
    "\n",
    "# seed literature list\n",
    "seed_litera_list = []\n",
    "\n",
    "# cocomac literature list\n",
    "cocomac_litera_list = []"
   ]
  },
  {
   "cell_type": "markdown",
   "id": "116f15dc",
   "metadata": {},
   "source": [
    "<h3> Predefined fucntions: </h3> "
   ]
  },
  {
   "cell_type": "code",
   "execution_count": null,
   "id": "b8ee718e-e776-44d4-ba81-7f24ef51c866",
   "metadata": {},
   "outputs": [],
   "source": [
    "# search academic database google scholar given a initial url and return the search results\n",
    "# the given initial url is manually obtained by input search query in the google scholar\n",
    "# the search results include title, url, full_text_url\n",
    "def search_google_scholar(init_url):\n",
    "    # create a .txt file to record the urls of google scholar search results, clear the file if already exists\n",
    "    f = open(fpath.poten_litera_gs, \"w\")\n",
    "    f.truncate()\n",
    "    f.close()\n",
    "\n",
    "    # request the first page and extract the number of pages of the search results\n",
    "    first_page = init_url\n",
    "    # request the webpage unitl the status code is 200\n",
    "    response = requests.get(first_page, headers = plib.headers)\n",
    "    if response.status_code != 200:\n",
    "        raise Exception(\"Error when request webpages!\")\n",
    "    # while(response.status_code != 200):\n",
    "    #     # sleep for 5 minutes\n",
    "    #     time.sleep(300)\n",
    "    #     response = requests.get(first_page, headers = plib.headers)\n",
    "    # parse the webpage\n",
    "    soup = BeautifulSoup(response.content, \"lxml\")\n",
    "    # print(soup)\n",
    "    num_results_str_list = soup.select(\"div\", {\"class\": \"gs_ab_mdw\"})\n",
    "    for item in num_results_str_list:\n",
    "        if \"results\" in item.get_text():\n",
    "            num_results_str = item.get_text().split()\n",
    "    num_results_str = num_results_str[1]\n",
    "    # print(num_results_str)\n",
    "    # print(int(num_results_str))\n",
    "    num_results = int(re.sub(r\"[^\\w\\s]\", \"\", num_results_str))\n",
    "    pages = int(num_results/10)\n",
    "    print(\"Google Scholar searched \" + str(num_results) + \" results\" + \" displayed in \" + str(pages) + \" pages.\")\n",
    "    \n",
    "    # iterate all pages and record the results\n",
    "    # pages = 5\n",
    "    for page in range(pages):\n",
    "        time.sleep(random.randint(1, 10))\n",
    "        time.sleep(random.randint(1*60, 10*60))\n",
    "        start = page * 10\n",
    "        page_url = init_url.split(\"?start=\")[0] + \"?start=\" + str(start) + \"&q=\" + init_url.split(\"?start=\")[1].split(\"&q=\")[1]\n",
    "        # print(page_url)\n",
    "        # search a page\n",
    "        time.sleep(random.randint(5, 20))\n",
    "        response = requests.get(page_url, headers = plib.headers)\n",
    "        if response.status_code != 200:\n",
    "            raise Exception(\"Error when request webpages!\")\n",
    "        # while(response.status_code != 200):\n",
    "        #     # sleep for 5 minutes\n",
    "        #     time.sleep(300)\n",
    "        #     response = requests.get(page_url, headers = plib.headers)\n",
    "        soup = BeautifulSoup(response.content, \"lxml\")\n",
    "        # print(soup)\n",
    "        # print(soup.select(\"[data-lid]\")) \n",
    "        for item in soup.select(\"[data-lid]\"):\n",
    "            # print(item)\n",
    "            try:\n",
    "                add_title = item.select(\"h3\")[0].select(\"a\", href = True)[0].get_text()\n",
    "                # print(add_title)\n",
    "            except:\n",
    "                add_title = \"not found\"\n",
    "            try:\n",
    "                add_url = item.select(\"h3\")[0].select(\"a\", href = True)[0][\"href\"]\n",
    "                # print(add_url)\n",
    "            except:\n",
    "                add_url = \"not found\"\n",
    "            try:\n",
    "                add_full_text_link = item.find_all(\"div\", {'class': \"gs_or_ggsm\"})[0].find_all(\"a\", href = True)[0][\"href\"]\n",
    "                # print(\"1\")\n",
    "                # print(add_full_text_link)\n",
    "            except:\n",
    "                add_full_text_link = \"not found\"\n",
    "            # print(add_full_text_link)\n",
    "            row = {\n",
    "                \"title\": [add_title],\n",
    "                \"url\": [add_url],\n",
    "                \"full_text_url\": [add_full_text_link]\n",
    "            }\n",
    "            columns = [\"title\", \"url\", \"full_text_url\"]\n",
    "            plib.add_row_to_csv(fpath.poten_litera_gs, row, columns)\n",
    "    print(\"Searching Google Scholar complated!\")\n",
    "# end of search_google_scholar\n",
    "# --------------------start of test code--------------------\n",
    "# init_url = init_urls[\"gs\"]\n",
    "# headers = plib.headers\n",
    "# search_google_scholar(init_url)\n",
    "# ---------------------end of test code---------------------"
   ]
  },
  {
   "cell_type": "code",
   "execution_count": null,
   "id": "24f6b835",
   "metadata": {},
   "outputs": [],
   "source": [
    "def search_webofscience(init_url):\n",
    "    # search on the website and export the search results\n",
    "    print(\"Searching Web of Science completed!\")"
   ]
  },
  {
   "cell_type": "code",
   "execution_count": null,
   "id": "a8b492a0",
   "metadata": {},
   "outputs": [],
   "source": [
    "def search_pmc(init_url):\n",
    "    # search on the website and export the search results\n",
    "    print(\"Searching PubMedd Central PMC completed!\")"
   ]
  },
  {
   "cell_type": "code",
   "execution_count": null,
   "id": "0ab5590d",
   "metadata": {},
   "outputs": [],
   "source": [
    "def search_eupmc(init_url):\n",
    "    # search on the website and export the search results\n",
    "    print(\"Searching Europe PMC completed!\")"
   ]
  },
  {
   "cell_type": "code",
   "execution_count": null,
   "id": "72ddc49e-446e-4c4b-a8a7-a79b1335039d",
   "metadata": {},
   "outputs": [],
   "source": [
    "# search academic databases\n",
    "def search_acad_dbs(acad_dbs, init_urls):\n",
    "    try:\n",
    "        for acad_db in acad_dbs:\n",
    "            if acad_db == \"Google Scholar\":\n",
    "                print(\"Searching Google Scholar...\")\n",
    "                search_google_scholar(init_urls[\"gs\"])\n",
    "            elif acad_db == \"Web of Science\":\n",
    "                print(\"Searching Web of Science...\")\n",
    "                search_webofscience(init_urls[\"wos\"])\n",
    "            elif acad_db == \"PubMed Central PMC\":\n",
    "                print(\"Searching PubMed Central PMC...\")\n",
    "                search_pmc(init_urls[\"pmc\"])\n",
    "            elif acad_db == \"Europe PMC\":\n",
    "                print(\"Searching Europe PMC...\")\n",
    "                search_eupmc(init_urls[\"eupmc\"])\n",
    "            else:\n",
    "                print(\"Searching the specified academic database: \" + acad_db + \" is not supported by this function.\")\n",
    "                print(\"Plese choose one of the following databases:\",)\n",
    "                for db in [\"Google Scholar\", \"Web of Science\", \"PubMed Central PMC\", \"Europe PMC\"]:\n",
    "                    print(db)\n",
    "        return True\n",
    "    except:\n",
    "        return False"
   ]
  },
  {
   "cell_type": "code",
   "execution_count": null,
   "id": "b7ad09b4",
   "metadata": {},
   "outputs": [],
   "source": [
    "def span_citations(seed_litera_list, num_span_time):\n",
    "    return True"
   ]
  },
  {
   "cell_type": "code",
   "execution_count": null,
   "id": "411867ea",
   "metadata": {},
   "outputs": [],
   "source": [
    "def search_conne_db():\n",
    "    return True"
   ]
  },
  {
   "cell_type": "code",
   "execution_count": null,
   "id": "11636d77",
   "metadata": {},
   "outputs": [],
   "source": [
    "def merge_webofscience(columns):\n",
    "    print(\"Starting merging search results from Web of Science...\")\n",
    "    try:\n",
    "        df_wos = pd.read_csv(fpath.poten_litera_wos, sep = \";\")\n",
    "        df_wos = df_wos[[\"DOI\", \"Pubmed Id\", \"Article Title\"]]\n",
    "        df_wos.rename(columns={\"DOI\": \"DOI\", \"Pubmed Id\": \"PMID\", \"Article Title\": \"Title\"}, inplace = True)\n",
    "        df_wos[\"PMID\"] = df_wos[\"PMID\"].fillna(0)\n",
    "        df_wos[\"PMID\"] = df_wos[\"PMID\"].astype(int)\n",
    "        df_wos[\"PMID\"] = df_wos[\"PMID\"].astype(str)\n",
    "        # print(df_wos.head(5))\n",
    "        # print(df_wos.dtypes)\n",
    "        pmcid = []\n",
    "        for ind in df_wos.index:\n",
    "            # print(df_wos[\"PMID\"][ind])\n",
    "            if df_wos[\"PMID\"][ind] != \"0\":\n",
    "                pmid = df_wos[\"PMID\"][ind]\n",
    "                # print(pmid)\n",
    "                df_wos[\"PMID\"][ind] = pmid\n",
    "                url = \"https://pubmed.ncbi.nlm.nih.gov/\" + pmid + \"/\"\n",
    "                # print(url)\n",
    "                time.sleep(random.randint(5, 20))\n",
    "                response = requests.get(url, headers = plib.headers)\n",
    "                if response.status_code != 200:\n",
    "                    raise Exception(\"Error when request webpages!\")\n",
    "                soup = BeautifulSoup(response.content, \"lxml\")\n",
    "                l = soup.find_all(\"a\", {\"data-ga-action\": \"PMCID\"})\n",
    "                if(len(l) != 0):\n",
    "                    # print(l[0].get_text().strip())\n",
    "                    pmcid.append(l[0].get_text().strip())\n",
    "                else:\n",
    "                    pmcid.append(np.nan)\n",
    "            else:\n",
    "                pmcid.append(np.nan)\n",
    "            # print(df_wos[ind])\n",
    "        df_wos[\"PMCID\"] = pmcid\n",
    "        df_wos[\"PMCID\"].replace(\"0\", np.nan)\n",
    "        # print(df_wos.head(5))\n",
    "        df_wos = df_wos[columns]\n",
    "        df_wos.to_csv(fpath.poten_litera, header = True, index = None)\n",
    "        return True\n",
    "    except:\n",
    "        return False\n",
    "    "
   ]
  },
  {
   "cell_type": "code",
   "execution_count": null,
   "id": "9742dd8a",
   "metadata": {},
   "outputs": [],
   "source": [
    "def merge_pmc(columns):\n",
    "    print(\"Starting merging search results from PubMed Central PMC...\")\n",
    "    try:\n",
    "        # process pmc search results\n",
    "        df_pmc = pd.read_csv(fpath.poten_litera_pmc, sep=',')\n",
    "        doi = df_pmc[[\"DOI\", \"PMID\", \"PMCID\", \"Title\"]]\n",
    "        doi.to_csv(fpath.poten_litera, mode = \"a\", header = None, index = None)\n",
    "        return True\n",
    "    except:\n",
    "        return False"
   ]
  },
  {
   "cell_type": "code",
   "execution_count": null,
   "id": "47f1c1cd",
   "metadata": {},
   "outputs": [],
   "source": [
    "def merge_eupmc(columns):\n",
    "    print(\"Starting merging search results from Europe PMC...\")\n",
    "    try:\n",
    "        # process eupmc search results\n",
    "        df_eupmc = pd.read_csv(fpath.poten_litera_eupmc, sep = \",\")\n",
    "        df_eupmc = df_eupmc[[\"DOI\", \"PMCID\", \"TITLE\"]]\n",
    "        df_eupmc = df_eupmc.rename(columns={\"TITLE\": \"Title\"}, errors = \"raise\")\n",
    "        # print(df_eupmc.head(5))\n",
    "        pmid = []\n",
    "        for ind in df_eupmc.index:\n",
    "            # print(df_eupmc[\"PMCID\"][ind])\n",
    "            if df_eupmc[\"PMCID\"][ind] is not np.nan:\n",
    "                pmcid = str(df_eupmc[\"PMCID\"][ind])\n",
    "                # print(pmcid)\n",
    "                df_eupmc[\"PMCID\"][ind] = pmcid\n",
    "                url = \"https://www.ncbi.nlm.nih.gov/pmc/articles/\" + pmcid + \"/\"\n",
    "                # print(url)\n",
    "                time.sleep(random.randint(5, 20))\n",
    "                response = requests.get(url, headers = plib.headers)\n",
    "                if response.status_code != 200:\n",
    "                    print(response.status_code)\n",
    "                    raise Exception(\"Error when request webpages!\")\n",
    "                soup = BeautifulSoup(response.content, \"lxml\")\n",
    "                l = soup.find_all(\"div\", {\"class\": \"fm-citation-pmid\"})\n",
    "                if (len(l)) != 0:\n",
    "                    ll = l[0].find_all(\"a\", href = True)\n",
    "                    if(len(ll) != 0):\n",
    "                        # print(ll[0].get_text().strip())\n",
    "                        pmid.append(ll[0].get_text().strip())\n",
    "                else:\n",
    "                    pmid.append(np.nan)\n",
    "            else:\n",
    "                pmid.append(np.nan)\n",
    "            # print(df_wos[ind])\n",
    "        df_eupmc[\"PMID\"] = pmid\n",
    "        df_eupmc = df_eupmc[columns]\n",
    "        df_eupmc.to_csv(fpath.poten_litera, header = None, index = None)\n",
    "        return True\n",
    "    except:\n",
    "        return False"
   ]
  },
  {
   "cell_type": "code",
   "execution_count": null,
   "id": "c4240c14",
   "metadata": {},
   "outputs": [],
   "source": [
    "def merge_google_shcolar(columns):\n",
    "    print(\"Starting merging search results from Google Scholar...\")\n",
    "    return True"
   ]
  },
  {
   "cell_type": "code",
   "execution_count": null,
   "id": "7edf56f5",
   "metadata": {},
   "outputs": [],
   "source": [
    "def merge_seed_paper_spanning(columns):\n",
    "    print(\"Starting merging search results from spanning citations of seed paper...\")\n",
    "    return True"
   ]
  },
  {
   "cell_type": "code",
   "execution_count": null,
   "id": "07331dbc",
   "metadata": {},
   "outputs": [],
   "source": [
    "def merge_cocomac_paper(columns):\n",
    "    print(\"Starting merging search results from CoCoMac papers...\")\n",
    "    return True"
   ]
  },
  {
   "cell_type": "markdown",
   "id": "6fc0eb4e",
   "metadata": {},
   "source": [
    "<h3> Main program: </h3> "
   ]
  },
  {
   "cell_type": "code",
   "execution_count": null,
   "id": "ba0b8126",
   "metadata": {},
   "outputs": [],
   "source": [
    "# first we need to search all related literature that might include data or information of thalamocortical connections\n",
    "# search for potentially related literature using the following listed 3 methods"
   ]
  },
  {
   "cell_type": "code",
   "execution_count": null,
   "id": "f9df256b-106e-4d5d-847e-b068fbade613",
   "metadata": {
    "tags": []
   },
   "outputs": [],
   "source": [
    "# method 1: search acdemic databases using keywords\n",
    "# if search_acad_dbs(acad_dbs, init_urls):\n",
    "#     print(\"Searching academic databases succeeded!\")\n",
    "# else:\n",
    "#     print(\"Attention! Something went wrong when searching academic databases completed!\")"
   ]
  },
  {
   "cell_type": "code",
   "execution_count": null,
   "id": "b3a4879d",
   "metadata": {},
   "outputs": [],
   "source": [
    "# # method 2: spanning citations of seed papers\n",
    "# if span_citations(seed_papers, num_span_time):\n",
    "#     print(\"Spanning citations of seed literature list succeeded!\")\n",
    "# else:\n",
    "#     print(\"Attention! Something went wrong when spanning citations of seed literature list!\")"
   ]
  },
  {
   "cell_type": "code",
   "execution_count": null,
   "id": "b1c0ff2b",
   "metadata": {},
   "outputs": [],
   "source": [
    "# # method 3: search existing connectome databases\n",
    "# if search_conne_db(connec_db, connec_db_quries):\n",
    "#     print(\"Searching connectome databases succeeded!\")\n",
    "# else:\n",
    "#     print(\"Attention! Something went wrong when searching connectome databases!\")"
   ]
  },
  {
   "cell_type": "code",
   "execution_count": null,
   "id": "2c3fe5a4",
   "metadata": {},
   "outputs": [],
   "source": [
    "# merge all searched literature results\n",
    "# clear the file\n",
    "f = open(fpath.poten_litera, \"w\")\n",
    "f.truncate()\n",
    "f.close()\n",
    "\n",
    "# column: [\"DOI\", \"PMID\", \"PMCID\", \"Title\"]\n",
    "columns = [\"DOI\", \"PMID\", \"PMCID\", \"Title\"]"
   ]
  },
  {
   "cell_type": "code",
   "execution_count": null,
   "id": "7a0a1e93",
   "metadata": {},
   "outputs": [],
   "source": [
    "# merge search results from Web of Science\n",
    "if merge_webofscience(columns):\n",
    "    print(\"Merging results from Web of Science succeeded!\")\n",
    "else:\n",
    "    print(\"Attention! Something went wrong when merging results from Web of Science!\")"
   ]
  },
  {
   "cell_type": "code",
   "execution_count": null,
   "id": "7d6d96a6",
   "metadata": {},
   "outputs": [],
   "source": [
    "# merge search results from PubMed Central PMC\n",
    "if merge_pmc(columns):\n",
    "    print(\"Merging results from PubMed Central PMC succeeded!\")\n",
    "else:\n",
    "    print(\"Attention! Something went wrong when merging results from PubMed Central PMC!\")"
   ]
  },
  {
   "cell_type": "code",
   "execution_count": null,
   "id": "ce5df774",
   "metadata": {},
   "outputs": [],
   "source": [
    "# merge search results from Europe PMC\n",
    "if merge_eupmc(columns):\n",
    "    print(\"Merging results from Europe PMC succeeded!\")\n",
    "else:\n",
    "    print(\"Attention! Something went wrong when merging results from Europe PMC!\")"
   ]
  },
  {
   "cell_type": "code",
   "execution_count": null,
   "id": "3d75cc95",
   "metadata": {},
   "outputs": [],
   "source": [
    "# merge search results from Google Scholar\n",
    "if merge_google_shcolar(columns):\n",
    "    print(\"Merging results from Google Scholar succeeded!\")\n",
    "else:\n",
    "    print(\"Attention! Something went wrong when merging results from Google Scholar!\")"
   ]
  },
  {
   "cell_type": "code",
   "execution_count": null,
   "id": "d40c2f29",
   "metadata": {},
   "outputs": [],
   "source": [
    "# merge search results from spanning citations of seed paper\n",
    "if merge_seed_paper_spanning(columns):\n",
    "    print(\"Merging results from spanning citations of seed papers succeeded!\")\n",
    "else:\n",
    "    print(\"Attention! Something went wrong when merging results from spanning citations of seed papers!\")"
   ]
  },
  {
   "cell_type": "code",
   "execution_count": null,
   "id": "e874b5e7",
   "metadata": {},
   "outputs": [],
   "source": [
    "# merge search results from CoCoMac papers\n",
    "if merge_cocomac_paper(columns):\n",
    "    print(\"Merging results from CoCoMac papers succeeded!\")\n",
    "else:\n",
    "    print(\"Attention! Something went wrong when merging results from CoCoMac papers!\")"
   ]
  },
  {
   "cell_type": "markdown",
   "id": "a8bf1484-5217-4a14-9c48-ff176f46d57b",
   "metadata": {},
   "source": [
    "Next step: automatic filtering the potential related literature"
   ]
  },
  {
   "cell_type": "markdown",
   "id": "a61c1533",
   "metadata": {},
   "source": [
    "<h3> Some test code, please ignore: </h3> "
   ]
  },
  {
   "cell_type": "code",
   "execution_count": null,
   "id": "b6cb18dc",
   "metadata": {},
   "outputs": [],
   "source": [
    "# # test request\n",
    "# webpage that require subscription\n",
    "url = \"https://journals.physiology.org/doi/pdf/10.1152/jn.2001.85.1.219\"\n",
    "# webpage that does not require subscription\n",
    "# url = \"https://pubmed.ncbi.nlm.nih.gov/34524542/\"\n",
    "response = requests.get(url, headers = plib.headers)\n",
    "soup = BeautifulSoup(response.content,\"lxml\")\n",
    "print(soup)"
   ]
  }
 ],
 "metadata": {
  "kernelspec": {
   "display_name": "Python 3 (ipykernel)",
   "language": "python",
   "name": "python3"
  },
  "language_info": {
   "codemirror_mode": {
    "name": "ipython",
    "version": 3
   },
   "file_extension": ".py",
   "mimetype": "text/x-python",
   "name": "python",
   "nbconvert_exporter": "python",
   "pygments_lexer": "ipython3",
   "version": "3.10.12"
  }
 },
 "nbformat": 4,
 "nbformat_minor": 5
}

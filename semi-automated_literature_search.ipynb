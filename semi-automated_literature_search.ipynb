{
 "cells": [
  {
   "cell_type": "markdown",
   "metadata": {},
   "source": [
    "First we need to extract related literature that might include thalamocortical connections."
   ]
  },
  {
   "cell_type": "markdown",
   "metadata": {},
   "source": [
    "Here we specify the keyword lexicon for searching for related literature and meta category list that "
   ]
  },
  {
   "cell_type": "code",
   "execution_count": 159,
   "metadata": {
    "tags": []
   },
   "outputs": [],
   "source": [
    "# import required packages\n",
    "import pandas as pd\n",
    "import urllib3\n",
    "import requests"
   ]
  },
  {
   "cell_type": "code",
   "execution_count": 50,
   "metadata": {
    "tags": []
   },
   "outputs": [],
   "source": [
    "# parameters\n",
    "\n",
    "# searching keyword lexicon\n",
    "search_kws_lexicon =['macaque', 'Macaque']\n",
    "\n",
    "# on-topic keyword lexicon\n",
    "on_topic_kws = ['thalamocortical', 'thalamo-cortical', \n",
    "                'tract tracing', 'axonal tracing', 'neural anatomical tracing', \n",
    "                'connection', 'connectivity', 'connectome', \n",
    "                'thalamus', 'cortex']\n",
    "\n",
    "# meta categories, keywords, and correspond queries\n",
    "meta_categ = ['DOI', 'Publication link', 'Authors', 'Year', 'Country', 'Affiliation', \n",
    "              'Title', 'Abstract', 'Keywords', 'Parcellation scheme', \n",
    "              'Steriotactic axis', 'Type of data']\n",
    "meta_categ_kws = []\n",
    "meta_categ_quries = []\n",
    "\n",
    "# searching keywords lexicon, academic databases\n",
    "search_kw_lexicon = \n",
    "acad_db = \n",
    "\n",
    "# seed papers specification\n",
    "see_papers = []\n",
    "\n",
    "# connectome database and queries specification\n",
    "# we search the CoCoMac\n",
    "connec_db = 'http://cocomac.g-node.org/sitemap/index.php?path=CoCoMac|Search'\n",
    "quries = ['', '', '']\n",
    "\n",
    "# ChatPDF, queries for relatedness of topic\n",
    "chatpdf_related_queries = "
   ]
  },
  {
   "cell_type": "code",
   "execution_count": null,
   "metadata": {},
   "outputs": [],
   "source": [
    "# method 1: searching academic databases using searching keyword lexicon\n",
    "def search_acad_db(keywords, acad_db):\n",
    "    return liter_list_1"
   ]
  },
  {
   "cell_type": "code",
   "execution_count": null,
   "metadata": {},
   "outputs": [],
   "source": [
    "# method 2: spanning citations of seed papers\n",
    "def expand_citation(seed_papers):\n",
    "    return liter_list_2"
   ]
  },
  {
   "cell_type": "code",
   "execution_count": null,
   "metadata": {},
   "outputs": [],
   "source": [
    "# method 3: querying the existing connectome database \n",
    "def search_conne_db(connec_db, quries):\n",
    "    return liter_list_3"
   ]
  },
  {
   "cell_type": "code",
   "execution_count": 167,
   "metadata": {
    "tags": []
   },
   "outputs": [],
   "source": [
    "# searching for related literature and write them into file 'list_of_potential_related_literature.txt'\n",
    "def record_liter(doi_or_url, path):\n",
    "    with open(path, 'a+') as url_file:\n",
    "        url_file.seek(0)\n",
    "        # If file is not empty then append '\\n'\n",
    "        data = url_file.read(100)\n",
    "        if len(data) > 0 :\n",
    "            url_file.write('\\n')\n",
    "        # Append text at the end of file\n",
    "        url_file.write(doi_or_url)\n",
    "        \n",
    "'''\n",
    "# test function record_liter(doi_or_url, path)\n",
    "doi_or_url = 'http://cocomac.g-node.org/main/index.php'\n",
    "for i in range(10):\n",
    "    record_liter(doi_or_url)\n",
    "'''"
   ]
  },
  {
   "cell_type": "code",
   "execution_count": null,
   "metadata": {
    "tags": []
   },
   "outputs": [],
   "source": [
    "# read line by line the urls of related literature in the tex file and access the content\n",
    "# seach for on-topic keywords and record the number of times they appear and record to a .csv file\n",
    "def scan_poten_urls(path_urls, on_topic_kws):\n",
    "    with open(path_urls, 'r') as url_file:\n",
    "        for line in url_file:\n",
    "            # Process each line here\n",
    "            response = requests.get(line)\n",
    "            if response.status_code == 200:\n",
    "                content = response.text\n",
    "                # process the content of the webpage here\n",
    "                print(content)\n",
    "                # code\n",
    "            else:\n",
    "                print(\"Error accessing the webpage. Status code:\", response.status_code)"
   ]
  },
  {
   "cell_type": "code",
   "execution_count": null,
   "metadata": {},
   "outputs": [],
   "source": [
    "# read line by line the urls of related literature in the tex file and access the content\n",
    "# seach for on-topic keywords and record the number of times they appear and record to a .csv file\n",
    "def ChatPDF_relatedness(path_urls, chatpdf_related_queries):\n",
    "    with open(path_urls, 'r') as url_file:\n",
    "        for line in url_file:\n",
    "            # code"
   ]
  },
  {
   "cell_type": "code",
   "execution_count": null,
   "metadata": {},
   "outputs": [],
   "source": [
    "# main\n",
    "path_urls = '/Users/didihou/myProjects/didihou_master_project/list_of_literature_urls.txt'\n",
    "path_potential = '/Users/didihou/myProjects/didihou_master_project/list_of_potential_related_literature.csv'\n",
    "\n",
    "with open(path_urls, 'w') as f:\n",
    "    f.truncate()\n",
    "    f.close()\n",
    "\n",
    "# method 1\n",
    "liter_list_1 = search_acad_db(search_kw_lexicon, acad_db)\n",
    "for doi_or_url in liter_list_1:\n",
    "    record_liter(doi_or_url, path_urls)\n",
    "\n",
    "# method 2\n",
    "liter_list_2 = expand_citation(seed_papers)\n",
    "for doi_or_url in liter_list_2:\n",
    "    record_liter(doi_or_url, path_urls)\n",
    "\n",
    "# method 3\n",
    "liter_list_3 = search_conne_db(connec_db, quries)\n",
    "for doi_or_url in liter_list_3:\n",
    "    record_liter(doi_or_url, path_urls)\n",
    "    \n",
    "# eleminate duplications\n",
    "# code\n",
    "\n",
    "# scan all the potential related literature and searching for the on-topic keywords and \n",
    "# record the number of times they appear\n",
    "scan_poten_urls(path_urls, on_topic_kws)\n",
    "\n",
    "# send .PDF publication of all potential related literatures to ChatPDF.con and ask for relatedness \n",
    "# then record the answer to the list_of_potential_related_literature.csv as well\n",
    "ChatPDF_relatedness(path_urls, chatpdf_related_queries)\n",
    "\n",
    "# now we have a list of potential related literature and the information about relatedness stored in the file\n",
    "# list_of_potential_related_literature.csv with path_potential\n",
    "# now we may perform a automatic filtering of the literature"
   ]
  },
  {
   "cell_type": "code",
   "execution_count": null,
   "metadata": {},
   "outputs": [],
   "source": [
    "# automatic filtering\n",
    "# code"
   ]
  },
  {
   "cell_type": "code",
   "execution_count": null,
   "metadata": {},
   "outputs": [],
   "source": [
    "# manual filtering"
   ]
  },
  {
   "cell_type": "code",
   "execution_count": null,
   "metadata": {},
   "outputs": [],
   "source": [
    "# now we have a list of actually related literature stored in list_of_related_literature.txt"
   ]
  },
  {
   "cell_type": "code",
   "execution_count": null,
   "metadata": {},
   "outputs": [],
   "source": [
    "# the end of semi-automated literature and information search"
   ]
  },
  {
   "cell_type": "markdown",
   "metadata": {},
   "source": [
    "Next step: we perform a information search on the list of related literature, see the notebook named \"\""
   ]
  }
 ],
 "metadata": {
  "kernelspec": {
   "display_name": "Python 3 (ipykernel)",
   "language": "python",
   "name": "python3"
  },
  "language_info": {
   "codemirror_mode": {
    "name": "ipython",
    "version": 3
   },
   "file_extension": ".py",
   "mimetype": "text/x-python",
   "name": "python",
   "nbconvert_exporter": "python",
   "pygments_lexer": "ipython3",
   "version": "3.10.12"
  }
 },
 "nbformat": 4,
 "nbformat_minor": 4
}

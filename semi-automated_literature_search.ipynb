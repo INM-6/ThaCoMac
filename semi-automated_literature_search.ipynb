{
 "cells": [
  {
   "cell_type": "markdown",
   "metadata": {},
   "source": [
    "First we need to search all related literature that might include data or information of thalamocortical connections."
   ]
  },
  {
   "cell_type": "code",
   "execution_count": null,
   "metadata": {
    "tags": []
   },
   "outputs": [],
   "source": [
    "# import required packages\n",
    "import pandas as pd\n",
    "import urllib3\n",
    "import requests\n",
    "from urllib.request import Request, urlopen\n",
    "# from scholarly import scholarly"
   ]
  },
  {
   "cell_type": "markdown",
   "metadata": {},
   "source": [
    "In the next cell, we present all parameters that might have an effect on the search results, including:<br>\n",
    "1. searching keyword lexicon\n",
    "2. on-topic keyword lexicon\n",
    "3. academic databases\n",
    "4. seed papers\n",
    "5. connectome database and \n",
    "6. connectome database queries\n",
    "7. ChatPDF queries for relatedness of topic"
   ]
  },
  {
   "cell_type": "code",
   "execution_count": null,
   "metadata": {
    "tags": []
   },
   "outputs": [],
   "source": [
    "# parameters\n",
    "\n",
    "# searching keyword lexicon\n",
    "# (macaque OR Macaque) AND (thalamocortical OR thalamocortical OR corticothalamic OR 'cortico-thalamic' OR thalamus OR cortex)\n",
    "search_kws_lexicon = 'macaque AND (thalamus OR cortex OR thalamocortical OR thalamo-cortical OR corticothalamic OR cortico-thalamic)'\n",
    "\n",
    "# on-topic keyword lexicon\n",
    "on_topic_kws = ['thalamocortical', 'thalamo-cortical', 'corticothalamic', 'cortico-thalamic',\n",
    "                'tracing', 'tracer', 'tract tracing', 'tract-tracing', 'axonal tracing', 'neural anatomical tracing', \n",
    "                'connection', 'projection', 'connectivity', 'connectome', \n",
    "                'thalamus', 'cortex']\n",
    "\n",
    "# academic databases\n",
    "Semantic_Scholar = 'https://www.semanticscholar.org/'\n",
    "Google_Scholar = 'https://scholar.google.com/'\n",
    "# arXiv = 'https://arxiv.org/'\n",
    "Web_of_Science = 'https://www.webofscience.com/wos/woscc/basic-search' # can be expoted to excel file\n",
    "PubMed_Central_PMC = 'https://www.ncbi.nlm.nih.gov/pmc/' # can be exported to .csv file and abstract.txt file\n",
    "Europe_PMC = 'https://europepmc.org/' # can be exported to .csv file or abstract and full open access file .xml\n",
    "acad_dbs = [Semantic_Scholar, Google_Scholar, Web_of_Science, PubMed_Central_PMC, Europe_PMC]\n",
    "\n",
    "# seed papers specification\n",
    "seed_papers = []\n",
    "\n",
    "# connectome database and queries specification\n",
    "# we search the CoCoMac\n",
    "connec_db = 'http://cocomac.g-node.org/sitemap/index.php?path=CoCoMac|Search'\n",
    "connec_db_quries = []\n",
    "\n",
    "# ChatPDF, queries for relatedness of topic\n",
    "ChatPDF_related_queries = []"
   ]
  },
  {
   "cell_type": "code",
   "execution_count": null,
   "metadata": {
    "tags": []
   },
   "outputs": [],
   "source": [
    "from serpapi import GoogleSearch\n",
    "params = {\n",
    "  \"engine\": \"google_scholar\",\n",
    "  \"q\": \"macaque thalamus OR thalamocortical OR thalamo-cortical\",\n",
    "  \"api_key\": \"c397fc278e5a3483e64735af275a21bf6f78b17a8084ea7f507d933bb4d4b90a\"\n",
    "}\n",
    "\n",
    "search = GoogleSearch(params)\n",
    "results = search.get_dict()\n",
    "organic_results = results[\"organic_results\"]"
   ]
  },
  {
   "cell_type": "code",
   "execution_count": null,
   "metadata": {
    "tags": []
   },
   "outputs": [],
   "source": [
    "organic_results"
   ]
  },
  {
   "cell_type": "code",
   "execution_count": null,
   "metadata": {},
   "outputs": [],
   "source": [
    "# method 1: searching academic databases using searching keyword lexicon\n",
    "def search_acad_db(keywords, acad_db):\n",
    "    return liter_list_1"
   ]
  },
  {
   "cell_type": "code",
   "execution_count": null,
   "metadata": {},
   "outputs": [],
   "source": [
    "# method 2: spanning citations of seed papers\n",
    "def expand_citation(seed_papers):\n",
    "    return liter_list_2"
   ]
  },
  {
   "cell_type": "code",
   "execution_count": null,
   "metadata": {},
   "outputs": [],
   "source": [
    "# method 3: querying the existing connectome database \n",
    "def search_conne_db(connec_db, connec_db_quries):\n",
    "    return liter_list_3"
   ]
  },
  {
   "cell_type": "code",
   "execution_count": null,
   "metadata": {
    "tags": []
   },
   "outputs": [],
   "source": [
    "# searching for related literature and write them into file 'list_of_potential_related_literature.txt'\n",
    "def record_liter(doi_or_url, path):\n",
    "    with open(path, 'a+') as url_file:\n",
    "        url_file.seek(0)\n",
    "        # If file is not empty then append '\\n'\n",
    "        data = url_file.read(100)\n",
    "        if len(data) > 0 :\n",
    "            url_file.write('\\n')\n",
    "        # Append text at the end of file\n",
    "        url_file.write(doi_or_url)\n",
    "        \n",
    "'''\n",
    "# code for testing function: record_liter(doi_or_url, path)\n",
    "doi_or_url = 'http://cocomac.g-node.org/main/index.php'\n",
    "for i in range(10):\n",
    "    record_liter(doi_or_url)\n",
    "'''"
   ]
  },
  {
   "cell_type": "code",
   "execution_count": null,
   "metadata": {
    "tags": []
   },
   "outputs": [],
   "source": [
    "# read line by line the urls of related literature in the tex file and access the content\n",
    "# seach for on-topic keywords and record the number of times they appear and record to a .csv file\n",
    "def scan_poten_urls(path_urls, on_topic_kws):\n",
    "    with open(path_urls, 'r') as url_file:\n",
    "        for line in url_file:\n",
    "            # Process each line here\n",
    "            for i in range(10):\n",
    "                response = requests.get(line)\n",
    "                if response.status_code == 200:\n",
    "                    content = response.text\n",
    "                    # process the content of the webpage here\n",
    "                    print(content)\n",
    "                    # code\n",
    "                    content = response.text\n",
    "            if(i == 9):\n",
    "                print(\"Error accessing the webpage. Status code:\", response.status_code)\n",
    "                 \n",
    "\n",
    "# code for testing function: scan_poten_urls(path_urls, on_topic_kws)\n",
    "line = 'https://onlinelibrary.wiley.com/doi/epdf/10.1002/cne.902570211'\n",
    "for i in range(10):\n",
    "    req = Request(\n",
    "    url=line, \n",
    "    headers={'User-Agent':'Mozilla/5.0'})\n",
    "    webpage = urlopen(req).read()\n",
    "    # response = requests.get(line)\n",
    "    if response.status_code == 200:\n",
    "        content = response.text\n",
    "        # process the content of the webpage here\n",
    "        break\n",
    "if(i == 9):\n",
    "    print(\"Error accessing the webpage. Status code:\", response.status_code)\n",
    "else:\n",
    "    print(\"Success\")"
   ]
  },
  {
   "cell_type": "code",
   "execution_count": null,
   "metadata": {
    "tags": []
   },
   "outputs": [],
   "source": [
    "# Import libraries\n",
    "import requests\n",
    "from bs4 import BeautifulSoup\n",
    "\n",
    "# URL from which pdfs to be downloaded\n",
    "url = \"https://medium.com/analytics-vidhya/webscraping-a-site-with-pagination-using-beautifulsoup-fa0a09804445\"\n",
    "\n",
    "# Requests URL and get response object\n",
    "response = requests.get(url)\n",
    "\n",
    "# Parse text obtained\n",
    "soup = BeautifulSoup(response.text, 'html.parser')\n",
    "\n",
    "# Find all hyperlinks present on webpage\n",
    "links = soup.find_all('a')\n",
    "\n",
    "i = 0\n",
    "\n",
    "# From all links check for pdf link and\n",
    "# if present download file\n",
    "for link in links:\n",
    "    print(link)\n",
    "    if ('.pdf' in link.get('href', []) or 'pdf.' in link.get('href', [])):\n",
    "        i += 1\n",
    "        print(\"Downloading file: \", i)\n",
    "\n",
    "        # Get response object for link\n",
    "        response = requests.get(link.get('href'))\n",
    "\n",
    "        # Write content in pdf file\n",
    "        pdf = open(\"pdf\"+str(i)+\".pdf\", 'wb')\n",
    "        pdf.write(response.content)\n",
    "        pdf.close()\n",
    "        print(\"File \", i, \" downloaded\")\n",
    "\n",
    "print(\"All PDF files downloaded\")"
   ]
  },
  {
   "cell_type": "code",
   "execution_count": null,
   "metadata": {
    "tags": []
   },
   "outputs": [],
   "source": [
    "# -*- coding: utf-8 -*- \n",
    "from bs4 import BeautifulSoup \n",
    "import requests\n",
    "import time\n",
    "\n",
    "path_urls = '/Users/didihou/myProjects/didihou_master_project/list_of_literature_urls.txt'\n",
    "headers = {'User-Agent':'Mozilla/5.0 (Macintosh; Intel Mac OS X 10_11_2) AppleWebKit/601.3.9 (KHTML, like Gecko) Version/9.0.2 Safari/601.3.9'} \n",
    "\n",
    "url = 'https://www.sciencedirect.com/science/article/pii/S095943880900049X'\n",
    "response = requests.get(url, headers = headers)\n",
    "# print(url)\n",
    "soup = BeautifulSoup(response.content,'lxml')\n",
    "print(soup)\n",
    "print(soup.select('h1')) \n",
    "'''\n",
    "pages = 100\n",
    "for page in range(pages):\n",
    "    time.sleep(2)\n",
    "    start = page * 10\n",
    "    url = 'https://scholar.google.com/scholar?start=' + str(start) + '&q=macaque+thalamus+OR+thalamocortical+OR+thalamo-cortical&hl=en&as_sdt=1,5' \n",
    "    response = requests.get(url,headers = headers)\n",
    "    # print(url)\n",
    "    soup = BeautifulSoup(response.content,'lxml') \n",
    "    #print(soup.select('[data-lid]')) \n",
    "    for item in soup.select('[data-lid]'): \n",
    "        try: \n",
    "            # print('----------------------------------------') \n",
    "            # print(item)  \n",
    "            # print(item.select('h3')[0])\n",
    "            with open(path_urls, 'a+') as url_file:\n",
    "                url_file.seek(0)\n",
    "                # If file is not empty then append '\\n'\n",
    "                data = url_file.read(100)\n",
    "                if len(data) > 0 :\n",
    "                    url_file.write('\\n')\n",
    "                    # Append text at the end of file\n",
    "                url_file.write('----------------------------------------\\n')\n",
    "                url_file.write(item.select('h3')[0].get_text())\n",
    "                url_file.write('\\n')\n",
    "                # print(item.select('h3')[0].get_text())\n",
    "                for a in item.select('h3')[0].find_all('a', href=True):\n",
    "                    # print(a['href'])\n",
    "                    url_file.write(a['href'])\n",
    "                    url_file.write('\\n')\n",
    "                    # print(item.select('a'))\n",
    "                    # print(\"PDF link:\")\n",
    "                url_file.write(item.select('a')[0]['href'])\n",
    "                url_file.write('\\n')\n",
    "                # print(item.select('a')[0]['href'])\n",
    "                # print(item.select('.gs_rs')[0].get_text()) \n",
    "                # print('----------------------------------------') \n",
    "        except Exception as e: \n",
    "            #raise e \n",
    "            print('')\n",
    "'''"
   ]
  },
  {
   "cell_type": "code",
   "execution_count": null,
   "metadata": {},
   "outputs": [],
   "source": [
    "# read line by line the urls of related literature in the tex file and access the content\n",
    "# seach for on-topic keywords and record the number of times they appear and record to a .csv file\n",
    "def ChatPDF_relatedness(path_urls, ChatPDF_related_queries):\n",
    "    with open(path_urls, 'r') as url_file:\n",
    "        for line in url_file:\n",
    "            a = 1\n",
    "            # code\n",
    "            \n",
    "'''\n",
    "# code for testing function: ChatPDF_relatedness(path_urls, ChatPDF_related_queries)\n",
    "\n",
    "'''"
   ]
  },
  {
   "cell_type": "code",
   "execution_count": null,
   "metadata": {},
   "outputs": [],
   "source": [
    "# automatic filtering\n",
    "def auto_filter(path_potential):\n",
    "    return"
   ]
  },
  {
   "cell_type": "code",
   "execution_count": null,
   "metadata": {},
   "outputs": [],
   "source": [
    "# manual filtering\n",
    "# manual filtering is performed by reading the tilte, abstract, keywords, introduction section of each publication \n",
    "# in the order of sorted list by the possiblity of relatedness\n",
    "def manual_filter(path_potential, path_related_urls):\n",
    "    # read and munual confirm the related literature\n",
    "    return"
   ]
  },
  {
   "cell_type": "code",
   "execution_count": null,
   "metadata": {},
   "outputs": [],
   "source": [
    "# main program\n",
    "path_urls = '/Users/didihou/myProjects/didihou_master_project/list_of_literature_urls.txt'\n",
    "path_potential = '/Users/didihou/myProjects/didihou_master_project/list_of_potential_related_literature.csv'\n",
    "path_related_urls = '/Users/didihou/myProjects/didihou_master_project/list_of_related_literature.txt'\n",
    "\n",
    "'''\n",
    "# clear all files\n",
    "with open(path_urls, 'w') as f:\n",
    "    f.truncate()\n",
    "    f.close()\n",
    "\n",
    "with open(path_potential, 'w') as f:\n",
    "    f.truncate()\n",
    "    f.close()\n",
    "    \n",
    "with open(path_related_urls, 'w') as f:\n",
    "    f.truncate()\n",
    "    f.close()\n",
    "'''\n",
    "\n",
    "# search for potentially related literature using the listed 3 methods\n",
    "# method 1\n",
    "liter_list_1 = []\n",
    "liter_list_1 = search_acad_db(search_kws_lexicon, acad_dbs)\n",
    "for doi_or_url in liter_list_1:\n",
    "    record_liter(doi_or_url, path_urls)\n",
    "\n",
    "# method 2\n",
    "liter_list_2 = []\n",
    "liter_list_2 = expand_citation(seed_papers)\n",
    "for doi_or_url in liter_list_2:\n",
    "    record_liter(doi_or_url, path_urls)\n",
    "\n",
    "# method 3\n",
    "liter_list_3 = []\n",
    "liter_list_3 = search_conne_db(connec_db, connec_db_quries)\n",
    "for doi_or_url in liter_list_3:\n",
    "    record_liter(doi_or_url, path_urls)\n",
    "    \n",
    "# eleminate duplications\n",
    "# code\n",
    "\n",
    "# scan all the potential related literature and searching for the on-topic keywords and \n",
    "# record the number of times they appear\n",
    "scan_poten_urls(path_urls, on_topic_kws)\n",
    "\n",
    "# send .PDF publication of all potential related literatures to ChatPDF.con and ask for relatedness \n",
    "# then record the answer to the list_of_potential_related_literature.csv as well\n",
    "ChatPDF_relatedness(path_urls, chatpdf_related_queries)\n",
    "\n",
    "# now we have a list of potential related literature and the information about relatedness \n",
    "# stored in the file \"list_of_potential_related_literature.csv\"\n",
    "# now we may perform a automatic filtering and manual filtering of the literature\n",
    "\n",
    "# automatic filtering\n",
    "auto_filter(path_potential)\n",
    "\n",
    "# manual filtering\n",
    "manual_filter(path_potential, path_related_urls)"
   ]
  },
  {
   "cell_type": "markdown",
   "metadata": {},
   "source": [
    "This is the end of semi-automated literature search."
   ]
  },
  {
   "cell_type": "markdown",
   "metadata": {},
   "source": [
    "Now we have a list of actually related literature stored in list_of_related_literature.txt"
   ]
  },
  {
   "cell_type": "markdown",
   "metadata": {},
   "source": [
    "Next step: we perform a information search on the list of related literature, see the notebook named \"semi_automated_information_search.ipynb\""
   ]
  }
 ],
 "metadata": {
  "kernelspec": {
   "display_name": "Python 3 (ipykernel)",
   "language": "python",
   "name": "python3"
  },
  "language_info": {
   "codemirror_mode": {
    "name": "ipython",
    "version": 3
   },
   "file_extension": ".py",
   "mimetype": "text/x-python",
   "name": "python",
   "nbconvert_exporter": "python",
   "pygments_lexer": "ipython3",
   "version": "3.10.12"
  }
 },
 "nbformat": 4,
 "nbformat_minor": 4
}

{
 "cells": [
  {
   "cell_type": "markdown",
   "id": "864ee2e7",
   "metadata": {},
   "source": [
    "<h2> Semi-automatic literature search </h2> "
   ]
  },
  {
   "cell_type": "code",
   "execution_count": 19,
   "id": "92cba0e8",
   "metadata": {},
   "outputs": [],
   "source": [
    "# import internal .py modules\n",
    "import file_path_management as fpath\n",
    "import public_library as plib"
   ]
  },
  {
   "cell_type": "code",
   "execution_count": 20,
   "id": "37eb8cd1-594b-4af8-aff3-cc6a9c91b488",
   "metadata": {
    "tags": []
   },
   "outputs": [],
   "source": [
    "# import packages\n",
    "import requests\n",
    "from bs4 import BeautifulSoup\n",
    "import pandas as pd\n",
    "import random\n",
    "import re\n",
    "import time\n",
    "import numpy as np\n",
    "import numpy as np"
   ]
  },
  {
   "cell_type": "markdown",
   "id": "7ed2a1fb-4380-4179-bbdf-8192056b8b4c",
   "metadata": {},
   "source": [
    "<h3> Parameters: </h3>"
   ]
  },
  {
   "cell_type": "code",
   "execution_count": 21,
   "id": "5b6b2882-23e5-4670-8359-3d7367e1107b",
   "metadata": {
    "tags": []
   },
   "outputs": [],
   "source": [
    "# searching keywords lexicon\n",
    "# search in all fields\n",
    "# \"\" means exact match, otherwise the search engine will treat every word separately\n",
    "\n",
    "# search_kws_lexicon = (macaque OR macaca OR \"rhesus monkey\") AND (thalamus OR thalamic OR thalamocortical OR \"thalamo-cortical\")\n",
    "\n",
    "# academic databases\n",
    "# Google Scholar: \"https://scholar.google.com/\"\n",
    "# (macaque OR macaca OR \"rhesus monkey\") (thalamus OR thalamic OR thalamocortical OR \"thalamo-cortical\")\n",
    "# 132000 results\n",
    "# https://scholar.google.com/scholar?start=0&q=(macaque+OR+macaca+OR+%22rhesus+monkey%22)+(thalamus+OR+thalamic+OR+thalamocortical+OR+%22thalamo-cortical%22)&hl=en&as_sdt=0,5\n",
    "\n",
    "# Web of Science: \"https://www.webofscience.com/wos/woscc/advanced-search\" # can be exported to excel file\n",
    "# (ALL=(macaque) OR ALL=(macaca) OR All=(\"rhesus monkey\")) AND (ALL=(thalamus) OR ALL=(thalamic) OR ALL=(thalamocortical) OR ALL=(\"thalamo-cortical\"))\n",
    "# 1976 results\n",
    "# https://www.webofscience.com/wos/woscc/summary/cbcda45c-f1a5-45d2-bc24-ff8c17e0c083-9a6726cd/relevance/1\n",
    "\n",
    "# PubMed Central PMC: \"https://pubmed.ncbi.nlm.nih.gov/advanced/\" # can be exported to .csv file\n",
    "# (macaque OR macaca OR \"rhesus monkey\") AND (thalamus OR thalamic OR thalamocortical OR \"thalamo-cortical\")\n",
    "# 2606 results\n",
    "# https://pubmed.ncbi.nlm.nih.gov/?term=(macaque%20OR%20macaca%20OR%20%22rhesus%20monkey%22)%20AND%20(thalamus%20OR%20thalamic%20OR%20thalamocortical%20OR%20%22thalamo-cortical%22)&page=1\n",
    "\n",
    "# Europe PMC = \"https://europepmc.org/advancesearch\" # search resuts can be exported to .csv file\n",
    "# (macaque OR macaca OR \"rhesus monkey\") AND (thalamus OR thalamic OR thalamocortical OR \"thalamo-cortical\") AND (LANG:\"eng\" OR LANG:\"en\" OR LANG:\"us\")\n",
    "# 9140 results\n",
    "# https://europepmc.org/search?query=%28macaque%20OR%20macaca%20OR%20%22rhesus%20monkey%22%29%20AND%20%28thalamus%20OR%20thalamic%20OR%20thalamocortical%20OR%20%22thalamo-cortical%22%29%20AND%20%28LANG%3A%22eng%22%20OR%20LANG%3A%22en%22%20OR%20LANG%3A%22us%22%29&page=1\n",
    "\n",
    "acad_dbs = [\"Google Scholar\", \"Web of Science\", \"PubMed Central PMC\", \"Europe PMC\"]\n",
    "\n",
    "# initial urls for specified searching keyword lexicon and all academic databases\n",
    "init_urls = {\n",
    "    \"gs\": \"https://scholar.google.com/scholar?start=0&q=(macaque+OR+macaca+OR+%22rhesus+monkey%22)+(thalamus+OR+thalamic+OR+thalamocortical+OR+%22thalamo-cortical%22)&hl=en&as_sdt=0,5\",\n",
    "    \"wos\": \"https://www.webofscience.com/wos/woscc/summary/cbcda45c-f1a5-45d2-bc24-ff8c17e0c083-9a6726cd/relevance/1\",\n",
    "    \"pmc\": \"https://pubmed.ncbi.nlm.nih.gov/?term=(macaque%20OR%20macaca%20OR%20%22rhesus%20monkey%22)%20AND%20(thalamus%20OR%20thalamic%20OR%20thalamocortical%20OR%20%22thalamo-cortical%22)&page=1\",\n",
    "    \"eupmc\": \"https://europepmc.org/search?query=%28macaque%20OR%20macaca%20OR%20%22rhesus%20monkey%22%29%20AND%20%28thalamus%20OR%20thalamic%20OR%20thalamocortical%20OR%20%22thalamo-cortical%22%29%20AND%20%28LANG%3A%22eng%22%20OR%20LANG%3A%22en%22%20OR%20LANG%3A%22us%22%29&page=1\"\n",
    "}\n",
    "\n",
    "# seed literature list\n",
    "seed_litera_list = []\n",
    "\n",
    "# cocomac literature list\n",
    "cocomac_litera_list = []"
   ]
  },
  {
   "cell_type": "markdown",
   "id": "116f15dc",
   "metadata": {},
   "source": [
    "<h3> Predefined fucntions: </h3> "
   ]
  },
  {
   "cell_type": "code",
   "execution_count": 22,
   "id": "b8ee718e-e776-44d4-ba81-7f24ef51c866",
   "metadata": {},
   "outputs": [],
   "source": [
    "# search academic database google scholar given a initial url and return the search results\n",
    "# the given initial url is manually obtained by input search query in the google scholar\n",
    "def search_google_scholar(first_page):\n",
    "    print(\"Searching Google Scholar...\")\n",
    "\n",
    "    f = open(fpath.poten_litera_gs, \"w\")\n",
    "    f.truncate()\n",
    "    f.close()\n",
    "\n",
    "    # request the first page 1\n",
    "    proxies, auth = plib.get_proxies()\n",
    "    response = requests.get(first_page, headers = plib.headers, proxies = proxies, auth = auth)\n",
    "    # print(response.status_code)\n",
    "    if response.status_code != 200:\n",
    "        print(\"Page: \" + page)\n",
    "        print(response.status_code)\n",
    "        raise Exception(\"Your request was declined, again!\")\n",
    "    # parse the webpage\n",
    "    soup = BeautifulSoup(response.content, \"lxml\")\n",
    "    # print(soup)\n",
    "    num_results_str_list = soup.find_all(\"div\", {\"class\": \"gs_ab_mdw\"})\n",
    "    # print(num_results_str_list)\n",
    "    for item in num_results_str_list:\n",
    "        num_results_str = []\n",
    "        if \"results\" in item.get_text():\n",
    "            num_results_str = item.get_text().split()\n",
    "    num_results = num_results_str[1]\n",
    "    # print(num_results)\n",
    "    num_results = int(re.sub(r\"[^0-9]\", \"\", num_results))\n",
    "    pages = int(num_results/10)\n",
    "    print(\"Google Scholar searched \" + str(num_results) + \" results\" + \" displayed in \" + str(pages) + \" pages.\")\n",
    "    \n",
    "    # iterate all pages and record the results\n",
    "    pages = 50\n",
    "    for page in range(pages):\n",
    "        time.sleep(random.randint(1, 10))\n",
    "        # time.sleep(random.randint(1*60, 10*60))\n",
    "        start = page * 10\n",
    "        # https://scholar.google.com/scholar?start=0&q=(macaque+OR+macaca+OR+%22rhesus+monkey%22)+(thalamus+OR+thalamic+OR+thalamocortical+OR+%22thalamo-cortical%22)&hl=en&as_sdt=0,5\n",
    "        page_url = first_page.split(\"?start=\")[0] + \"?start=\" + str(start) + \"&q=\" + first_page.split(\"&q=\")[1]\n",
    "        # print(page_url)\n",
    "        # search a page\n",
    "        if(page%10 == 0):\n",
    "            time.sleep(5*60)\n",
    "            proxies, auth = plib.get_proxies()\n",
    "        response = requests.get(page_url, headers = plib.headers, proxies = proxies, auth = auth)\n",
    "        # print(response.status_code)\n",
    "        if response.status_code != 200:\n",
    "            print(\"Page: \" + page)\n",
    "            print(response.status_code)\n",
    "            raise Exception(\"Your request was declined, again!\")\n",
    "        # while(response.status_code != 200):\n",
    "        #     # sleep for 5 minutes\n",
    "        #     time.sleep(300)\n",
    "        #     response = requests.get(page_url, headers = plib.headers)\n",
    "        soup = BeautifulSoup(response.content, \"lxml\")\n",
    "        # print(soup)\n",
    "        # print(soup.select(\"[data-lid]\")) \n",
    "        for item in soup.select(\"[data-lid]\"):\n",
    "            # print(item)\n",
    "            try:\n",
    "                add_title = item.select(\"h3\")[0].select(\"a\", href = True)[0].get_text().strip()\n",
    "            except:\n",
    "                add_title = \"not found\"\n",
    "            # print(add_title)\n",
    "            try:\n",
    "                add_url = item.select(\"h3\")[0].select(\"a\", href = True)[0][\"href\"]\n",
    "            except:\n",
    "                add_url = \"not found\"\n",
    "            # print(add_url)\n",
    "            try:\n",
    "                add_full_text_link = item.find_all(\"div\", {'class': \"gs_or_ggsm\"})[0].find_all(\"a\", href = True)[0][\"href\"]\n",
    "            except:\n",
    "                add_full_text_link = \"not found\"\n",
    "            # print(add_full_text_link)\n",
    "            try:\n",
    "                full_text_type = item.find_all(\"div\", {'class': \"gs_or_ggsm\"})[0].find_all(\"a\", href = True)[0].get_text().strip().split()[0]\n",
    "                full_text_source = item.find_all(\"div\", {'class': \"gs_or_ggsm\"})[0].find_all(\"a\", href = True)[0].get_text().strip().split()[1]\n",
    "                # print(full_text_source)\n",
    "            except:\n",
    "                full_text_type = \"not found\"\n",
    "                full_text_source = \"not found\"\n",
    "            # print(full_text_source)\n",
    "            row = {\n",
    "                \"title\": [add_title],\n",
    "                \"url\": [add_url],\n",
    "                \"full_text_url\": [add_full_text_link],\n",
    "                \"full_text_type\": [full_text_type],\n",
    "                \"full_text_source\": [full_text_source]\n",
    "            }\n",
    "            columns = [\"title\", \"url\", \"full_text_url\", \"full_text_type\", \"full_text_source\"]\n",
    "            plib.add_row_to_csv(fpath.poten_litera_gs, row, columns)\n",
    "    #     return True\n",
    "    # except:\n",
    "    #     return False\n",
    "# --------------------start of test code--------------------\n",
    "# init_url = init_urls[\"gs\"]\n",
    "# search_google_scholar(init_url)\n",
    "# ---------------------end of test code---------------------"
   ]
  },
  {
   "cell_type": "code",
   "execution_count": 23,
   "id": "24f6b835",
   "metadata": {},
   "outputs": [],
   "source": [
    "def search_webofscience(init_url):\n",
    "    try:\n",
    "        print(\"Searching Web of Science...\")\n",
    "        # search on the website and export the search results\n",
    "        return True\n",
    "    except:\n",
    "        return False"
   ]
  },
  {
   "cell_type": "code",
   "execution_count": 24,
   "id": "a8b492a0",
   "metadata": {},
   "outputs": [],
   "source": [
    "def search_pmc(init_url):\n",
    "    try:\n",
    "        print(\"Searching PubMed Central PMC...\")\n",
    "        # search on the website and export the search results\n",
    "        return True\n",
    "    except:\n",
    "        return False"
   ]
  },
  {
   "cell_type": "code",
   "execution_count": 25,
   "id": "0ab5590d",
   "metadata": {},
   "outputs": [],
   "source": [
    "def search_eupmc(init_url):\n",
    "    try:\n",
    "        print(\"Searching Europe PMC...\")\n",
    "        # search on the website and export the search results\n",
    "        return True\n",
    "    except:\n",
    "        return False"
   ]
  },
  {
   "cell_type": "code",
   "execution_count": 26,
   "id": "b7ad09b4",
   "metadata": {},
   "outputs": [],
   "source": [
    "def span_citations(seed_litera_list, num_span_time):\n",
    "    try:\n",
    "        return True\n",
    "    except:\n",
    "        return False"
   ]
  },
  {
   "cell_type": "code",
   "execution_count": 27,
   "id": "411867ea",
   "metadata": {},
   "outputs": [],
   "source": [
    "def search_conne_db():\n",
    "    try:    \n",
    "        return True\n",
    "    except:\n",
    "        return False"
   ]
  },
  {
   "cell_type": "code",
   "execution_count": 28,
   "id": "11636d77",
   "metadata": {},
   "outputs": [],
   "source": [
    "def merge_webofscience(columns):\n",
    "    print(\"Starting merging search results from Web of Science...\")\n",
    "    try:\n",
    "        df_wos = pd.read_csv(fpath.poten_litera_wos, sep = \";\")\n",
    "        df_wos = df_wos[[\"DOI\", \"Pubmed Id\", \"Article Title\"]]\n",
    "        df_wos.rename(columns={\"DOI\": \"DOI\", \"Pubmed Id\": \"PMID\", \"Article Title\": \"Title\"}, inplace = True)\n",
    "        df_wos[\"PMID\"] = df_wos[\"PMID\"].fillna(0)\n",
    "        df_wos[\"PMID\"] = df_wos[\"PMID\"].astype(int)\n",
    "        df_wos[\"PMID\"] = df_wos[\"PMID\"].astype(str)\n",
    "        # print(df_wos.head(5))\n",
    "        # print(df_wos.dtypes)\n",
    "        pmcid = []\n",
    "        for ind in df_wos.index:\n",
    "            # print(df_wos[\"PMID\"][ind])\n",
    "            if df_wos[\"PMID\"][ind] != \"0\":\n",
    "                pmid = df_wos[\"PMID\"][ind]\n",
    "                # print(pmid)\n",
    "                df_wos[\"PMID\"][ind] = pmid\n",
    "                url = \"https://pubmed.ncbi.nlm.nih.gov/\" + pmid + \"/\"\n",
    "                # print(url)\n",
    "                time.sleep(random.randint(5, 20))\n",
    "                response = requests.get(url, headers = plib.headers)\n",
    "                if response.status_code != 200:\n",
    "                    raise Exception(\"Error when request webpages!\")\n",
    "                soup = BeautifulSoup(response.content, \"lxml\")\n",
    "                l = soup.find_all(\"a\", {\"data-ga-action\": \"PMCID\"})\n",
    "                if(len(l) != 0):\n",
    "                    # print(l[0].get_text().strip())\n",
    "                    pmcid.append(l[0].get_text().strip())\n",
    "                else:\n",
    "                    pmcid.append(np.nan)\n",
    "            else:\n",
    "                pmcid.append(np.nan)\n",
    "            # print(df_wos[ind])\n",
    "        df_wos[\"PMCID\"] = pmcid\n",
    "        df_wos[\"PMCID\"].replace(\"0\", np.nan)\n",
    "        # print(df_wos.head(5))\n",
    "        df_wos = df_wos[columns]\n",
    "        df_wos.to_csv(fpath.poten_litera, header = True, index = None)\n",
    "        return True\n",
    "    except:\n",
    "        return False   "
   ]
  },
  {
   "cell_type": "code",
   "execution_count": 29,
   "id": "9742dd8a",
   "metadata": {},
   "outputs": [],
   "source": [
    "def merge_pmc(columns):\n",
    "    print(\"Starting merging search results from PubMed Central PMC...\")\n",
    "    try:\n",
    "        # process pmc search results\n",
    "        df_pmc = pd.read_csv(fpath.poten_litera_pmc, sep=',')\n",
    "        doi = df_pmc[[\"DOI\", \"PMID\", \"PMCID\", \"Title\"]]\n",
    "        doi.to_csv(fpath.poten_litera, mode = \"a\", header = None, index = None)\n",
    "        return True\n",
    "    except:\n",
    "        return False"
   ]
  },
  {
   "cell_type": "code",
   "execution_count": 30,
   "id": "47f1c1cd",
   "metadata": {},
   "outputs": [],
   "source": [
    "def merge_eupmc(columns):\n",
    "    print(\"Starting merging search results from Europe PMC...\")\n",
    "    try:\n",
    "        # process eupmc search results\n",
    "        df_eupmc = pd.read_csv(fpath.poten_litera_eupmc, sep = \",\")\n",
    "        df_eupmc = df_eupmc[[\"DOI\", \"PMCID\", \"TITLE\"]]\n",
    "        df_eupmc = df_eupmc.rename(columns={\"TITLE\": \"Title\"}, errors = \"raise\")\n",
    "        # print(df_eupmc.head(5))\n",
    "        pmid = []\n",
    "        for ind in df_eupmc.index:\n",
    "            # print(df_eupmc[\"PMCID\"][ind])\n",
    "            if df_eupmc[\"PMCID\"][ind] is not np.nan:\n",
    "                pmcid = str(df_eupmc[\"PMCID\"][ind])\n",
    "                # print(pmcid)\n",
    "                df_eupmc[\"PMCID\"][ind] = pmcid\n",
    "                url = \"https://www.ncbi.nlm.nih.gov/pmc/articles/\" + pmcid + \"/\"\n",
    "                # print(url)\n",
    "                time.sleep(random.randint(5, 20))\n",
    "                response = requests.get(url, headers = plib.headers)\n",
    "                if response.status_code != 200:\n",
    "                    print(response.status_code)\n",
    "                    raise Exception(\"Error when request webpages!\")\n",
    "                soup = BeautifulSoup(response.content, \"lxml\")\n",
    "                l = soup.find_all(\"div\", {\"class\": \"fm-citation-pmid\"})\n",
    "                if (len(l)) != 0:\n",
    "                    ll = l[0].find_all(\"a\", href = True)\n",
    "                    if(len(ll) != 0):\n",
    "                        # print(ll[0].get_text().strip())\n",
    "                        pmid.append(ll[0].get_text().strip())\n",
    "                else:\n",
    "                    pmid.append(np.nan)\n",
    "            else:\n",
    "                pmid.append(np.nan)\n",
    "            # print(df_wos[ind])\n",
    "        df_eupmc[\"PMID\"] = pmid\n",
    "        df_eupmc = df_eupmc[columns]\n",
    "        df_eupmc.to_csv(fpath.poten_litera, header = None, index = None)\n",
    "        return True\n",
    "    except:\n",
    "        return False"
   ]
  },
  {
   "cell_type": "code",
   "execution_count": 31,
   "id": "c4240c14",
   "metadata": {},
   "outputs": [],
   "source": [
    "def merge_google_shcolar(columns):\n",
    "    print(\"Starting merging search results from Google Scholar...\")\n",
    "    return True"
   ]
  },
  {
   "cell_type": "code",
   "execution_count": 32,
   "id": "7edf56f5",
   "metadata": {},
   "outputs": [],
   "source": [
    "def merge_seed_paper_spanning(columns):\n",
    "    print(\"Starting merging search results from spanning citations of seed paper...\")\n",
    "    return True"
   ]
  },
  {
   "cell_type": "code",
   "execution_count": 33,
   "id": "07331dbc",
   "metadata": {},
   "outputs": [],
   "source": [
    "def merge_cocomac_paper(columns):\n",
    "    print(\"Starting merging search results from CoCoMac papers...\")\n",
    "    return True"
   ]
  },
  {
   "cell_type": "markdown",
   "id": "6fc0eb4e",
   "metadata": {},
   "source": [
    "<h3> Main program: </h3> "
   ]
  },
  {
   "cell_type": "code",
   "execution_count": 34,
   "id": "ba0b8126",
   "metadata": {},
   "outputs": [],
   "source": [
    "# first we need to search all related literature that might include data or information of thalamocortical connections\n",
    "# search for potentially related literature using the following listed 3 methods"
   ]
  },
  {
   "cell_type": "code",
   "execution_count": 35,
   "id": "f9df256b-106e-4d5d-847e-b068fbade613",
   "metadata": {
    "tags": []
   },
   "outputs": [
    {
     "name": "stdout",
     "output_type": "stream",
     "text": [
      "Searching Web of Science...\n",
      "Searching Web of Science succeeded!\n",
      "Searching PubMed Central PMC...\n",
      "Searching PubMed Central PMC succeeded!\n",
      "Searching Europe PMC...\n",
      "Searching Europe PMC succeeded!\n",
      "Searching Google Scholar...\n",
      "Google Scholar searched 132000 results displayed in 13200 pages.\n",
      "Searching Google Scholar succeeded!\n"
     ]
    }
   ],
   "source": [
    "# method 1: search acdemic databases using keywords\n",
    "if search_webofscience(init_urls[\"wos\"]):\n",
    "    print(\"Searching Web of Science succeeded!\")\n",
    "else:\n",
    "    print(\"Attention! Something went wrong when searching Web of Science!\")\n",
    "\n",
    "if search_pmc(init_urls[\"pmc\"]):\n",
    "    print(\"Searching PubMed Central PMC succeeded!\")\n",
    "else:\n",
    "    print(\"Attention! Something went wrong when searching PubMed Central PMC!\")\n",
    "\n",
    "if search_eupmc(init_urls[\"eupmc\"]):\n",
    "    print(\"Searching Europe PMC succeeded!\")\n",
    "else:\n",
    "    print(\"Attention! Something went wrong when searching Europe PMC!\")\n",
    "\n",
    "search_google_scholar(init_urls[\"gs\"])\n",
    "print(\"Searching Google Scholar succeeded!\")"
   ]
  },
  {
   "cell_type": "code",
   "execution_count": 36,
   "id": "b3a4879d",
   "metadata": {},
   "outputs": [],
   "source": [
    "# # method 2: spanning citations of seed papers\n",
    "# if span_citations(seed_papers, num_span_time):\n",
    "#     print(\"Spanning citations of seed literature list succeeded!\")\n",
    "# else:\n",
    "#     print(\"Attention! Something went wrong when spanning citations of seed literature list!\")"
   ]
  },
  {
   "cell_type": "code",
   "execution_count": 37,
   "id": "b1c0ff2b",
   "metadata": {},
   "outputs": [],
   "source": [
    "# # method 3: search existing connectome databases\n",
    "# if search_conne_db(connec_db, connec_db_quries):\n",
    "#     print(\"Searching connectome databases succeeded!\")\n",
    "# else:\n",
    "#     print(\"Attention! Something went wrong when searching connectome databases!\")"
   ]
  },
  {
   "cell_type": "code",
   "execution_count": 38,
   "id": "2c3fe5a4",
   "metadata": {},
   "outputs": [],
   "source": [
    "# # merge all searched literature results\n",
    "# # clear the file\n",
    "# f = open(fpath.poten_litera, \"w\")\n",
    "# f.truncate()\n",
    "# f.close()\n",
    "\n",
    "# # column: [\"DOI\", \"PMID\", \"PMCID\", \"Title\"]\n",
    "# columns = [\"DOI\", \"PMID\", \"PMCID\", \"Title\"]"
   ]
  },
  {
   "cell_type": "code",
   "execution_count": 39,
   "id": "7a0a1e93",
   "metadata": {},
   "outputs": [],
   "source": [
    "# # merge search results from Web of Science\n",
    "# if merge_webofscience(columns):\n",
    "#     print(\"Merging results from Web of Science succeeded!\")\n",
    "# else:\n",
    "#     print(\"Attention! Something went wrong when merging results from Web of Science!\")"
   ]
  },
  {
   "cell_type": "code",
   "execution_count": 40,
   "id": "7d6d96a6",
   "metadata": {},
   "outputs": [],
   "source": [
    "# # merge search results from PubMed Central PMC\n",
    "# if merge_pmc(columns):\n",
    "#     print(\"Merging results from PubMed Central PMC succeeded!\")\n",
    "# else:\n",
    "#     print(\"Attention! Something went wrong when merging results from PubMed Central PMC!\")"
   ]
  },
  {
   "cell_type": "code",
   "execution_count": 41,
   "id": "ce5df774",
   "metadata": {},
   "outputs": [],
   "source": [
    "# # merge search results from Europe PMC\n",
    "# if merge_eupmc(columns):\n",
    "#     print(\"Merging results from Europe PMC succeeded!\")\n",
    "# else:\n",
    "#     print(\"Attention! Something went wrong when merging results from Europe PMC!\")"
   ]
  },
  {
   "cell_type": "code",
   "execution_count": 42,
   "id": "3d75cc95",
   "metadata": {},
   "outputs": [],
   "source": [
    "# # merge search results from Google Scholar\n",
    "# if merge_google_shcolar(columns):\n",
    "#     print(\"Merging results from Google Scholar succeeded!\")\n",
    "# else:\n",
    "#     print(\"Attention! Something went wrong when merging results from Google Scholar!\")"
   ]
  },
  {
   "cell_type": "code",
   "execution_count": 43,
   "id": "d40c2f29",
   "metadata": {},
   "outputs": [],
   "source": [
    "# # merge search results from spanning citations of seed paper\n",
    "# if merge_seed_paper_spanning(columns):\n",
    "#     print(\"Merging results from spanning citations of seed papers succeeded!\")\n",
    "# else:\n",
    "#     print(\"Attention! Something went wrong when merging results from spanning citations of seed papers!\")"
   ]
  },
  {
   "cell_type": "code",
   "execution_count": 44,
   "id": "e874b5e7",
   "metadata": {},
   "outputs": [],
   "source": [
    "# # merge search results from CoCoMac papers\n",
    "# if merge_cocomac_paper(columns):\n",
    "#     print(\"Merging results from CoCoMac papers succeeded!\")\n",
    "# else:\n",
    "#     print(\"Attention! Something went wrong when merging results from CoCoMac papers!\")"
   ]
  },
  {
   "cell_type": "markdown",
   "id": "a8bf1484-5217-4a14-9c48-ff176f46d57b",
   "metadata": {},
   "source": [
    "Next step: automatic filtering the potential related literature"
   ]
  },
  {
   "cell_type": "markdown",
   "id": "a61c1533",
   "metadata": {},
   "source": [
    "<h3> Some test code, please ignore: </h3> "
   ]
  },
  {
   "cell_type": "code",
   "execution_count": 45,
   "id": "b6cb18dc",
   "metadata": {},
   "outputs": [],
   "source": [
    "# # test request\n",
    "# # webpage that require subscription\n",
    "# # url = \"https://www.sciencedirect.com/science/article/abs/pii/S0079612305490019?via%3Dihub\"\n",
    "# url = \"https://www.sciencedirect.com/science/article/pii/S095943880900049X?via%3Dihub\"\n",
    "# # webpage that does not require subscription\n",
    "# # url = \"https://pubmed.ncbi.nlm.nih.gov/34524542/\"\n",
    "# # url = \"https://link.springer.com/article/10.1007/s00429-021-02377-7\"\n",
    "# response = requests.get(url, headers = plib.headers)\n",
    "# soup = BeautifulSoup(response.content,\"html.parser\")\n",
    "# # print(soup.find_all(\"a\"))\n",
    "# print(soup)"
   ]
  },
  {
   "cell_type": "code",
   "execution_count": 46,
   "id": "eefb4637",
   "metadata": {},
   "outputs": [],
   "source": [
    "# from selenium import webdriver\n",
    "# from selenium.webdriver.common.by import By\n",
    "# from selenium.webdriver.common.keys import Keys\n",
    "# # from selenium.webdriver.chrome.options import Options\n",
    "\n",
    "# # options = Options()\n",
    "# # options.add_argument('--headless')\n",
    "# browser = webdriver.Firefox()\n",
    "\n",
    "# browser.get(url)\n",
    "# time.sleep(10)\n",
    "# # assert 'Yahoo' in browser.title\n",
    "\n",
    "# # ele = browse?r.find_element(\"a\")\n",
    "# # elems = browser.find_element(By.CLASS_NAME, \"title-text\")\n",
    "# # pdf_links = browser.find_elements(By.XPATH, \"//a[contains(@href, '.pdf')]\")\n",
    "# pdf_links = browser.find_elements(By.XPATH, \"//h1\")[0].get_attribute('innerHTML')\n",
    "# print(pdf_links)\n",
    "# # for elem in elems:\n",
    "# #     print(elem)\n",
    "# # print(elems)\n",
    "# # elem = browser.find_element(By.NAME, 'p')  # Find the search box\n",
    "# # elem.send_keys('seleniumhq' + Keys.RETURN)\n",
    "# browser.quit()"
   ]
  }
 ],
 "metadata": {
  "kernelspec": {
   "display_name": "Python 3 (ipykernel)",
   "language": "python",
   "name": "python3"
  },
  "language_info": {
   "codemirror_mode": {
    "name": "ipython",
    "version": 3
   },
   "file_extension": ".py",
   "mimetype": "text/x-python",
   "name": "python",
   "nbconvert_exporter": "python",
   "pygments_lexer": "ipython3",
   "version": "3.10.12"
  }
 },
 "nbformat": 4,
 "nbformat_minor": 5
}

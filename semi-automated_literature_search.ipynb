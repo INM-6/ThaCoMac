{
 "cells": [
  {
   "cell_type": "markdown",
   "id": "864ee2e7",
   "metadata": {},
   "source": [
    "<h2> Semi-automatic literature search </h2> "
   ]
  },
  {
   "cell_type": "code",
   "execution_count": null,
   "id": "92cba0e8",
   "metadata": {},
   "outputs": [],
   "source": [
    "# import internal modules\n",
    "import file_path_management as fpath\n",
    "import public_library as plib\n",
    "import extract_info_from_webpage as extra_info\n",
    "import parameters as params"
   ]
  },
  {
   "cell_type": "code",
   "execution_count": null,
   "id": "37eb8cd1-594b-4af8-aff3-cc6a9c91b488",
   "metadata": {
    "tags": []
   },
   "outputs": [],
   "source": [
    "# import packages\n",
    "import requests\n",
    "from bs4 import BeautifulSoup\n",
    "import pandas as pd\n",
    "import random\n",
    "import re\n",
    "import time\n",
    "import numpy as np\n",
    "import numpy as np"
   ]
  },
  {
   "cell_type": "markdown",
   "id": "c05fd387",
   "metadata": {},
   "source": [
    "<h3> Academic databases </h3>"
   ]
  },
  {
   "cell_type": "code",
   "execution_count": null,
   "id": "596a5100",
   "metadata": {},
   "outputs": [],
   "source": [
    "# academic databases\n",
    "# Google Scholar: \"https://scholar.google.com/\"\n",
    "# (macaque OR macaca OR \"rhesus monkey\") (thalamus OR thalamic OR thalamocortical OR \"thalamo-cortical\" OR corticothalamic OR \"cortico-thalamic\")\n",
    "# https://scholar.google.com/scholar?start=0&q=(macaque+OR+macaca+OR+%22rhesus+monkey%22)+(thalamus+OR+thalamic+OR+thalamocortical+OR+%22thalamo-cortical%22+OR+corticothalamic+OR+%22cortico-thalamic%22)&hl=en&as_sdt=0,5\n",
    "# 20.08.2023\n",
    "# 129000 results\n",
    "# get 980 results that are accessible\n",
    "\n",
    "# Web of Science: \"https://www.webofscience.com/wos/woscc/advanced-search\" # can be exported to excel file\n",
    "# (ALL=(macaque) OR ALL=(macaca) OR All=(\"rhesus monkey\")) AND (ALL=(thalamus) OR ALL=(thalamic) OR ALL=(thalamocortical) OR ALL=(\"thalamo-cortical\") OR ALL=(corticothalamic) OR ALL=(\"cortico-thalamic\"))\n",
    "# https://www.webofscience.com/wos/woscc/summary/863df3f6-2093-4b05-8dcf-2e1b872c95c8-9ebcceae/relevance/1\n",
    "# 20.08.2023\n",
    "# 1993 results\n",
    "\n",
    "# PubMed: \"https://pubmed.ncbi.nlm.nih.gov/advanced/\" # can be exported to .csv file\n",
    "# (macaque OR macaca OR \"rhesus monkey\") AND (thalamus OR thalamic OR thalamocortical OR \"thalamo-cortical\" OR corticothalamic OR \"cortico-thalamic\")\n",
    "# https://pubmed.ncbi.nlm.nih.gov/?term=(macaque%20OR%20macaca%20OR%20%22rhesus%20monkey%22)%20AND%20(thalamus%20OR%20thalamic%20OR%20thalamocortical%20OR%20%22thalamo-cortical%22%20OR%20corticothalamic%20OR%20%22cortico-thalamic%22)\n",
    "# 20.08.2023\n",
    "# 2612 results\n",
    "\n",
    "# Europe PMC = \"https://europepmc.org/advancesearch\" # search resuts can be exported to .csv file\n",
    "# (macaque OR macaca OR \"rhesus monkey\") AND (thalamus OR thalamic OR thalamocortical OR \"thalamo-cortical\" OR corticothalamic OR \"cortico-thalamic\") AND (LANG:\"eng\" OR LANG:\"en\" OR LANG:\"us\")\n",
    "# https://europepmc.org/search?query=%28macaque%20OR%20macaca%20OR%20%22rhesus%20monkey%22%29%20AND%20%28thalamus%20OR%20thalamic%20OR%20thalamocortical%20OR%20%22thalamo-cortical%22%20OR%20corticothalamic%20OR%20%22cortico-thalamic%22%29%20AND%20%28LANG%3A%22eng%22%20OR%20LANG%3A%22en%22%20OR%20LANG%3A%22us%22%29&page=1\n",
    "# 20.08.2023\n",
    "# 9178 results\n",
    "\n",
    "acad_dbs = [\"Google Scholar\", \"Web of Science\", \"PubMed\", \"Europe PMC\"]\n",
    "\n",
    "# initial urls for specified searching keyword lexicon and all academic databases\n",
    "init_urls = {\n",
    "    \"gs\": \"https://scholar.google.com/scholar?start=0&q=(macaque+OR+macaca+OR+%22rhesus+monkey%22)+(thalamus+OR+thalamic+OR+thalamocortical+OR+%22thalamo-cortical%22+OR+corticothalamic+OR+%22cortico-thalamic%22)&hl=en&as_sdt=0,5\",\n",
    "    \"wos\": \"https://www.webofscience.com/wos/woscc/summary/863df3f6-2093-4b05-8dcf-2e1b872c95c8-9ebcceae/relevance/1\",\n",
    "    \"pubmed\": \"https://pubmed.ncbi.nlm.nih.gov/?term=(macaque%20OR%20macaca%20OR%20%22rhesus%20monkey%22)%20AND%20(thalamus%20OR%20thalamic%20OR%20thalamocortical%20OR%20%22thalamo-cortical%22%20OR%20corticothalamic%20OR%20%22cortico-thalamic%22)\",\n",
    "    \"eupmc\": \"https://europepmc.org/search?query=%28macaque%20OR%20macaca%20OR%20%22rhesus%20monkey%22%29%20AND%20%28thalamus%20OR%20thalamic%20OR%20thalamocortical%20OR%20%22thalamo-cortical%22%20OR%20corticothalamic%20OR%20%22cortico-thalamic%22%29%20AND%20%28LANG%3A%22eng%22%20OR%20LANG%3A%22en%22%20OR%20LANG%3A%22us%22%29&page=1\"\n",
    "}\n",
    "\n",
    "# seed literature list\n",
    "seed_litera_list = []\n",
    "\n",
    "# cocomac literature list\n",
    "cocomac_litera_list = []"
   ]
  },
  {
   "cell_type": "markdown",
   "id": "116f15dc",
   "metadata": {},
   "source": [
    "<h3> Predefined functions: </h3> "
   ]
  },
  {
   "cell_type": "markdown",
   "id": "c0a0c073",
   "metadata": {},
   "source": [
    "<h5> Method 1: Searching academic databases: Web of Science, PubMed, Europe PMC, Google Scholar </h5> "
   ]
  },
  {
   "cell_type": "code",
   "execution_count": null,
   "id": "24f6b835",
   "metadata": {},
   "outputs": [],
   "source": [
    "def search_webofscience(init_url):\n",
    "    try:\n",
    "        print(\"Searching Web of Science...\")\n",
    "        # search on the website and export the search results\n",
    "        return True\n",
    "    except:\n",
    "        return False"
   ]
  },
  {
   "cell_type": "code",
   "execution_count": null,
   "id": "a8b492a0",
   "metadata": {},
   "outputs": [],
   "source": [
    "def search_pubmed(init_url):\n",
    "    try:\n",
    "        print(\"Searching PubMed...\")\n",
    "        # search on the website and export the search results\n",
    "        return True\n",
    "    except:\n",
    "        return False"
   ]
  },
  {
   "cell_type": "code",
   "execution_count": null,
   "id": "0ab5590d",
   "metadata": {},
   "outputs": [],
   "source": [
    "def search_eupmc(init_url):\n",
    "    try:\n",
    "        print(\"Searching Europe PMC...\")\n",
    "        # search on the website and export the search results\n",
    "        return True\n",
    "    except:\n",
    "        return False"
   ]
  },
  {
   "cell_type": "code",
   "execution_count": null,
   "id": "194648a2",
   "metadata": {},
   "outputs": [],
   "source": [
    "def search_google_scholar(first_page, start, end):\n",
    "    print(\"Searching Google Scholar...\")\n",
    "    \n",
    "    # # request the first page 1\n",
    "    # proxies = plib.get_proxies()\n",
    "    # soup = plib.request_webpage(first_page, proxies)\n",
    "    # # print(soup)\n",
    "\n",
    "    # # print the number of search results\n",
    "    # num_results_str_list = soup.find_all(\"div\", {\"class\": \"gs_ab_mdw\"})\n",
    "    # for item in num_results_str_list:\n",
    "    #     num_results_str = []\n",
    "    #     if \"results\" in item.get_text():\n",
    "    #         num_results_str = item.get_text().split()\n",
    "    # num_results = num_results_str[1]\n",
    "    # num_results = int(re.sub(r\"[^0-9]\", \"\", num_results))\n",
    "    # pages = int(num_results/10)\n",
    "    # print(\"Google Scholar searched \" + str(num_results) + \" results\" + \" displayed in \" + str(pages) + \" pages.\")\n",
    "    \n",
    "    # iterate all pages and record the results\n",
    "    for page in range(start, end):\n",
    "        # sleep\n",
    "        time.sleep(random.randint(3, 5))\n",
    "        # if(page%20 == 0):\n",
    "        #     time.sleep(random.randint(5, 10)*60)\n",
    "        \n",
    "        # search a page\n",
    "        start = page * 10\n",
    "        page_url = first_page.split(\"?start=\")[0] + \"?start=\" + str(start) + \"&q=\" + first_page.split(\"&q=\")[1]\n",
    "        # print(page_url)\n",
    "        proxies = plib.get_proxies()\n",
    "        soup = plib.request_webpage(page_url, proxies)\n",
    "        # print(soup)\n",
    "        items = soup.select('[data-lid]')\n",
    "        # print(items)\n",
    "\n",
    "        for item in items:\n",
    "            # columns = [\"title\", \"url\", \"url_type\", \"full_text_url\", \"full_text_type\", \"full_text_source\"]\n",
    "            # get title\n",
    "            try:\n",
    "                title = item.select(\"h3\")[0].select(\"a\")[0].get_text().strip()\n",
    "            except:\n",
    "                title = np.nan\n",
    "            # print(add_title)\n",
    "\n",
    "            # get url\n",
    "            try:\n",
    "                url = item.select(\"h3\")[0].select(\"a\", href = True)[0][\"href\"]\n",
    "            except:\n",
    "                url = np.nan\n",
    "            # print(url)\n",
    "\n",
    "            # get url_type\n",
    "            try:\n",
    "                url_type = item.select(\"h3\")[0].select(\"span\", {\"class\": \"gs_ct\"})[0].get_text().strip()\n",
    "            except:\n",
    "                url_type = np.nan\n",
    "\n",
    "            # get full_text_url\n",
    "            try:\n",
    "                add_full_text_link = item.find_all(\"div\", {'class': \"gs_or_ggsm\"})[0].find_all(\"a\", href = True)[0][\"href\"]\n",
    "            except:\n",
    "                add_full_text_link = np.nan\n",
    "            # print(add_full_text_link)\n",
    "\n",
    "            # get full_text_type, full_text_source\n",
    "            try:\n",
    "                full_text_type = item.find_all(\"div\", {'class': \"gs_or_ggsm\"})[0].find_all(\"a\", href = True)[0].get_text().strip().split()[0]\n",
    "                full_text_source = item.find_all(\"div\", {'class': \"gs_or_ggsm\"})[0].find_all(\"a\", href = True)[0].get_text().strip().split()[1]\n",
    "            except:\n",
    "                full_text_type = np.nan\n",
    "                full_text_source = np.nan\n",
    "            # print(full_text_type)\n",
    "\n",
    "            # print(full_text_source)\n",
    "            row = {\n",
    "                \"title\": [title],\n",
    "                \"url\": [url],\n",
    "                \"url_type\": [url_type],\n",
    "                \"full_text_url\": [add_full_text_link],\n",
    "                \"full_text_type\": [full_text_type],\n",
    "                \"full_text_source\": [full_text_source]\n",
    "            }\n",
    "            # print(row)\n",
    "            columns = [\"title\", \"url\", \"url_type\", \"full_text_url\", \"full_text_type\", \"full_text_source\"]\n",
    "            if plib.add_row_to_csv(fpath.poten_litera_gs, row, columns):\n",
    "                None\n",
    "            else:\n",
    "                print(\"Error detected when adding a row to csv!\")\n",
    "        print(\"Searching page \", page, \"succeded!\")\n",
    "# --------------------start of test code--------------------\n",
    "# init_url = init_urls[\"gs\"]\n",
    "# search_google_scholar(init_url, 0, 2)\n",
    "# ---------------------end of test code---------------------"
   ]
  },
  {
   "cell_type": "markdown",
   "id": "50c1f2d2",
   "metadata": {},
   "source": [
    "<h5> Method 2: Spanning citations of seed papers </h5> "
   ]
  },
  {
   "cell_type": "code",
   "execution_count": null,
   "id": "b7ad09b4",
   "metadata": {},
   "outputs": [],
   "source": [
    "def span_citations_of_seed_papers(seed_paper_list, num_span_times):\n",
    "    print(\"Spanning citations of seed papers...\")\n",
    "    try:\n",
    "        return True\n",
    "    except:\n",
    "        return False"
   ]
  },
  {
   "cell_type": "markdown",
   "id": "80d1ded3",
   "metadata": {},
   "source": [
    "<h5> Method 3: Searching existing connection databse CoCoMac </h5> "
   ]
  },
  {
   "cell_type": "code",
   "execution_count": null,
   "id": "411867ea",
   "metadata": {},
   "outputs": [],
   "source": [
    "def search_cocomac(cocomac_paper_list):\n",
    "    print(\"Searching CoCoMac database...\")\n",
    "    try:    \n",
    "        return True\n",
    "    except:\n",
    "        return False"
   ]
  },
  {
   "cell_type": "markdown",
   "id": "6fc0eb4e",
   "metadata": {},
   "source": [
    "<h3> Main program: </h3> "
   ]
  },
  {
   "cell_type": "markdown",
   "id": "65e97de5",
   "metadata": {},
   "source": [
    "<h5> Method 1: Searching academic databases: Web of Science, PubMed, Europe PMC, Google Scholar </h5> "
   ]
  },
  {
   "cell_type": "code",
   "execution_count": null,
   "id": "f9df256b-106e-4d5d-847e-b068fbade613",
   "metadata": {
    "tags": []
   },
   "outputs": [],
   "source": [
    "# method 1: search acdemic databases using keywords\n",
    "if search_webofscience(init_urls[\"wos\"]):\n",
    "    print(\"Searching Web of Science succeeded!\")\n",
    "else:\n",
    "    print(\"Attention! Something went wrong when searching Web of Science!\")\n",
    "\n",
    "if search_pubmed(init_urls[\"pubmed\"]):\n",
    "    print(\"Searching PubMed succeeded!\")\n",
    "else:\n",
    "    print(\"Attention! Something went wrong when searching PubMed!\")\n",
    "\n",
    "if search_eupmc(init_urls[\"eupmc\"]):\n",
    "    print(\"Searching Europe PMC succeeded!\")\n",
    "else:\n",
    "    print(\"Attention! Something went wrong when searching Europe PMC!\")"
   ]
  },
  {
   "cell_type": "code",
   "execution_count": null,
   "id": "67f23cdf",
   "metadata": {},
   "outputs": [],
   "source": [
    "f = open(fpath.poten_litera_gs, \"w\")\n",
    "f.truncate()\n",
    "f.close()\n",
    "\n",
    "search_google_scholar(init_urls[\"gs\"], 0, 100)"
   ]
  },
  {
   "cell_type": "markdown",
   "id": "029682f9",
   "metadata": {},
   "source": [
    "<h5> Method 2: Spanning citations of seed papers </h5> "
   ]
  },
  {
   "cell_type": "code",
   "execution_count": null,
   "id": "b3a4879d",
   "metadata": {},
   "outputs": [],
   "source": [
    "# # method 2: spanning citations of seed papers\n",
    "# if span_citations_of_seed_papers(fpath.seed_paper_list, num_span_times):\n",
    "#     print(\"Spanning citations of seed literature list succeeded!\")\n",
    "# else:\n",
    "#     print(\"Attention! Something went wrong when spanning citations of seed literature list!\")"
   ]
  },
  {
   "cell_type": "markdown",
   "id": "c22c392a",
   "metadata": {},
   "source": [
    "<h5> Method 3: Searching existing connection databse CoCoMac </h5> "
   ]
  },
  {
   "cell_type": "code",
   "execution_count": null,
   "id": "b1c0ff2b",
   "metadata": {},
   "outputs": [],
   "source": [
    "# # method 3: search existing connectome databases\n",
    "# if search_cocomac(cocomac_paper_list):\n",
    "#     print(\"Searching connectome databases succeeded!\")\n",
    "# else:\n",
    "#     print(\"Attention! Something went wrong when searching connectome databases!\")"
   ]
  },
  {
   "cell_type": "markdown",
   "id": "a8bf1484-5217-4a14-9c48-ff176f46d57b",
   "metadata": {},
   "source": [
    "<h3> Next step: searched literature data preprocessing </h3>"
   ]
  }
 ],
 "metadata": {
  "kernelspec": {
   "display_name": "Python 3 (ipykernel)",
   "language": "python",
   "name": "python3"
  },
  "language_info": {
   "codemirror_mode": {
    "name": "ipython",
    "version": 3
   },
   "file_extension": ".py",
   "mimetype": "text/x-python",
   "name": "python",
   "nbconvert_exporter": "python",
   "pygments_lexer": "ipython3",
   "version": "3.10.12"
  }
 },
 "nbformat": 4,
 "nbformat_minor": 5
}

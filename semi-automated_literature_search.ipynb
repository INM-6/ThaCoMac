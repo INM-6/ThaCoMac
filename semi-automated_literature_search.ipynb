{
 "cells": [
  {
   "cell_type": "markdown",
   "metadata": {},
   "source": [
    "First we need to extract related literature that might include data or information of thalamocortical connections."
   ]
  },
  {
   "cell_type": "code",
   "execution_count": 1,
   "metadata": {
    "tags": []
   },
   "outputs": [],
   "source": [
    "# import required packages\n",
    "import pandas as pd\n",
    "import urllib3\n",
    "import requests"
   ]
  },
  {
   "cell_type": "markdown",
   "metadata": {},
   "source": [
    "Here we present all parameters that might have an effect on the search results, including:<br>\n",
    "1. searching keyword lexicon\n",
    "2. on-topic keyword lexicon\n",
    "3. academic databases\n",
    "4. seed papers\n",
    "5. connectome database and queries\n",
    "6. ChatPDF queries for relatedness of topic"
   ]
  },
  {
   "cell_type": "code",
   "execution_count": 13,
   "metadata": {
    "tags": []
   },
   "outputs": [],
   "source": [
    "# parameters\n",
    "\n",
    "# searching keyword lexicon\n",
    "search_kws_lexicon =['macaque', 'Macaque']\n",
    "\n",
    "# on-topic keyword lexicon\n",
    "on_topic_kws = ['thalamocortical', 'thalamo-cortical', \n",
    "                'tract tracing', 'axonal tracing', 'neural anatomical tracing', \n",
    "                'connection', 'connectivity', 'connectome', \n",
    "                'thalamus', 'cortex']\n",
    "\n",
    "# academic databases\n",
    "Semantic_Scholar = 'https://www.semanticscholar.org/'\n",
    "Google_Scholar = 'https://scholar.google.com/'\n",
    "arXiv = 'https://arxiv.org/'\n",
    "Web_of_Science = 'https://www.webofscience.com/wos/woscc/basic-search'\n",
    "PubMed_Central_PMC = 'https://www.ncbi.nlm.nih.gov/pmc/'\n",
    "Europe_PMC = 'https://europepmc.org/'\n",
    "acad_db = [Semantic_Scholar, Google_Scholar, arXiv, Web_of_Science, PubMed_Central_PMC, Europe_PMC]\n",
    "\n",
    "# seed papers specification\n",
    "seed_papers = []\n",
    "\n",
    "# connectome database and queries specification\n",
    "# we search the CoCoMac\n",
    "connec_db = 'http://cocomac.g-node.org/sitemap/index.php?path=CoCoMac|Search'\n",
    "connec_db_quries = []\n",
    "\n",
    "# ChatPDF, queries for relatedness of topic\n",
    "chatpdf_related_queries = []"
   ]
  },
  {
   "cell_type": "code",
   "execution_count": 4,
   "metadata": {},
   "outputs": [],
   "source": [
    "# method 1: searching academic databases using searching keyword lexicon\n",
    "def search_acad_db(keywords, acad_db):\n",
    "    return liter_list_1"
   ]
  },
  {
   "cell_type": "code",
   "execution_count": 5,
   "metadata": {},
   "outputs": [],
   "source": [
    "# method 2: spanning citations of seed papers\n",
    "def expand_citation(seed_papers):\n",
    "    return liter_list_2"
   ]
  },
  {
   "cell_type": "code",
   "execution_count": 6,
   "metadata": {},
   "outputs": [],
   "source": [
    "# method 3: querying the existing connectome database \n",
    "def search_conne_db(connec_db, connec_db_quries):\n",
    "    return liter_list_3"
   ]
  },
  {
   "cell_type": "code",
   "execution_count": 7,
   "metadata": {
    "tags": []
   },
   "outputs": [
    {
     "data": {
      "text/plain": [
       "\"\\n# test function record_liter(doi_or_url, path)\\ndoi_or_url = 'http://cocomac.g-node.org/main/index.php'\\nfor i in range(10):\\n    record_liter(doi_or_url)\\n\""
      ]
     },
     "execution_count": 7,
     "metadata": {},
     "output_type": "execute_result"
    }
   ],
   "source": [
    "# searching for related literature and write them into file 'list_of_potential_related_literature.txt'\n",
    "def record_liter(doi_or_url, path):\n",
    "    with open(path, 'a+') as url_file:\n",
    "        url_file.seek(0)\n",
    "        # If file is not empty then append '\\n'\n",
    "        data = url_file.read(100)\n",
    "        if len(data) > 0 :\n",
    "            url_file.write('\\n')\n",
    "        # Append text at the end of file\n",
    "        url_file.write(doi_or_url)\n",
    "        \n",
    "'''\n",
    "# test function record_liter(doi_or_url, path)\n",
    "doi_or_url = 'http://cocomac.g-node.org/main/index.php'\n",
    "for i in range(10):\n",
    "    record_liter(doi_or_url)\n",
    "'''"
   ]
  },
  {
   "cell_type": "code",
   "execution_count": 8,
   "metadata": {
    "tags": []
   },
   "outputs": [],
   "source": [
    "# read line by line the urls of related literature in the tex file and access the content\n",
    "# seach for on-topic keywords and record the number of times they appear and record to a .csv file\n",
    "def scan_poten_urls(path_urls, on_topic_kws):\n",
    "    with open(path_urls, 'r') as url_file:\n",
    "        for line in url_file:\n",
    "            # Process each line here\n",
    "            response = requests.get(line)\n",
    "            if response.status_code == 200:\n",
    "                content = response.text\n",
    "                # process the content of the webpage here\n",
    "                print(content)\n",
    "                # code\n",
    "            else:\n",
    "                print(\"Error accessing the webpage. Status code:\", response.status_code)"
   ]
  },
  {
   "cell_type": "code",
   "execution_count": 17,
   "metadata": {},
   "outputs": [],
   "source": [
    "# read line by line the urls of related literature in the tex file and access the content\n",
    "# seach for on-topic keywords and record the number of times they appear and record to a .csv file\n",
    "def ChatPDF_relatedness(path_urls, chatpdf_related_queries):\n",
    "    with open(path_urls, 'r') as url_file:\n",
    "        for line in url_file:\n",
    "            a = 1\n",
    "            # code"
   ]
  },
  {
   "cell_type": "code",
   "execution_count": 18,
   "metadata": {},
   "outputs": [],
   "source": [
    "# main program\n",
    "path_urls = '/Users/didihou/myProjects/didihou_master_project/list_of_literature_urls.txt'\n",
    "path_potential = '/Users/didihou/myProjects/didihou_master_project/list_of_potential_related_literature.csv'\n",
    "path_related_urls = '/Users/didihou/myProjects/didihou_master_project/list_of_related_literature.txt'\n",
    "\n",
    "# clear all files\n",
    "with open(path_urls, 'w') as f:\n",
    "    f.truncate()\n",
    "    f.close()\n",
    "\n",
    "with open(path_potential, 'w') as f:\n",
    "    f.truncate()\n",
    "    f.close()\n",
    "    \n",
    "with open(path_related_urls, 'w') as f:\n",
    "    f.truncate()\n",
    "    f.close()\n",
    "\n",
    "# search for potentially related literature using the listed 3 methods\n",
    "# method 1\n",
    "liter_list_1 = []\n",
    "liter_list_1 = search_acad_db(search_kws_lexicon, acad_db)\n",
    "for doi_or_url in liter_list_1:\n",
    "    record_liter(doi_or_url, path_urls)\n",
    "\n",
    "# method 2\n",
    "liter_list_2 = []\n",
    "liter_list_2 = expand_citation(seed_papers)\n",
    "for doi_or_url in liter_list_2:\n",
    "    record_liter(doi_or_url, path_urls)\n",
    "\n",
    "# method 3\n",
    "liter_list_3 = []\n",
    "liter_list_3 = search_conne_db(connec_db, connec_db_quries)\n",
    "for doi_or_url in liter_list_3:\n",
    "    record_liter(doi_or_url, path_urls)\n",
    "    \n",
    "# eleminate duplications\n",
    "# code\n",
    "\n",
    "# scan all the potential related literature and searching for the on-topic keywords and \n",
    "# record the number of times they appear\n",
    "scan_poten_urls(path_urls, on_topic_kws)\n",
    "\n",
    "# send .PDF publication of all potential related literatures to ChatPDF.con and ask for relatedness \n",
    "# then record the answer to the list_of_potential_related_literature.csv as well\n",
    "ChatPDF_relatedness(path_urls, chatpdf_related_queries)"
   ]
  },
  {
   "cell_type": "markdown",
   "metadata": {},
   "source": [
    "Now we have a list of potential related literature and the information about relatedness stored in the file \"list_of_potential_related_literature.csv\"<br>\n",
    "Now we may perform a automatic filtering and manual filtering of the literature."
   ]
  },
  {
   "cell_type": "code",
   "execution_count": 19,
   "metadata": {},
   "outputs": [],
   "source": [
    "# automatic filtering\n",
    "# code"
   ]
  },
  {
   "cell_type": "code",
   "execution_count": 20,
   "metadata": {},
   "outputs": [],
   "source": [
    "# manual filtering"
   ]
  },
  {
   "cell_type": "markdown",
   "metadata": {},
   "source": [
    "This is the end of semi-automated literature search."
   ]
  },
  {
   "cell_type": "markdown",
   "metadata": {},
   "source": [
    "Now we have a list of actually related literature stored in list_of_related_literature.txt"
   ]
  },
  {
   "cell_type": "markdown",
   "metadata": {},
   "source": [
    "Next step: we perform a information search on the list of related literature, see the notebook named \"semi_automated_information_search.ipynb\""
   ]
  },
  {
   "cell_type": "code",
   "execution_count": null,
   "metadata": {},
   "outputs": [],
   "source": []
  }
 ],
 "metadata": {
  "kernelspec": {
   "display_name": "Python 3 (ipykernel)",
   "language": "python",
   "name": "python3"
  },
  "language_info": {
   "codemirror_mode": {
    "name": "ipython",
    "version": 3
   },
   "file_extension": ".py",
   "mimetype": "text/x-python",
   "name": "python",
   "nbconvert_exporter": "python",
   "pygments_lexer": "ipython3",
   "version": "3.10.12"
  }
 },
 "nbformat": 4,
 "nbformat_minor": 4
}

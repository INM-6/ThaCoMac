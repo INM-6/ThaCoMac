{
 "cells": [
  {
   "cell_type": "markdown",
   "id": "864ee2e7",
   "metadata": {},
   "source": [
    "<h2> Semi-automatic literature search </h2> "
   ]
  },
  {
   "cell_type": "code",
   "execution_count": null,
   "id": "92cba0e8",
   "metadata": {},
   "outputs": [],
   "source": [
    "# import internal .py modules\n",
    "import file_path_management as fpath\n",
    "import public_library as plib"
   ]
  },
  {
   "cell_type": "code",
   "execution_count": null,
   "id": "37eb8cd1-594b-4af8-aff3-cc6a9c91b488",
   "metadata": {
    "tags": []
   },
   "outputs": [],
   "source": [
    "# import packages\n",
    "import requests\n",
    "from bs4 import BeautifulSoup\n",
    "import pandas as pd\n",
    "import random\n",
    "import re\n",
    "import time\n",
    "import numpy as np\n",
    "import numpy as np"
   ]
  },
  {
   "cell_type": "markdown",
   "id": "7ed2a1fb-4380-4179-bbdf-8192056b8b4c",
   "metadata": {},
   "source": [
    "<h3> Parameters: </h3>"
   ]
  },
  {
   "cell_type": "code",
   "execution_count": null,
   "id": "5b6b2882-23e5-4670-8359-3d7367e1107b",
   "metadata": {
    "tags": []
   },
   "outputs": [],
   "source": [
    "# searching keywords lexicon\n",
    "# search in all fields\n",
    "# search_kws_lexicon = (\"macaque\" OR \"macaca\" OR \"rhesus monkey\") AND (\"thalamus\" OR \"thalamic\" OR \"thalamocortical\" OR \"thalamo-cortical\")\n",
    "# (macaque OR macaca OR \"rhesus monkey\") (thalamus OR thalamic OR thalamocortical OR \"thalamo-cortical\")\n",
    "# (macaque OR macaca OR \"rhesus monkey\") AND (thalamus OR thalamic OR thalamocortical OR \"thalamo-cortical\")\n",
    "# (\"macaque\" OR \"macaca\" OR \"rhesus monkey\") AND (\"thalamus\" OR \"thalamocortical\" OR \"thalamo-cortical\") \n",
    "# (macaque OR macaca OR rhesus monkey) AND (thalamus OR thalamocortical OR thalamo-cortical) \n",
    "# (macaque OR macaca OR rhesus monkey) AND (thalamus OR thalamocortical OR \"thalamo-cortical\") \n",
    "# (macaque OR macaca OR rhesus monkey) AND (\"thalamus\" OR thalamocortical OR \"thalamo-cortical\") \n",
    "# (ALL=(macaque) OR ALL=(macaca) OR All=(rhesus monkey)) AND (ALL=(thalamus) OR ALL=(thalamic) OR ALL=(thalamocortical) OR ALL=(thalamo-cortical))\n",
    "# ALL=(macaque) AND (ALL=(thalamus) OR ALL=(thalamocortical) OR ALL=(thalamo-cortical))\n",
    "# ALL=(\"macaque\") AND (ALL=(\"thalamus\") OR ALL=(\"thalamocortical\") OR ALL=(\"thalamo-cortical\"))\n",
    "\n",
    "# academic databases\n",
    "# Google Scholar: \"https://scholar.google.com/\"\n",
    "# macaque thalamus OR thalamocortical OR thalamo-cortical\n",
    "# 78100 results\n",
    "# Web of Science: \"https://www.webofscience.com/wos/woscc/advanced-search\" # can be exported to excel file\n",
    "# (ALL=(thalamus) OR ALL=(thalamocortical) OR ALL=(thalamo-cortical)) AND ALL=(macaque)\n",
    "# 880 results\n",
    "# PubMed Central PMC: \"https://pubmed.ncbi.nlm.nih.gov/advanced/\" # can be exported to .csv file\n",
    "# ((thalamus) OR (thalamocortical) OR (thalamo-cortical)) AND (macaque)\n",
    "# 2448 results\n",
    "# Europe PMC = \"https://europepmc.org/advancesearch\" # search resuts can be exported to .csv file\n",
    "# (\"macaque\") AND (\"thalamus\" OR \"thalamocortical\" OR \"thalamo-cortical\") AND (LANG:\"eng\" OR LANG:\"en\" OR LANG:\"us\")\n",
    "# 5130 results\n",
    "acad_dbs = [\"Google Scholar\", \"Web of Science\", \"PubMed Central PMC\", \"Europe PMC\"]\n",
    "\n",
    "# initial urls for specified searching keyword lexicon and all academic databases\n",
    "init_urls = {\n",
    "    \"gs\": \"https://scholar.google.com/scholar?start=0&q=macaque+thalamus+OR+thalamocortical+OR+thalamo-cortical&hl=en&as_sdt=1,5\",\n",
    "    \"wos\": \"https://www.webofscience.com/wos/woscc/summary/3a00a41f-3135-4142-a950-c8d6eb3b20a7-99be93b8/relevance/1\",\n",
    "    \"pmc\": \"https://pubmed.ncbi.nlm.nih.gov/?term=((thalamus)%20OR%20(thalamocortical)%20OR%20(thalamo-cortical))%20AND%20(macaque)&sort=relevance&page=1\",\n",
    "    \"eupmc\": \"https://europepmc.org/search?query=%28%22macaque%22%29%20AND%20%28%22thalamus%22%20OR%20%22thalamocortical%22%20OR%20%22thalamo-cortical%22%29%20AND%20%28LANG%3A%22eng%22%20OR%20LANG%3A%22en%22%20OR%20LANG%3A%22us%22%29&page=1\"\n",
    "}\n",
    "\n",
    "# seed literature list\n",
    "seed_litera_list = []\n",
    "\n",
    "# cocomac literature list\n",
    "cocomac_litera_list = []"
   ]
  },
  {
   "cell_type": "markdown",
   "id": "116f15dc",
   "metadata": {},
   "source": [
    "<h3> Predefined fucntions: </h3> "
   ]
  },
  {
   "cell_type": "code",
   "execution_count": null,
   "id": "b8ee718e-e776-44d4-ba81-7f24ef51c866",
   "metadata": {},
   "outputs": [],
   "source": [
    "# search academic database google scholar given a initial url and return the search results\n",
    "# the given initial url is manually obtained by input search query in the google scholar\n",
    "# the search results include title, url, full_text_url\n",
    "def search_google_scholar(init_url):\n",
    "    # create a .txt file to record the urls of google scholar search results, clear the file if already exists\n",
    "    f = open(fpath.poten_litera_gs, \"w\")\n",
    "    f.truncate()\n",
    "    f.close()\n",
    "\n",
    "    # request the first page and extract the number of pages of the search results\n",
    "    first_page = init_url\n",
    "    # request the webpage unitl the status code is 200\n",
    "    response = requests.get(first_page, headers = plib.headers)\n",
    "    if response.status_code != 200:\n",
    "        raise Exception(\"Error when request webpages!\")\n",
    "    # while(response.status_code != 200):\n",
    "    #     # sleep for 5 minutes\n",
    "    #     time.sleep(300)\n",
    "    #     response = requests.get(first_page, headers = plib.headers)\n",
    "    # parse the webpage\n",
    "    soup = BeautifulSoup(response.content, \"lxml\")\n",
    "    # print(soup)\n",
    "    num_results_str_list = soup.select(\"div\", {\"class\": \"gs_ab_mdw\"})\n",
    "    for item in num_results_str_list:\n",
    "        if \"results\" in item.get_text():\n",
    "            num_results_str = item.get_text().split()\n",
    "    num_results_str = num_results_str[1]\n",
    "    # print(num_results_str)\n",
    "    # print(int(num_results_str))\n",
    "    num_results = int(re.sub(r\"[^\\w\\s]\", \"\", num_results_str))\n",
    "    pages = int(num_results/10)\n",
    "    print(\"Google Scholar searched \" + str(num_results) + \" results\" + \" displayed in \" + str(pages) + \" pages.\")\n",
    "    \n",
    "    # iterate all pages and record the results\n",
    "    # pages = 5\n",
    "    for page in range(pages):\n",
    "        time.sleep(random.randint(1, 10))\n",
    "        time.sleep(random.randint(1*60, 10*60))\n",
    "        start = page * 10\n",
    "        page_url = init_url.split(\"?start=\")[0] + \"?start=\" + str(start) + \"&q=\" + init_url.split(\"?start=\")[1].split(\"&q=\")[1]\n",
    "        # print(page_url)\n",
    "        # search a page\n",
    "        time.sleep(random.randint(5, 20))\n",
    "        response = requests.get(page_url, headers = plib.headers)\n",
    "        if response.status_code != 200:\n",
    "            raise Exception(\"Error when request webpages!\")\n",
    "        # while(response.status_code != 200):\n",
    "        #     # sleep for 5 minutes\n",
    "        #     time.sleep(300)\n",
    "        #     response = requests.get(page_url, headers = plib.headers)\n",
    "        soup = BeautifulSoup(response.content, \"lxml\")\n",
    "        # print(soup)\n",
    "        # print(soup.select(\"[data-lid]\")) \n",
    "        for item in soup.select(\"[data-lid]\"):\n",
    "            # print(item)\n",
    "            try:\n",
    "                add_title = item.select(\"h3\")[0].select(\"a\", href = True)[0].get_text()\n",
    "                # print(add_title)\n",
    "            except:\n",
    "                add_title = \"not found\"\n",
    "            try:\n",
    "                add_url = item.select(\"h3\")[0].select(\"a\", href = True)[0][\"href\"]\n",
    "                # print(add_url)\n",
    "            except:\n",
    "                add_url = \"not found\"\n",
    "            try:\n",
    "                add_full_text_link = item.find_all(\"div\", {'class': \"gs_or_ggsm\"})[0].find_all(\"a\", href = True)[0][\"href\"]\n",
    "                # print(\"1\")\n",
    "                # print(add_full_text_link)\n",
    "            except:\n",
    "                add_full_text_link = \"not found\"\n",
    "            # print(add_full_text_link)\n",
    "            row = {\n",
    "                \"title\": [add_title],\n",
    "                \"url\": [add_url],\n",
    "                \"full_text_url\": [add_full_text_link]\n",
    "            }\n",
    "            columns = [\"title\", \"url\", \"full_text_url\"]\n",
    "            plib.add_row_to_csv(fpath.poten_litera_gs, row, columns)\n",
    "    print(\"Searching Google Scholar complated!\")\n",
    "# end of search_google_scholar\n",
    "# --------------------start of test code--------------------\n",
    "# init_url = init_urls[\"gs\"]\n",
    "# headers = plib.headers\n",
    "# search_google_scholar(init_url)\n",
    "# ---------------------end of test code---------------------"
   ]
  },
  {
   "cell_type": "code",
   "execution_count": null,
   "id": "24f6b835",
   "metadata": {},
   "outputs": [],
   "source": [
    "def search_webofscience(init_url):\n",
    "    # search on the website and export the search results\n",
    "    print(\"Searching Web of Science completed!\")"
   ]
  },
  {
   "cell_type": "code",
   "execution_count": null,
   "id": "a8b492a0",
   "metadata": {},
   "outputs": [],
   "source": [
    "def search_pmc(init_url):\n",
    "    # search on the website and export the search results\n",
    "    print(\"Searching PubMedd Central PMC completed!\")"
   ]
  },
  {
   "cell_type": "code",
   "execution_count": null,
   "id": "0ab5590d",
   "metadata": {},
   "outputs": [],
   "source": [
    "def search_eupmc(init_url):\n",
    "    # search on the website and export the search results\n",
    "    print(\"Searching Europe PMC completed!\")"
   ]
  },
  {
   "cell_type": "code",
   "execution_count": null,
   "id": "72ddc49e-446e-4c4b-a8a7-a79b1335039d",
   "metadata": {},
   "outputs": [],
   "source": [
    "# search academic databases\n",
    "def search_acad_dbs(acad_dbs, init_urls):\n",
    "    try:\n",
    "        for acad_db in acad_dbs:\n",
    "            if acad_db == \"Google Scholar\":\n",
    "                print(\"Searching Google Scholar...\")\n",
    "                search_google_scholar(init_urls[\"gs\"])\n",
    "            elif acad_db == \"Web of Science\":\n",
    "                print(\"Searching Web of Science...\")\n",
    "                search_webofscience(init_urls[\"wos\"])\n",
    "            elif acad_db == \"PubMed Central PMC\":\n",
    "                print(\"Searching PubMed Central PMC...\")\n",
    "                search_pmc(init_urls[\"pmc\"])\n",
    "            elif acad_db == \"Europe PMC\":\n",
    "                print(\"Searching Europe PMC...\")\n",
    "                search_eupmc(init_urls[\"eupmc\"])\n",
    "            else:\n",
    "                print(\"Searching the specified academic database: \" + acad_db + \" is not supported by this function.\")\n",
    "                print(\"Plese choose one of the following databases:\",)\n",
    "                for db in [\"Google Scholar\", \"Web of Science\", \"PubMed Central PMC\", \"Europe PMC\"]:\n",
    "                    print(db)\n",
    "        return True\n",
    "    except:\n",
    "        return False"
   ]
  },
  {
   "cell_type": "code",
   "execution_count": null,
   "id": "b7ad09b4",
   "metadata": {},
   "outputs": [],
   "source": [
    "def span_citations(seed_litera_list, num_span_time):\n",
    "    return True"
   ]
  },
  {
   "cell_type": "code",
   "execution_count": null,
   "id": "411867ea",
   "metadata": {},
   "outputs": [],
   "source": [
    "def search_conne_db():\n",
    "    return True"
   ]
  },
  {
   "cell_type": "code",
   "execution_count": null,
   "id": "11636d77",
   "metadata": {},
   "outputs": [],
   "source": [
    "def merge_webofscience(columns):\n",
    "    print(\"Starting merging search results from Web of Science...\")\n",
    "    try:\n",
    "        df_wos = pd.read_csv(fpath.poten_litera_wos, sep = \";\")\n",
    "        df_wos = df_wos[[\"DOI\", \"Pubmed Id\", \"Article Title\"]]\n",
    "        df_wos.rename(columns={\"DOI\": \"DOI\", \"Pubmed Id\": \"PMID\", \"Article Title\": \"Title\"}, inplace = True)\n",
    "        df_wos[\"PMID\"] = df_wos[\"PMID\"].fillna(0)\n",
    "        df_wos[\"PMID\"] = df_wos[\"PMID\"].astype(int)\n",
    "        df_wos[\"PMID\"] = df_wos[\"PMID\"].astype(str)\n",
    "        # print(df_wos.head(5))\n",
    "        # print(df_wos.dtypes)\n",
    "        pmcid = []\n",
    "        for ind in df_wos.index:\n",
    "            # print(df_wos[\"PMID\"][ind])\n",
    "            if df_wos[\"PMID\"][ind] != \"0\":\n",
    "                pmid = df_wos[\"PMID\"][ind]\n",
    "                # print(pmid)\n",
    "                df_wos[\"PMID\"][ind] = pmid\n",
    "                url = \"https://pubmed.ncbi.nlm.nih.gov/\" + pmid + \"/\"\n",
    "                # print(url)\n",
    "                time.sleep(random.randint(5, 20))\n",
    "                response = requests.get(url, headers = plib.headers)\n",
    "                if response.status_code != 200:\n",
    "                    raise Exception(\"Error when request webpages!\")\n",
    "                soup = BeautifulSoup(response.content, \"lxml\")\n",
    "                l = soup.find_all(\"a\", {\"data-ga-action\": \"PMCID\"})\n",
    "                if(len(l) != 0):\n",
    "                    # print(l[0].get_text().strip())\n",
    "                    pmcid.append(l[0].get_text().strip())\n",
    "                else:\n",
    "                    pmcid.append(np.nan)\n",
    "            else:\n",
    "                pmcid.append(np.nan)\n",
    "            # print(df_wos[ind])\n",
    "        df_wos[\"PMCID\"] = pmcid\n",
    "        df_wos[\"PMCID\"].replace(\"0\", np.nan)\n",
    "        # print(df_wos.head(5))\n",
    "        df_wos = df_wos[columns]\n",
    "        df_wos.to_csv(fpath.poten_litera, header = True, index = None)\n",
    "        return True\n",
    "    except:\n",
    "        return False\n",
    "    "
   ]
  },
  {
   "cell_type": "code",
   "execution_count": null,
   "id": "9742dd8a",
   "metadata": {},
   "outputs": [],
   "source": [
    "def merge_pmc(columns):\n",
    "    print(\"Starting merging search results from PubMed Central PMC...\")\n",
    "    try:\n",
    "        # process pmc search results\n",
    "        df_pmc = pd.read_csv(fpath.poten_litera_pmc, sep=',')\n",
    "        doi = df_pmc[[\"DOI\", \"PMID\", \"PMCID\", \"Title\"]]\n",
    "        doi.to_csv(fpath.poten_litera, mode = \"a\", header = None, index = None)\n",
    "        return True\n",
    "    except:\n",
    "        return False"
   ]
  },
  {
   "cell_type": "code",
   "execution_count": null,
   "id": "47f1c1cd",
   "metadata": {},
   "outputs": [],
   "source": [
    "def merge_eupmc(columns):\n",
    "    print(\"Starting merging search results from Europe PMC...\")\n",
    "    try:\n",
    "        # process eupmc search results\n",
    "        df_eupmc = pd.read_csv(fpath.poten_litera_eupmc, sep = \",\")\n",
    "        df_eupmc = df_eupmc[[\"DOI\", \"PMCID\", \"TITLE\"]]\n",
    "        df_eupmc = df_eupmc.rename(columns={\"TITLE\": \"Title\"}, errors = \"raise\")\n",
    "        # print(df_eupmc.head(5))\n",
    "        pmid = []\n",
    "        for ind in df_eupmc.index:\n",
    "            # print(df_eupmc[\"PMCID\"][ind])\n",
    "            if df_eupmc[\"PMCID\"][ind] is not np.nan:\n",
    "                pmcid = str(df_eupmc[\"PMCID\"][ind])\n",
    "                # print(pmcid)\n",
    "                df_eupmc[\"PMCID\"][ind] = pmcid\n",
    "                url = \"https://www.ncbi.nlm.nih.gov/pmc/articles/\" + pmcid + \"/\"\n",
    "                # print(url)\n",
    "                time.sleep(random.randint(5, 20))\n",
    "                response = requests.get(url, headers = plib.headers)\n",
    "                if response.status_code != 200:\n",
    "                    print(response.status_code)\n",
    "                    raise Exception(\"Error when request webpages!\")\n",
    "                soup = BeautifulSoup(response.content, \"lxml\")\n",
    "                l = soup.find_all(\"div\", {\"class\": \"fm-citation-pmid\"})\n",
    "                if (len(l)) != 0:\n",
    "                    ll = l[0].find_all(\"a\", href = True)\n",
    "                    if(len(ll) != 0):\n",
    "                        # print(ll[0].get_text().strip())\n",
    "                        pmid.append(ll[0].get_text().strip())\n",
    "                else:\n",
    "                    pmid.append(np.nan)\n",
    "            else:\n",
    "                pmid.append(np.nan)\n",
    "            # print(df_wos[ind])\n",
    "        df_eupmc[\"PMID\"] = pmid\n",
    "        df_eupmc = df_eupmc[columns]\n",
    "        df_eupmc.to_csv(fpath.poten_litera, header = None, index = None)\n",
    "        return True\n",
    "    except:\n",
    "        return False"
   ]
  },
  {
   "cell_type": "code",
   "execution_count": null,
   "id": "c4240c14",
   "metadata": {},
   "outputs": [],
   "source": [
    "def merge_google_shcolar(columns):\n",
    "    print(\"Starting merging search results from Google Scholar...\")\n",
    "    return True"
   ]
  },
  {
   "cell_type": "code",
   "execution_count": null,
   "id": "7edf56f5",
   "metadata": {},
   "outputs": [],
   "source": [
    "def merge_seed_paper_spanning(columns):\n",
    "    print(\"Starting merging search results from spanning citations of seed paper...\")\n",
    "    return True"
   ]
  },
  {
   "cell_type": "code",
   "execution_count": null,
   "id": "07331dbc",
   "metadata": {},
   "outputs": [],
   "source": [
    "def merge_cocomac_paper(columns):\n",
    "    print(\"Starting merging search results from CoCoMac papers...\")\n",
    "    return True"
   ]
  },
  {
   "cell_type": "markdown",
   "id": "6fc0eb4e",
   "metadata": {},
   "source": [
    "<h3> Main program: </h3> "
   ]
  },
  {
   "cell_type": "code",
   "execution_count": null,
   "id": "ba0b8126",
   "metadata": {},
   "outputs": [],
   "source": [
    "# first we need to search all related literature that might include data or information of thalamocortical connections\n",
    "# search for potentially related literature using the following listed 3 methods"
   ]
  },
  {
   "cell_type": "code",
   "execution_count": null,
   "id": "f9df256b-106e-4d5d-847e-b068fbade613",
   "metadata": {
    "tags": []
   },
   "outputs": [],
   "source": [
    "# method 1: search acdemic databases using keywords\n",
    "# if search_acad_dbs(acad_dbs, init_urls):\n",
    "#     print(\"Searching academic databases succeeded!\")\n",
    "# else:\n",
    "#     print(\"Attention! Something went wrong when searching academic databases completed!\")"
   ]
  },
  {
   "cell_type": "code",
   "execution_count": null,
   "id": "b3a4879d",
   "metadata": {},
   "outputs": [],
   "source": [
    "# # method 2: spanning citations of seed papers\n",
    "# if span_citations(seed_papers, num_span_time):\n",
    "#     print(\"Spanning citations of seed literature list succeeded!\")\n",
    "# else:\n",
    "#     print(\"Attention! Something went wrong when spanning citations of seed literature list!\")"
   ]
  },
  {
   "cell_type": "code",
   "execution_count": null,
   "id": "b1c0ff2b",
   "metadata": {},
   "outputs": [],
   "source": [
    "# # method 3: search existing connectome databases\n",
    "# if search_conne_db(connec_db, connec_db_quries):\n",
    "#     print(\"Searching connectome databases succeeded!\")\n",
    "# else:\n",
    "#     print(\"Attention! Something went wrong when searching connectome databases!\")"
   ]
  },
  {
   "cell_type": "code",
   "execution_count": null,
   "id": "2c3fe5a4",
   "metadata": {},
   "outputs": [],
   "source": [
    "# merge all searched literature results\n",
    "# clear the file\n",
    "f = open(fpath.poten_litera, \"w\")\n",
    "f.truncate()\n",
    "f.close()\n",
    "\n",
    "# column: [\"DOI\", \"PMID\", \"PMCID\", \"Title\"]\n",
    "columns = [\"DOI\", \"PMID\", \"PMCID\", \"Title\"]"
   ]
  },
  {
   "cell_type": "code",
   "execution_count": null,
   "id": "7a0a1e93",
   "metadata": {},
   "outputs": [],
   "source": [
    "# merge search results from Web of Science\n",
    "if merge_webofscience(columns):\n",
    "    print(\"Merging results from Web of Science succeeded!\")\n",
    "else:\n",
    "    print(\"Attention! Something went wrong when merging results from Web of Science!\")"
   ]
  },
  {
   "cell_type": "code",
   "execution_count": null,
   "id": "7d6d96a6",
   "metadata": {},
   "outputs": [],
   "source": [
    "# merge search results from PubMed Central PMC\n",
    "if merge_pmc(columns):\n",
    "    print(\"Merging results from PubMed Central PMC succeeded!\")\n",
    "else:\n",
    "    print(\"Attention! Something went wrong when merging results from PubMed Central PMC!\")"
   ]
  },
  {
   "cell_type": "code",
   "execution_count": null,
   "id": "ce5df774",
   "metadata": {},
   "outputs": [],
   "source": [
    "# merge search results from Europe PMC\n",
    "if merge_eupmc(columns):\n",
    "    print(\"Merging results from Europe PMC succeeded!\")\n",
    "else:\n",
    "    print(\"Attention! Something went wrong when merging results from Europe PMC!\")"
   ]
  },
  {
   "cell_type": "code",
   "execution_count": null,
   "id": "3d75cc95",
   "metadata": {},
   "outputs": [],
   "source": [
    "# merge search results from Google Scholar\n",
    "if merge_google_shcolar(columns):\n",
    "    print(\"Merging results from Google Scholar succeeded!\")\n",
    "else:\n",
    "    print(\"Attention! Something went wrong when merging results from Google Scholar!\")"
   ]
  },
  {
   "cell_type": "code",
   "execution_count": null,
   "id": "d40c2f29",
   "metadata": {},
   "outputs": [],
   "source": [
    "# merge search results from spanning citations of seed paper\n",
    "if merge_seed_paper_spanning(columns):\n",
    "    print(\"Merging results from spanning citations of seed papers succeeded!\")\n",
    "else:\n",
    "    print(\"Attention! Something went wrong when merging results from spanning citations of seed papers!\")"
   ]
  },
  {
   "cell_type": "code",
   "execution_count": null,
   "id": "e874b5e7",
   "metadata": {},
   "outputs": [],
   "source": [
    "# merge search results from CoCoMac papers\n",
    "if merge_cocomac_paper(columns):\n",
    "    print(\"Merging results from CoCoMac papers succeeded!\")\n",
    "else:\n",
    "    print(\"Attention! Something went wrong when merging results from CoCoMac papers!\")"
   ]
  },
  {
   "cell_type": "markdown",
   "id": "a8bf1484-5217-4a14-9c48-ff176f46d57b",
   "metadata": {},
   "source": [
    "Next step: automatic filtering the potential related literature"
   ]
  },
  {
   "cell_type": "markdown",
   "id": "a61c1533",
   "metadata": {},
   "source": [
    "<h3> Some test code, please ignore: </h3> "
   ]
  },
  {
   "cell_type": "code",
   "execution_count": 53,
   "id": "b6cb18dc",
   "metadata": {},
   "outputs": [
    {
     "name": "stdout",
     "output_type": "stream",
     "text": [
      "<!DOCTYPE html>\n",
      "<html lang=\"en-US\"><head><title>Just a moment...</title><meta content=\"text/html; charset=utf-8\" http-equiv=\"Content-Type\"/><meta content=\"IE=Edge\" http-equiv=\"X-UA-Compatible\"/><meta content=\"noindex,nofollow\" name=\"robots\"/><meta content=\"width=device-width,initial-scale=1\" name=\"viewport\"/><link href=\"/cdn-cgi/styles/challenges.css\" rel=\"stylesheet\"/><meta content=\"35\" http-equiv=\"refresh\"/></head><body class=\"no-js\"><div class=\"main-wrapper\" role=\"main\"><div class=\"main-content\"><noscript><div id=\"challenge-error-title\"><div class=\"h2\"><span class=\"icon-wrapper\"><div class=\"heading-icon warning-icon\"></div></span><span id=\"challenge-error-text\">Enable JavaScript and cookies to continue</span></div></div></noscript><form action=\"/science/article/pii/S095943880900049X?via%3Dihub&amp;__cf_chl_f_tk=ofZoMBsjtmB4U_eHtgGotjJS9xZvIhsR40pzAD9vP5A-1690378472-0-gaNycGzNCrs\" enctype=\"application/x-www-form-urlencoded\" id=\"challenge-form\" method=\"POST\"><input name=\"md\" type=\"hidden\" value=\"QYEZ.qB8iTXaNOCvXJ43M1Cv5C8JV2U9Gqq5fZSodBk-1690378472-0-AT9x6dmN1bATiUMyWbMQjSV7lNr9JL-X9JFjtaXrGWvK_r6j9OdIvNwawWFWge3i7n3V2kEk9CsZFIZKHf6sRAKVEkN2i1Hk9B3HI_KE6Bqn3FvcqHhCcrwlEWuzXl0_l_F9RK_RaA0SYfhWYwGDDnCOuAv0gW5pBqjacGd2yrSGuyn8n_bVMl8vUnFouc62ztWIPygP9mg6LIOH5i63r6eEAPk5gJtkhgZXzS8WE9JSyLhzhzR2CCmrxaZDxxQjmtIFigJVBMuJl6MEKh2LryawWasYMgjNUrOUB4T3waJyBamXJuGAPVrP5YlCNckXXdlScE7h8X610_jFm6n9xUoONabqHWrxnaYBI3frYT6sIQL9mCqgggzhoa7Xb9BwVOGaDQ4Wui_OL6cKf2RVGL5N6x-cGLv8fE4zlI-8W3TftACMpusX_GV_oraCyhTYNM7xfkfVbX8lNh5AoWJ0b7VfPyqvAh2SnD0cC3JEUFErJCeDO9j7fvC7Wtj6fFbUm3fyhuvQ0VH3-wN0oQCfJY7sDkoTI46cR-AgwvpCNA6BMh4NsM-_BknaIT9GQSSaGP-OMpsQU2uFvNgiOpp13eV5g-gnRdexCHjYEepsSuYYsz2tzOaj-JUBr_rTT7NH77wPhA__TDE1_qGkQwoYPZ89gxsgYtA3xpiUEoUpaCIQpesGqi8hiHVfBDjAf0-YUSKdB0QABID5j2kogQGYHy7GP7B-33PIBTdzDEhen0J9QI00dDDIasLPdYZIODff_lzGQD0lmV9pLgYO05IbcCLfoJ29okLM1lXzwq2tiu68vzORsbCFzY29-pHU385eVmC7rLbWIv7kmxGO4cUH6bHwAtPUYM1Ot52GgxjfENSgcIY0nOdaWN8lAsXs1zXy3mjsp0oq1s7z-wwSIsvhedht6mZsFmtK_4Ri_q2ciwXQw5y-1_3xtJgSfECNnUtnnIAXNZ7uNLh3KmprSgALw1GJDP7iCuULci6uu9Ilf7zRDitCrhBH30wMctSEdjQlrefSRHsfl88gZRTZ35bkt2BIOKwS1ysxCJjDJYF09FE9e0AS4MoPB3LZMkJC654G9MH9pijkGfQDWYrpctFdWHhqEf0-b0mm3tcbAXll_RoNhxR8ONYYs2k2WLA0UYsqUv8I7NcCGbQGuON_9G_bGBIokTT9R8sW7UvTWnWzqTpkG9RpdA139rGlpshdPNWFzJ1lTXf66SpI2pDP3B8QHlDa4Jn45e-mAY3u5vA0hsboffyqNl8ctchMEzPXQ2ejphVf69eeGH4zP0MunW87y6lvPZudQgtfBAOpvb4SQYKKxRVPCS7A2sB7lfD5NiuTHNJfWl2asSdBm97rM3psdgeemDAGLJMXjmkzvQAhnp36n127SFiKd2wRCFtcQitQ8tNj6hQ4NYzaCS36Q91Cuov4OgWpVHcd2j2AWwCnChYdVaDAIKNmnG89v-uowjFI0LOWFUa7EM7PSgFOaVFLRBHJ6cnzwsEPSPkaGpTkmQ0nr1u7AmsLupJp0o6Y9s8XOjQ4Whr8NYgBd4taJCXrxsy-fkhAmgufwUvK9Gkf39DCElcU98RG1PU0agzn3A4gkDmK05U4Xqfdu3YqW4c9fRGJRGeYYe92wl-t2F2umtlbdfWCFYVkZ2B7KJOhLZySlAnK2SGghIQjNPo4SlSFBPbpYWmXVFX3hQuHWnzwy4nT1icHboIu3LIgC1YFIW_45PVbr4RT7fk_eTj9Unh4glaarNVamEX-TjKmNBeqwsu186h3ZnIW_mc_-WY3rYhNbu7Wch4yMUI7Vd_9i3MgLqAyrik50TuCzVWxwGDRPo-Q0_TGwUkN1zZXzi0kFDfx-21ESpo1jKvgJQR5kM4lE5W_GLn_3Si_RYe2Rnu929lZsRXntSSPv0bZhOZeTyRv4oLWw9ohas8PXxzwjHAgE1cBfd8HHWJXvLKnmf_5RZIs31XEx3Zq5MtvIQGbS1-XGDmkA9qZAJ2jl4kRdKiUN1GRTM2mWqfYhW9KIGkwcNCv5nXroBElAq13kLLZRcgwnZeaO3eaR-RecdIMlrAEWgrMwxmuEKbO0AwyZ9druy77G0DK6lNNIL70_qxN8AI3Vr4s37fU6E5xlACLuc4zcgPOn391cedKpvkYX2o71str8zbARrOrhjnH2cwKrXhJe8ezVlZ4tfqG46IRghX1yLySeNHmZhAXDwEo82lyigx0I8OO4FOE6-BeA8py0Sk-1o1T1d8WFqV55BGVIhHblBJZlARh7qsakubWGX-bLfQZCK8J9swDDaTjlpVUHPkwxoOHKoLbMNdTYpXSOMgPvI-ig2cHDatiH8x_vE15jsueMzzBNiFvxfBENNplyGzmGKj3Osna-T6HuQrLwCqCVLEmQib-pLwmSJ_I1AJmLbiE8C3oZg2IJlQRg5WkyFRG5KuGmGnNG1Q_OrvzypNODyTU45TwgQyHsVLUvsF4_wfdbjcZqFavGzHZvkuoFEecdtSW18e4wWBxkrV7QcJSJw-gYnQaf6cUIn2f3IDS_LOJ7DY2PrAWOw6_IxWnZHfnB25H2yoSY1Tizoycck-zfdGjaZDVpq0WyZbJuMzO3C4FNO1g70zlmP5WKrMi6hNN6oIZsPUB3JHUAeaHHiXIg6vyL41q7snnZU4G3NeDNG-5x1n2FL4s_o6QK4NjzYwxKg\"/></form></div></div><script>(function(){window._cf_chl_opt={cvId: '2',cZone: 'www.sciencedirect.com',cType: 'non-interactive',cNounce: '36879',cRay: '7ecd054b0a95911f',cHash: 'f28bbd3051206f9',cUPMDTk: \"\\/science\\/article\\/pii\\/S095943880900049X?via%3Dihub&__cf_chl_tk=ofZoMBsjtmB4U_eHtgGotjJS9xZvIhsR40pzAD9vP5A-1690378472-0-gaNycGzNCrs\",cFPWv: 'g',cTTimeMs: '1000',cMTimeMs: '60000',cTplV: 5,cTplB: 'cf',cK: \"\",cRq: {ru: 'aHR0cHM6Ly93d3cuc2NpZW5jZWRpcmVjdC5jb20vc2NpZW5jZS9hcnRpY2xlL3BpaS9TMDk1OTQzODgwOTAwMDQ5WD92aWElM0RpaHVi',ra: 'TW96aWxsYS81LjAgKE1hY2ludG9zaDsgSW50ZWwgTWFjIE9TIFggMTBfMTFfMikgQXBwbGVXZWJLaXQvNjAxLjMuOSAoS0hUTUwsIGxpa2UgR2Vja28pIFZlcnNpb24vOS4wLjIgU2FmYXJpLzYwMS4zLjk=',rm: 'R0VU',d: 'XcX6qRPvgr8j6Z0n6Tou1/QvtTqU31yQY8D/HAJ+D2OKYmwnTvor6ZdDt5OTQe0AwYK7VCgXBKP4w7MA4t3gdwHmetAFPufL06AMIA+k0Nag4DxLazy1ui+uGVBRVP/gJrhH+q1TFShb1FUm6uvb5m7X4r4zVyfHGg37mlPWVnCJ8DM2HRysVx9q+sRLnt9bUS6MZ1UpZFHGw+qOrEctwDKSkDmsr4aoXNVp9X/CjpYUdLVN7u+PZJn+9l5uXart9F9O1uC0oC5Oa7/+TI7IXxYgPwDeAVOlfPxOEdxMRRNxxuTG2AwVtFS78pIED8FX/Is9KjFZhlgJD0oEXj0XT/5MYt/c3sm4vYP+W3Jhw1QfmgTA7tOH9KGzNEQUd4N99Akb2Om/chhqK1B7R6ojGWW5iF/kfcKHJQTSJje6h4bG4FKmvGi7ugTThoJMMBY+XOTOykmxrbPr/UBDSq67awPyTmlHxa38KZekFLjcjIco2JMreidVkKH5RIKrve1ltTbEfltF1VnXtFszOnvPtJFIjRAKtp8w51m9BfvYYwM=',t: 'MTY5MDM3ODQ3Mi4xNzkwMDA=',cT: Math.floor(Date.now() / 1000),m: 'b2C4E3xSgMTX2YNod+69wNkRv1aMJQLAy8PuuzEKFBc=',i1: 'c99bHo52VrxgYW2jUt3jcQ==',i2: 'iCl0B3VsArWiTyIM9/La3w==',zh: 'eknJUbsDo2Vxc6GgtD/le0vXqlP53xNp4XjvomKKsGA=',uh: '+zlqvb0tDFvnJduk205Bl8R5z3SZBv+CWSKy7HfNtkw=',hh: '+7dgh3irsM1xf/It1/rLKw9KLOrDdT/34NcXJ5NU1S0=',}};var cpo = document.createElement('script');cpo.src = '/cdn-cgi/challenge-platform/h/g/orchestrate/chl_page/v1?ray=7ecd054b0a95911f';window._cf_chl_opt.cOgUHash = location.hash === '' && location.href.indexOf('#') !== -1 ? '#' : location.hash;window._cf_chl_opt.cOgUQuery = location.search === '' && location.href.slice(0, location.href.length - window._cf_chl_opt.cOgUHash.length).indexOf('?') !== -1 ? '?' : location.search;if (window.history && window.history.replaceState) {var ogU = location.pathname + window._cf_chl_opt.cOgUQuery + window._cf_chl_opt.cOgUHash;history.replaceState(null, null, \"\\/science\\/article\\/pii\\/S095943880900049X?via%3Dihub&__cf_chl_rt_tk=ofZoMBsjtmB4U_eHtgGotjJS9xZvIhsR40pzAD9vP5A-1690378472-0-gaNycGzNCrs\" + window._cf_chl_opt.cOgUHash);cpo.onload = function() {history.replaceState(null, null, ogU);};}document.getElementsByTagName('head')[0].appendChild(cpo);}());</script></body></html>\n"
     ]
    }
   ],
   "source": [
    "# # test request\n",
    "# webpage that require subscription\n",
    "# url = \"https://www.sciencedirect.com/science/article/abs/pii/S0079612305490019?via%3Dihub\"\n",
    "url = \"https://www.sciencedirect.com/science/article/pii/S095943880900049X?via%3Dihub\"\n",
    "# webpage that does not require subscription\n",
    "# url = \"https://pubmed.ncbi.nlm.nih.gov/34524542/\"\n",
    "# url = \"https://link.springer.com/article/10.1007/s00429-021-02377-7\"\n",
    "response = requests.get(url, headers = plib.headers)\n",
    "soup = BeautifulSoup(response.content,\"html.parser\")\n",
    "# print(soup.find_all(\"a\"))\n",
    "print(soup)"
   ]
  },
  {
   "cell_type": "code",
   "execution_count": 60,
   "id": "eefb4637",
   "metadata": {},
   "outputs": [
    {
     "name": "stdout",
     "output_type": "stream",
     "text": [
      "<span class=\"title-text\">Gain control in the visual thalamus during perception and cognition</span>\n"
     ]
    }
   ],
   "source": [
    "from selenium import webdriver\n",
    "from selenium.webdriver.common.by import By\n",
    "from selenium.webdriver.common.keys import Keys\n",
    "# from selenium.webdriver.chrome.options import Options\n",
    "\n",
    "# options = Options()\n",
    "# options.add_argument('--headless')\n",
    "browser = webdriver.Firefox()\n",
    "\n",
    "browser.get(url)\n",
    "time.sleep(10)\n",
    "# assert 'Yahoo' in browser.title\n",
    "\n",
    "# ele = browse?r.find_element(\"a\")\n",
    "# elems = browser.find_element(By.CLASS_NAME, \"title-text\")\n",
    "# pdf_links = browser.find_elements(By.XPATH, \"//a[contains(@href, '.pdf')]\")\n",
    "pdf_links = browser.find_elements(By.XPATH, \"//h1\")[0].get_attribute('innerHTML')\n",
    "print(pdf_links)\n",
    "# for elem in elems:\n",
    "#     print(elem)\n",
    "# print(elems)\n",
    "# elem = browser.find_element(By.NAME, 'p')  # Find the search box\n",
    "# elem.send_keys('seleniumhq' + Keys.RETURN)\n",
    "browser.quit()"
   ]
  }
 ],
 "metadata": {
  "kernelspec": {
   "display_name": "Python 3 (ipykernel)",
   "language": "python",
   "name": "python3"
  },
  "language_info": {
   "codemirror_mode": {
    "name": "ipython",
    "version": 3
   },
   "file_extension": ".py",
   "mimetype": "text/x-python",
   "name": "python",
   "nbconvert_exporter": "python",
   "pygments_lexer": "ipython3",
   "version": "3.10.12"
  }
 },
 "nbformat": 4,
 "nbformat_minor": 5
}

{
 "cells": [
  {
   "cell_type": "code",
   "execution_count": 1,
   "id": "647af6b2-2907-4222-b319-960f01de8d4a",
   "metadata": {},
   "outputs": [
    {
     "data": {
      "text/plain": [
       "'\\n# import external packages\\nimport pandas as pd\\nimport re\\nfrom bs4 import BeautifulSoup \\nimport requests\\nimport time\\nimport os\\nimport os.path\\nimport csv\\n'"
      ]
     },
     "execution_count": 1,
     "metadata": {},
     "output_type": "execute_result"
    }
   ],
   "source": [
    "'''\n",
    "# import external packages\n",
    "import pandas as pd\n",
    "import re\n",
    "from bs4 import BeautifulSoup \n",
    "import requests\n",
    "import time\n",
    "import os\n",
    "import os.path\n",
    "import csv\n",
    "'''"
   ]
  },
  {
   "cell_type": "code",
   "execution_count": 2,
   "id": "96a329a8-d411-429f-a9d3-8ed95a517c2c",
   "metadata": {
    "tags": []
   },
   "outputs": [
    {
     "ename": "SyntaxError",
     "evalue": "unterminated string literal (detected at line 89) (semi_automated_literature_search.py, line 89)",
     "output_type": "error",
     "traceback": [
      "Traceback \u001b[0;36m(most recent call last)\u001b[0m:\n",
      "\u001b[0m  File \u001b[1;32m~/anaconda3/envs/myenv/lib/python3.10/site-packages/IPython/core/interactiveshell.py:3505\u001b[0m in \u001b[1;35mrun_code\u001b[0m\n    exec(code_obj, self.user_global_ns, self.user_ns)\u001b[0m\n",
      "\u001b[0;36m  Cell \u001b[0;32mIn[2], line 2\u001b[0;36m\n\u001b[0;31m    import semi_automated_literature_search as LS\u001b[0;36m\n",
      "\u001b[0;36m  File \u001b[0;32m~/myProjects/didihou_master_project/semi_automated_literature_search.py:89\u001b[0;36m\u001b[0m\n\u001b[0;31m    url = 'https://pubmed.ncbi.nlm.nih.gov/?term=macaque%20AND%20(thalamus%20OR%20cortex%20OR%20thalamocortical%20OR%20thalamo-cortical%20or%20corticothalamic%20OR%20cortico-thalamic)&page=1\u001b[0m\n\u001b[0m          ^\u001b[0m\n\u001b[0;31mSyntaxError\u001b[0m\u001b[0;31m:\u001b[0m unterminated string literal (detected at line 89)\n"
     ]
    }
   ],
   "source": [
    "# import internal packages\n",
    "import semi_automated_literature_search as LS\n",
    "import semi_automated_information_search as IS\n",
    "import file_path_management\n",
    "import public_library as PL\n",
    "import automatic_filtering as AF"
   ]
  },
  {
   "cell_type": "markdown",
   "id": "7ed2a1fb-4380-4179-bbdf-8192056b8b4c",
   "metadata": {},
   "source": [
    "In the next cell, we present all parameters that might have an effect on the search results, including:<br>\n",
    "1. searching keyword lexicon\n",
    "2. on-topic keyword lexicon\n",
    "3. academic databases\n",
    "4. seed papers\n",
    "5. connectome database and \n",
    "6. connectome database queries\n",
    "7. ChatPDF queries for relatedness of topic"
   ]
  },
  {
   "cell_type": "code",
   "execution_count": null,
   "id": "5b6b2882-23e5-4670-8359-3d7367e1107b",
   "metadata": {
    "tags": []
   },
   "outputs": [],
   "source": [
    "# parameters\n",
    "\n",
    "# searching keyword lexicon\n",
    "# (macaque OR Macaque) AND (thalamocortical OR thalamocortical OR corticothalamic OR 'cortico-thalamic' OR thalamus OR cortex)\n",
    "search_kws_lexicon = 'macaque AND (thalamus OR thalamocortical OR thalamo-cortical OR corticothalamic OR cortico-thalamic)'\n",
    "\n",
    "# academic databases\n",
    "# Google Scholar: 'https://scholar.google.com/'\n",
    "# Web of Science: 'https://www.webofscience.com/wos/woscc/basic-search' # can be expoted to excel file\n",
    "# PubMed Central PMC: 'https://www.ncbi.nlm.nih.gov/pmc/' # can be exported to .csv file and abstract.txt file\n",
    "# Europe PMC = 'https://europepmc.org/' # can be exported to .csv file or abstract and full open access file .xml\n",
    "acad_dbs = ['Google Scholar', 'Web of Science', 'PubMed_Central_PMC', 'Europe_PMC']\n",
    "\n",
    "# initial urls for specified searching keyword lexicon and all academic databases\n",
    "init_urls = {'gs': 'https://scholar.google.com/scholar?start=0&q=%22thalamus%22+OR+%22thalamocortical%22+OR+%22thalamo-cortical%22+%22macaque%22&hl=en&as_sdt=1,5',\n",
    "             'wos': 'https://www.webofscience.com/wos/woscc/summary/79530a3c-47d5-4dd0-9b7d-b1d92fd11882-98d8472a/relevance/1',\n",
    "             'pubmed': '',\n",
    "             'eupmc': ''\n",
    "            }\n",
    "\n",
    "# on-topic keyword lexicon\n",
    "on_topic_kws = ['thalamocortical', 'thalamo-cortical', 'corticothalamic', 'cortico-thalamic',\n",
    "                'tracing', 'tracer', 'tract tracing', 'tract-tracing', 'axonal tracing', 'neural anatomical tracing', \n",
    "                'connection', 'projection', 'connectivity', 'connectome', \n",
    "                'thalamus', 'cortex']\n",
    "\n",
    "# seed papers specification\n",
    "seed_papers = []\n",
    "\n",
    "# connectome database and queries specification\n",
    "# we search the CoCoMac\n",
    "connec_db = ''\n",
    "connec_db_quries = []\n",
    "\n",
    "# ChatGPT, queries for relatedness of topic\n",
    "ChatGPT_related_queries = ['Does the given text include information of thalamocotical connection?', \n",
    "                           'Does the given text include information of connection between thalamus and cortex?']\n",
    "\n",
    "# meta categories, keywords, and correspond queries\n",
    "meta_categ = ['DOI', 'Publication_link', 'Authors', 'Year', 'Country', 'Affiliation', \n",
    "              'Title', 'Abstract', 'Keywords', 'Thalamic_parcellation_scheme', 'Cortical_parcellation_scheme', \n",
    "              'Thalamic_area_focused', 'Cortical_area_focused',\n",
    "              'Steriotactic_axis', 'Type_of_data']\n",
    "meta_categ_kws = []\n",
    "meta_categ_quries = []"
   ]
  },
  {
   "cell_type": "code",
   "execution_count": null,
   "id": "91015aa8-11e2-439f-88e0-e73bec719af0",
   "metadata": {
    "tags": []
   },
   "outputs": [
    {
     "name": "stdout",
     "output_type": "stream",
     "text": [
      "Yes\n"
     ]
    }
   ],
   "source": [
    "# run some test\n",
    "init_url = init_urls['gs']\n",
    "page_url = init_url.split('?start=')[0] + '?start=' + str(0) + '&q=' + init_url.split('?start=')[1].split('&q=')[1]\n",
    "if page_url == init_urls['gs']:\n",
    "    print('Yes')\n",
    "# search a page"
   ]
  },
  {
   "cell_type": "code",
   "execution_count": null,
   "id": "6182040b-10b4-41e3-a34e-1a657ffd53a6",
   "metadata": {
    "tags": []
   },
   "outputs": [
    {
     "name": "stdout",
     "output_type": "stream",
     "text": [
      "x\n",
      "\n"
     ]
    }
   ],
   "source": [
    "with open('connectome_database_paper_list.txt', 'r') as url_file:\n",
    "    # append text at the end of file\n",
    "    for line in url_file.readlines():\n",
    "        print(line)"
   ]
  },
  {
   "cell_type": "code",
   "execution_count": null,
   "id": "1834933c-53c6-4980-a0be-60b0861bbe22",
   "metadata": {
    "tags": []
   },
   "outputs": [],
   "source": [
    "# all the file paths in file_path_management.py\n",
    "# path_poten_urls\n",
    "# path_poten_csv\n",
    "# path_related_urls\n",
    "# path_related_csv\n",
    "# pdf_folder_path\n",
    "# seed_paper_urls\n",
    "# connec_db_urls"
   ]
  },
  {
   "cell_type": "code",
   "execution_count": null,
   "id": "f9df256b-106e-4d5d-847e-b068fbade613",
   "metadata": {
    "tags": []
   },
   "outputs": [
    {
     "name": "stdout",
     "output_type": "stream",
     "text": [
      "Searching Google Scholar...\n"
     ]
    },
    {
     "name": "stdout",
     "output_type": "stream",
     "text": [
      "Searching Google Scholar complated!\n",
      "Searching Web of Science...\n",
      "Searching Web of Science complated!\n",
      "Searching PubMed Central PMC...\n",
      "Searching PubMedd Central PMC complated!\n",
      "Searching Europe PMC...\n",
      "Searching Europe PMC complated!\n"
     ]
    }
   ],
   "source": [
    "# main program\n",
    "if __name__ == \"__main__\":\n",
    "    # first we need to search all related literature that might include data or information of thalamocortical connections\n",
    "    # search for potentially related literature using the listed 3 methods\n",
    "    \n",
    "    # setting headers and proxies\n",
    "    headers = {'User-Agent':'Mozilla/5.0 (Macintosh; Intel Mac OS X 10_11_2) AppleWebKit/601.3.9 (KHTML, like Gecko) Version/9.0.2 Safari/601.3.9'}\n",
    "    http_proxy  = \"http://103.148.39.50:83\"\n",
    "    https_proxy = \"https://47.254.158.115:20201\"\n",
    "    proxy = {\"http\": http_proxy, \"https\": https_proxy}\n",
    "    # end of setting header and proxies\n",
    "\n",
    "    # method 1: search acdemic databases using keywords\n",
    "    LS.search_acad_dbs(acad_dbs, init_urls, headers, proxy)\n",
    "    \n",
    "    '''\n",
    "    # method 2: spanning citations of seed papers\n",
    "    LS.scan_poten_urls(path_urls, on_topic_kws)\n",
    "    \n",
    "    # method 3: search existing connectome databases\n",
    "    LS.search_conne_db(connec_db, connec_db_quries)\n",
    "    \n",
    "    # send .PDF publication of all potential related literatures to ChatPDF.con and ask for relatedness \n",
    "    # then record the answer to the list_of_potential_related_literature.csv as well\n",
    "    # ChatPDF_relatedness(path_urls, chatpdf_related_queries)\n",
    "\n",
    "    # now we have a list of potential related literature and the information about relatedness \n",
    "    # stored in the file \"list_of_potential_related_literature.csv\"\n",
    "    # now we may perform a automatic filtering and manual filtering of the literature\n",
    "\n",
    "    # automatic filtering\n",
    "    #auto_filter(path_potential)\n",
    "\n",
    "    # manual filtering\n",
    "    # manual_filter(path_potential, path_related_urls)\n",
    "    '''"
   ]
  },
  {
   "cell_type": "code",
   "execution_count": null,
   "id": "e4813f66-c983-4ecd-979a-3de2c97c5a18",
   "metadata": {},
   "outputs": [
    {
     "data": {
      "text/plain": [
       "\"\\n# test the redirect of the urls\\nheaders = {'User-Agent':'Mozilla/5.0 (Macintosh; Intel Mac OS X 10_11_2) AppleWebKit/601.3.9 (KHTML, like Gecko) Version/9.0.2 Safari/601.3.9'} \\n\\nresponse_pdf = requests.get('https://doi.org/10.1016/j.neuron.2020.01.005', allow_redirects=True, headers = headers)\\nprint(response_pdf.history)\\nprint(response_pdf.url)\\nresponse_pdf_1 = requests.get('https://linkinghub.elsevier.com/retrieve/pii/S0896627320300052', allow_redirects=True, headers = headers)\\nprint(response_pdf_1.history)\\nprint(response_pdf_1.url)\\n\\n\\nresponse_pdf = requests.get('https://onlinelibrary.wiley.com/doi/10.1111/ejn.13910', headers = headers)\\nsoup_pdf = BeautifulSoup(response_pdf.content,'lxml')\\nprint(soup_pdf)\\n\""
      ]
     },
     "execution_count": 8,
     "metadata": {},
     "output_type": "execute_result"
    }
   ],
   "source": [
    "'''\n",
    "# test the redirect of the urls\n",
    "headers = {'User-Agent':'Mozilla/5.0 (Macintosh; Intel Mac OS X 10_11_2) AppleWebKit/601.3.9 (KHTML, like Gecko) Version/9.0.2 Safari/601.3.9'} \n",
    "\n",
    "response_pdf = requests.get('https://doi.org/10.1016/j.neuron.2020.01.005', allow_redirects=True, headers = headers)\n",
    "print(response_pdf.history)\n",
    "print(response_pdf.url)\n",
    "response_pdf_1 = requests.get('https://linkinghub.elsevier.com/retrieve/pii/S0896627320300052', allow_redirects=True, headers = headers)\n",
    "print(response_pdf_1.history)\n",
    "print(response_pdf_1.url)\n",
    "\n",
    "\n",
    "response_pdf = requests.get('https://onlinelibrary.wiley.com/doi/10.1111/ejn.13910', headers = headers)\n",
    "soup_pdf = BeautifulSoup(response_pdf.content,'lxml')\n",
    "print(soup_pdf)\n",
    "'''"
   ]
  },
  {
   "cell_type": "markdown",
   "id": "9c754a0f-82ec-4c2c-b949-f06ab46d5d25",
   "metadata": {},
   "source": [
    "This is the end of semi-automated literature search."
   ]
  },
  {
   "cell_type": "markdown",
   "id": "a8bf1484-5217-4a14-9c48-ff176f46d57b",
   "metadata": {},
   "source": [
    "Now we have a list of actually related literature stored in list_of_related_literature.txt"
   ]
  },
  {
   "cell_type": "markdown",
   "id": "d1f23abd-ef1d-44b0-8658-3ce0bc705bbd",
   "metadata": {},
   "source": [
    "Next step: we perform a information search on the list of related literature\n",
    "We have a list of actually related literature at the moment, now we need to extract information we need from the literature. We intend to achieve this with a combination of automated searching and manual extraction"
   ]
  },
  {
   "cell_type": "code",
   "execution_count": null,
   "id": "d00a5cd2-5c93-4fa2-ada2-138b94cee0a4",
   "metadata": {
    "tags": []
   },
   "outputs": [],
   "source": [
    "# semi-automated information search"
   ]
  },
  {
   "cell_type": "code",
   "execution_count": null,
   "id": "a8d39c9c-623c-4e2c-b0b4-a44d79b96f88",
   "metadata": {},
   "outputs": [],
   "source": []
  }
 ],
 "metadata": {
  "kernelspec": {
   "display_name": "Python 3 (ipykernel)",
   "language": "python",
   "name": "python3"
  },
  "language_info": {
   "codemirror_mode": {
    "name": "ipython",
    "version": 3
   },
   "file_extension": ".py",
   "mimetype": "text/x-python",
   "name": "python",
   "nbconvert_exporter": "python",
   "pygments_lexer": "ipython3",
   "version": "3.10.12"
  }
 },
 "nbformat": 4,
 "nbformat_minor": 5
}

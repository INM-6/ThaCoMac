{
 "cells": [
  {
   "cell_type": "code",
   "execution_count": 1,
   "id": "647af6b2-2907-4222-b319-960f01de8d4a",
   "metadata": {},
   "outputs": [
    {
     "data": {
      "text/plain": [
       "'\\n# import external packages\\nimport pandas as pd\\nimport re\\nfrom bs4 import BeautifulSoup \\nimport requests\\nimport time\\nimport os\\nimport os.path\\nimport csv\\n'"
      ]
     },
     "execution_count": 1,
     "metadata": {},
     "output_type": "execute_result"
    }
   ],
   "source": [
    "'''\n",
    "# import external packages\n",
    "import pandas as pd\n",
    "import re\n",
    "from bs4 import BeautifulSoup \n",
    "import requests\n",
    "import time\n",
    "import os\n",
    "import os.path\n",
    "import csv\n",
    "'''"
   ]
  },
  {
   "cell_type": "code",
   "execution_count": 2,
   "id": "96a329a8-d411-429f-a9d3-8ed95a517c2c",
   "metadata": {
    "tags": []
   },
   "outputs": [
    {
     "name": "stdout",
     "output_type": "stream",
     "text": [
      "10.1016/j.neuroscience.2007.02.033\n"
     ]
    }
   ],
   "source": [
    "# import internal packages\n",
    "import semi_automated_literature_search as LS\n",
    "import semi_automated_information_search as IS\n",
    "import file_path_management\n",
    "import public_library as PL\n",
    "import automatic_filtering as AF"
   ]
  },
  {
   "cell_type": "markdown",
   "id": "7ed2a1fb-4380-4179-bbdf-8192056b8b4c",
   "metadata": {},
   "source": [
    "In the next cell, we present all parameters that might have an effect on the search results, including:<br>\n",
    "1. searching keyword lexicon\n",
    "2. on-topic keyword lexicon\n",
    "3. academic databases\n",
    "4. seed papers\n",
    "5. connectome database and \n",
    "6. connectome database queries\n",
    "7. ChatPDF queries for relatedness of topic"
   ]
  },
  {
   "cell_type": "code",
   "execution_count": 3,
   "id": "5b6b2882-23e5-4670-8359-3d7367e1107b",
   "metadata": {
    "tags": []
   },
   "outputs": [],
   "source": [
    "# parameters\n",
    "\n",
    "# searching keyword lexicon\n",
    "# (macaque OR Macaque) AND (thalamocortical OR thalamocortical OR corticothalamic OR 'cortico-thalamic' OR thalamus OR cortex)\n",
    "search_kws_lexicon = 'macaque AND (thalamus OR cortex OR thalamocortical OR thalamo-cortical OR corticothalamic OR cortico-thalamic)'\n",
    "\n",
    "# academic databases\n",
    "# Semantic Scholar: 'https://www.semanticscholar.org/'\n",
    "# Google Scholar: 'https://scholar.google.com/'\n",
    "# Web of Science: 'https://www.webofscience.com/wos/woscc/basic-search' # can be expoted to excel file\n",
    "# PubMed Central PMC: 'https://www.ncbi.nlm.nih.gov/pmc/' # can be exported to .csv file and abstract.txt file\n",
    "# Europe PMC = 'https://europepmc.org/' # can be exported to .csv file or abstract and full open access file .xml\n",
    "acad_dbs = ['Semantic Scholar', 'Google Scholar', 'Web of Science', 'PubMed_Central_PMC', 'Europe_PMC']\n",
    "\n",
    "# initial urls for specified searching keyword lexicon and all academic databases\n",
    "init_urls = {'gs': 'https://scholar.google.com/scholar?start=0&q=%22thalamus%22+OR+%22thalamocortical%22+OR+%22thalamo-cortical%22+%22macaque%22&hl=en&as_sdt=1,5',\n",
    "            'wos': '',\n",
    "            'pubmed': '',\n",
    "            'eupmc': ''\n",
    "            }\n",
    "\n",
    "# on-topic keyword lexicon\n",
    "on_topic_kws = ['thalamocortical', 'thalamo-cortical', 'corticothalamic', 'cortico-thalamic',\n",
    "                'tracing', 'tracer', 'tract tracing', 'tract-tracing', 'axonal tracing', 'neural anatomical tracing', \n",
    "                'connection', 'projection', 'connectivity', 'connectome', \n",
    "                'thalamus', 'cortex']\n",
    "\n",
    "# seed papers specification\n",
    "seed_papers = []\n",
    "\n",
    "# connectome database and queries specification\n",
    "# we search the CoCoMac\n",
    "connec_db = ''\n",
    "connec_db_quries = []\n",
    "\n",
    "# ChatGPT, queries for relatedness of topic\n",
    "ChatGPT_related_queries = ['Does the given text include information of thalamocotical connection?', \n",
    "                           'Does the given text include information of connection between thalamus and cortex?']\n",
    "\n",
    "# meta categories, keywords, and correspond queries\n",
    "meta_categ = ['DOI', 'Publication_link', 'Authors', 'Year', 'Country', 'Affiliation', \n",
    "              'Title', 'Abstract', 'Keywords', 'Thalamic_parcellation_scheme', 'Cortical_parcellation_scheme', \n",
    "              'Thalamic_area_focused', 'Cortical_area_focused',\n",
    "              'Steriotactic_axis', 'Type_of_data']\n",
    "meta_categ_kws = []\n",
    "meta_categ_quries = []"
   ]
  },
  {
   "cell_type": "code",
   "execution_count": 4,
   "id": "91015aa8-11e2-439f-88e0-e73bec719af0",
   "metadata": {
    "tags": []
   },
   "outputs": [
    {
     "name": "stdout",
     "output_type": "stream",
     "text": [
      "Yes\n"
     ]
    }
   ],
   "source": [
    "# run some test\n",
    "init_url = init_urls['gs']\n",
    "page_url = init_url.split('?start=')[0] + '?start=' + str(0) + '&q=' + init_url.split('?start=')[1].split('&q=')[1]\n",
    "if page_url == init_urls['gs']:\n",
    "    print('Yes')\n",
    "# search a page"
   ]
  },
  {
   "cell_type": "code",
   "execution_count": 5,
   "id": "6182040b-10b4-41e3-a34e-1a657ffd53a6",
   "metadata": {
    "tags": []
   },
   "outputs": [
    {
     "name": "stdout",
     "output_type": "stream",
     "text": [
      "x\n",
      "\n"
     ]
    }
   ],
   "source": [
    "with open('connectome_database_paper_list.txt', 'r') as url_file:\n",
    "    # append text at the end of file\n",
    "    for line in url_file.readlines():\n",
    "        print(line)"
   ]
  },
  {
   "cell_type": "code",
   "execution_count": 6,
   "id": "1834933c-53c6-4980-a0be-60b0861bbe22",
   "metadata": {
    "tags": []
   },
   "outputs": [],
   "source": [
    "# all the file paths in file_path_management.py\n",
    "# path_poten_urls\n",
    "# path_poten_csv\n",
    "# path_related_urls\n",
    "# path_related_csv\n",
    "# pdf_folder_path\n",
    "# seed_paper_urls\n",
    "# connec_db_urls"
   ]
  },
  {
   "cell_type": "code",
   "execution_count": 7,
   "id": "f9df256b-106e-4d5d-847e-b068fbade613",
   "metadata": {
    "tags": []
   },
   "outputs": [
    {
     "name": "stdout",
     "output_type": "stream",
     "text": [
      "The specified academic database: Semantic Scholar is not supported by this function.\n",
      "Plese choose one of the following databases:\n",
      "Google Scholar\n",
      "Web of Science\n",
      "PubMed_Central_PMC\n",
      "Europe_PMC\n",
      "Searching Google Scholar...\n"
     ]
    },
    {
     "ename": "ProxyError",
     "evalue": "HTTPSConnectionPool(host='scholar.google.com', port=443): Max retries exceeded with url: /scholar?start=0&q=%22thalamus%22+OR+%22thalamocortical%22+OR+%22thalamo-cortical%22+%22macaque%22&hl=en&as_sdt=1,5 (Caused by ProxyError('Cannot connect to proxy.', NewConnectionError('<urllib3.connection.HTTPSConnection object at 0x7f937db9b6d0>: Failed to establish a new connection: [Errno 8] nodename nor servname provided, or not known')))",
     "output_type": "error",
     "traceback": [
      "\u001b[0;31m---------------------------------------------------------------------------\u001b[0m",
      "\u001b[0;31mgaierror\u001b[0m                                  Traceback (most recent call last)",
      "File \u001b[0;32m~/anaconda3/envs/myenv/lib/python3.10/site-packages/urllib3/connection.py:174\u001b[0m, in \u001b[0;36mHTTPConnection._new_conn\u001b[0;34m(self)\u001b[0m\n\u001b[1;32m    173\u001b[0m \u001b[39mtry\u001b[39;00m:\n\u001b[0;32m--> 174\u001b[0m     conn \u001b[39m=\u001b[39m connection\u001b[39m.\u001b[39;49mcreate_connection(\n\u001b[1;32m    175\u001b[0m         (\u001b[39mself\u001b[39;49m\u001b[39m.\u001b[39;49m_dns_host, \u001b[39mself\u001b[39;49m\u001b[39m.\u001b[39;49mport), \u001b[39mself\u001b[39;49m\u001b[39m.\u001b[39;49mtimeout, \u001b[39m*\u001b[39;49m\u001b[39m*\u001b[39;49mextra_kw\n\u001b[1;32m    176\u001b[0m     )\n\u001b[1;32m    178\u001b[0m \u001b[39mexcept\u001b[39;00m SocketTimeout:\n",
      "File \u001b[0;32m~/anaconda3/envs/myenv/lib/python3.10/site-packages/urllib3/util/connection.py:72\u001b[0m, in \u001b[0;36mcreate_connection\u001b[0;34m(address, timeout, source_address, socket_options)\u001b[0m\n\u001b[1;32m     68\u001b[0m     \u001b[39mreturn\u001b[39;00m six\u001b[39m.\u001b[39mraise_from(\n\u001b[1;32m     69\u001b[0m         LocationParseError(\u001b[39mu\u001b[39m\u001b[39m\"\u001b[39m\u001b[39m'\u001b[39m\u001b[39m%s\u001b[39;00m\u001b[39m'\u001b[39m\u001b[39m, label empty or too long\u001b[39m\u001b[39m\"\u001b[39m \u001b[39m%\u001b[39m host), \u001b[39mNone\u001b[39;00m\n\u001b[1;32m     70\u001b[0m     )\n\u001b[0;32m---> 72\u001b[0m \u001b[39mfor\u001b[39;00m res \u001b[39min\u001b[39;00m socket\u001b[39m.\u001b[39;49mgetaddrinfo(host, port, family, socket\u001b[39m.\u001b[39;49mSOCK_STREAM):\n\u001b[1;32m     73\u001b[0m     af, socktype, proto, canonname, sa \u001b[39m=\u001b[39m res\n",
      "File \u001b[0;32m~/anaconda3/envs/myenv/lib/python3.10/socket.py:955\u001b[0m, in \u001b[0;36mgetaddrinfo\u001b[0;34m(host, port, family, type, proto, flags)\u001b[0m\n\u001b[1;32m    954\u001b[0m addrlist \u001b[39m=\u001b[39m []\n\u001b[0;32m--> 955\u001b[0m \u001b[39mfor\u001b[39;00m res \u001b[39min\u001b[39;00m _socket\u001b[39m.\u001b[39;49mgetaddrinfo(host, port, family, \u001b[39mtype\u001b[39;49m, proto, flags):\n\u001b[1;32m    956\u001b[0m     af, socktype, proto, canonname, sa \u001b[39m=\u001b[39m res\n",
      "\u001b[0;31mgaierror\u001b[0m: [Errno 8] nodename nor servname provided, or not known",
      "\nDuring handling of the above exception, another exception occurred:\n",
      "\u001b[0;31mNewConnectionError\u001b[0m                        Traceback (most recent call last)",
      "File \u001b[0;32m~/anaconda3/envs/myenv/lib/python3.10/site-packages/urllib3/connectionpool.py:711\u001b[0m, in \u001b[0;36mHTTPConnectionPool.urlopen\u001b[0;34m(self, method, url, body, headers, retries, redirect, assert_same_host, timeout, pool_timeout, release_conn, chunked, body_pos, **response_kw)\u001b[0m\n\u001b[1;32m    710\u001b[0m \u001b[39mif\u001b[39;00m is_new_proxy_conn \u001b[39mand\u001b[39;00m http_tunnel_required:\n\u001b[0;32m--> 711\u001b[0m     \u001b[39mself\u001b[39;49m\u001b[39m.\u001b[39;49m_prepare_proxy(conn)\n\u001b[1;32m    713\u001b[0m \u001b[39m# Make the request on the httplib connection object.\u001b[39;00m\n",
      "File \u001b[0;32m~/anaconda3/envs/myenv/lib/python3.10/site-packages/urllib3/connectionpool.py:1007\u001b[0m, in \u001b[0;36mHTTPSConnectionPool._prepare_proxy\u001b[0;34m(self, conn)\u001b[0m\n\u001b[1;32m   1005\u001b[0m     conn\u001b[39m.\u001b[39mtls_in_tls_required \u001b[39m=\u001b[39m \u001b[39mTrue\u001b[39;00m\n\u001b[0;32m-> 1007\u001b[0m conn\u001b[39m.\u001b[39;49mconnect()\n",
      "File \u001b[0;32m~/anaconda3/envs/myenv/lib/python3.10/site-packages/urllib3/connection.py:363\u001b[0m, in \u001b[0;36mHTTPSConnection.connect\u001b[0;34m(self)\u001b[0m\n\u001b[1;32m    361\u001b[0m \u001b[39mdef\u001b[39;00m \u001b[39mconnect\u001b[39m(\u001b[39mself\u001b[39m):\n\u001b[1;32m    362\u001b[0m     \u001b[39m# Add certificate verification\u001b[39;00m\n\u001b[0;32m--> 363\u001b[0m     \u001b[39mself\u001b[39m\u001b[39m.\u001b[39msock \u001b[39m=\u001b[39m conn \u001b[39m=\u001b[39m \u001b[39mself\u001b[39;49m\u001b[39m.\u001b[39;49m_new_conn()\n\u001b[1;32m    364\u001b[0m     hostname \u001b[39m=\u001b[39m \u001b[39mself\u001b[39m\u001b[39m.\u001b[39mhost\n",
      "File \u001b[0;32m~/anaconda3/envs/myenv/lib/python3.10/site-packages/urllib3/connection.py:186\u001b[0m, in \u001b[0;36mHTTPConnection._new_conn\u001b[0;34m(self)\u001b[0m\n\u001b[1;32m    185\u001b[0m \u001b[39mexcept\u001b[39;00m SocketError \u001b[39mas\u001b[39;00m e:\n\u001b[0;32m--> 186\u001b[0m     \u001b[39mraise\u001b[39;00m NewConnectionError(\n\u001b[1;32m    187\u001b[0m         \u001b[39mself\u001b[39m, \u001b[39m\"\u001b[39m\u001b[39mFailed to establish a new connection: \u001b[39m\u001b[39m%s\u001b[39;00m\u001b[39m\"\u001b[39m \u001b[39m%\u001b[39m e\n\u001b[1;32m    188\u001b[0m     )\n\u001b[1;32m    190\u001b[0m \u001b[39mreturn\u001b[39;00m conn\n",
      "\u001b[0;31mNewConnectionError\u001b[0m: <urllib3.connection.HTTPSConnection object at 0x7f937db9b6d0>: Failed to establish a new connection: [Errno 8] nodename nor servname provided, or not known",
      "\nDuring handling of the above exception, another exception occurred:\n",
      "\u001b[0;31mMaxRetryError\u001b[0m                             Traceback (most recent call last)",
      "File \u001b[0;32m~/anaconda3/envs/myenv/lib/python3.10/site-packages/requests/adapters.py:487\u001b[0m, in \u001b[0;36mHTTPAdapter.send\u001b[0;34m(self, request, stream, timeout, verify, cert, proxies)\u001b[0m\n\u001b[1;32m    486\u001b[0m \u001b[39mtry\u001b[39;00m:\n\u001b[0;32m--> 487\u001b[0m     resp \u001b[39m=\u001b[39m conn\u001b[39m.\u001b[39;49murlopen(\n\u001b[1;32m    488\u001b[0m         method\u001b[39m=\u001b[39;49mrequest\u001b[39m.\u001b[39;49mmethod,\n\u001b[1;32m    489\u001b[0m         url\u001b[39m=\u001b[39;49murl,\n\u001b[1;32m    490\u001b[0m         body\u001b[39m=\u001b[39;49mrequest\u001b[39m.\u001b[39;49mbody,\n\u001b[1;32m    491\u001b[0m         headers\u001b[39m=\u001b[39;49mrequest\u001b[39m.\u001b[39;49mheaders,\n\u001b[1;32m    492\u001b[0m         redirect\u001b[39m=\u001b[39;49m\u001b[39mFalse\u001b[39;49;00m,\n\u001b[1;32m    493\u001b[0m         assert_same_host\u001b[39m=\u001b[39;49m\u001b[39mFalse\u001b[39;49;00m,\n\u001b[1;32m    494\u001b[0m         preload_content\u001b[39m=\u001b[39;49m\u001b[39mFalse\u001b[39;49;00m,\n\u001b[1;32m    495\u001b[0m         decode_content\u001b[39m=\u001b[39;49m\u001b[39mFalse\u001b[39;49;00m,\n\u001b[1;32m    496\u001b[0m         retries\u001b[39m=\u001b[39;49m\u001b[39mself\u001b[39;49m\u001b[39m.\u001b[39;49mmax_retries,\n\u001b[1;32m    497\u001b[0m         timeout\u001b[39m=\u001b[39;49mtimeout,\n\u001b[1;32m    498\u001b[0m         chunked\u001b[39m=\u001b[39;49mchunked,\n\u001b[1;32m    499\u001b[0m     )\n\u001b[1;32m    501\u001b[0m \u001b[39mexcept\u001b[39;00m (ProtocolError, \u001b[39mOSError\u001b[39;00m) \u001b[39mas\u001b[39;00m err:\n",
      "File \u001b[0;32m~/anaconda3/envs/myenv/lib/python3.10/site-packages/urllib3/connectionpool.py:798\u001b[0m, in \u001b[0;36mHTTPConnectionPool.urlopen\u001b[0;34m(self, method, url, body, headers, retries, redirect, assert_same_host, timeout, pool_timeout, release_conn, chunked, body_pos, **response_kw)\u001b[0m\n\u001b[1;32m    796\u001b[0m     e \u001b[39m=\u001b[39m ProtocolError(\u001b[39m\"\u001b[39m\u001b[39mConnection aborted.\u001b[39m\u001b[39m\"\u001b[39m, e)\n\u001b[0;32m--> 798\u001b[0m retries \u001b[39m=\u001b[39m retries\u001b[39m.\u001b[39;49mincrement(\n\u001b[1;32m    799\u001b[0m     method, url, error\u001b[39m=\u001b[39;49me, _pool\u001b[39m=\u001b[39;49m\u001b[39mself\u001b[39;49m, _stacktrace\u001b[39m=\u001b[39;49msys\u001b[39m.\u001b[39;49mexc_info()[\u001b[39m2\u001b[39;49m]\n\u001b[1;32m    800\u001b[0m )\n\u001b[1;32m    801\u001b[0m retries\u001b[39m.\u001b[39msleep()\n",
      "File \u001b[0;32m~/anaconda3/envs/myenv/lib/python3.10/site-packages/urllib3/util/retry.py:592\u001b[0m, in \u001b[0;36mRetry.increment\u001b[0;34m(self, method, url, response, error, _pool, _stacktrace)\u001b[0m\n\u001b[1;32m    591\u001b[0m \u001b[39mif\u001b[39;00m new_retry\u001b[39m.\u001b[39mis_exhausted():\n\u001b[0;32m--> 592\u001b[0m     \u001b[39mraise\u001b[39;00m MaxRetryError(_pool, url, error \u001b[39mor\u001b[39;00m ResponseError(cause))\n\u001b[1;32m    594\u001b[0m log\u001b[39m.\u001b[39mdebug(\u001b[39m\"\u001b[39m\u001b[39mIncremented Retry for (url=\u001b[39m\u001b[39m'\u001b[39m\u001b[39m%s\u001b[39;00m\u001b[39m'\u001b[39m\u001b[39m): \u001b[39m\u001b[39m%r\u001b[39;00m\u001b[39m\"\u001b[39m, url, new_retry)\n",
      "\u001b[0;31mMaxRetryError\u001b[0m: HTTPSConnectionPool(host='scholar.google.com', port=443): Max retries exceeded with url: /scholar?start=0&q=%22thalamus%22+OR+%22thalamocortical%22+OR+%22thalamo-cortical%22+%22macaque%22&hl=en&as_sdt=1,5 (Caused by ProxyError('Cannot connect to proxy.', NewConnectionError('<urllib3.connection.HTTPSConnection object at 0x7f937db9b6d0>: Failed to establish a new connection: [Errno 8] nodename nor servname provided, or not known')))",
      "\nDuring handling of the above exception, another exception occurred:\n",
      "\u001b[0;31mProxyError\u001b[0m                                Traceback (most recent call last)",
      "Cell \u001b[0;32mIn[7], line 10\u001b[0m\n\u001b[1;32m      8\u001b[0m proxy \u001b[39m=\u001b[39m {\u001b[39m'\u001b[39m\u001b[39mhttp\u001b[39m\u001b[39m'\u001b[39m: \u001b[39m'\u001b[39m\u001b[39mhttp://proxy.example.com:8080\u001b[39m\u001b[39m'\u001b[39m, \u001b[39m'\u001b[39m\u001b[39mhttps\u001b[39m\u001b[39m'\u001b[39m: \u001b[39m'\u001b[39m\u001b[39mhttp://secureproxy.example.com:8090\u001b[39m\u001b[39m'\u001b[39m}\n\u001b[1;32m      9\u001b[0m \u001b[39m# method 1: search acdemic databases using keywords\u001b[39;00m\n\u001b[0;32m---> 10\u001b[0m LS\u001b[39m.\u001b[39;49msearch_acad_dbs(acad_dbs, init_urls, headers, proxy)\n\u001b[1;32m     12\u001b[0m \u001b[39m\u001b[39m\u001b[39m'''\u001b[39;00m\n\u001b[1;32m     13\u001b[0m \u001b[39m# method 2: spanning citations of seed papers\u001b[39;00m\n\u001b[1;32m     14\u001b[0m \u001b[39mLS.scan_poten_urls(path_urls, on_topic_kws)\u001b[39;00m\n\u001b[0;32m   (...)\u001b[0m\n\u001b[1;32m     31\u001b[0m \u001b[39m# manual_filter(path_potential, path_related_urls)\u001b[39;00m\n\u001b[1;32m     32\u001b[0m \u001b[39m'''\u001b[39;00m\n",
      "File \u001b[0;32m~/myProjects/didihou_master_project/semi_automated_literature_search.py:65\u001b[0m, in \u001b[0;36msearch_acad_dbs\u001b[0;34m(acad_dbs, init_urls, headers, proxy)\u001b[0m\n\u001b[1;32m     63\u001b[0m \u001b[39mif\u001b[39;00m acad_db \u001b[39m==\u001b[39m \u001b[39m'\u001b[39m\u001b[39mGoogle Scholar\u001b[39m\u001b[39m'\u001b[39m:\n\u001b[1;32m     64\u001b[0m     \u001b[39mprint\u001b[39m(\u001b[39m\"\u001b[39m\u001b[39mSearching Google Scholar...\u001b[39m\u001b[39m\"\u001b[39m)\n\u001b[0;32m---> 65\u001b[0m     search_google_scholar(init_urls[\u001b[39m'\u001b[39;49m\u001b[39mgs\u001b[39;49m\u001b[39m'\u001b[39;49m], headers, proxy)\n\u001b[1;32m     66\u001b[0m \u001b[39melif\u001b[39;00m acad_db \u001b[39m==\u001b[39m \u001b[39m'\u001b[39m\u001b[39mWeb of Science\u001b[39m\u001b[39m'\u001b[39m:\n\u001b[1;32m     67\u001b[0m     \u001b[39mprint\u001b[39m(\u001b[39m\"\u001b[39m\u001b[39mSearching Web of Science...\u001b[39m\u001b[39m\"\u001b[39m)\n",
      "File \u001b[0;32m~/myProjects/didihou_master_project/semi_automated_literature_search.py:15\u001b[0m, in \u001b[0;36msearch_google_scholar\u001b[0;34m(init_url, headers, proxy)\u001b[0m\n\u001b[1;32m     13\u001b[0m first_page \u001b[39m=\u001b[39m init_url\n\u001b[1;32m     14\u001b[0m time\u001b[39m.\u001b[39msleep(\u001b[39m2\u001b[39m)\n\u001b[0;32m---> 15\u001b[0m response \u001b[39m=\u001b[39m requests\u001b[39m.\u001b[39;49mget(first_page, headers \u001b[39m=\u001b[39;49m headers, proxies \u001b[39m=\u001b[39;49m proxy)\n\u001b[1;32m     16\u001b[0m soup \u001b[39m=\u001b[39m BeautifulSoup(response\u001b[39m.\u001b[39mcontent,\u001b[39m'\u001b[39m\u001b[39mlxml\u001b[39m\u001b[39m'\u001b[39m)\n\u001b[1;32m     17\u001b[0m \u001b[39mprint\u001b[39m(soup)\n",
      "File \u001b[0;32m~/anaconda3/envs/myenv/lib/python3.10/site-packages/requests/api.py:73\u001b[0m, in \u001b[0;36mget\u001b[0;34m(url, params, **kwargs)\u001b[0m\n\u001b[1;32m     62\u001b[0m \u001b[39mdef\u001b[39;00m \u001b[39mget\u001b[39m(url, params\u001b[39m=\u001b[39m\u001b[39mNone\u001b[39;00m, \u001b[39m*\u001b[39m\u001b[39m*\u001b[39mkwargs):\n\u001b[1;32m     63\u001b[0m \u001b[39m    \u001b[39m\u001b[39mr\u001b[39m\u001b[39m\"\"\"Sends a GET request.\u001b[39;00m\n\u001b[1;32m     64\u001b[0m \n\u001b[1;32m     65\u001b[0m \u001b[39m    :param url: URL for the new :class:`Request` object.\u001b[39;00m\n\u001b[0;32m   (...)\u001b[0m\n\u001b[1;32m     70\u001b[0m \u001b[39m    :rtype: requests.Response\u001b[39;00m\n\u001b[1;32m     71\u001b[0m \u001b[39m    \"\"\"\u001b[39;00m\n\u001b[0;32m---> 73\u001b[0m     \u001b[39mreturn\u001b[39;00m request(\u001b[39m\"\u001b[39;49m\u001b[39mget\u001b[39;49m\u001b[39m\"\u001b[39;49m, url, params\u001b[39m=\u001b[39;49mparams, \u001b[39m*\u001b[39;49m\u001b[39m*\u001b[39;49mkwargs)\n",
      "File \u001b[0;32m~/anaconda3/envs/myenv/lib/python3.10/site-packages/requests/api.py:59\u001b[0m, in \u001b[0;36mrequest\u001b[0;34m(method, url, **kwargs)\u001b[0m\n\u001b[1;32m     55\u001b[0m \u001b[39m# By using the 'with' statement we are sure the session is closed, thus we\u001b[39;00m\n\u001b[1;32m     56\u001b[0m \u001b[39m# avoid leaving sockets open which can trigger a ResourceWarning in some\u001b[39;00m\n\u001b[1;32m     57\u001b[0m \u001b[39m# cases, and look like a memory leak in others.\u001b[39;00m\n\u001b[1;32m     58\u001b[0m \u001b[39mwith\u001b[39;00m sessions\u001b[39m.\u001b[39mSession() \u001b[39mas\u001b[39;00m session:\n\u001b[0;32m---> 59\u001b[0m     \u001b[39mreturn\u001b[39;00m session\u001b[39m.\u001b[39;49mrequest(method\u001b[39m=\u001b[39;49mmethod, url\u001b[39m=\u001b[39;49murl, \u001b[39m*\u001b[39;49m\u001b[39m*\u001b[39;49mkwargs)\n",
      "File \u001b[0;32m~/anaconda3/envs/myenv/lib/python3.10/site-packages/requests/sessions.py:587\u001b[0m, in \u001b[0;36mSession.request\u001b[0;34m(self, method, url, params, data, headers, cookies, files, auth, timeout, allow_redirects, proxies, hooks, stream, verify, cert, json)\u001b[0m\n\u001b[1;32m    582\u001b[0m send_kwargs \u001b[39m=\u001b[39m {\n\u001b[1;32m    583\u001b[0m     \u001b[39m\"\u001b[39m\u001b[39mtimeout\u001b[39m\u001b[39m\"\u001b[39m: timeout,\n\u001b[1;32m    584\u001b[0m     \u001b[39m\"\u001b[39m\u001b[39mallow_redirects\u001b[39m\u001b[39m\"\u001b[39m: allow_redirects,\n\u001b[1;32m    585\u001b[0m }\n\u001b[1;32m    586\u001b[0m send_kwargs\u001b[39m.\u001b[39mupdate(settings)\n\u001b[0;32m--> 587\u001b[0m resp \u001b[39m=\u001b[39m \u001b[39mself\u001b[39;49m\u001b[39m.\u001b[39;49msend(prep, \u001b[39m*\u001b[39;49m\u001b[39m*\u001b[39;49msend_kwargs)\n\u001b[1;32m    589\u001b[0m \u001b[39mreturn\u001b[39;00m resp\n",
      "File \u001b[0;32m~/anaconda3/envs/myenv/lib/python3.10/site-packages/requests/sessions.py:701\u001b[0m, in \u001b[0;36mSession.send\u001b[0;34m(self, request, **kwargs)\u001b[0m\n\u001b[1;32m    698\u001b[0m start \u001b[39m=\u001b[39m preferred_clock()\n\u001b[1;32m    700\u001b[0m \u001b[39m# Send the request\u001b[39;00m\n\u001b[0;32m--> 701\u001b[0m r \u001b[39m=\u001b[39m adapter\u001b[39m.\u001b[39;49msend(request, \u001b[39m*\u001b[39;49m\u001b[39m*\u001b[39;49mkwargs)\n\u001b[1;32m    703\u001b[0m \u001b[39m# Total elapsed time of the request (approximately)\u001b[39;00m\n\u001b[1;32m    704\u001b[0m elapsed \u001b[39m=\u001b[39m preferred_clock() \u001b[39m-\u001b[39m start\n",
      "File \u001b[0;32m~/anaconda3/envs/myenv/lib/python3.10/site-packages/requests/adapters.py:514\u001b[0m, in \u001b[0;36mHTTPAdapter.send\u001b[0;34m(self, request, stream, timeout, verify, cert, proxies)\u001b[0m\n\u001b[1;32m    511\u001b[0m     \u001b[39mraise\u001b[39;00m RetryError(e, request\u001b[39m=\u001b[39mrequest)\n\u001b[1;32m    513\u001b[0m \u001b[39mif\u001b[39;00m \u001b[39misinstance\u001b[39m(e\u001b[39m.\u001b[39mreason, _ProxyError):\n\u001b[0;32m--> 514\u001b[0m     \u001b[39mraise\u001b[39;00m ProxyError(e, request\u001b[39m=\u001b[39mrequest)\n\u001b[1;32m    516\u001b[0m \u001b[39mif\u001b[39;00m \u001b[39misinstance\u001b[39m(e\u001b[39m.\u001b[39mreason, _SSLError):\n\u001b[1;32m    517\u001b[0m     \u001b[39m# This branch is for urllib3 v1.22 and later.\u001b[39;00m\n\u001b[1;32m    518\u001b[0m     \u001b[39mraise\u001b[39;00m SSLError(e, request\u001b[39m=\u001b[39mrequest)\n",
      "\u001b[0;31mProxyError\u001b[0m: HTTPSConnectionPool(host='scholar.google.com', port=443): Max retries exceeded with url: /scholar?start=0&q=%22thalamus%22+OR+%22thalamocortical%22+OR+%22thalamo-cortical%22+%22macaque%22&hl=en&as_sdt=1,5 (Caused by ProxyError('Cannot connect to proxy.', NewConnectionError('<urllib3.connection.HTTPSConnection object at 0x7f937db9b6d0>: Failed to establish a new connection: [Errno 8] nodename nor servname provided, or not known')))"
     ]
    }
   ],
   "source": [
    "# main program\n",
    "if __name__ == \"__main__\":\n",
    "    # first we need to search all related literature that might include data or information of thalamocortical connections\n",
    "    # search for potentially related literature using the listed 3 methods\n",
    "    \n",
    "    # headers simulating a broswer so that the web scraping won't get blocked\n",
    "    headers = {'User-Agent':'Mozilla/5.0 (Macintosh; Intel Mac OS X 10_11_2) AppleWebKit/601.3.9 (KHTML, like Gecko) Version/9.0.2 Safari/601.3.9'}\n",
    "    proxy = {'http': 'http://66.29.154.103', 'https': 'http://203.190.113.194'}\n",
    "    # method 1: search acdemic databases using keywords\n",
    "    LS.search_acad_dbs(acad_dbs, init_urls, headers, proxy)\n",
    "    \n",
    "    '''\n",
    "    # method 2: spanning citations of seed papers\n",
    "    LS.scan_poten_urls(path_urls, on_topic_kws)\n",
    "    \n",
    "    # method 3: search existing connectome databases\n",
    "    LS.search_conne_db(connec_db, connec_db_quries)\n",
    "    \n",
    "    # send .PDF publication of all potential related literatures to ChatPDF.con and ask for relatedness \n",
    "    # then record the answer to the list_of_potential_related_literature.csv as well\n",
    "    # ChatPDF_relatedness(path_urls, chatpdf_related_queries)\n",
    "\n",
    "    # now we have a list of potential related literature and the information about relatedness \n",
    "    # stored in the file \"list_of_potential_related_literature.csv\"\n",
    "    # now we may perform a automatic filtering and manual filtering of the literature\n",
    "\n",
    "    # automatic filtering\n",
    "    #auto_filter(path_potential)\n",
    "\n",
    "    # manual filtering\n",
    "    # manual_filter(path_potential, path_related_urls)\n",
    "    '''"
   ]
  },
  {
   "cell_type": "code",
   "execution_count": null,
   "id": "e4813f66-c983-4ecd-979a-3de2c97c5a18",
   "metadata": {},
   "outputs": [],
   "source": [
    "'''\n",
    "# test the redirect of the urls\n",
    "headers = {'User-Agent':'Mozilla/5.0 (Macintosh; Intel Mac OS X 10_11_2) AppleWebKit/601.3.9 (KHTML, like Gecko) Version/9.0.2 Safari/601.3.9'} \n",
    "\n",
    "response_pdf = requests.get('https://doi.org/10.1016/j.neuron.2020.01.005', allow_redirects=True, headers = headers)\n",
    "print(response_pdf.history)\n",
    "print(response_pdf.url)\n",
    "response_pdf_1 = requests.get('https://linkinghub.elsevier.com/retrieve/pii/S0896627320300052', allow_redirects=True, headers = headers)\n",
    "print(response_pdf_1.history)\n",
    "print(response_pdf_1.url)\n",
    "\n",
    "\n",
    "response_pdf = requests.get('https://onlinelibrary.wiley.com/doi/10.1111/ejn.13910', headers = headers)\n",
    "soup_pdf = BeautifulSoup(response_pdf.content,'lxml')\n",
    "print(soup_pdf)\n",
    "'''"
   ]
  },
  {
   "cell_type": "markdown",
   "id": "9c754a0f-82ec-4c2c-b949-f06ab46d5d25",
   "metadata": {},
   "source": [
    "This is the end of semi-automated literature search."
   ]
  },
  {
   "cell_type": "markdown",
   "id": "a8bf1484-5217-4a14-9c48-ff176f46d57b",
   "metadata": {},
   "source": [
    "Now we have a list of actually related literature stored in list_of_related_literature.txt"
   ]
  },
  {
   "cell_type": "markdown",
   "id": "d1f23abd-ef1d-44b0-8658-3ce0bc705bbd",
   "metadata": {},
   "source": [
    "Next step: we perform a information search on the list of related literature\n",
    "We have a list of actually related literature at the moment, now we need to extract information we need from the literature. We intend to achieve this with a combination of automated searching and manual extraction"
   ]
  },
  {
   "cell_type": "code",
   "execution_count": null,
   "id": "d00a5cd2-5c93-4fa2-ada2-138b94cee0a4",
   "metadata": {
    "tags": []
   },
   "outputs": [],
   "source": [
    "# semi-automated information search"
   ]
  },
  {
   "cell_type": "code",
   "execution_count": null,
   "id": "a8d39c9c-623c-4e2c-b0b4-a44d79b96f88",
   "metadata": {},
   "outputs": [],
   "source": []
  }
 ],
 "metadata": {
  "kernelspec": {
   "display_name": "Python 3 (ipykernel)",
   "language": "python",
   "name": "python3"
  },
  "language_info": {
   "codemirror_mode": {
    "name": "ipython",
    "version": 3
   },
   "file_extension": ".py",
   "mimetype": "text/x-python",
   "name": "python",
   "nbconvert_exporter": "python",
   "pygments_lexer": "ipython3",
   "version": "3.10.12"
  }
 },
 "nbformat": 4,
 "nbformat_minor": 5
}

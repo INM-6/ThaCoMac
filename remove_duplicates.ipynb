{
 "cells": [
  {
   "cell_type": "code",
   "execution_count": 14,
   "metadata": {},
   "outputs": [
    {
     "name": "stdout",
     "output_type": "stream",
     "text": [
      "21\n",
      "21\n"
     ]
    }
   ],
   "source": [
    "# Read the duplicates.txt file, remove duplicates and write to a new file\n",
    "\n",
    "# read the content and seperate by \\n into a list\n",
    "fn = \"./duplicates.txt\"\n",
    "with open(fn) as f:\n",
    "    lines = f.read().splitlines()\n",
    "print(len(lines))\n",
    "\n",
    "# remove duplicates\n",
    "lines = list(dict.fromkeys(lines))\n",
    "print(len(lines))\n",
    "\n",
    "# merge the list into a string, seperate by \\n and write to a file\n",
    "with open(fn, 'w') as f:\n",
    "    for item in lines:\n",
    "        f.write(\"%s\\n\" % item)"
   ]
  }
 ],
 "metadata": {
  "kernelspec": {
   "display_name": "myenv",
   "language": "python",
   "name": "python3"
  },
  "language_info": {
   "codemirror_mode": {
    "name": "ipython",
    "version": 3
   },
   "file_extension": ".py",
   "mimetype": "text/x-python",
   "name": "python",
   "nbconvert_exporter": "python",
   "pygments_lexer": "ipython3",
   "version": "3.10.13"
  }
 },
 "nbformat": 4,
 "nbformat_minor": 2
}

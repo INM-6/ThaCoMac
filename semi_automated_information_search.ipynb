{
 "cells": [
  {
   "cell_type": "markdown",
   "id": "ab08f038-3899-4631-90a7-510054e7a8fe",
   "metadata": {},
   "source": [
    "We have a list of actually related literature at the moment, now we need to extract information we need from the literature. We intend to achieve this with a combination of automated searching and manual extraction"
   ]
  },
  {
   "cell_type": "code",
   "execution_count": null,
   "id": "b77d60e5-0949-4d59-b6bc-4abd552f158f",
   "metadata": {},
   "outputs": [],
   "source": [
    "# write the information of a literature as a row to .csv file 'summary_table_of_related_studies.csv'\n",
    "def add_rows_to_df(df_liter, i, doi, pub_link, authors, title):\n",
    "    new_row = {'order': i,\n",
    "               'DOI':doi,\n",
    "               'Publication_link':pub_link,\n",
    "               'Autours':authors,\n",
    "               'Title':title}\n",
    "    df_liter = pd.concat([df_liter, pd.DataFrame([new_row])], ignore_index=False)\n",
    "    # df_liter = df_liter.append(new_row, ignore_index=False)\n",
    "    # df_lite = pd.DataFrame(lite, columns = headers, index = None)\n",
    "    # print(df_liter)\n",
    "    return df_liter\n",
    "\n",
    "# file path\n",
    "path = '/Users/didihou/myProjects/didihou_master_project/summary_table_of_related_studies.csv'\n",
    "# clear the .csv file\n",
    "with open(path, 'w') as f:\n",
    "    f.truncate()\n",
    "    f.close()\n",
    "\n",
    "# i is the index of the rows in .csv file and also the index of the literature\n",
    "columns = {'order':[],\n",
    "           'DOI':[],\n",
    "           'Publication_link':[],\n",
    "           'Autours':[],\n",
    "           'Title':[]}\n",
    "df_liter = pd.DataFrame(columns)\n",
    "\n",
    "for i in range(10):\n",
    "    doi = '10.1016/j.neuroscience.2007.02.033'\n",
    "    pub_link = 'https://pubmed.ncbi.nlm.nih.gov/17395383/'\n",
    "    authors = 'Cappe et al.'\n",
    "    title = 'Thalamocortical and the dual pattern of corticothalamic projections of the posterior parietal cortex in macaque monkeys'\n",
    "    df_liter = add_rows_to_df(df_liter, i, doi, pub_link, authors, title)\n",
    "\n",
    "df_liter.to_csv(path, mode='a', sep=',', index=False)"
   ]
  },
  {
   "cell_type": "code",
   "execution_count": null,
   "id": "4b1a8266-1db3-4e80-bdd4-e92947ad3f0b",
   "metadata": {},
   "outputs": [],
   "source": [
    "# read a cell value from a .csv file\n",
    "df = pd.read_csv(path)\n",
    "# print(df.columns.tolist())\n",
    "col = 'DOI'\n",
    "index = 1\n",
    "print(df[col].iloc[index])\n",
    "# when trying to read a cell from the .csv file, specify the cell using [column name][index]"
   ]
  }
 ],
 "metadata": {
  "kernelspec": {
   "display_name": "Python 3 (ipykernel)",
   "language": "python",
   "name": "python3"
  },
  "language_info": {
   "codemirror_mode": {
    "name": "ipython",
    "version": 3
   },
   "file_extension": ".py",
   "mimetype": "text/x-python",
   "name": "python",
   "nbconvert_exporter": "python",
   "pygments_lexer": "ipython3",
   "version": "3.10.12"
  }
 },
 "nbformat": 4,
 "nbformat_minor": 5
}

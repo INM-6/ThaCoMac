{
 "cells": [
  {
   "cell_type": "markdown",
   "id": "dea1cce5-4f07-4bd7-8ca3-5f6fa51254d0",
   "metadata": {},
   "source": [
    "# Automatic filtering "
   ]
  },
  {
   "cell_type": "code",
   "execution_count": 1,
   "id": "ad5a61c5-f8c6-418a-b450-cdea0378ddab",
   "metadata": {
    "tags": []
   },
   "outputs": [],
   "source": [
    "# import packages\n",
    "import csv\n",
    "import pandas as pd\n",
    "import re\n",
    "from bs4 import BeautifulSoup\n",
    "import requests\n",
    "import os\n",
    "import numpy as np\n",
    "import string\n",
    "import math\n",
    "from nltk import ngrams\n",
    "import json\n",
    "import time\n",
    "import seaborn as sns\n",
    "from matplotlib import pyplot as plt\n",
    "import shutil\n",
    "from nltk.tokenize import word_tokenize\n",
    "from nltk.tokenize import sent_tokenize\n",
    "from nltk.tokenize import PunktSentenceTokenizer"
   ]
  },
  {
   "cell_type": "code",
   "execution_count": 2,
   "id": "726b12c0",
   "metadata": {},
   "outputs": [
    {
     "name": "stderr",
     "output_type": "stream",
     "text": [
      "2023-10-10 09:30:16 GM01X680 metapub.config[531313] WARNING NCBI_API_KEY was not set.\n"
     ]
    }
   ],
   "source": [
    "# import internal modules\n",
    "import file_path_management as fpath\n",
    "import public_library as plib\n",
    "import extract_info\n",
    "import parameters as params\n",
    "import download_and_process_pdf as dpp\n",
    "import dataframe_columns as df_col"
   ]
  },
  {
   "cell_type": "markdown",
   "id": "489f0451",
   "metadata": {},
   "source": [
    "## Predefined fucntions:"
   ]
  },
  {
   "cell_type": "code",
   "execution_count": 8,
   "id": "f02fb81b",
   "metadata": {},
   "outputs": [],
   "source": [
    "def calcul_index(counts_dict, ranking_params_weights):\n",
    "    for key in counts_dict.keys():\n",
    "        index += math.log(1 + counts_dict[key]) * (ranking_params_weights[key])\n",
    "    return index\n",
    "# --------------------start of test code--------------------\n",
    "# keywords_count_or_fre = {}\n",
    "# index = calcul_related(keywords_count_or_fre, params.on_topic_kws_weights)\n",
    "# print(index)\n",
    "# ---------------------end of test code---------------------"
   ]
  },
  {
   "cell_type": "code",
   "execution_count": 9,
   "id": "5edde53b",
   "metadata": {},
   "outputs": [],
   "source": [
    "def rank(db_path, db_ranked_path, ranking_params_weights):\n",
    "    df = pd.read_csv(db_path, header=None, sep=\",\")\n",
    "    df.columns = df_col.db_columns\n",
    "    \n",
    "    for ind in df.index:\n",
    "        count_dict = {}\n",
    "        for key in params.ranking_kw_groups.keys():\n",
    "            count_dict[ind, key+\"_COUNT\"] = int(df.at[ind, key+\"_COUNT\"])\n",
    "        # print(count_dict)\n",
    "\n",
    "        relev_index = calcul_index(count_dict, ranking_params_weights)\n",
    "        \n",
    "        # csv column names\n",
    "        columns = df_col.db_ranked_columns\n",
    "\n",
    "        # specify rows\n",
    "        row = {\n",
    "            \"INDEX\": [df.at[ind, \"INDEX\"]],\n",
    "            \"DOI\": [df.at[ind, \"DOI\"]],\n",
    "            \"PMID\": [df.at[ind, \"PMID\"]],\n",
    "            \"PMCID\": [df.at[ind, \"PMCID\"]],\n",
    "            \"TITLE\": [df.at[ind, \"TITLE\"]],\n",
    "        }\n",
    "        # merge dicts row and count_dict into one\n",
    "        row = {**row, **count_dict}\n",
    "        row[\"RELEVANCE_INDEX\"] = [relev_index]\n",
    "        print(row)\n",
    "\n",
    "        # save to csv\n",
    "        if not plib.add_row_to_csv(db_ranked_path, row, columns):\n",
    "            print(\"Error detected when adding a row to csv!\")\n",
    "        \n",
    "        line_number_in_csv = ind + 1\n",
    "        print(\"Line number:\", line_number_in_csv, \" INDEX:\", int(df.at[ind, \"INDEX\"]))\n",
    "    \n",
    "    # sort and save to csv\n",
    "    df_to_rank = df.read_csv(db_ranked_path, header=None, sep=\",\")\n",
    "    df_to_rank.columns = df_col.db_ranked_columns\n",
    "\n",
    "    df_ranked = df_to_rank.sort_values(by=\"RELEVANCE_INDEX\", ascending=False)\n",
    "    df_ranked.reset_index(drop=True, inplace=True)\n",
    "    df_ranked.to_csv(db_ranked_path, header=True, index=False)\n",
    "    print(\"Weighting and ranking the potentially related literature succeded!\")\n",
    "    print(\"Enjoy reading!\")\n",
    "# --------------------start of test code--------------------\n",
    "# input_path = fpath.poten_litera_db_kw_count\n",
    "# output_path = fpath.poten_litera_db_ranked\n",
    "# rank(input_path, output_path, params.ranking_params_weights)\n",
    "# ---------------------end of test code---------------------"
   ]
  },
  {
   "cell_type": "markdown",
   "id": "3e562971",
   "metadata": {},
   "source": [
    "## Main program:"
   ]
  },
  {
   "cell_type": "markdown",
   "metadata": {},
   "source": [
    "### Clustering"
   ]
  },
  {
   "cell_type": "code",
   "execution_count": null,
   "metadata": {},
   "outputs": [],
   "source": [
    "# Clustering\n",
    "from sklearn.cluster import KMeans\n",
    "# Choose the number of clusters\n",
    "n_clusters = 3  # Replace with the number of clusters you want to find\n",
    "# Create a K-Means clustering model\n",
    "kmeans = KMeans(n_clusters=n_clusters)\n",
    "\n",
    "# Fit the model to the lower-dimensional data and predict cluster labels\n",
    "cluster_labels = kmeans.fit_predict(dim_2_data)"
   ]
  },
  {
   "cell_type": "markdown",
   "metadata": {},
   "source": [
    "### Ploting clutsering results"
   ]
  },
  {
   "cell_type": "code",
   "execution_count": null,
   "metadata": {},
   "outputs": [],
   "source": [
    "import numpy as np\n",
    "import matplotlib.pyplot as plt\n",
    "\n",
    "# Sample data (replace with your data)\n",
    "data = np.random.rand(100, 2)  # Example 2D data\n",
    "\n",
    "# Define the indices to label as \"red\" (replace with your specific indices)\n",
    "red_indices = [5, 12, 25, 38]\n",
    "\n",
    "# Create an array of labels\n",
    "labels = np.array(['blue'] * len(data))  # Initialize all labels as \"blue\"\n",
    "labels[red_indices] = 'red'  # Update labels for the specified indices to \"red\"\n",
    "\n",
    "# Separate \"red\" and \"blue\" data points\n",
    "red_data = data[labels == 'red']\n",
    "blue_data = data[labels == 'blue']\n",
    "\n",
    "# Visualize the labeled data\n",
    "plt.scatter(blue_data[:, 0], blue_data[:, 1], c='blue', label='Blue')\n",
    "plt.scatter(red_data[:, 0], red_data[:, 1], c='red', label='Red')\n",
    "plt.legend()\n",
    "plt.title('Data with Red and Blue Labels')\n",
    "plt.xlabel('Feature 1')\n",
    "plt.ylabel('Feature 2')\n",
    "plt.show()"
   ]
  },
  {
   "cell_type": "markdown",
   "id": "346b3dd0",
   "metadata": {},
   "source": [
    "### Candidate articles ranking "
   ]
  },
  {
   "cell_type": "code",
   "execution_count": null,
   "id": "26bef318",
   "metadata": {},
   "outputs": [],
   "source": [
    "# read from poten_litera_db_kw_count, rank the candidate articles, save to poten_litera_db_ranked\n",
    "input_path = fpath.poten_litera_db_kw_count\n",
    "output_path = fpath.poten_litera_db_ranked\n",
    "\n",
    "# clear file\n",
    "plib.clear_file(output_path)\n",
    "\n",
    "rank(input_path, output_path, params.ranking_kw_groups_weights)"
   ]
  },
  {
   "cell_type": "markdown",
   "id": "36685b74",
   "metadata": {},
   "source": [
    "### Ranking results analysis"
   ]
  },
  {
   "cell_type": "code",
   "execution_count": null,
   "id": "e384b1d0",
   "metadata": {},
   "outputs": [],
   "source": [
    "# # read the ranked database and obtain the relevance_index of YESs and NOs \n",
    "# # of the test data set and draw a violin plot, and calculate the difference between the two distributions\n",
    "# # the difference is defined as 1. t-statistic 2. \n",
    "# db_ranked_path = fpath.poten_litera_db_ranked\n",
    "# test_path = fpath.poten_litera_testing_set_1000_read\n",
    "\n",
    "# df_db_ranked = pd.read_csv(db_ranked_path, header=0, sep=',')\n",
    "# df_db_ranked.columns = [\n",
    "#     \"INDEX\", \"DOI\", \"PMID\", \"PMCID\", \"FULL_TEXT_URL\", \"FULL_TEXT_SOURCE\", \"PDF_URL\", \"PDF_SOURCE\", \n",
    "#     \"TITLE\", \"ABSTRACT\", \"KEYWORDS\", \n",
    "#     \"SPECIES_RELATED\", \"TC_CT_RELATED\", \"THALAM_RELATED\", \"CORTEX_RELATED\", \"METHOD_RELATED\", \"CONNECTIVITY_RELATED\",\n",
    "#     \"RELEVANCE_INDEX\"]\n",
    "\n",
    "# df_test = pd.read_csv(test_path, header=0, sep=',')\n",
    "# df_test.columns = [\"INDEX\", \"DOI\", \"PMID\", \"PMCID\", \"FULL_TEXT_URL\", \"FULL_TEXT_SOURCE\", \"PDF_URL\", \"PDF_SOURCE\", \"TITLE\", \"ABSTRACT\", \"KEYWORDS\", \"RELEVANT\"]"
   ]
  },
  {
   "cell_type": "code",
   "execution_count": null,
   "id": "b8aa55d8",
   "metadata": {},
   "outputs": [],
   "source": [
    "# # save the counts of the keywords in the respective lists\n",
    "# relevant_species = []\n",
    "# relevant_tc_ct = []\n",
    "# relevant_thalam = []\n",
    "# relevant_cortex = []\n",
    "# relevant_method = []\n",
    "# relevant_connectivity = []\n",
    "\n",
    "# non_relevant_species = []\n",
    "# non_relevant_tc_ct = []\n",
    "# non_relevant_thalam = []\n",
    "# non_relevant_cortex = []\n",
    "# non_relevant_method = []\n",
    "# non_relevant_connectivity = []\n",
    "\n",
    "# relvant_index = []\n",
    "# relevant_relevance_index_list = []\n",
    "\n",
    "# non_relevant_index = []\n",
    "# non_relevant_relevance_index_list = []\n",
    "\n",
    "# for ind in df_test.index:\n",
    "#     index = int(df_test.at[ind, \"INDEX\"])\n",
    "#     # print(ind, index)\n",
    "#     # print(df_db_ranked.loc[df_db_ranked[\"INDEX\"].apply(int) == index, \"RELEVANCE_INDEX\"].values[0])\n",
    "\n",
    "#     # if df_test.at[ind, \"RELEVANT\"] == \"YES\" and df_db_ranked.loc[df_db_ranked[\"INDEX\"].apply(int) == index, \"LENGTH_TEXT\"].values[0] > 100:\n",
    "#     if df_test.at[ind, \"RELEVANT\"] == \"YES\":\n",
    "#         relvant_index.append(index)\n",
    "#         relevant_relevance_index_list.append(df_db_ranked.loc[df_db_ranked[\"INDEX\"].apply(int) == index, \"RELEVANCE_INDEX\"].values[0])\n",
    "#         relevant_species.append(df_db_ranked.loc[df_db_ranked[\"INDEX\"].apply(int) == index, \"SPECIES_RELATED\"].values[0])\n",
    "#         relevant_tc_ct.append(df_db_ranked.loc[df_db_ranked[\"INDEX\"].apply(int) == index, \"TC_CT_RELATED\"].values[0])\n",
    "#         relevant_thalam.append(df_db_ranked.loc[df_db_ranked[\"INDEX\"].apply(int) == index, \"THALAM_RELATED\"].values[0])\n",
    "#         relevant_cortex.append(df_db_ranked.loc[df_db_ranked[\"INDEX\"].apply(int) == index, \"CORTEX_RELATED\"].values[0])\n",
    "#         relevant_method.append(df_db_ranked.loc[df_db_ranked[\"INDEX\"].apply(int) == index, \"METHOD_RELATED\"].values[0])\n",
    "#         relevant_connectivity.append(df_db_ranked.loc[df_db_ranked[\"INDEX\"].apply(int) == index, \"CONNECTIVITY_RELATED\"].values[0])\n",
    "#     # elif df_db_ranked.loc[df_db_ranked[\"INDEX\"].apply(int) == index, \"LENGTH_TEXT\"].values[0] > 100:\n",
    "#     else:\n",
    "#         non_relevant_index.append(index)\n",
    "#         non_relevant_relevance_index_list.append(df_db_ranked.loc[df_db_ranked[\"INDEX\"].apply(int) == index, \"RELEVANCE_INDEX\"].values[0])\n",
    "#         non_relevant_species.append(df_db_ranked.loc[df_db_ranked[\"INDEX\"].apply(int) == index, \"SPECIES_RELATED\"].values[0])\n",
    "#         non_relevant_tc_ct.append(df_db_ranked.loc[df_db_ranked[\"INDEX\"].apply(int) == index, \"TC_CT_RELATED\"].values[0])\n",
    "#         non_relevant_thalam.append(df_db_ranked.loc[df_db_ranked[\"INDEX\"].apply(int) == index, \"THALAM_RELATED\"].values[0])\n",
    "#         non_relevant_cortex.append(df_db_ranked.loc[df_db_ranked[\"INDEX\"].apply(int) == index, \"CORTEX_RELATED\"].values[0])\n",
    "#         non_relevant_method.append(df_db_ranked.loc[df_db_ranked[\"INDEX\"].apply(int) == index, \"METHOD_RELATED\"].values[0])\n",
    "#         non_relevant_connectivity.append(df_db_ranked.loc[df_db_ranked[\"INDEX\"].apply(int) == index, \"CONNECTIVITY_RELATED\"].values[0])"
   ]
  },
  {
   "cell_type": "code",
   "execution_count": null,
   "id": "af1821b5",
   "metadata": {},
   "outputs": [],
   "source": [
    "# for i in range(len(relvant_index)):\n",
    "#     print(relvant_index[i], relevant_relevance_index_list[i])\n",
    "#     # print(relevant_relevance_index_list)"
   ]
  },
  {
   "cell_type": "code",
   "execution_count": null,
   "id": "f49d5dcb",
   "metadata": {},
   "outputs": [],
   "source": [
    "# # plot the dot plot of the relevance_index of YESs and NOs of the test data set\n",
    "# plt.figure(figsize=(10, 5))\n",
    "# plt.plot(relvant_index, relevant_relevance_index_list, 'ro', label=\"YES\")\n",
    "# plt.plot(non_relevant_index, non_relevant_relevance_index_list, 'bo', label=\"NO\")\n",
    "# plt.xlabel(\"Index\")\n",
    "# plt.ylabel(\"Relevance Index\")\n",
    "# plt.legend()\n",
    "\n",
    "# # add labels for the relevant index points\n",
    "# for i, index in enumerate(relvant_index):\n",
    "#     plt.text(index, relevant_relevance_index_list[i]+0.1, str(index), color='black', fontsize=10)\n",
    "\n",
    "# # # add labels for the relevant index points\n",
    "# # for i, index in enumerate(non_relevant_index):\n",
    "# #     plt.text(index, non_relevant_relevance_index_list[i], str(index), color='black', fontsize=10)\n",
    "\n",
    "# plt.show()"
   ]
  },
  {
   "cell_type": "code",
   "execution_count": null,
   "id": "5ed550a0",
   "metadata": {},
   "outputs": [],
   "source": [
    "# # plot the 6 dot plots of the species_related, tc_ct_related, thalam_related, cortex_related, method_related, connectivity_related of YESs and NOs of the test data set in 2 rows in the same figure\n",
    "# plt.figure(figsize=(10, 10))\n",
    "# plt.subplot(3, 2, 1)\n",
    "# plt.plot(relvant_index, relevant_species, 'ro', label=\"YES\")\n",
    "# plt.plot(non_relevant_index, non_relevant_species, 'bo', label=\"NO\")\n",
    "# plt.xlabel(\"Index\")\n",
    "# plt.ylabel(\"Species Related\")\n",
    "# plt.legend()\n",
    "\n",
    "# plt.subplot(3, 2, 2)\n",
    "# plt.plot(relvant_index, relevant_tc_ct, 'ro', label=\"YES\")\n",
    "# plt.plot(non_relevant_index, non_relevant_tc_ct, 'bo', label=\"NO\")\n",
    "# plt.xlabel(\"Index\")\n",
    "# plt.ylabel(\"TC_CT Related\")\n",
    "# plt.legend()\n",
    "\n",
    "# plt.subplot(3, 2, 3)\n",
    "# plt.plot(relvant_index, relevant_thalam, 'ro', label=\"YES\")\n",
    "# plt.plot(non_relevant_index, non_relevant_thalam, 'bo', label=\"NO\")\n",
    "# plt.xlabel(\"Index\")\n",
    "# plt.ylabel(\"Thalam Related\")\n",
    "# plt.legend()\n",
    "\n",
    "# plt.subplot(3, 2, 4)\n",
    "# plt.plot(relvant_index, relevant_cortex, 'ro', label=\"YES\")\n",
    "# plt.plot(non_relevant_index, non_relevant_cortex, 'bo', label=\"NO\")\n",
    "# plt.xlabel(\"Index\")\n",
    "# plt.ylabel(\"Cortex Related\")\n",
    "# plt.legend()\n",
    "\n",
    "# plt.subplot(3, 2, 5)\n",
    "# plt.plot(relvant_index, relevant_method, 'ro', label=\"YES\")\n",
    "# plt.plot(non_relevant_index, non_relevant_method, 'bo', label=\"NO\")\n",
    "# plt.xlabel(\"Index\")\n",
    "# plt.ylabel(\"Method Related\")\n",
    "# plt.legend()\n",
    "\n",
    "# plt.subplot(3, 2, 6)\n",
    "# plt.plot(relvant_index, relevant_connectivity, 'ro', label=\"YES\")\n",
    "# plt.plot(non_relevant_index, non_relevant_connectivity, 'bo', label=\"NO\")\n",
    "# plt.xlabel(\"Index\")\n",
    "# plt.ylabel(\"Connectivity Related\")\n",
    "# plt.legend()\n",
    "\n",
    "# plt.show()\n"
   ]
  },
  {
   "cell_type": "code",
   "execution_count": null,
   "id": "6260d21f",
   "metadata": {},
   "outputs": [],
   "source": [
    "# def pick_values_uniformly(data, n):\n",
    "#     \"\"\"Pick up `n` values uniformly from `data`.\"\"\"\n",
    "#     if n <= 0:\n",
    "#         return []\n",
    "\n",
    "#     # Determine the range of the data\n",
    "#     min_val, max_val = min(data), max(data)\n",
    "\n",
    "#     threshold = (max_val - min_val) / n / 2\n",
    "\n",
    "#     # If n is 1, just return the midpoint\n",
    "#     if n == 1:\n",
    "#         return [(min_val + max_val) / 2]\n",
    "\n",
    "#     # Calculate the interval size\n",
    "#     interval = (max_val - min_val) / (n - 1)\n",
    "\n",
    "#     # Get the uniform values\n",
    "#     return [min_val + i * interval for i in range(n)], threshold\n",
    "\n",
    "# # data = [1, 3, 5, 2, 8, 10, 2]\n",
    "# n = 5\n",
    "# density_display_index, thres = pick_values_uniformly(relevant_relevance_index_list + non_relevant_relevance_index_list, n)\n",
    "# print(density_display_index)"
   ]
  },
  {
   "cell_type": "code",
   "execution_count": null,
   "id": "73da3b7f",
   "metadata": {},
   "outputs": [],
   "source": [
    "# import pandas as pd\n",
    "# import seaborn as sns\n",
    "# import matplotlib.pyplot as plt\n",
    "\n",
    "# # Printing the length of lists\n",
    "# print(\"Numer of relevant literature:\", len(relevant_relevance_index_list))\n",
    "# print(\"Number of not relevant literature:\", len(non_relevant_relevance_index_list))\n",
    "# print()\n",
    "\n",
    "# # Create a DataFrame for plotting\n",
    "# df = pd.DataFrame({'Relevance Index': relevant_relevance_index_list + non_relevant_relevance_index_list, \n",
    "#                    'Label': ['Relevant'] * len(relevant_relevance_index_list) + ['Not Relevant'] * len(non_relevant_relevance_index_list)})\n",
    "\n",
    "# # Draw the violin plot\n",
    "# plt.figure(figsize=(10, 6))\n",
    "# ax = sns.violinplot(x='Label', y='Relevance Index', data=df, bw='scott', cut=0)\n",
    "\n",
    "# relevance_indices = density_display_index  # Replace with your relevance indices\n",
    "\n",
    "# threshold = thres  # Adjust this based on your desired range around the relevance index\n",
    "\n",
    "# for index in relevance_indices:\n",
    "#     ax.axhline(index, color='gray', linestyle='--')\n",
    "    \n",
    "#     for i, label in enumerate(df['Label'].unique()):\n",
    "#         # Filter data points close to the current relevance index\n",
    "#         close_points = df[(df['Label'] == label) & (np.abs(df['Relevance Index'] - index) < threshold)]\n",
    "#         density = len(close_points)\n",
    "        \n",
    "#         ax.text(i, index + 0.1, str(density), ha='center', va='center', color='red', fontsize=9)  # adjust the vertical offset (0.1 here) as necessary\n",
    "\n",
    "# plt.title('Distribution of Relevance Index')\n",
    "# plt.show()"
   ]
  },
  {
   "cell_type": "code",
   "execution_count": null,
   "id": "a79b8678",
   "metadata": {},
   "outputs": [],
   "source": [
    "# import scipy.stats as stats\n",
    "\n",
    "# # Check the equality of variances\n",
    "# var_relevant = np.var(relevant_relevance_index_list)\n",
    "# var_non_relevant = np.var(non_relevant_relevance_index_list)\n",
    "# print('Variance of relevant:', var_relevant)\n",
    "# print('Variance of non-relevant:', var_non_relevant)\n",
    "# print(var_relevant/var_non_relevant)\n",
    "# # statistic, p_value = stats.levene(relevant_relevance_index_list, non_relevant_relevance_index_list)\n",
    "\n",
    "# # # Print the results\n",
    "# # print('Levene test statistic:', statistic)\n",
    "# # print('p-value:', p_value)"
   ]
  },
  {
   "cell_type": "code",
   "execution_count": null,
   "id": "bb0804ec",
   "metadata": {},
   "outputs": [],
   "source": [
    "# # Calculate the t-statistic and p-value\n",
    "# t_statistic, p_value = stats.ttest_ind(relevant_relevance_index_list, non_relevant_relevance_index_list)\n",
    "\n",
    "# # Print the results\n",
    "# print('t-statistic:', t_statistic)\n",
    "# print('p-value:', p_value)"
   ]
  },
  {
   "cell_type": "markdown",
   "id": "c7fc9ccf",
   "metadata": {},
   "source": [
    "<h3> Next step: manually read papers and find all actually related literature </h3>"
   ]
  }
 ],
 "metadata": {
  "kernelspec": {
   "display_name": "Python 3 (ipykernel)",
   "language": "python",
   "name": "python3"
  },
  "language_info": {
   "codemirror_mode": {
    "name": "ipython",
    "version": 3
   },
   "file_extension": ".py",
   "mimetype": "text/x-python",
   "name": "python",
   "nbconvert_exporter": "python",
   "pygments_lexer": "ipython3",
   "version": "3.10.12"
  }
 },
 "nbformat": 4,
 "nbformat_minor": 5
}

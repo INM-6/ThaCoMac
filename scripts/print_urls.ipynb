{
 "cells": [
  {
   "cell_type": "code",
   "execution_count": null,
   "metadata": {},
   "outputs": [],
   "source": [
    "import pandas as pd\n",
    "\n",
    "# scan the rows in the test 1000 csv file and print the full_text_url and pdf_url of the papers that have no pdf_url\n",
    "input_path = \"./potential_related_literature_testing_set_1000_text_extract_and_count.csv\"\n",
    "df = pd.read_csv(input_path, header=0, sep=',')\n",
    "df.columns = [\n",
    "    'INDEX', 'DOI', 'PMID', 'PMCID', 'FULL_TEXT_URL', 'PDF_URL', 'TITLE',\n",
    "    'TEXT_TAK', 'TEXT_500', 'MACAQUE_TEXT', 'OTHER_SPIECIES_TEXT',\n",
    "    'TC_CT_TEXT', 'THALAM_TEXT', 'INJECT_TEXT', 'METHOD_TEXT',\n",
    "    'MACAQUE_COUNT_IN_500', 'MACAQUE_COUNT_IN_FULL_TEXT',\n",
    "    'OTHER_SPIECIES_COUNT_IN_500', 'OTHER_SPIECIES_COUNT_IN_FULL_TEXT',\n",
    "    'TC_CT_COUNT_IN_500', 'TC_CT_COUNT_IN_FULL_TEXT', 'THALAM_COUNT_IN_500',\n",
    "    'THALAM_COUNT_IN_FULL_TEXT', 'INJECT_COUNT_IN_500',\n",
    "    'INJECT_COUNT_IN_FULL_TEXT', 'METHOD_COUNT_IN_500',\n",
    "    'METHOD_COUNT_IN_FULL_TEXT', 'TT?(Y/N/MB/NA)', 'MACAQUE?(Y/N/MB/NA)',\n",
    "    'TC_OR_CT?(Y/N/MB/NA)', 'RELEVANT?(Y/N/MB/NA)', 'READ_BY(A/D/R)',\n",
    "    'COMMENT'\n",
    "]\n",
    "\n",
    "for ind in df.index:\n",
    "    index = df.at[ind, \"INDEX\"]\n",
    "    full_text_url = df.at[ind, \"FULL_TEXT_URL\"]\n",
    "    pdf_url = df.at[ind, \"PDF_URL\"]\n",
    "    relevant = df.at[ind, \"RELEVANT?(Y/N/MB/NA)\"]\n",
    "    \n",
    "    line_number_in_csv = ind + 2\n",
    "    print(\"Line number:\", line_number_in_csv, \"INDEX:\", index)\n",
    "    print(\"full_text_url: \", full_text_url)\n",
    "    print(\"pdf_url: \", pdf_url)\n",
    "    print(\"\\n\")"
   ]
  }
 ],
 "metadata": {
  "language_info": {
   "name": "python"
  }
 },
 "nbformat": 4,
 "nbformat_minor": 2
}

{
 "cells": [
  {
   "cell_type": "markdown",
   "metadata": {},
   "source": [
    "First we need to extract related literature that might include thalamocortical connections."
   ]
  },
  {
   "cell_type": "markdown",
   "metadata": {},
   "source": [
    "Here we specify the keyword lexicon for searching for related literature and meta category list that "
   ]
  },
  {
   "cell_type": "code",
   "execution_count": 15,
   "metadata": {
    "tags": []
   },
   "outputs": [],
   "source": [
    "import pandas as pd"
   ]
  },
  {
   "cell_type": "code",
   "execution_count": 16,
   "metadata": {
    "tags": []
   },
   "outputs": [
    {
     "name": "stdout",
     "output_type": "stream",
     "text": [
      "Empty DataFrame\n",
      "Columns: [DOI;Publication link;Authors;Title;Abtract;Year;Country;Genus studied;Stereotaxic space used?;Cortical parccelation scheme;Thalamic parcellation scheme;Focused thalamic regions;Focused cortical areas;Tracing type (anterograde/retrograde);Tracer type;Type of data ]\n",
      "Index: []\n"
     ]
    }
   ],
   "source": [
    "df = pd.read_csv('/Users/didihou/DataHub/ROAMING/master_project/Summary_Table_of_Related_Studies.csv')\n",
    "# edit cell based on 0 based index b1=1,0\n",
    "print(df)\n",
    "score = 1\n",
    "#df.ix(1,0) = score\n",
    "# write output\n",
    "# df.to_csv('output.csv', index=False)"
   ]
  },
  {
   "cell_type": "code",
   "execution_count": null,
   "metadata": {},
   "outputs": [],
   "source": [
    "# Keyword lexicon\n",
    "import json\n",
    "x =  '{ \"name\":\"John\", \"age\":30, \"city\":\"New York\"}'\n",
    "Keyword_lexi = [\"macaque\", \"Macaque\", \"thalamocortical\",\"thalamo-cortical\"]\n",
    "\n",
    "# Meta categories, we use JSON to store the data\n",
    "# information of related literature database\n",
    "info_lite_db = {}\n",
    "\n",
    "# a Python object (dict):\n",
    "x = {\n",
    "  \"name\": \"John\",\n",
    "  \"age\": 30,\n",
    "  \"city\": \"New York\"\n",
    "}\n",
    "\n",
    "# convert into JSON:\n",
    "y = json.dumps(x)\n",
    "\n",
    "# the result is a JSON string:\n",
    "print(y)"
   ]
  },
  {
   "cell_type": "code",
   "execution_count": null,
   "metadata": {},
   "outputs": [
    {
     "name": "stdout",
     "output_type": "stream",
     "text": [
      "['\\ufeffDOI;Publication link;Authors;Title;Abtract;Year;Country;Genus studied;Stereotaxic space used?;Cortical parccelation scheme;Thalamic parcellation scheme;Focused thalamic regions;Focused cortical areas;Tracing type (anterograde/retrograde);Tracer type;Type of data ']\n"
     ]
    }
   ],
   "source": [
    "import csv\n",
    "\n",
    "with open('/Users/didihou/DataHub/ROAMING/master_project/Summary_Table_of_Related_Studies.csv', newline='') as f:\n",
    "    reader = csv.reader(f)\n",
    "    for row in reader:\n",
    "        print(row)\n",
    "        "
   ]
  },
  {
   "cell_type": "code",
   "execution_count": null,
   "metadata": {},
   "outputs": [],
   "source": []
  }
 ],
 "metadata": {
  "kernelspec": {
   "display_name": "Python 3 (ipykernel)",
   "language": "python",
   "name": "python3"
  },
  "language_info": {
   "codemirror_mode": {
    "name": "ipython",
    "version": 3
   },
   "file_extension": ".py",
   "mimetype": "text/x-python",
   "name": "python",
   "nbconvert_exporter": "python",
   "pygments_lexer": "ipython3",
   "version": "3.10.12"
  }
 },
 "nbformat": 4,
 "nbformat_minor": 4
}

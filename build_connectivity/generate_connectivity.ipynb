{
 "cells": [
  {
   "cell_type": "markdown",
   "metadata": {},
   "source": [
    "# This notebook initialize the connectivity matrix including the corticocortical connectivity and connections between thalamus and cortex from the literature_metadata.json"
   ]
  },
  {
   "cell_type": "code",
   "execution_count": 1,
   "metadata": {},
   "outputs": [
    {
     "name": "stdout",
     "output_type": "stream",
     "text": [
      "DataFrame written to 'conn_matrix.csv' with specified rows and columns.\n"
     ]
    }
   ],
   "source": [
    "import pandas as pd\n",
    "import numpy as np\n",
    "\n",
    "# Define your row and column names\n",
    "source = ['Row1', 'Row2', 'Row3']\n",
    "target = ['Column1', 'Column2', 'Column3']\n",
    "\n",
    "# Initialize a DataFrame with random data (for example purposes), specifying rows and columns\n",
    "data = np.random.rand(len(source), len(source))  # Generate random data\n",
    "df = pd.DataFrame(data, index=target, columns=source)\n",
    "\n",
    "# Write the DataFrame to a CSV file, including the header and index names\n",
    "csv_file_name = 'conn_matrix.csv'\n",
    "df.to_csv(csv_file_name, header=True, index=True)  # 'header' and 'index' are True by default\n",
    "\n",
    "print(f\"DataFrame written to '{csv_file_name}' with specified rows and columns.\")\n"
   ]
  },
  {
   "cell_type": "markdown",
   "metadata": {},
   "source": []
  }
 ],
 "metadata": {
  "kernelspec": {
   "display_name": "myenv",
   "language": "python",
   "name": "python3"
  },
  "language_info": {
   "codemirror_mode": {
    "name": "ipython",
    "version": 3
   },
   "file_extension": ".py",
   "mimetype": "text/x-python",
   "name": "python",
   "nbconvert_exporter": "python",
   "pygments_lexer": "ipython3",
   "version": "3.10.13"
  }
 },
 "nbformat": 4,
 "nbformat_minor": 2
}
